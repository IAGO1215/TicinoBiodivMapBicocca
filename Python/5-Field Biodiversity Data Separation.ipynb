{
 "cells": [
  {
   "cell_type": "markdown",
   "metadata": {},
   "source": [
    "# Field Biodiversity Plot Data Separation\n",
    "\n",
    "In order to utilize the R package \"biodivMapR\", each species is bound to have its own shapefile (with no additional information side). That is to say, we need to create the shapefiles as many as the total number of species in the RoI. \n",
    "\n",
    "Due to the fact that our plot data are points and each point may contain several samples of the same species, there is bount to be overlapping for each species if they appeared more than once in the field plot. "
   ]
  },
  {
   "cell_type": "code",
   "execution_count": null,
   "metadata": {},
   "outputs": [],
   "source": []
  }
 ],
 "metadata": {
  "language_info": {
   "name": "python"
  }
 },
 "nbformat": 4,
 "nbformat_minor": 2
}
