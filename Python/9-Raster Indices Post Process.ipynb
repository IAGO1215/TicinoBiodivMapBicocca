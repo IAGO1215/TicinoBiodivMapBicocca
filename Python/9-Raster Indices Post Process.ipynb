{
 "cells": [
  {
   "cell_type": "markdown",
   "metadata": {},
   "source": [
    "# This notebook is dedicated at post processing those .csv files generated in R Studio. \n",
    "\n",
    "To be more specific, this notebook extracts the useful data from those .csv files and merge them into a single .csv file, for easier future use. "
   ]
  },
  {
   "cell_type": "code",
   "execution_count": 2,
   "metadata": {},
   "outputs": [],
   "source": [
    "import numpy as np\n",
    "import pandas as pd"
   ]
  },
  {
   "cell_type": "code",
   "execution_count": 3,
   "metadata": {},
   "outputs": [],
   "source": [
    "# Set some directories. Here we use absolute directories. \n",
    "cwd = 'c:\\\\Users\\\\m1865\\\\Desktop\\\\Ticino'\n",
    "cwd_Field = cwd + '\\\\FieldData'\n",
    "cwd_Raster = cwd + \"\\\\Results\""
   ]
  },
  {
   "cell_type": "code",
   "execution_count": 4,
   "metadata": {},
   "outputs": [],
   "source": [
    "# Write here the clusters we used in R Studio\n",
    "list_Cluster_Number = [20,35,50]\n",
    "# Write here the names of the raster\n",
    "list_Name_Raster = ['2022 06Cropped','2022 09Cropped']"
   ]
  },
  {
   "cell_type": "code",
   "execution_count": 5,
   "metadata": {},
   "outputs": [
    {
     "data": {
      "text/plain": [
       "['20Clusters', '35Clusters', '50Clusters']"
      ]
     },
     "execution_count": 5,
     "metadata": {},
     "output_type": "execute_result"
    }
   ],
   "source": [
    "# Get the folder names separated by clusters\n",
    "list_Cluster = []\n",
    "for item in list_Cluster_Number:\n",
    "    temp = str(item) + \"Clusters\"\n",
    "    list_Cluster.append(temp)\n",
    "list_Cluster"
   ]
  },
  {
   "cell_type": "markdown",
   "metadata": {},
   "source": [
    "### Post process of Alpha Indices Window Size 5 (Default)"
   ]
  },
  {
   "cell_type": "code",
   "execution_count": 6,
   "metadata": {},
   "outputs": [],
   "source": [
    "# Save only useful columns and save them to local storage as normal .csv files! \n",
    "for i in list_Name_Raster:\n",
    "    df_Raster_Month = pd.DataFrame()\n",
    "    for j in list_Cluster:\n",
    "        cwd_temp = cwd_Raster + \"\\\\\" + j + \"\\\\\" + i + \"\\\\AlphaDiversity.csv\"\n",
    "        df_temp = pd.read_csv(cwd_temp, sep = '\\t')\n",
    "        df_temp = df_temp[['Plot','Species_Richness','Shannon','Simpson']]\n",
    "        df_temp.rename(columns = {\n",
    "            'Species_Richness': \"Raster \" + j + \" Species Richness\",\n",
    "            \"Shannon\": \"Raster \" + j + \" Shannon\",\n",
    "            \"Simpson\": \"Raster \" + j + \" Simpson\"\n",
    "        }, inplace = True)\n",
    "        if df_Raster_Month.empty:\n",
    "            df_Raster_Month = df_temp.copy()\n",
    "        else:\n",
    "            df_Raster_Month = pd.merge(df_Raster_Month, df_temp, on = 'Plot')\n",
    "    df_Raster_Month.to_csv(cwd_Raster + \"\\\\\" + i + \" Alpha Diversity.csv\", index = False)"
   ]
  },
  {
   "cell_type": "markdown",
   "metadata": {},
   "source": [
    "### Post process of Beta Bray-Curtis Index Window Size 5 (Default)"
   ]
  },
  {
   "cell_type": "code",
   "execution_count": 7,
   "metadata": {},
   "outputs": [],
   "source": [
    "# Only get the upper triangle elements without diagonal ones. And then convert them into an one-dimensional array and merge them. \n",
    "for i in list_Name_Raster:\n",
    "    df_Raster_Month = pd.DataFrame()\n",
    "    for j in list_Cluster:\n",
    "        cwd_temp = cwd_Raster + \"\\\\\" + j + \"\\\\\" + i + \"\\\\BrayCurtis.csv\"\n",
    "        df_temp = pd.read_csv(cwd_temp, sep = '\\t')\n",
    "        arr_temp = df_temp.to_numpy()\n",
    "        arr_temp = arr_temp[np.triu_indices_from(arr_temp, k = 1)]\n",
    "        if df_Raster_Month.empty:\n",
    "            df_Raster_Month = pd.DataFrame(\n",
    "                arr_temp,\n",
    "                columns = [\"Raster \" + j + \" Beta\"]\n",
    "            )\n",
    "        else:\n",
    "            df_Raster_Month[\"Raster \" + j + \" Beta\"] = arr_temp\n",
    "    df_Raster_Month.to_csv(cwd_Raster + \"\\\\\" + i + \" Beta Diversity.csv\", index = False)"
   ]
  },
  {
   "cell_type": "markdown",
   "metadata": {},
   "source": [
    "## Window Size 10 (Recommended)\n",
    "### Alpha"
   ]
  },
  {
   "cell_type": "code",
   "execution_count": 8,
   "metadata": {},
   "outputs": [],
   "source": [
    "# Save only useful columns and save them to local storage as normal .csv files! \n",
    "for i in list_Name_Raster:\n",
    "    df_Raster_Month = pd.DataFrame()\n",
    "    for j in list_Cluster:\n",
    "        cwd_temp = cwd_Raster + \"\\\\\" + j + \"\\\\\" + i + \"\\\\AlphaDiversity10.csv\"\n",
    "        df_temp = pd.read_csv(cwd_temp, sep = '\\t')\n",
    "        df_temp = df_temp[['Plot','Species_Richness','Shannon','Simpson']]\n",
    "        df_temp.rename(columns = {\n",
    "            'Species_Richness': \"Raster \" + j + \" Species Richness\",\n",
    "            \"Shannon\": \"Raster \" + j + \" Shannon\",\n",
    "            \"Simpson\": \"Raster \" + j + \" Simpson\"\n",
    "        }, inplace = True)\n",
    "        if df_Raster_Month.empty:\n",
    "            df_Raster_Month = df_temp.copy()\n",
    "        else:\n",
    "            df_Raster_Month = pd.merge(df_Raster_Month, df_temp, on = 'Plot')\n",
    "    df_Raster_Month.to_csv(cwd_Raster + \"\\\\\" + i + \" Alpha Diversity10.csv\", index = False)"
   ]
  },
  {
   "cell_type": "markdown",
   "metadata": {},
   "source": [
    "### Beta"
   ]
  },
  {
   "cell_type": "code",
   "execution_count": 9,
   "metadata": {},
   "outputs": [],
   "source": [
    "# Only get the upper triangle elements without diagonal ones. And then convert them into an one-dimensional array and merge them. \n",
    "for i in list_Name_Raster:\n",
    "    df_Raster_Month = pd.DataFrame()\n",
    "    for j in list_Cluster:\n",
    "        cwd_temp = cwd_Raster + \"\\\\\" + j + \"\\\\\" + i + \"\\\\BrayCurtis10.csv\"\n",
    "        df_temp = pd.read_csv(cwd_temp, sep = '\\t')\n",
    "        arr_temp = df_temp.to_numpy()\n",
    "        arr_temp = arr_temp[np.triu_indices_from(arr_temp, k = 1)]\n",
    "        if df_Raster_Month.empty:\n",
    "            df_Raster_Month = pd.DataFrame(\n",
    "                arr_temp,\n",
    "                columns = [\"Raster \" + j + \" Beta\"]\n",
    "            )\n",
    "        else:\n",
    "            df_Raster_Month[\"Raster \" + j + \" Beta\"] = arr_temp\n",
    "    df_Raster_Month.to_csv(cwd_Raster + \"\\\\\" + i + \" Beta Diversity10.csv\", index = False)"
   ]
  }
 ],
 "metadata": {
  "kernelspec": {
   "display_name": "Ticino",
   "language": "python",
   "name": "python3"
  },
  "language_info": {
   "codemirror_mode": {
    "name": "ipython",
    "version": 3
   },
   "file_extension": ".py",
   "mimetype": "text/x-python",
   "name": "python",
   "nbconvert_exporter": "python",
   "pygments_lexer": "ipython3",
   "version": "3.10.12"
  }
 },
 "nbformat": 4,
 "nbformat_minor": 2
}
