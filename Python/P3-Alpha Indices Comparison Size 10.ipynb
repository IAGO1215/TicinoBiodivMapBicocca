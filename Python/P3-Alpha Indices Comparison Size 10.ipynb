{
 "cells": [
  {
   "cell_type": "code",
   "execution_count": 1,
   "metadata": {},
   "outputs": [],
   "source": [
    "import os\n",
    "import numpy as np\n",
    "import pandas as pd\n",
    "from matplotlib import pyplot as plt\n",
    "from scipy.stats import ttest_ind\n",
    "from sklearn.metrics import r2_score\n",
    "from sklearn.metrics import mean_absolute_error as mae \n",
    "from scipy import stats\n",
    "import seaborn as sns"
   ]
  },
  {
   "cell_type": "code",
   "execution_count": 2,
   "metadata": {},
   "outputs": [],
   "source": [
    "# Set some directories. Here we use absolute directories. \n",
    "cwd = 'c:\\\\Users\\\\m1865\\\\Desktop\\\\Ticino'\n",
    "cwd_Field = cwd + '\\\\FieldData'\n",
    "cwd_Field_DataMerged = cwd_Field + '\\\\Field Dataset Merged'\n",
    "cwd_Field_DataMerged_CSV_Indices = cwd_Field_DataMerged + \"\\\\CSV Biodiversity Indices\"\n",
    "cwd_PRISMA = cwd + \"\\\\PRISMA Raster Raw\\\\Merged\"\n",
    "cwd_PRISMA_Result = cwd + \"\\\\ResultsPRISMA\"\n",
    "cwd_Field_Data1 = cwd_Field + '\\\\Field Dataset 1'\n",
    "cwd_Field_Data1_CSV = cwd_Field_Data1 + \"\\\\CSV\""
   ]
  },
  {
   "cell_type": "code",
   "execution_count": 3,
   "metadata": {},
   "outputs": [
    {
     "data": {
      "text/plain": [
       "['PRS_L2D_STD_20220611_20220710_NS_mosaic_crop_smooth_v2i',\n",
       " 'PRS_L2D_STD_20220906_20220911_NS_mosaic_crop_smooth_v2i',\n",
       " 'PRS_L2D_STD_20220906_20220911_NS_mosaic_crop_smooth_v2i_new']"
      ]
     },
     "execution_count": 3,
     "metadata": {},
     "output_type": "execute_result"
    }
   ],
   "source": [
    "# Get the name of all the rasters in our folder\n",
    "raster_Names = []\n",
    "for item in [name.split('.')[0] for name in os.listdir(cwd_PRISMA)]:\n",
    "    if item not in raster_Names:\n",
    "        raster_Names.append(item)\n",
    "raster_Names"
   ]
  },
  {
   "cell_type": "code",
   "execution_count": 4,
   "metadata": {},
   "outputs": [
    {
     "data": {
      "text/html": [
       "<div>\n",
       "<style scoped>\n",
       "    .dataframe tbody tr th:only-of-type {\n",
       "        vertical-align: middle;\n",
       "    }\n",
       "\n",
       "    .dataframe tbody tr th {\n",
       "        vertical-align: top;\n",
       "    }\n",
       "\n",
       "    .dataframe thead th {\n",
       "        text-align: right;\n",
       "    }\n",
       "</style>\n",
       "<table border=\"1\" class=\"dataframe\">\n",
       "  <thead>\n",
       "    <tr style=\"text-align: right;\">\n",
       "      <th></th>\n",
       "      <th>Plot</th>\n",
       "      <th>Species_Richness</th>\n",
       "      <th>Fisher</th>\n",
       "      <th>Shannon</th>\n",
       "      <th>Simpson</th>\n",
       "      <th>FRic</th>\n",
       "      <th>FEve</th>\n",
       "      <th>FDiv</th>\n",
       "    </tr>\n",
       "  </thead>\n",
       "  <tbody>\n",
       "    <tr>\n",
       "      <th>0</th>\n",
       "      <td>FOR01</td>\n",
       "      <td>6.85</td>\n",
       "      <td>0</td>\n",
       "      <td>1.343611</td>\n",
       "      <td>0.652301</td>\n",
       "      <td>227.408634</td>\n",
       "      <td>0.785564</td>\n",
       "      <td>0.717896</td>\n",
       "    </tr>\n",
       "    <tr>\n",
       "      <th>1</th>\n",
       "      <td>FOR02</td>\n",
       "      <td>3.90</td>\n",
       "      <td>0</td>\n",
       "      <td>0.841540</td>\n",
       "      <td>0.452227</td>\n",
       "      <td>113.522184</td>\n",
       "      <td>0.809797</td>\n",
       "      <td>0.702410</td>\n",
       "    </tr>\n",
       "    <tr>\n",
       "      <th>2</th>\n",
       "      <td>FOR03</td>\n",
       "      <td>3.85</td>\n",
       "      <td>0</td>\n",
       "      <td>0.846891</td>\n",
       "      <td>0.457066</td>\n",
       "      <td>109.446224</td>\n",
       "      <td>0.843043</td>\n",
       "      <td>0.717756</td>\n",
       "    </tr>\n",
       "    <tr>\n",
       "      <th>3</th>\n",
       "      <td>FOR04</td>\n",
       "      <td>7.50</td>\n",
       "      <td>0</td>\n",
       "      <td>1.732798</td>\n",
       "      <td>0.792842</td>\n",
       "      <td>272.724720</td>\n",
       "      <td>0.795643</td>\n",
       "      <td>0.636163</td>\n",
       "    </tr>\n",
       "    <tr>\n",
       "      <th>4</th>\n",
       "      <td>FOR05</td>\n",
       "      <td>3.30</td>\n",
       "      <td>0</td>\n",
       "      <td>0.998213</td>\n",
       "      <td>0.595429</td>\n",
       "      <td>71.804002</td>\n",
       "      <td>0.779516</td>\n",
       "      <td>0.643796</td>\n",
       "    </tr>\n",
       "  </tbody>\n",
       "</table>\n",
       "</div>"
      ],
      "text/plain": [
       "    Plot  Species_Richness  Fisher   Shannon   Simpson        FRic      FEve  \\\n",
       "0  FOR01              6.85       0  1.343611  0.652301  227.408634  0.785564   \n",
       "1  FOR02              3.90       0  0.841540  0.452227  113.522184  0.809797   \n",
       "2  FOR03              3.85       0  0.846891  0.457066  109.446224  0.843043   \n",
       "3  FOR04              7.50       0  1.732798  0.792842  272.724720  0.795643   \n",
       "4  FOR05              3.30       0  0.998213  0.595429   71.804002  0.779516   \n",
       "\n",
       "       FDiv  \n",
       "0  0.717896  \n",
       "1  0.702410  \n",
       "2  0.717756  \n",
       "3  0.636163  \n",
       "4  0.643796  "
      ]
     },
     "execution_count": 4,
     "metadata": {},
     "output_type": "execute_result"
    }
   ],
   "source": [
    "df_Raster_6 = pd.read_csv(cwd_PRISMA_Result + \"\\\\\" + raster_Names[0] + \"\\\\AlphaDiversity300m.csv\", sep = '\\t')\n",
    "df_Raster_9 = pd.read_csv(cwd_PRISMA_Result + \"\\\\\" + raster_Names[1] + \"_new\\\\AlphaDiversity300m.csv\", sep = '\\t')\n",
    "df_Raster_6.head()"
   ]
  },
  {
   "cell_type": "code",
   "execution_count": 5,
   "metadata": {},
   "outputs": [
    {
     "data": {
      "text/html": [
       "<div>\n",
       "<style scoped>\n",
       "    .dataframe tbody tr th:only-of-type {\n",
       "        vertical-align: middle;\n",
       "    }\n",
       "\n",
       "    .dataframe tbody tr th {\n",
       "        vertical-align: top;\n",
       "    }\n",
       "\n",
       "    .dataframe thead th {\n",
       "        text-align: right;\n",
       "    }\n",
       "</style>\n",
       "<table border=\"1\" class=\"dataframe\">\n",
       "  <thead>\n",
       "    <tr style=\"text-align: right;\">\n",
       "      <th></th>\n",
       "      <th>Plot</th>\n",
       "      <th>Species_Richness June</th>\n",
       "      <th>Shannon June</th>\n",
       "      <th>Simpson June</th>\n",
       "      <th>Species_Richness Sep</th>\n",
       "      <th>Shannon Sep</th>\n",
       "      <th>Simpson Sep</th>\n",
       "    </tr>\n",
       "  </thead>\n",
       "  <tbody>\n",
       "    <tr>\n",
       "      <th>0</th>\n",
       "      <td>FOR01</td>\n",
       "      <td>6.85</td>\n",
       "      <td>1.343611</td>\n",
       "      <td>0.652301</td>\n",
       "      <td>7.05</td>\n",
       "      <td>1.545213</td>\n",
       "      <td>0.728090</td>\n",
       "    </tr>\n",
       "    <tr>\n",
       "      <th>1</th>\n",
       "      <td>FOR02</td>\n",
       "      <td>3.90</td>\n",
       "      <td>0.841540</td>\n",
       "      <td>0.452227</td>\n",
       "      <td>5.05</td>\n",
       "      <td>1.303829</td>\n",
       "      <td>0.675938</td>\n",
       "    </tr>\n",
       "    <tr>\n",
       "      <th>2</th>\n",
       "      <td>FOR03</td>\n",
       "      <td>3.85</td>\n",
       "      <td>0.846891</td>\n",
       "      <td>0.457066</td>\n",
       "      <td>4.60</td>\n",
       "      <td>1.263848</td>\n",
       "      <td>0.675101</td>\n",
       "    </tr>\n",
       "    <tr>\n",
       "      <th>3</th>\n",
       "      <td>FOR04</td>\n",
       "      <td>7.50</td>\n",
       "      <td>1.732798</td>\n",
       "      <td>0.792842</td>\n",
       "      <td>3.50</td>\n",
       "      <td>0.820329</td>\n",
       "      <td>0.456959</td>\n",
       "    </tr>\n",
       "    <tr>\n",
       "      <th>4</th>\n",
       "      <td>FOR05</td>\n",
       "      <td>3.30</td>\n",
       "      <td>0.998213</td>\n",
       "      <td>0.595429</td>\n",
       "      <td>1.40</td>\n",
       "      <td>0.195346</td>\n",
       "      <td>0.129893</td>\n",
       "    </tr>\n",
       "  </tbody>\n",
       "</table>\n",
       "</div>"
      ],
      "text/plain": [
       "    Plot  Species_Richness June  Shannon June  Simpson June  \\\n",
       "0  FOR01                   6.85      1.343611      0.652301   \n",
       "1  FOR02                   3.90      0.841540      0.452227   \n",
       "2  FOR03                   3.85      0.846891      0.457066   \n",
       "3  FOR04                   7.50      1.732798      0.792842   \n",
       "4  FOR05                   3.30      0.998213      0.595429   \n",
       "\n",
       "   Species_Richness Sep  Shannon Sep  Simpson Sep  \n",
       "0                  7.05     1.545213     0.728090  \n",
       "1                  5.05     1.303829     0.675938  \n",
       "2                  4.60     1.263848     0.675101  \n",
       "3                  3.50     0.820329     0.456959  \n",
       "4                  1.40     0.195346     0.129893  "
      ]
     },
     "execution_count": 5,
     "metadata": {},
     "output_type": "execute_result"
    }
   ],
   "source": [
    "df_Raster_Merge = pd.merge(df_Raster_6[['Plot','Species_Richness','Shannon','Simpson']],df_Raster_9[['Plot','Species_Richness','Shannon','Simpson']], on = 'Plot', suffixes= [' June', ' Sep'])\n",
    "df_Raster_Merge.head()"
   ]
  },
  {
   "cell_type": "code",
   "execution_count": 6,
   "metadata": {},
   "outputs": [
    {
     "data": {
      "text/html": [
       "<div>\n",
       "<style scoped>\n",
       "    .dataframe tbody tr th:only-of-type {\n",
       "        vertical-align: middle;\n",
       "    }\n",
       "\n",
       "    .dataframe tbody tr th {\n",
       "        vertical-align: top;\n",
       "    }\n",
       "\n",
       "    .dataframe thead th {\n",
       "        text-align: right;\n",
       "    }\n",
       "</style>\n",
       "<table border=\"1\" class=\"dataframe\">\n",
       "  <thead>\n",
       "    <tr style=\"text-align: right;\">\n",
       "      <th></th>\n",
       "      <th>Plot</th>\n",
       "      <th>Raster Species Richness June</th>\n",
       "      <th>Raster Shannon June</th>\n",
       "      <th>Raster Simpson June</th>\n",
       "      <th>Raster Species Richness Sep</th>\n",
       "      <th>Raster Shannon Sep</th>\n",
       "      <th>Raster Simpson Sep</th>\n",
       "    </tr>\n",
       "  </thead>\n",
       "  <tbody>\n",
       "    <tr>\n",
       "      <th>0</th>\n",
       "      <td>FOR01</td>\n",
       "      <td>6.85</td>\n",
       "      <td>1.343611</td>\n",
       "      <td>0.652301</td>\n",
       "      <td>7.05</td>\n",
       "      <td>1.545213</td>\n",
       "      <td>0.728090</td>\n",
       "    </tr>\n",
       "    <tr>\n",
       "      <th>1</th>\n",
       "      <td>FOR02</td>\n",
       "      <td>3.90</td>\n",
       "      <td>0.841540</td>\n",
       "      <td>0.452227</td>\n",
       "      <td>5.05</td>\n",
       "      <td>1.303829</td>\n",
       "      <td>0.675938</td>\n",
       "    </tr>\n",
       "    <tr>\n",
       "      <th>2</th>\n",
       "      <td>FOR03</td>\n",
       "      <td>3.85</td>\n",
       "      <td>0.846891</td>\n",
       "      <td>0.457066</td>\n",
       "      <td>4.60</td>\n",
       "      <td>1.263848</td>\n",
       "      <td>0.675101</td>\n",
       "    </tr>\n",
       "    <tr>\n",
       "      <th>3</th>\n",
       "      <td>FOR04</td>\n",
       "      <td>7.50</td>\n",
       "      <td>1.732798</td>\n",
       "      <td>0.792842</td>\n",
       "      <td>3.50</td>\n",
       "      <td>0.820329</td>\n",
       "      <td>0.456959</td>\n",
       "    </tr>\n",
       "    <tr>\n",
       "      <th>4</th>\n",
       "      <td>FOR05</td>\n",
       "      <td>3.30</td>\n",
       "      <td>0.998213</td>\n",
       "      <td>0.595429</td>\n",
       "      <td>1.40</td>\n",
       "      <td>0.195346</td>\n",
       "      <td>0.129893</td>\n",
       "    </tr>\n",
       "  </tbody>\n",
       "</table>\n",
       "</div>"
      ],
      "text/plain": [
       "    Plot  Raster Species Richness June  Raster Shannon June  \\\n",
       "0  FOR01                          6.85             1.343611   \n",
       "1  FOR02                          3.90             0.841540   \n",
       "2  FOR03                          3.85             0.846891   \n",
       "3  FOR04                          7.50             1.732798   \n",
       "4  FOR05                          3.30             0.998213   \n",
       "\n",
       "   Raster Simpson June  Raster Species Richness Sep  Raster Shannon Sep  \\\n",
       "0             0.652301                         7.05            1.545213   \n",
       "1             0.452227                         5.05            1.303829   \n",
       "2             0.457066                         4.60            1.263848   \n",
       "3             0.792842                         3.50            0.820329   \n",
       "4             0.595429                         1.40            0.195346   \n",
       "\n",
       "   Raster Simpson Sep  \n",
       "0            0.728090  \n",
       "1            0.675938  \n",
       "2            0.675101  \n",
       "3            0.456959  \n",
       "4            0.129893  "
      ]
     },
     "execution_count": 6,
     "metadata": {},
     "output_type": "execute_result"
    }
   ],
   "source": [
    "df_Raster_Merge.columns = ['Plot','Raster Species Richness June','Raster Shannon June','Raster Simpson June','Raster Species Richness Sep','Raster Shannon Sep','Raster Simpson Sep']\n",
    "df_Raster_Merge.head()"
   ]
  },
  {
   "cell_type": "code",
   "execution_count": 7,
   "metadata": {},
   "outputs": [
    {
     "data": {
      "text/html": [
       "<div>\n",
       "<style scoped>\n",
       "    .dataframe tbody tr th:only-of-type {\n",
       "        vertical-align: middle;\n",
       "    }\n",
       "\n",
       "    .dataframe tbody tr th {\n",
       "        vertical-align: top;\n",
       "    }\n",
       "\n",
       "    .dataframe thead th {\n",
       "        text-align: right;\n",
       "    }\n",
       "</style>\n",
       "<table border=\"1\" class=\"dataframe\">\n",
       "  <thead>\n",
       "    <tr style=\"text-align: right;\">\n",
       "      <th></th>\n",
       "      <th>Plot</th>\n",
       "      <th>Association</th>\n",
       "    </tr>\n",
       "  </thead>\n",
       "  <tbody>\n",
       "    <tr>\n",
       "      <th>0</th>\n",
       "      <td>FOR01</td>\n",
       "      <td>Oak_hornbeam_humid</td>\n",
       "    </tr>\n",
       "    <tr>\n",
       "      <th>1</th>\n",
       "      <td>FOR02</td>\n",
       "      <td>Prunus</td>\n",
       "    </tr>\n",
       "    <tr>\n",
       "      <th>2</th>\n",
       "      <td>FOR03</td>\n",
       "      <td>Prunus</td>\n",
       "    </tr>\n",
       "    <tr>\n",
       "      <th>3</th>\n",
       "      <td>FOR04</td>\n",
       "      <td>Oak_open_canopy</td>\n",
       "    </tr>\n",
       "    <tr>\n",
       "      <th>4</th>\n",
       "      <td>FOR05</td>\n",
       "      <td>Oak_open_canopy</td>\n",
       "    </tr>\n",
       "  </tbody>\n",
       "</table>\n",
       "</div>"
      ],
      "text/plain": [
       "    Plot         Association\n",
       "0  FOR01  Oak_hornbeam_humid\n",
       "1  FOR02              Prunus\n",
       "2  FOR03              Prunus\n",
       "3  FOR04     Oak_open_canopy\n",
       "4  FOR05     Oak_open_canopy"
      ]
     },
     "execution_count": 7,
     "metadata": {},
     "output_type": "execute_result"
    }
   ],
   "source": [
    "df_Association = pd.read_csv(cwd_Field_Data1_CSV + \"\\\\FieldData1 Valid Association.csv\")\n",
    "df_Association.head()"
   ]
  },
  {
   "cell_type": "code",
   "execution_count": 8,
   "metadata": {},
   "outputs": [
    {
     "data": {
      "text/html": [
       "<div>\n",
       "<style scoped>\n",
       "    .dataframe tbody tr th:only-of-type {\n",
       "        vertical-align: middle;\n",
       "    }\n",
       "\n",
       "    .dataframe tbody tr th {\n",
       "        vertical-align: top;\n",
       "    }\n",
       "\n",
       "    .dataframe thead th {\n",
       "        text-align: right;\n",
       "    }\n",
       "</style>\n",
       "<table border=\"1\" class=\"dataframe\">\n",
       "  <thead>\n",
       "    <tr style=\"text-align: right;\">\n",
       "      <th></th>\n",
       "      <th>Plot</th>\n",
       "      <th>Raster Species Richness June</th>\n",
       "      <th>Raster Shannon June</th>\n",
       "      <th>Raster Simpson June</th>\n",
       "      <th>Raster Species Richness Sep</th>\n",
       "      <th>Raster Shannon Sep</th>\n",
       "      <th>Raster Simpson Sep</th>\n",
       "      <th>Association</th>\n",
       "    </tr>\n",
       "  </thead>\n",
       "  <tbody>\n",
       "    <tr>\n",
       "      <th>58</th>\n",
       "      <td>FOR78</td>\n",
       "      <td>7.50</td>\n",
       "      <td>1.543214</td>\n",
       "      <td>0.716396</td>\n",
       "      <td>6.25</td>\n",
       "      <td>1.418073</td>\n",
       "      <td>0.680039</td>\n",
       "      <td>Prunus</td>\n",
       "    </tr>\n",
       "    <tr>\n",
       "      <th>59</th>\n",
       "      <td>FOR79</td>\n",
       "      <td>10.75</td>\n",
       "      <td>2.013239</td>\n",
       "      <td>0.819431</td>\n",
       "      <td>6.50</td>\n",
       "      <td>1.519643</td>\n",
       "      <td>0.730107</td>\n",
       "      <td>Mixed deciduous</td>\n",
       "    </tr>\n",
       "    <tr>\n",
       "      <th>60</th>\n",
       "      <td>FOR80</td>\n",
       "      <td>8.70</td>\n",
       "      <td>1.867202</td>\n",
       "      <td>0.814439</td>\n",
       "      <td>7.05</td>\n",
       "      <td>1.699316</td>\n",
       "      <td>0.784217</td>\n",
       "      <td>Mixed deciduous</td>\n",
       "    </tr>\n",
       "    <tr>\n",
       "      <th>61</th>\n",
       "      <td>FOR81</td>\n",
       "      <td>10.75</td>\n",
       "      <td>2.099979</td>\n",
       "      <td>0.842573</td>\n",
       "      <td>5.05</td>\n",
       "      <td>1.252428</td>\n",
       "      <td>0.659640</td>\n",
       "      <td>Mixed deciduous</td>\n",
       "    </tr>\n",
       "    <tr>\n",
       "      <th>62</th>\n",
       "      <td>FOR82</td>\n",
       "      <td>9.25</td>\n",
       "      <td>1.938799</td>\n",
       "      <td>0.816761</td>\n",
       "      <td>3.40</td>\n",
       "      <td>0.866053</td>\n",
       "      <td>0.494998</td>\n",
       "      <td>Mixed deciduous</td>\n",
       "    </tr>\n",
       "  </tbody>\n",
       "</table>\n",
       "</div>"
      ],
      "text/plain": [
       "     Plot  Raster Species Richness June  Raster Shannon June  \\\n",
       "58  FOR78                          7.50             1.543214   \n",
       "59  FOR79                         10.75             2.013239   \n",
       "60  FOR80                          8.70             1.867202   \n",
       "61  FOR81                         10.75             2.099979   \n",
       "62  FOR82                          9.25             1.938799   \n",
       "\n",
       "    Raster Simpson June  Raster Species Richness Sep  Raster Shannon Sep  \\\n",
       "58             0.716396                         6.25            1.418073   \n",
       "59             0.819431                         6.50            1.519643   \n",
       "60             0.814439                         7.05            1.699316   \n",
       "61             0.842573                         5.05            1.252428   \n",
       "62             0.816761                         3.40            0.866053   \n",
       "\n",
       "    Raster Simpson Sep      Association  \n",
       "58            0.680039           Prunus  \n",
       "59            0.730107  Mixed deciduous  \n",
       "60            0.784217  Mixed deciduous  \n",
       "61            0.659640  Mixed deciduous  \n",
       "62            0.494998  Mixed deciduous  "
      ]
     },
     "execution_count": 8,
     "metadata": {},
     "output_type": "execute_result"
    }
   ],
   "source": [
    "df_Raster_Merge_1 = pd.merge(df_Raster_Merge.iloc[0:63,:],df_Association,on='Plot')\n",
    "df_Raster_Merge_1.tail()"
   ]
  },
  {
   "cell_type": "markdown",
   "metadata": {},
   "source": [
    "## Species Richness"
   ]
  },
  {
   "cell_type": "code",
   "execution_count": 9,
   "metadata": {},
   "outputs": [
    {
     "data": {
      "text/html": [
       "<div>\n",
       "<style scoped>\n",
       "    .dataframe tbody tr th:only-of-type {\n",
       "        vertical-align: middle;\n",
       "    }\n",
       "\n",
       "    .dataframe tbody tr th {\n",
       "        vertical-align: top;\n",
       "    }\n",
       "\n",
       "    .dataframe thead th {\n",
       "        text-align: right;\n",
       "    }\n",
       "</style>\n",
       "<table border=\"1\" class=\"dataframe\">\n",
       "  <thead>\n",
       "    <tr style=\"text-align: right;\">\n",
       "      <th></th>\n",
       "      <th>Plot</th>\n",
       "      <th>Field Species Richness</th>\n",
       "    </tr>\n",
       "  </thead>\n",
       "  <tbody>\n",
       "    <tr>\n",
       "      <th>0</th>\n",
       "      <td>FOR01</td>\n",
       "      <td>5</td>\n",
       "    </tr>\n",
       "    <tr>\n",
       "      <th>1</th>\n",
       "      <td>FOR02</td>\n",
       "      <td>7</td>\n",
       "    </tr>\n",
       "    <tr>\n",
       "      <th>2</th>\n",
       "      <td>FOR03</td>\n",
       "      <td>4</td>\n",
       "    </tr>\n",
       "    <tr>\n",
       "      <th>3</th>\n",
       "      <td>FOR04</td>\n",
       "      <td>2</td>\n",
       "    </tr>\n",
       "    <tr>\n",
       "      <th>4</th>\n",
       "      <td>FOR05</td>\n",
       "      <td>1</td>\n",
       "    </tr>\n",
       "  </tbody>\n",
       "</table>\n",
       "</div>"
      ],
      "text/plain": [
       "    Plot  Field Species Richness\n",
       "0  FOR01                       5\n",
       "1  FOR02                       7\n",
       "2  FOR03                       4\n",
       "3  FOR04                       2\n",
       "4  FOR05                       1"
      ]
     },
     "execution_count": 9,
     "metadata": {},
     "output_type": "execute_result"
    }
   ],
   "source": [
    "df_Field_Richness = pd.read_csv(cwd_Field_DataMerged_CSV_Indices + \"\\\\FieldDataMerged Valid SpeciesRichness.csv\")\n",
    "df_Field_Richness.head()"
   ]
  },
  {
   "cell_type": "code",
   "execution_count": 10,
   "metadata": {},
   "outputs": [
    {
     "data": {
      "text/html": [
       "<div>\n",
       "<style scoped>\n",
       "    .dataframe tbody tr th:only-of-type {\n",
       "        vertical-align: middle;\n",
       "    }\n",
       "\n",
       "    .dataframe tbody tr th {\n",
       "        vertical-align: top;\n",
       "    }\n",
       "\n",
       "    .dataframe thead th {\n",
       "        text-align: right;\n",
       "    }\n",
       "</style>\n",
       "<table border=\"1\" class=\"dataframe\">\n",
       "  <thead>\n",
       "    <tr style=\"text-align: right;\">\n",
       "      <th></th>\n",
       "      <th>Plot</th>\n",
       "      <th>Field Species Richness</th>\n",
       "    </tr>\n",
       "  </thead>\n",
       "  <tbody>\n",
       "    <tr>\n",
       "      <th>58</th>\n",
       "      <td>FOR78</td>\n",
       "      <td>2</td>\n",
       "    </tr>\n",
       "    <tr>\n",
       "      <th>59</th>\n",
       "      <td>FOR79</td>\n",
       "      <td>4</td>\n",
       "    </tr>\n",
       "    <tr>\n",
       "      <th>60</th>\n",
       "      <td>FOR80</td>\n",
       "      <td>3</td>\n",
       "    </tr>\n",
       "    <tr>\n",
       "      <th>61</th>\n",
       "      <td>FOR81</td>\n",
       "      <td>4</td>\n",
       "    </tr>\n",
       "    <tr>\n",
       "      <th>62</th>\n",
       "      <td>FOR82</td>\n",
       "      <td>4</td>\n",
       "    </tr>\n",
       "  </tbody>\n",
       "</table>\n",
       "</div>"
      ],
      "text/plain": [
       "     Plot  Field Species Richness\n",
       "58  FOR78                       2\n",
       "59  FOR79                       4\n",
       "60  FOR80                       3\n",
       "61  FOR81                       4\n",
       "62  FOR82                       4"
      ]
     },
     "execution_count": 10,
     "metadata": {},
     "output_type": "execute_result"
    }
   ],
   "source": [
    "df_Field_Richness_1 = df_Field_Richness.copy().iloc[0:63,:]\n",
    "df_Field_Richness_1.tail()"
   ]
  },
  {
   "cell_type": "code",
   "execution_count": 11,
   "metadata": {},
   "outputs": [
    {
     "data": {
      "text/html": [
       "<div>\n",
       "<style scoped>\n",
       "    .dataframe tbody tr th:only-of-type {\n",
       "        vertical-align: middle;\n",
       "    }\n",
       "\n",
       "    .dataframe tbody tr th {\n",
       "        vertical-align: top;\n",
       "    }\n",
       "\n",
       "    .dataframe thead th {\n",
       "        text-align: right;\n",
       "    }\n",
       "</style>\n",
       "<table border=\"1\" class=\"dataframe\">\n",
       "  <thead>\n",
       "    <tr style=\"text-align: right;\">\n",
       "      <th></th>\n",
       "      <th>Plot</th>\n",
       "      <th>Field Species Richness</th>\n",
       "      <th>Association</th>\n",
       "      <th>Raster Species Richness June</th>\n",
       "      <th>Raster Species Richness Sep</th>\n",
       "    </tr>\n",
       "  </thead>\n",
       "  <tbody>\n",
       "    <tr>\n",
       "      <th>0</th>\n",
       "      <td>FOR01</td>\n",
       "      <td>5</td>\n",
       "      <td>Oak_hornbeam_humid</td>\n",
       "      <td>6.85</td>\n",
       "      <td>7.05</td>\n",
       "    </tr>\n",
       "    <tr>\n",
       "      <th>1</th>\n",
       "      <td>FOR02</td>\n",
       "      <td>7</td>\n",
       "      <td>Prunus</td>\n",
       "      <td>3.90</td>\n",
       "      <td>5.05</td>\n",
       "    </tr>\n",
       "    <tr>\n",
       "      <th>2</th>\n",
       "      <td>FOR03</td>\n",
       "      <td>4</td>\n",
       "      <td>Prunus</td>\n",
       "      <td>3.85</td>\n",
       "      <td>4.60</td>\n",
       "    </tr>\n",
       "    <tr>\n",
       "      <th>3</th>\n",
       "      <td>FOR04</td>\n",
       "      <td>2</td>\n",
       "      <td>Oak_open_canopy</td>\n",
       "      <td>7.50</td>\n",
       "      <td>3.50</td>\n",
       "    </tr>\n",
       "    <tr>\n",
       "      <th>4</th>\n",
       "      <td>FOR05</td>\n",
       "      <td>1</td>\n",
       "      <td>Oak_open_canopy</td>\n",
       "      <td>3.30</td>\n",
       "      <td>1.40</td>\n",
       "    </tr>\n",
       "  </tbody>\n",
       "</table>\n",
       "</div>"
      ],
      "text/plain": [
       "    Plot  Field Species Richness         Association  \\\n",
       "0  FOR01                       5  Oak_hornbeam_humid   \n",
       "1  FOR02                       7              Prunus   \n",
       "2  FOR03                       4              Prunus   \n",
       "3  FOR04                       2     Oak_open_canopy   \n",
       "4  FOR05                       1     Oak_open_canopy   \n",
       "\n",
       "   Raster Species Richness June  Raster Species Richness Sep  \n",
       "0                          6.85                         7.05  \n",
       "1                          3.90                         5.05  \n",
       "2                          3.85                         4.60  \n",
       "3                          7.50                         3.50  \n",
       "4                          3.30                         1.40  "
      ]
     },
     "execution_count": 11,
     "metadata": {},
     "output_type": "execute_result"
    }
   ],
   "source": [
    "df_Richness_1 = pd.merge(df_Field_Richness_1,df_Raster_Merge_1[['Plot','Association','Raster Species Richness June','Raster Species Richness Sep']],on = 'Plot')\n",
    "df_Richness_1.head()"
   ]
  },
  {
   "cell_type": "code",
   "execution_count": 12,
   "metadata": {},
   "outputs": [
    {
     "data": {
      "text/html": [
       "<div>\n",
       "<style scoped>\n",
       "    .dataframe tbody tr th:only-of-type {\n",
       "        vertical-align: middle;\n",
       "    }\n",
       "\n",
       "    .dataframe tbody tr th {\n",
       "        vertical-align: top;\n",
       "    }\n",
       "\n",
       "    .dataframe thead th {\n",
       "        text-align: right;\n",
       "    }\n",
       "</style>\n",
       "<table border=\"1\" class=\"dataframe\">\n",
       "  <thead>\n",
       "    <tr style=\"text-align: right;\">\n",
       "      <th></th>\n",
       "      <th>Field Species Richness</th>\n",
       "      <th>Raster Species Richness June</th>\n",
       "      <th>Raster Species Richness Sep</th>\n",
       "    </tr>\n",
       "  </thead>\n",
       "  <tbody>\n",
       "    <tr>\n",
       "      <th>count</th>\n",
       "      <td>63.000000</td>\n",
       "      <td>63.000000</td>\n",
       "      <td>63.000000</td>\n",
       "    </tr>\n",
       "    <tr>\n",
       "      <th>mean</th>\n",
       "      <td>3.507937</td>\n",
       "      <td>8.081746</td>\n",
       "      <td>5.403968</td>\n",
       "    </tr>\n",
       "    <tr>\n",
       "      <th>std</th>\n",
       "      <td>1.865415</td>\n",
       "      <td>1.757617</td>\n",
       "      <td>1.921384</td>\n",
       "    </tr>\n",
       "    <tr>\n",
       "      <th>min</th>\n",
       "      <td>1.000000</td>\n",
       "      <td>3.300000</td>\n",
       "      <td>1.400000</td>\n",
       "    </tr>\n",
       "    <tr>\n",
       "      <th>25%</th>\n",
       "      <td>2.000000</td>\n",
       "      <td>7.000000</td>\n",
       "      <td>4.275000</td>\n",
       "    </tr>\n",
       "    <tr>\n",
       "      <th>50%</th>\n",
       "      <td>3.000000</td>\n",
       "      <td>8.300000</td>\n",
       "      <td>5.050000</td>\n",
       "    </tr>\n",
       "    <tr>\n",
       "      <th>75%</th>\n",
       "      <td>4.000000</td>\n",
       "      <td>9.250000</td>\n",
       "      <td>7.000000</td>\n",
       "    </tr>\n",
       "    <tr>\n",
       "      <th>max</th>\n",
       "      <td>8.000000</td>\n",
       "      <td>11.450000</td>\n",
       "      <td>9.050000</td>\n",
       "    </tr>\n",
       "  </tbody>\n",
       "</table>\n",
       "</div>"
      ],
      "text/plain": [
       "       Field Species Richness  Raster Species Richness June  \\\n",
       "count               63.000000                     63.000000   \n",
       "mean                 3.507937                      8.081746   \n",
       "std                  1.865415                      1.757617   \n",
       "min                  1.000000                      3.300000   \n",
       "25%                  2.000000                      7.000000   \n",
       "50%                  3.000000                      8.300000   \n",
       "75%                  4.000000                      9.250000   \n",
       "max                  8.000000                     11.450000   \n",
       "\n",
       "       Raster Species Richness Sep  \n",
       "count                    63.000000  \n",
       "mean                      5.403968  \n",
       "std                       1.921384  \n",
       "min                       1.400000  \n",
       "25%                       4.275000  \n",
       "50%                       5.050000  \n",
       "75%                       7.000000  \n",
       "max                       9.050000  "
      ]
     },
     "execution_count": 12,
     "metadata": {},
     "output_type": "execute_result"
    }
   ],
   "source": [
    "df_Richness_1.describe()"
   ]
  },
  {
   "cell_type": "code",
   "execution_count": 13,
   "metadata": {},
   "outputs": [
    {
     "data": {
      "text/html": [
       "<div>\n",
       "<style scoped>\n",
       "    .dataframe tbody tr th:only-of-type {\n",
       "        vertical-align: middle;\n",
       "    }\n",
       "\n",
       "    .dataframe tbody tr th {\n",
       "        vertical-align: top;\n",
       "    }\n",
       "\n",
       "    .dataframe thead th {\n",
       "        text-align: right;\n",
       "    }\n",
       "</style>\n",
       "<table border=\"1\" class=\"dataframe\">\n",
       "  <thead>\n",
       "    <tr style=\"text-align: right;\">\n",
       "      <th></th>\n",
       "      <th>Plot</th>\n",
       "      <th>Field Species Richness</th>\n",
       "      <th>Association</th>\n",
       "      <th>Raster Species Richness June</th>\n",
       "      <th>Raster Species Richness Sep</th>\n",
       "    </tr>\n",
       "  </thead>\n",
       "  <tbody>\n",
       "    <tr>\n",
       "      <th>20</th>\n",
       "      <td>FOR21</td>\n",
       "      <td>4</td>\n",
       "      <td>Alder</td>\n",
       "      <td>8.30</td>\n",
       "      <td>4.50</td>\n",
       "    </tr>\n",
       "    <tr>\n",
       "      <th>19</th>\n",
       "      <td>FOR20</td>\n",
       "      <td>3</td>\n",
       "      <td>Alder</td>\n",
       "      <td>8.85</td>\n",
       "      <td>4.80</td>\n",
       "    </tr>\n",
       "    <tr>\n",
       "      <th>35</th>\n",
       "      <td>FOR55</td>\n",
       "      <td>2</td>\n",
       "      <td>Alder</td>\n",
       "      <td>8.35</td>\n",
       "      <td>3.10</td>\n",
       "    </tr>\n",
       "    <tr>\n",
       "      <th>7</th>\n",
       "      <td>FOR08</td>\n",
       "      <td>4</td>\n",
       "      <td>Alder</td>\n",
       "      <td>10.90</td>\n",
       "      <td>4.50</td>\n",
       "    </tr>\n",
       "    <tr>\n",
       "      <th>36</th>\n",
       "      <td>FOR56</td>\n",
       "      <td>2</td>\n",
       "      <td>Alder</td>\n",
       "      <td>7.70</td>\n",
       "      <td>2.50</td>\n",
       "    </tr>\n",
       "    <tr>\n",
       "      <th>...</th>\n",
       "      <td>...</td>\n",
       "      <td>...</td>\n",
       "      <td>...</td>\n",
       "      <td>...</td>\n",
       "      <td>...</td>\n",
       "    </tr>\n",
       "    <tr>\n",
       "      <th>24</th>\n",
       "      <td>FOR25</td>\n",
       "      <td>1</td>\n",
       "      <td>Pine</td>\n",
       "      <td>10.45</td>\n",
       "      <td>8.90</td>\n",
       "    </tr>\n",
       "    <tr>\n",
       "      <th>30</th>\n",
       "      <td>FOR31</td>\n",
       "      <td>2</td>\n",
       "      <td>Pine</td>\n",
       "      <td>8.20</td>\n",
       "      <td>7.20</td>\n",
       "    </tr>\n",
       "    <tr>\n",
       "      <th>58</th>\n",
       "      <td>FOR78</td>\n",
       "      <td>2</td>\n",
       "      <td>Prunus</td>\n",
       "      <td>7.50</td>\n",
       "      <td>6.25</td>\n",
       "    </tr>\n",
       "    <tr>\n",
       "      <th>2</th>\n",
       "      <td>FOR03</td>\n",
       "      <td>4</td>\n",
       "      <td>Prunus</td>\n",
       "      <td>3.85</td>\n",
       "      <td>4.60</td>\n",
       "    </tr>\n",
       "    <tr>\n",
       "      <th>1</th>\n",
       "      <td>FOR02</td>\n",
       "      <td>7</td>\n",
       "      <td>Prunus</td>\n",
       "      <td>3.90</td>\n",
       "      <td>5.05</td>\n",
       "    </tr>\n",
       "  </tbody>\n",
       "</table>\n",
       "<p>63 rows × 5 columns</p>\n",
       "</div>"
      ],
      "text/plain": [
       "     Plot  Field Species Richness Association  Raster Species Richness June  \\\n",
       "20  FOR21                       4       Alder                          8.30   \n",
       "19  FOR20                       3       Alder                          8.85   \n",
       "35  FOR55                       2       Alder                          8.35   \n",
       "7   FOR08                       4       Alder                         10.90   \n",
       "36  FOR56                       2       Alder                          7.70   \n",
       "..    ...                     ...         ...                           ...   \n",
       "24  FOR25                       1        Pine                         10.45   \n",
       "30  FOR31                       2        Pine                          8.20   \n",
       "58  FOR78                       2      Prunus                          7.50   \n",
       "2   FOR03                       4      Prunus                          3.85   \n",
       "1   FOR02                       7      Prunus                          3.90   \n",
       "\n",
       "    Raster Species Richness Sep  \n",
       "20                         4.50  \n",
       "19                         4.80  \n",
       "35                         3.10  \n",
       "7                          4.50  \n",
       "36                         2.50  \n",
       "..                          ...  \n",
       "24                         8.90  \n",
       "30                         7.20  \n",
       "58                         6.25  \n",
       "2                          4.60  \n",
       "1                          5.05  \n",
       "\n",
       "[63 rows x 5 columns]"
      ]
     },
     "execution_count": 13,
     "metadata": {},
     "output_type": "execute_result"
    }
   ],
   "source": [
    "df_Richness_1_Asso = df_Richness_1.copy().sort_values('Association')\n",
    "df_Richness_1_Asso"
   ]
  },
  {
   "cell_type": "code",
   "execution_count": 14,
   "metadata": {},
   "outputs": [
    {
     "data": {
      "image/png": "[encoded data removed]",
      "text/plain": [
       "<Figure size 1000x1000 with 1 Axes>"
      ]
     },
     "metadata": {},
     "output_type": "display_data"
    }
   ],
   "source": [
    "fig, ax1 = plt.subplots(figsize = (10,10))\n",
    "sns.scatterplot(x = 'Field Species Richness',y = 'Raster Species Richness June', data = df_Richness_1_Asso, hue = 'Association', \n",
    "                palette=['Black','Grey','Pink','Red','Purple','Green','Blue','Yellow','Orange','Maroon','Aqua'],\n",
    "                s=100, ax = ax1)\n",
    "sns.move_legend(ax1,'upper left',bbox_to_anchor= (1,1))\n",
    "ax1.grid()\n",
    "plt.title('Species Richness: Field Value - Raster June Value')\n",
    "plt.show()"
   ]
  },
  {
   "cell_type": "code",
   "execution_count": 15,
   "metadata": {},
   "outputs": [
    {
     "data": {
      "image/png": "[encoded data removed]",
      "text/plain": [
       "<Figure size 1000x1000 with 1 Axes>"
      ]
     },
     "metadata": {},
     "output_type": "display_data"
    }
   ],
   "source": [
    "fig, ax1 = plt.subplots(figsize = (10,10))\n",
    "sns.scatterplot(x = 'Field Species Richness',y = 'Raster Species Richness Sep', data = df_Richness_1_Asso, hue = 'Association', \n",
    "                palette=['Black','Grey','Pink','Red','Purple','Green','Blue','Yellow','Orange','Maroon','Aqua'],\n",
    "                s=100, ax = ax1)\n",
    "sns.move_legend(ax1,'upper left',bbox_to_anchor= (1,1))\n",
    "ax1.grid()\n",
    "plt.title('Species Richness: Field Value - Raster Sep Value')\n",
    "plt.show()"
   ]
  },
  {
   "cell_type": "code",
   "execution_count": 16,
   "metadata": {},
   "outputs": [
    {
     "name": "stdout",
     "output_type": "stream",
     "text": [
      "-14.164425473077744\n",
      "1.1033511691572216e-27\n",
      "We reject NULL HYPOTHESIS! Therefore we can conclude that there is a definite relationship between Field Species Richness and Raster Species Richness!\n",
      "The Pearson correlation coefficient is equal to -0.08542895596869755-0.08542895596869755; the p value is 0.5055954837370703\n",
      "Indecisive! The Pearson correlation coefficient is not considered statistically significant!\n"
     ]
    }
   ],
   "source": [
    "# Null hypothesis! \n",
    "t_stat, pvalue = ttest_ind(df_Richness_1['Field Species Richness'], df_Richness_1['Raster Species Richness June'])\n",
    "print(t_stat)\n",
    "print(pvalue)\n",
    "if pvalue < 0.05:\n",
    "    print(\"We reject NULL HYPOTHESIS! Therefore we can conclude that there is a definite relationship between Field Species Richness and Raster Species Richness!\")\n",
    "else: \n",
    "    print(\"We fail to reject NULL HYPOTHESIS!\")\n",
    "# Pearson Coefficient\n",
    "pear = stats.pearsonr(df_Richness_1['Field Species Richness'], df_Richness_1['Raster Species Richness June'])\n",
    "print(\"The Pearson correlation coefficient is equal to \" + str(pear.statistic)  + str(pear.statistic) + \"; the p value is \" + str(pear.pvalue))\n",
    "if pear.pvalue <= 0.05:\n",
    "    print(\"Perfect! The Pearson correlation coefficient is considered statistically significant!\")\n",
    "else:\n",
    "    print(\"Indecisive! The Pearson correlation coefficient is not considered statistically significant!\")"
   ]
  },
  {
   "cell_type": "code",
   "execution_count": 17,
   "metadata": {},
   "outputs": [
    {
     "data": {
      "text/plain": [
       "-7.157519680694527"
      ]
     },
     "execution_count": 17,
     "metadata": {},
     "output_type": "execute_result"
    }
   ],
   "source": [
    "r2_score(df_Richness_1['Field Species Richness'], df_Richness_1['Raster Species Richness June'])"
   ]
  },
  {
   "cell_type": "code",
   "execution_count": 18,
   "metadata": {},
   "outputs": [
    {
     "data": {
      "text/plain": [
       "4.765873015873015"
      ]
     },
     "execution_count": 18,
     "metadata": {},
     "output_type": "execute_result"
    }
   ],
   "source": [
    "mae(df_Richness_1['Field Species Richness'], df_Richness_1['Raster Species Richness June'])"
   ]
  },
  {
   "cell_type": "code",
   "execution_count": 19,
   "metadata": {},
   "outputs": [
    {
     "name": "stdout",
     "output_type": "stream",
     "text": [
      "-5.6196737427993595\n",
      "1.199161629951715e-07\n",
      "We reject NULL HYPOTHESIS! Therefore we can conclude that there is a definite relationship between Field Species Richness and Raster Species Richness!\n",
      "The Pearson correlation coefficient is equal to 0.071429555195250490.07142955519525049; the p value is 0.577997122983795\n",
      "Indecisive! The Pearson correlation coefficient is not considered statistically significant!\n"
     ]
    }
   ],
   "source": [
    "# Null hypothesis! \n",
    "t_stat, pvalue = ttest_ind(df_Richness_1['Field Species Richness'], df_Richness_1['Raster Species Richness Sep'])\n",
    "print(t_stat)\n",
    "print(pvalue)\n",
    "if pvalue < 0.05:\n",
    "    print(\"We reject NULL HYPOTHESIS! Therefore we can conclude that there is a definite relationship between Field Species Richness and Raster Species Richness!\")\n",
    "else: \n",
    "    print(\"We fail to reject NULL HYPOTHESIS!\")\n",
    "# Pearson Coefficient\n",
    "pear = stats.pearsonr(df_Richness_1['Field Species Richness'], df_Richness_1['Raster Species Richness Sep'])\n",
    "print(\"The Pearson correlation coefficient is equal to \" + str(pear.statistic)  + str(pear.statistic) + \"; the p value is \" + str(pear.pvalue))\n",
    "if pear.pvalue <= 0.05:\n",
    "    print(\"Perfect! The Pearson correlation coefficient is considered statistically significant!\")\n",
    "else:\n",
    "    print(\"Indecisive! The Pearson correlation coefficient is not considered statistically significant!\")"
   ]
  },
  {
   "cell_type": "code",
   "execution_count": 20,
   "metadata": {},
   "outputs": [
    {
     "data": {
      "text/plain": [
       "-1.9635191656856987"
      ]
     },
     "execution_count": 20,
     "metadata": {},
     "output_type": "execute_result"
    }
   ],
   "source": [
    "r2_score(df_Richness_1['Field Species Richness'], df_Richness_1['Raster Species Richness Sep'])"
   ]
  },
  {
   "cell_type": "code",
   "execution_count": 21,
   "metadata": {},
   "outputs": [
    {
     "data": {
      "text/plain": [
       "2.524603174603176"
      ]
     },
     "execution_count": 21,
     "metadata": {},
     "output_type": "execute_result"
    }
   ],
   "source": [
    "mae(df_Richness_1['Field Species Richness'], df_Richness_1['Raster Species Richness Sep'])"
   ]
  },
  {
   "cell_type": "markdown",
   "metadata": {},
   "source": [
    "## Shannon"
   ]
  },
  {
   "cell_type": "code",
   "execution_count": 22,
   "metadata": {},
   "outputs": [
    {
     "data": {
      "text/html": [
       "<div>\n",
       "<style scoped>\n",
       "    .dataframe tbody tr th:only-of-type {\n",
       "        vertical-align: middle;\n",
       "    }\n",
       "\n",
       "    .dataframe tbody tr th {\n",
       "        vertical-align: top;\n",
       "    }\n",
       "\n",
       "    .dataframe thead th {\n",
       "        text-align: right;\n",
       "    }\n",
       "</style>\n",
       "<table border=\"1\" class=\"dataframe\">\n",
       "  <thead>\n",
       "    <tr style=\"text-align: right;\">\n",
       "      <th></th>\n",
       "      <th>Plot</th>\n",
       "      <th>Field Shannon</th>\n",
       "    </tr>\n",
       "  </thead>\n",
       "  <tbody>\n",
       "    <tr>\n",
       "      <th>0</th>\n",
       "      <td>FOR01</td>\n",
       "      <td>1.267990</td>\n",
       "    </tr>\n",
       "    <tr>\n",
       "      <th>1</th>\n",
       "      <td>FOR02</td>\n",
       "      <td>1.604816</td>\n",
       "    </tr>\n",
       "    <tr>\n",
       "      <th>2</th>\n",
       "      <td>FOR03</td>\n",
       "      <td>0.534923</td>\n",
       "    </tr>\n",
       "    <tr>\n",
       "      <th>3</th>\n",
       "      <td>FOR04</td>\n",
       "      <td>0.474139</td>\n",
       "    </tr>\n",
       "    <tr>\n",
       "      <th>4</th>\n",
       "      <td>FOR05</td>\n",
       "      <td>0.000000</td>\n",
       "    </tr>\n",
       "  </tbody>\n",
       "</table>\n",
       "</div>"
      ],
      "text/plain": [
       "    Plot  Field Shannon\n",
       "0  FOR01       1.267990\n",
       "1  FOR02       1.604816\n",
       "2  FOR03       0.534923\n",
       "3  FOR04       0.474139\n",
       "4  FOR05       0.000000"
      ]
     },
     "execution_count": 22,
     "metadata": {},
     "output_type": "execute_result"
    }
   ],
   "source": [
    "df_Field_Shannon = pd.read_csv(cwd_Field_DataMerged_CSV_Indices + \"\\\\FieldDataMerged Valid Shannon.csv\")\n",
    "df_Field_Shannon.head()"
   ]
  },
  {
   "cell_type": "code",
   "execution_count": 23,
   "metadata": {},
   "outputs": [],
   "source": [
    "df_Field_Shannon_1 = df_Field_Shannon.copy().iloc[0:63,:]"
   ]
  },
  {
   "cell_type": "code",
   "execution_count": 24,
   "metadata": {},
   "outputs": [
    {
     "data": {
      "text/html": [
       "<div>\n",
       "<style scoped>\n",
       "    .dataframe tbody tr th:only-of-type {\n",
       "        vertical-align: middle;\n",
       "    }\n",
       "\n",
       "    .dataframe tbody tr th {\n",
       "        vertical-align: top;\n",
       "    }\n",
       "\n",
       "    .dataframe thead th {\n",
       "        text-align: right;\n",
       "    }\n",
       "</style>\n",
       "<table border=\"1\" class=\"dataframe\">\n",
       "  <thead>\n",
       "    <tr style=\"text-align: right;\">\n",
       "      <th></th>\n",
       "      <th>Plot</th>\n",
       "      <th>Field Shannon</th>\n",
       "      <th>Association</th>\n",
       "      <th>Raster Shannon June</th>\n",
       "      <th>Raster Shannon Sep</th>\n",
       "    </tr>\n",
       "  </thead>\n",
       "  <tbody>\n",
       "    <tr>\n",
       "      <th>58</th>\n",
       "      <td>FOR78</td>\n",
       "      <td>0.286836</td>\n",
       "      <td>Prunus</td>\n",
       "      <td>1.543214</td>\n",
       "      <td>1.418073</td>\n",
       "    </tr>\n",
       "    <tr>\n",
       "      <th>59</th>\n",
       "      <td>FOR79</td>\n",
       "      <td>1.344339</td>\n",
       "      <td>Mixed deciduous</td>\n",
       "      <td>2.013239</td>\n",
       "      <td>1.519643</td>\n",
       "    </tr>\n",
       "    <tr>\n",
       "      <th>60</th>\n",
       "      <td>FOR80</td>\n",
       "      <td>0.918320</td>\n",
       "      <td>Mixed deciduous</td>\n",
       "      <td>1.867202</td>\n",
       "      <td>1.699316</td>\n",
       "    </tr>\n",
       "    <tr>\n",
       "      <th>61</th>\n",
       "      <td>FOR81</td>\n",
       "      <td>1.301362</td>\n",
       "      <td>Mixed deciduous</td>\n",
       "      <td>2.099979</td>\n",
       "      <td>1.252428</td>\n",
       "    </tr>\n",
       "    <tr>\n",
       "      <th>62</th>\n",
       "      <td>FOR82</td>\n",
       "      <td>1.193337</td>\n",
       "      <td>Mixed deciduous</td>\n",
       "      <td>1.938799</td>\n",
       "      <td>0.866053</td>\n",
       "    </tr>\n",
       "  </tbody>\n",
       "</table>\n",
       "</div>"
      ],
      "text/plain": [
       "     Plot  Field Shannon      Association  Raster Shannon June  \\\n",
       "58  FOR78       0.286836           Prunus             1.543214   \n",
       "59  FOR79       1.344339  Mixed deciduous             2.013239   \n",
       "60  FOR80       0.918320  Mixed deciduous             1.867202   \n",
       "61  FOR81       1.301362  Mixed deciduous             2.099979   \n",
       "62  FOR82       1.193337  Mixed deciduous             1.938799   \n",
       "\n",
       "    Raster Shannon Sep  \n",
       "58            1.418073  \n",
       "59            1.519643  \n",
       "60            1.699316  \n",
       "61            1.252428  \n",
       "62            0.866053  "
      ]
     },
     "execution_count": 24,
     "metadata": {},
     "output_type": "execute_result"
    }
   ],
   "source": [
    "df_Shannon_1 = pd.merge(df_Field_Shannon_1,df_Raster_Merge_1[['Plot','Association','Raster Shannon June','Raster Shannon Sep']],on = 'Plot')\n",
    "df_Shannon_1.tail()"
   ]
  },
  {
   "cell_type": "code",
   "execution_count": 25,
   "metadata": {},
   "outputs": [
    {
     "data": {
      "text/html": [
       "<div>\n",
       "<style scoped>\n",
       "    .dataframe tbody tr th:only-of-type {\n",
       "        vertical-align: middle;\n",
       "    }\n",
       "\n",
       "    .dataframe tbody tr th {\n",
       "        vertical-align: top;\n",
       "    }\n",
       "\n",
       "    .dataframe thead th {\n",
       "        text-align: right;\n",
       "    }\n",
       "</style>\n",
       "<table border=\"1\" class=\"dataframe\">\n",
       "  <thead>\n",
       "    <tr style=\"text-align: right;\">\n",
       "      <th></th>\n",
       "      <th>Plot</th>\n",
       "      <th>Field Shannon</th>\n",
       "      <th>Association</th>\n",
       "      <th>Raster Shannon June</th>\n",
       "      <th>Raster Shannon Sep</th>\n",
       "    </tr>\n",
       "  </thead>\n",
       "  <tbody>\n",
       "    <tr>\n",
       "      <th>24</th>\n",
       "      <td>FOR25</td>\n",
       "      <td>0.000000</td>\n",
       "      <td>Pine</td>\n",
       "      <td>2.023221</td>\n",
       "      <td>1.788818</td>\n",
       "    </tr>\n",
       "    <tr>\n",
       "      <th>30</th>\n",
       "      <td>FOR31</td>\n",
       "      <td>0.146145</td>\n",
       "      <td>Pine</td>\n",
       "      <td>1.511437</td>\n",
       "      <td>1.344880</td>\n",
       "    </tr>\n",
       "    <tr>\n",
       "      <th>58</th>\n",
       "      <td>FOR78</td>\n",
       "      <td>0.286836</td>\n",
       "      <td>Prunus</td>\n",
       "      <td>1.543214</td>\n",
       "      <td>1.418073</td>\n",
       "    </tr>\n",
       "    <tr>\n",
       "      <th>2</th>\n",
       "      <td>FOR03</td>\n",
       "      <td>0.534923</td>\n",
       "      <td>Prunus</td>\n",
       "      <td>0.846891</td>\n",
       "      <td>1.263848</td>\n",
       "    </tr>\n",
       "    <tr>\n",
       "      <th>1</th>\n",
       "      <td>FOR02</td>\n",
       "      <td>1.604816</td>\n",
       "      <td>Prunus</td>\n",
       "      <td>0.841540</td>\n",
       "      <td>1.303829</td>\n",
       "    </tr>\n",
       "  </tbody>\n",
       "</table>\n",
       "</div>"
      ],
      "text/plain": [
       "     Plot  Field Shannon Association  Raster Shannon June  Raster Shannon Sep\n",
       "24  FOR25       0.000000        Pine             2.023221            1.788818\n",
       "30  FOR31       0.146145        Pine             1.511437            1.344880\n",
       "58  FOR78       0.286836      Prunus             1.543214            1.418073\n",
       "2   FOR03       0.534923      Prunus             0.846891            1.263848\n",
       "1   FOR02       1.604816      Prunus             0.841540            1.303829"
      ]
     },
     "execution_count": 25,
     "metadata": {},
     "output_type": "execute_result"
    }
   ],
   "source": [
    "df_Shannon_1_Asso = df_Shannon_1.copy().sort_values('Association')\n",
    "df_Shannon_1_Asso.tail()"
   ]
  },
  {
   "cell_type": "code",
   "execution_count": 35,
   "metadata": {},
   "outputs": [
    {
     "data": {
      "text/html": [
       "<div>\n",
       "<style scoped>\n",
       "    .dataframe tbody tr th:only-of-type {\n",
       "        vertical-align: middle;\n",
       "    }\n",
       "\n",
       "    .dataframe tbody tr th {\n",
       "        vertical-align: top;\n",
       "    }\n",
       "\n",
       "    .dataframe thead th {\n",
       "        text-align: right;\n",
       "    }\n",
       "</style>\n",
       "<table border=\"1\" class=\"dataframe\">\n",
       "  <thead>\n",
       "    <tr style=\"text-align: right;\">\n",
       "      <th></th>\n",
       "      <th>Field Shannon</th>\n",
       "      <th>Raster Shannon June</th>\n",
       "      <th>Raster Shannon Sep</th>\n",
       "    </tr>\n",
       "  </thead>\n",
       "  <tbody>\n",
       "    <tr>\n",
       "      <th>count</th>\n",
       "      <td>63.000000</td>\n",
       "      <td>63.000000</td>\n",
       "      <td>63.000000</td>\n",
       "    </tr>\n",
       "    <tr>\n",
       "      <th>mean</th>\n",
       "      <td>0.793971</td>\n",
       "      <td>1.677465</td>\n",
       "      <td>1.218721</td>\n",
       "    </tr>\n",
       "    <tr>\n",
       "      <th>std</th>\n",
       "      <td>0.519653</td>\n",
       "      <td>0.311916</td>\n",
       "      <td>0.382238</td>\n",
       "    </tr>\n",
       "    <tr>\n",
       "      <th>min</th>\n",
       "      <td>0.000000</td>\n",
       "      <td>0.841540</td>\n",
       "      <td>0.195346</td>\n",
       "    </tr>\n",
       "    <tr>\n",
       "      <th>25%</th>\n",
       "      <td>0.401475</td>\n",
       "      <td>1.500057</td>\n",
       "      <td>1.006815</td>\n",
       "    </tr>\n",
       "    <tr>\n",
       "      <th>50%</th>\n",
       "      <td>0.804448</td>\n",
       "      <td>1.710868</td>\n",
       "      <td>1.252428</td>\n",
       "    </tr>\n",
       "    <tr>\n",
       "      <th>75%</th>\n",
       "      <td>1.180566</td>\n",
       "      <td>1.879909</td>\n",
       "      <td>1.517841</td>\n",
       "    </tr>\n",
       "    <tr>\n",
       "      <th>max</th>\n",
       "      <td>1.794190</td>\n",
       "      <td>2.230765</td>\n",
       "      <td>1.953867</td>\n",
       "    </tr>\n",
       "  </tbody>\n",
       "</table>\n",
       "</div>"
      ],
      "text/plain": [
       "       Field Shannon  Raster Shannon June  Raster Shannon Sep\n",
       "count      63.000000            63.000000           63.000000\n",
       "mean        0.793971             1.677465            1.218721\n",
       "std         0.519653             0.311916            0.382238\n",
       "min         0.000000             0.841540            0.195346\n",
       "25%         0.401475             1.500057            1.006815\n",
       "50%         0.804448             1.710868            1.252428\n",
       "75%         1.180566             1.879909            1.517841\n",
       "max         1.794190             2.230765            1.953867"
      ]
     },
     "execution_count": 35,
     "metadata": {},
     "output_type": "execute_result"
    }
   ],
   "source": [
    "df_Shannon_1_Asso.describe()"
   ]
  },
  {
   "cell_type": "code",
   "execution_count": 26,
   "metadata": {},
   "outputs": [
    {
     "data": {
      "text/html": [
       "<div>\n",
       "<style scoped>\n",
       "    .dataframe tbody tr th:only-of-type {\n",
       "        vertical-align: middle;\n",
       "    }\n",
       "\n",
       "    .dataframe tbody tr th {\n",
       "        vertical-align: top;\n",
       "    }\n",
       "\n",
       "    .dataframe thead th {\n",
       "        text-align: right;\n",
       "    }\n",
       "</style>\n",
       "<table border=\"1\" class=\"dataframe\">\n",
       "  <thead>\n",
       "    <tr style=\"text-align: right;\">\n",
       "      <th></th>\n",
       "      <th>Plot</th>\n",
       "      <th>Field Shannon</th>\n",
       "      <th>Association</th>\n",
       "      <th>Raster Shannon June</th>\n",
       "      <th>Raster Shannon Sep</th>\n",
       "    </tr>\n",
       "  </thead>\n",
       "  <tbody>\n",
       "    <tr>\n",
       "      <th>20</th>\n",
       "      <td>FOR21</td>\n",
       "      <td>0.942002</td>\n",
       "      <td>Alder</td>\n",
       "      <td>1.673444</td>\n",
       "      <td>1.135510</td>\n",
       "    </tr>\n",
       "    <tr>\n",
       "      <th>19</th>\n",
       "      <td>FOR20</td>\n",
       "      <td>0.886464</td>\n",
       "      <td>Alder</td>\n",
       "      <td>1.795596</td>\n",
       "      <td>1.221373</td>\n",
       "    </tr>\n",
       "    <tr>\n",
       "      <th>35</th>\n",
       "      <td>FOR55</td>\n",
       "      <td>0.276191</td>\n",
       "      <td>Alder</td>\n",
       "      <td>1.781430</td>\n",
       "      <td>0.828202</td>\n",
       "    </tr>\n",
       "    <tr>\n",
       "      <th>7</th>\n",
       "      <td>FOR08</td>\n",
       "      <td>0.804448</td>\n",
       "      <td>Alder</td>\n",
       "      <td>2.105831</td>\n",
       "      <td>1.112541</td>\n",
       "    </tr>\n",
       "    <tr>\n",
       "      <th>36</th>\n",
       "      <td>FOR56</td>\n",
       "      <td>0.482578</td>\n",
       "      <td>Alder</td>\n",
       "      <td>1.648185</td>\n",
       "      <td>0.651052</td>\n",
       "    </tr>\n",
       "  </tbody>\n",
       "</table>\n",
       "</div>"
      ],
      "text/plain": [
       "     Plot  Field Shannon Association  Raster Shannon June  Raster Shannon Sep\n",
       "20  FOR21       0.942002       Alder             1.673444            1.135510\n",
       "19  FOR20       0.886464       Alder             1.795596            1.221373\n",
       "35  FOR55       0.276191       Alder             1.781430            0.828202\n",
       "7   FOR08       0.804448       Alder             2.105831            1.112541\n",
       "36  FOR56       0.482578       Alder             1.648185            0.651052"
      ]
     },
     "execution_count": 26,
     "metadata": {},
     "output_type": "execute_result"
    }
   ],
   "source": [
    "df_Shannon_1_Asso_NoZero = df_Shannon_1_Asso.copy()\n",
    "df_Shannon_1_Asso_NoZero = df_Shannon_1_Asso_NoZero.loc[df_Shannon_1_Asso_NoZero['Field Shannon']!=0]\n",
    "df_Shannon_1_Asso_NoZero.head()"
   ]
  },
  {
   "cell_type": "code",
   "execution_count": 27,
   "metadata": {},
   "outputs": [
    {
     "data": {
      "image/png": "[encoded data removed]",
      "text/plain": [
       "<Figure size 1000x1000 with 1 Axes>"
      ]
     },
     "metadata": {},
     "output_type": "display_data"
    }
   ],
   "source": [
    "fig, ax1 = plt.subplots(figsize = (10,10))\n",
    "sns.scatterplot(x = 'Field Shannon',y = 'Raster Shannon June', data = df_Shannon_1_Asso, hue = 'Association', \n",
    "                palette=['Black','Grey','Pink','Red','Purple','Green','Blue','Yellow','Orange','Maroon','Aqua'],\n",
    "                s=100, ax = ax1)\n",
    "sns.move_legend(ax1,'upper left',bbox_to_anchor= (1,1))\n",
    "ax1.grid()\n",
    "plt.title('Shannon: Field Value - Raster June Value')\n",
    "plt.show()"
   ]
  },
  {
   "cell_type": "code",
   "execution_count": 28,
   "metadata": {},
   "outputs": [
    {
     "name": "stdout",
     "output_type": "stream",
     "text": [
      "-10.828100475531903\n",
      "6.0764882942653e-19\n",
      "We reject NULL HYPOTHESIS! Therefore we can conclude that there is a definite relationship between Field Shannon Index and Raster Shannon Index!\n",
      "The Pearson correlation coefficient is equal to 0.0031375831339687520.003137583133968752; the p value is 0.9818620391121369\n",
      "Indecisive! The Pearson correlation coefficient is not considered statistically significant!\n"
     ]
    }
   ],
   "source": [
    "# Null hypothesis! \n",
    "t_stat, pvalue = ttest_ind(df_Shannon_1_Asso_NoZero['Field Shannon'], df_Shannon_1_Asso_NoZero['Raster Shannon June'])\n",
    "print(t_stat)\n",
    "print(pvalue)\n",
    "if pvalue < 0.05:\n",
    "    print(\"We reject NULL HYPOTHESIS! Therefore we can conclude that there is a definite relationship between Field Shannon Index and Raster Shannon Index!\")\n",
    "else: \n",
    "    print(\"We fail to reject NULL HYPOTHESIS!\")\n",
    "# Pearson Coefficient\n",
    "pear = stats.pearsonr(df_Shannon_1_Asso_NoZero['Field Shannon'], df_Shannon_1_Asso_NoZero['Raster Shannon June'])\n",
    "print(\"The Pearson correlation coefficient is equal to \" + str(pear.statistic)  + str(pear.statistic) + \"; the p value is \" + str(pear.pvalue))\n",
    "if pear.pvalue <= 0.05:\n",
    "    print(\"Perfect! The Pearson correlation coefficient is considered statistically significant!\")\n",
    "else:\n",
    "    print(\"Indecisive! The Pearson correlation coefficient is not considered statistically significant!\")"
   ]
  },
  {
   "cell_type": "code",
   "execution_count": 29,
   "metadata": {},
   "outputs": [
    {
     "data": {
      "text/plain": [
       "-3.18355207277708"
      ]
     },
     "execution_count": 29,
     "metadata": {},
     "output_type": "execute_result"
    }
   ],
   "source": [
    "r2_score(df_Shannon_1['Field Shannon'], df_Shannon_1['Raster Shannon June'])"
   ]
  },
  {
   "cell_type": "code",
   "execution_count": 30,
   "metadata": {},
   "outputs": [
    {
     "data": {
      "text/plain": [
       "0.9308179587625623"
      ]
     },
     "execution_count": 30,
     "metadata": {},
     "output_type": "execute_result"
    }
   ],
   "source": [
    "mae(df_Shannon_1['Field Shannon'], df_Shannon_1['Raster Shannon June'])"
   ]
  },
  {
   "cell_type": "code",
   "execution_count": 31,
   "metadata": {},
   "outputs": [
    {
     "data": {
      "image/png": "[encoded data removed]",
      "text/plain": [
       "<Figure size 1000x1000 with 1 Axes>"
      ]
     },
     "metadata": {},
     "output_type": "display_data"
    }
   ],
   "source": [
    "fig, ax1 = plt.subplots(figsize = (10,10))\n",
    "sns.scatterplot(x = 'Field Shannon',y = 'Raster Shannon Sep', data = df_Shannon_1_Asso, hue = 'Association', \n",
    "                palette=['Black','Grey','Pink','Red','Purple','Green','Blue','Yellow','Orange','Maroon','Aqua'],\n",
    "                s=100, ax = ax1)\n",
    "sns.move_legend(ax1,'upper left',bbox_to_anchor= (1,1))\n",
    "ax1.grid()\n",
    "plt.title('Shannon: X: Field Value | Y: Raster September Value')\n",
    "plt.show()"
   ]
  },
  {
   "cell_type": "code",
   "execution_count": 32,
   "metadata": {},
   "outputs": [
    {
     "name": "stdout",
     "output_type": "stream",
     "text": [
      "-4.02315285819743\n",
      "0.0001067699103524286\n",
      "We reject NULL HYPOTHESIS! Therefore we can conclude that there is a definite relationship between Field Shannon Index and Raster Shannon Index!\n",
      "The Pearson correlation coefficient is equal to 0.106463789370911120.10646378937091112; the p value is 0.439153248073854\n",
      "Indecisive! The Pearson correlation coefficient is not considered statistically significant!\n"
     ]
    }
   ],
   "source": [
    "# Null hypothesis! \n",
    "t_stat, pvalue = ttest_ind(df_Shannon_1_Asso_NoZero['Field Shannon'], df_Shannon_1_Asso_NoZero['Raster Shannon Sep'])\n",
    "print(t_stat)\n",
    "print(pvalue)\n",
    "if pvalue < 0.05:\n",
    "    print(\"We reject NULL HYPOTHESIS! Therefore we can conclude that there is a definite relationship between Field Shannon Index and Raster Shannon Index!\")\n",
    "else: \n",
    "    print(\"We fail to reject NULL HYPOTHESIS!\")\n",
    "# Pearson Coefficient\n",
    "pear = stats.pearsonr(df_Shannon_1_Asso_NoZero['Field Shannon'], df_Shannon_1_Asso_NoZero['Raster Shannon Sep'])\n",
    "print(\"The Pearson correlation coefficient is equal to \" + str(pear.statistic)  + str(pear.statistic) + \"; the p value is \" + str(pear.pvalue))\n",
    "if pear.pvalue <= 0.05:\n",
    "    print(\"Perfect! The Pearson correlation coefficient is considered statistically significant!\")\n",
    "else:\n",
    "    print(\"Indecisive! The Pearson correlation coefficient is not considered statistically significant!\")"
   ]
  },
  {
   "cell_type": "code",
   "execution_count": 33,
   "metadata": {},
   "outputs": [
    {
     "data": {
      "text/plain": [
       "-1.1062090153189916"
      ]
     },
     "execution_count": 33,
     "metadata": {},
     "output_type": "execute_result"
    }
   ],
   "source": [
    "r2_score(df_Shannon_1['Field Shannon'], df_Shannon_1['Raster Shannon Sep'])"
   ]
  },
  {
   "cell_type": "code",
   "execution_count": 34,
   "metadata": {},
   "outputs": [
    {
     "data": {
      "text/plain": [
       "0.6026524584152985"
      ]
     },
     "execution_count": 34,
     "metadata": {},
     "output_type": "execute_result"
    }
   ],
   "source": [
    "mae(df_Shannon_1['Field Shannon'], df_Shannon_1['Raster Shannon Sep'])"
   ]
  },
  {
   "cell_type": "code",
   "execution_count": null,
   "metadata": {},
   "outputs": [],
   "source": []
  }
 ],
 "metadata": {
  "kernelspec": {
   "display_name": "Ticino",
   "language": "python",
   "name": "python3"
  },
  "language_info": {
   "codemirror_mode": {
    "name": "ipython",
    "version": 3
   },
   "file_extension": ".py",
   "mimetype": "text/x-python",
   "name": "python",
   "nbconvert_exporter": "python",
   "pygments_lexer": "ipython3",
   "version": "3.10.12"
  }
 },
 "nbformat": 4,
 "nbformat_minor": 2
}
