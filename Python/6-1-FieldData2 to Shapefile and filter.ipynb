{
 "cells": [
  {
   "cell_type": "markdown",
   "metadata": {},
   "source": [
    "# This notebook is dedicated to convert the field data from another group into shapefiles. Besides, there is also a step to filter out the plots outside our RoI. \n",
    "For the field data 2, since there are several plots outside our RoI, we need to filter our them first, hence the conversion to .csv step being doable after this step"
   ]
  },
  {
   "cell_type": "code",
   "execution_count": 1,
   "metadata": {},
   "outputs": [],
   "source": [
    "import pandas as pd\n",
    "import geopandas as gpd"
   ]
  },
  {
   "cell_type": "code",
   "execution_count": 2,
   "metadata": {},
   "outputs": [],
   "source": [
    "# Set some directories. Here we use absolute directories. \n",
    "cwd = 'c:\\\\Users\\\\m1865\\\\Desktop\\\\Ticino'\n",
    "cwd_Field = cwd + '\\\\FieldData'\n",
    "cwd_Field_Data2 = cwd_Field + '\\\\Field Dataset 2'\n",
    "cwd_Field_Data2_CSV = cwd_Field_Data2 + \"\\\\CSV\"\n",
    "cwd_Field_Data2_Shapefiles = cwd_Field_Data2 + \"\\\\Shapefiles\""
   ]
  },
  {
   "cell_type": "markdown",
   "metadata": {},
   "source": [
    "### Refine a bit the Excel file of the geographical coordinates of all the field plots and save it as .csv file"
   ]
  },
  {
   "cell_type": "code",
   "execution_count": 3,
   "metadata": {},
   "outputs": [
    {
     "data": {
      "text/html": [
       "<div>\n",
       "<style scoped>\n",
       "    .dataframe tbody tr th:only-of-type {\n",
       "        vertical-align: middle;\n",
       "    }\n",
       "\n",
       "    .dataframe tbody tr th {\n",
       "        vertical-align: top;\n",
       "    }\n",
       "\n",
       "    .dataframe thead th {\n",
       "        text-align: right;\n",
       "    }\n",
       "</style>\n",
       "<table border=\"1\" class=\"dataframe\">\n",
       "  <thead>\n",
       "    <tr style=\"text-align: right;\">\n",
       "      <th></th>\n",
       "      <th>n° plot</th>\n",
       "      <th>Y</th>\n",
       "      <th>X</th>\n",
       "    </tr>\n",
       "  </thead>\n",
       "  <tbody>\n",
       "    <tr>\n",
       "      <th>0</th>\n",
       "      <td>1</td>\n",
       "      <td>45.712265</td>\n",
       "      <td>8.757804</td>\n",
       "    </tr>\n",
       "    <tr>\n",
       "      <th>1</th>\n",
       "      <td>2</td>\n",
       "      <td>45.702801</td>\n",
       "      <td>8.750167</td>\n",
       "    </tr>\n",
       "    <tr>\n",
       "      <th>2</th>\n",
       "      <td>3</td>\n",
       "      <td>45.639628</td>\n",
       "      <td>8.666780</td>\n",
       "    </tr>\n",
       "    <tr>\n",
       "      <th>3</th>\n",
       "      <td>4</td>\n",
       "      <td>45.630213</td>\n",
       "      <td>8.667770</td>\n",
       "    </tr>\n",
       "    <tr>\n",
       "      <th>4</th>\n",
       "      <td>5</td>\n",
       "      <td>45.552661</td>\n",
       "      <td>8.703548</td>\n",
       "    </tr>\n",
       "  </tbody>\n",
       "</table>\n",
       "</div>"
      ],
      "text/plain": [
       "   n° plot          Y         X\n",
       "0        1  45.712265  8.757804\n",
       "1        2  45.702801  8.750167\n",
       "2        3  45.639628  8.666780\n",
       "3        4  45.630213  8.667770\n",
       "4        5  45.552661  8.703548"
      ]
     },
     "execution_count": 3,
     "metadata": {},
     "output_type": "execute_result"
    }
   ],
   "source": [
    "# Read the Excel file which contains all the geographical coordinates of the field plots! \n",
    "df_Field_Coord = pd.read_excel(cwd_Field_Data2 + \"\\\\Dati coordinate plot forestali Parco Ticino.xlsx\")\n",
    "df_Field_Coord.head()"
   ]
  },
  {
   "cell_type": "code",
   "execution_count": 4,
   "metadata": {},
   "outputs": [],
   "source": [
    "# Refine a bit this dataframe and then save it as .csv file.\n",
    "df_Field_Coord.columns = ['Plot','Lat','Long']\n",
    "df_Field_Coord.to_csv(cwd_Field_Data2_CSV + '\\\\FieldData2 All LatLong.csv', index = False)"
   ]
  },
  {
   "cell_type": "markdown",
   "metadata": {},
   "source": [
    "### Create a geodataframe and save it as shapefile"
   ]
  },
  {
   "cell_type": "code",
   "execution_count": 5,
   "metadata": {},
   "outputs": [
    {
     "data": {
      "text/html": [
       "<div>\n",
       "<style scoped>\n",
       "    .dataframe tbody tr th:only-of-type {\n",
       "        vertical-align: middle;\n",
       "    }\n",
       "\n",
       "    .dataframe tbody tr th {\n",
       "        vertical-align: top;\n",
       "    }\n",
       "\n",
       "    .dataframe thead th {\n",
       "        text-align: right;\n",
       "    }\n",
       "</style>\n",
       "<table border=\"1\" class=\"dataframe\">\n",
       "  <thead>\n",
       "    <tr style=\"text-align: right;\">\n",
       "      <th></th>\n",
       "      <th>Plot</th>\n",
       "      <th>Lat</th>\n",
       "      <th>Long</th>\n",
       "      <th>geometry</th>\n",
       "    </tr>\n",
       "  </thead>\n",
       "  <tbody>\n",
       "    <tr>\n",
       "      <th>0</th>\n",
       "      <td>1</td>\n",
       "      <td>45.712265</td>\n",
       "      <td>8.757804</td>\n",
       "      <td>POINT (8.75780 45.71227)</td>\n",
       "    </tr>\n",
       "    <tr>\n",
       "      <th>1</th>\n",
       "      <td>2</td>\n",
       "      <td>45.702801</td>\n",
       "      <td>8.750167</td>\n",
       "      <td>POINT (8.75017 45.70280)</td>\n",
       "    </tr>\n",
       "    <tr>\n",
       "      <th>2</th>\n",
       "      <td>3</td>\n",
       "      <td>45.639628</td>\n",
       "      <td>8.666780</td>\n",
       "      <td>POINT (8.66678 45.63963)</td>\n",
       "    </tr>\n",
       "    <tr>\n",
       "      <th>3</th>\n",
       "      <td>4</td>\n",
       "      <td>45.630213</td>\n",
       "      <td>8.667770</td>\n",
       "      <td>POINT (8.66777 45.63021)</td>\n",
       "    </tr>\n",
       "    <tr>\n",
       "      <th>4</th>\n",
       "      <td>5</td>\n",
       "      <td>45.552661</td>\n",
       "      <td>8.703548</td>\n",
       "      <td>POINT (8.70355 45.55266)</td>\n",
       "    </tr>\n",
       "  </tbody>\n",
       "</table>\n",
       "</div>"
      ],
      "text/plain": [
       "   Plot        Lat      Long                  geometry\n",
       "0     1  45.712265  8.757804  POINT (8.75780 45.71227)\n",
       "1     2  45.702801  8.750167  POINT (8.75017 45.70280)\n",
       "2     3  45.639628  8.666780  POINT (8.66678 45.63963)\n",
       "3     4  45.630213  8.667770  POINT (8.66777 45.63021)\n",
       "4     5  45.552661  8.703548  POINT (8.70355 45.55266)"
      ]
     },
     "execution_count": 5,
     "metadata": {},
     "output_type": "execute_result"
    }
   ],
   "source": [
    "df_Field = pd.read_csv(cwd_Field_Data2_CSV + \"\\\\FieldData2 All LatLong.csv\")\n",
    "# Immediately create our shapefile from this excel sheet\n",
    "gdf_Field_All_4326 = gpd.GeoDataFrame(\n",
    "    df_Field,\n",
    "    geometry = gpd.points_from_xy(df_Field['Long'],df_Field['Lat']),\n",
    "    crs = 'EPSG:4326'\n",
    ")\n",
    "gdf_Field_All_4326.head()"
   ]
  },
  {
   "cell_type": "code",
   "execution_count": 6,
   "metadata": {},
   "outputs": [],
   "source": [
    "gdf_Field_All_4326.to_file(cwd_Field_Data2_Shapefiles + \"\\\\FieldData2 All LatLong.shp\")"
   ]
  },
  {
   "cell_type": "markdown",
   "metadata": {},
   "source": [
    "### Also create a shapefile of UTM crs (32632). "
   ]
  },
  {
   "cell_type": "code",
   "execution_count": 7,
   "metadata": {},
   "outputs": [
    {
     "data": {
      "text/html": [
       "<div>\n",
       "<style scoped>\n",
       "    .dataframe tbody tr th:only-of-type {\n",
       "        vertical-align: middle;\n",
       "    }\n",
       "\n",
       "    .dataframe tbody tr th {\n",
       "        vertical-align: top;\n",
       "    }\n",
       "\n",
       "    .dataframe thead th {\n",
       "        text-align: right;\n",
       "    }\n",
       "</style>\n",
       "<table border=\"1\" class=\"dataframe\">\n",
       "  <thead>\n",
       "    <tr style=\"text-align: right;\">\n",
       "      <th></th>\n",
       "      <th>Plot</th>\n",
       "      <th>UTM_X</th>\n",
       "      <th>UTM_Y</th>\n",
       "      <th>geometry</th>\n",
       "    </tr>\n",
       "  </thead>\n",
       "  <tbody>\n",
       "    <tr>\n",
       "      <th>0</th>\n",
       "      <td>1</td>\n",
       "      <td>481149.209730</td>\n",
       "      <td>5.062108e+06</td>\n",
       "      <td>POINT (481149.210 5062107.523)</td>\n",
       "    </tr>\n",
       "    <tr>\n",
       "      <th>1</th>\n",
       "      <td>2</td>\n",
       "      <td>480551.550682</td>\n",
       "      <td>5.061058e+06</td>\n",
       "      <td>POINT (480551.551 5061057.811)</td>\n",
       "    </tr>\n",
       "    <tr>\n",
       "      <th>2</th>\n",
       "      <td>3</td>\n",
       "      <td>474030.983978</td>\n",
       "      <td>5.054063e+06</td>\n",
       "      <td>POINT (474030.984 5054062.994)</td>\n",
       "    </tr>\n",
       "    <tr>\n",
       "      <th>3</th>\n",
       "      <td>4</td>\n",
       "      <td>474103.856308</td>\n",
       "      <td>5.053017e+06</td>\n",
       "      <td>POINT (474103.856 5053016.615)</td>\n",
       "    </tr>\n",
       "    <tr>\n",
       "      <th>4</th>\n",
       "      <td>5</td>\n",
       "      <td>476860.755856</td>\n",
       "      <td>5.044390e+06</td>\n",
       "      <td>POINT (476860.756 5044389.695)</td>\n",
       "    </tr>\n",
       "  </tbody>\n",
       "</table>\n",
       "</div>"
      ],
      "text/plain": [
       "   Plot          UTM_X         UTM_Y                        geometry\n",
       "0     1  481149.209730  5.062108e+06  POINT (481149.210 5062107.523)\n",
       "1     2  480551.550682  5.061058e+06  POINT (480551.551 5061057.811)\n",
       "2     3  474030.983978  5.054063e+06  POINT (474030.984 5054062.994)\n",
       "3     4  474103.856308  5.053017e+06  POINT (474103.856 5053016.615)\n",
       "4     5  476860.755856  5.044390e+06  POINT (476860.756 5044389.695)"
      ]
     },
     "execution_count": 7,
     "metadata": {},
     "output_type": "execute_result"
    }
   ],
   "source": [
    "gdf_Field_All_32632 = gdf_Field_All_4326[['Plot','geometry']].to_crs(32632)\n",
    "gdf_Field_All_32632['UTM_X'] = gdf_Field_All_32632.geometry.x\n",
    "gdf_Field_All_32632['UTM_Y'] = gdf_Field_All_32632.geometry.y\n",
    "gdf_Field_All_32632 = gdf_Field_All_32632[['Plot','UTM_X','UTM_Y','geometry']]\n",
    "gdf_Field_All_32632.head()"
   ]
  },
  {
   "cell_type": "code",
   "execution_count": 8,
   "metadata": {},
   "outputs": [],
   "source": [
    "gdf_Field_All_32632.to_file(cwd_Field_Data2_Shapefiles + \"\\\\FieldData2 All UTM.shp\")"
   ]
  },
  {
   "cell_type": "markdown",
   "metadata": {},
   "source": [
    "### Meanwhile, also save this geodataframe of UTM crs as .csv file"
   ]
  },
  {
   "cell_type": "code",
   "execution_count": 9,
   "metadata": {},
   "outputs": [],
   "source": [
    "df_Field_UTM = gdf_Field_All_32632[['Plot','UTM_X','UTM_Y']]\n",
    "df_Field_UTM.to_csv(cwd_Field_Data2_CSV + '\\\\FieldData2 All UTM.csv', index = False)"
   ]
  },
  {
   "cell_type": "markdown",
   "metadata": {},
   "source": [
    "### Now we need to filter out the plots outside our RoI. "
   ]
  },
  {
   "cell_type": "code",
   "execution_count": 10,
   "metadata": {},
   "outputs": [],
   "source": [
    "# Load our region of interest shapefile! \n",
    "gdf_RoI = gpd.read_file(cwd_Field + \"\\\\ShapefileCorretti\\\\confini_foreste_corretti.shp\")"
   ]
  },
  {
   "cell_type": "code",
   "execution_count": 11,
   "metadata": {},
   "outputs": [
    {
     "data": {
      "text/plain": [
       "array([ 1,  2,  3,  4,  5,  6,  7,  8,  9, 10, 11, 12, 13, 14, 15, 16, 21,\n",
       "       22, 23, 24, 25, 27, 28, 29, 30, 32, 33, 34, 35, 37, 38, 39, 40],\n",
       "      dtype=int64)"
      ]
     },
     "execution_count": 11,
     "metadata": {},
     "output_type": "execute_result"
    }
   ],
   "source": [
    "# Check which field plots (points) are within our RoI! And save their plot numbers into an array\n",
    "gdf_InnerJoin = gdf_RoI.sjoin(gdf_Field_All_32632, how=\"inner\").sort_values('Plot')\n",
    "arr_ValidPlots = pd.unique(gdf_InnerJoin['Plot'])\n",
    "arr_ValidPlots"
   ]
  },
  {
   "cell_type": "code",
   "execution_count": 12,
   "metadata": {},
   "outputs": [
    {
     "data": {
      "text/html": [
       "<div>\n",
       "<style scoped>\n",
       "    .dataframe tbody tr th:only-of-type {\n",
       "        vertical-align: middle;\n",
       "    }\n",
       "\n",
       "    .dataframe tbody tr th {\n",
       "        vertical-align: top;\n",
       "    }\n",
       "\n",
       "    .dataframe thead th {\n",
       "        text-align: right;\n",
       "    }\n",
       "</style>\n",
       "<table border=\"1\" class=\"dataframe\">\n",
       "  <thead>\n",
       "    <tr style=\"text-align: right;\">\n",
       "      <th></th>\n",
       "      <th>Plot</th>\n",
       "      <th>Lat</th>\n",
       "      <th>Long</th>\n",
       "    </tr>\n",
       "  </thead>\n",
       "  <tbody>\n",
       "    <tr>\n",
       "      <th>28</th>\n",
       "      <td>35</td>\n",
       "      <td>45.743313</td>\n",
       "      <td>8.627677</td>\n",
       "    </tr>\n",
       "    <tr>\n",
       "      <th>29</th>\n",
       "      <td>37</td>\n",
       "      <td>45.665895</td>\n",
       "      <td>8.682949</td>\n",
       "    </tr>\n",
       "    <tr>\n",
       "      <th>30</th>\n",
       "      <td>38</td>\n",
       "      <td>45.686724</td>\n",
       "      <td>8.756250</td>\n",
       "    </tr>\n",
       "    <tr>\n",
       "      <th>31</th>\n",
       "      <td>39</td>\n",
       "      <td>45.733749</td>\n",
       "      <td>8.696724</td>\n",
       "    </tr>\n",
       "    <tr>\n",
       "      <th>32</th>\n",
       "      <td>40</td>\n",
       "      <td>45.662013</td>\n",
       "      <td>8.737580</td>\n",
       "    </tr>\n",
       "  </tbody>\n",
       "</table>\n",
       "</div>"
      ],
      "text/plain": [
       "    Plot        Lat      Long\n",
       "28    35  45.743313  8.627677\n",
       "29    37  45.665895  8.682949\n",
       "30    38  45.686724  8.756250\n",
       "31    39  45.733749  8.696724\n",
       "32    40  45.662013  8.737580"
      ]
     },
     "execution_count": 12,
     "metadata": {},
     "output_type": "execute_result"
    }
   ],
   "source": [
    "# Only keep the valid plots and recreate another new dataframe which only contains the field plots inside our RoI! \n",
    "df_Field_Valid = df_Field_Coord.copy()\n",
    "mask_valid = df_Field_Valid['Plot'].isin(arr_ValidPlots)\n",
    "df_Field_Valid = df_Field_Valid[mask_valid]\n",
    "df_Field_Valid = df_Field_Valid.reset_index(drop = True)\n",
    "df_Field_Valid.tail()"
   ]
  },
  {
   "cell_type": "markdown",
   "metadata": {},
   "source": [
    "### Now save this dataframe as .csv file"
   ]
  },
  {
   "cell_type": "code",
   "execution_count": 13,
   "metadata": {},
   "outputs": [],
   "source": [
    "df_Field_Valid_4326 = df_Field_Valid.copy()\n",
    "df_Field_Valid_4326.to_csv(cwd_Field_Data2_CSV + \"\\\\FieldData2 Valid LatLong.csv\", index = False)"
   ]
  },
  {
   "cell_type": "markdown",
   "metadata": {},
   "source": [
    "### Then, recreate a geodataframe from this filtered dataframe and save it as shapefile. "
   ]
  },
  {
   "cell_type": "code",
   "execution_count": 14,
   "metadata": {},
   "outputs": [
    {
     "data": {
      "text/html": [
       "<div>\n",
       "<style scoped>\n",
       "    .dataframe tbody tr th:only-of-type {\n",
       "        vertical-align: middle;\n",
       "    }\n",
       "\n",
       "    .dataframe tbody tr th {\n",
       "        vertical-align: top;\n",
       "    }\n",
       "\n",
       "    .dataframe thead th {\n",
       "        text-align: right;\n",
       "    }\n",
       "</style>\n",
       "<table border=\"1\" class=\"dataframe\">\n",
       "  <thead>\n",
       "    <tr style=\"text-align: right;\">\n",
       "      <th></th>\n",
       "      <th>Plot</th>\n",
       "      <th>Lat</th>\n",
       "      <th>Long</th>\n",
       "      <th>geometry</th>\n",
       "    </tr>\n",
       "  </thead>\n",
       "  <tbody>\n",
       "    <tr>\n",
       "      <th>28</th>\n",
       "      <td>35</td>\n",
       "      <td>45.743313</td>\n",
       "      <td>8.627677</td>\n",
       "      <td>POINT (8.62768 45.74331)</td>\n",
       "    </tr>\n",
       "    <tr>\n",
       "      <th>29</th>\n",
       "      <td>37</td>\n",
       "      <td>45.665895</td>\n",
       "      <td>8.682949</td>\n",
       "      <td>POINT (8.68295 45.66590)</td>\n",
       "    </tr>\n",
       "    <tr>\n",
       "      <th>30</th>\n",
       "      <td>38</td>\n",
       "      <td>45.686724</td>\n",
       "      <td>8.756250</td>\n",
       "      <td>POINT (8.75625 45.68672)</td>\n",
       "    </tr>\n",
       "    <tr>\n",
       "      <th>31</th>\n",
       "      <td>39</td>\n",
       "      <td>45.733749</td>\n",
       "      <td>8.696724</td>\n",
       "      <td>POINT (8.69672 45.73375)</td>\n",
       "    </tr>\n",
       "    <tr>\n",
       "      <th>32</th>\n",
       "      <td>40</td>\n",
       "      <td>45.662013</td>\n",
       "      <td>8.737580</td>\n",
       "      <td>POINT (8.73758 45.66201)</td>\n",
       "    </tr>\n",
       "  </tbody>\n",
       "</table>\n",
       "</div>"
      ],
      "text/plain": [
       "    Plot        Lat      Long                  geometry\n",
       "28    35  45.743313  8.627677  POINT (8.62768 45.74331)\n",
       "29    37  45.665895  8.682949  POINT (8.68295 45.66590)\n",
       "30    38  45.686724  8.756250  POINT (8.75625 45.68672)\n",
       "31    39  45.733749  8.696724  POINT (8.69672 45.73375)\n",
       "32    40  45.662013  8.737580  POINT (8.73758 45.66201)"
      ]
     },
     "execution_count": 14,
     "metadata": {},
     "output_type": "execute_result"
    }
   ],
   "source": [
    "gdf_Field_Valid_4326 = gpd.GeoDataFrame(\n",
    "    df_Field_Valid_4326,\n",
    "    geometry = gpd.points_from_xy(df_Field_Valid_4326['Long'],df_Field_Valid_4326['Lat']),\n",
    "    crs = 'EPSG:4326'\n",
    ")\n",
    "gdf_Field_Valid_4326.tail()"
   ]
  },
  {
   "cell_type": "code",
   "execution_count": 15,
   "metadata": {},
   "outputs": [],
   "source": [
    "gdf_Field_Valid_4326.to_file(cwd_Field_Data2_Shapefiles + \"\\\\FieldData2 Valid LatLong.shp\")"
   ]
  },
  {
   "cell_type": "markdown",
   "metadata": {},
   "source": [
    "### And again, convert the crs to UTM and save it as shapefile as well as the csv file. "
   ]
  },
  {
   "cell_type": "code",
   "execution_count": 16,
   "metadata": {},
   "outputs": [
    {
     "data": {
      "text/html": [
       "<div>\n",
       "<style scoped>\n",
       "    .dataframe tbody tr th:only-of-type {\n",
       "        vertical-align: middle;\n",
       "    }\n",
       "\n",
       "    .dataframe tbody tr th {\n",
       "        vertical-align: top;\n",
       "    }\n",
       "\n",
       "    .dataframe thead th {\n",
       "        text-align: right;\n",
       "    }\n",
       "</style>\n",
       "<table border=\"1\" class=\"dataframe\">\n",
       "  <thead>\n",
       "    <tr style=\"text-align: right;\">\n",
       "      <th></th>\n",
       "      <th>Plot</th>\n",
       "      <th>UTM_X</th>\n",
       "      <th>UTM_Y</th>\n",
       "      <th>geometry</th>\n",
       "    </tr>\n",
       "  </thead>\n",
       "  <tbody>\n",
       "    <tr>\n",
       "      <th>28</th>\n",
       "      <td>35</td>\n",
       "      <td>471037.151278</td>\n",
       "      <td>5.065596e+06</td>\n",
       "      <td>POINT (471037.151 5065595.838)</td>\n",
       "    </tr>\n",
       "    <tr>\n",
       "      <th>29</th>\n",
       "      <td>37</td>\n",
       "      <td>475302.661270</td>\n",
       "      <td>5.056976e+06</td>\n",
       "      <td>POINT (475302.661 5056976.158)</td>\n",
       "    </tr>\n",
       "    <tr>\n",
       "      <th>30</th>\n",
       "      <td>38</td>\n",
       "      <td>481019.609917</td>\n",
       "      <td>5.059270e+06</td>\n",
       "      <td>POINT (481019.610 5059270.183)</td>\n",
       "    </tr>\n",
       "    <tr>\n",
       "      <th>31</th>\n",
       "      <td>39</td>\n",
       "      <td>476404.258874</td>\n",
       "      <td>5.064511e+06</td>\n",
       "      <td>POINT (476404.259 5064510.592)</td>\n",
       "    </tr>\n",
       "    <tr>\n",
       "      <th>32</th>\n",
       "      <td>40</td>\n",
       "      <td>479556.832180</td>\n",
       "      <td>5.056529e+06</td>\n",
       "      <td>POINT (479556.832 5056529.385)</td>\n",
       "    </tr>\n",
       "  </tbody>\n",
       "</table>\n",
       "</div>"
      ],
      "text/plain": [
       "    Plot          UTM_X         UTM_Y                        geometry\n",
       "28    35  471037.151278  5.065596e+06  POINT (471037.151 5065595.838)\n",
       "29    37  475302.661270  5.056976e+06  POINT (475302.661 5056976.158)\n",
       "30    38  481019.609917  5.059270e+06  POINT (481019.610 5059270.183)\n",
       "31    39  476404.258874  5.064511e+06  POINT (476404.259 5064510.592)\n",
       "32    40  479556.832180  5.056529e+06  POINT (479556.832 5056529.385)"
      ]
     },
     "execution_count": 16,
     "metadata": {},
     "output_type": "execute_result"
    }
   ],
   "source": [
    "gdf_Field_Valid_32632 = gdf_Field_Valid_4326[['Plot','geometry']].copy().to_crs(32632)\n",
    "gdf_Field_Valid_32632['UTM_X'] = gdf_Field_Valid_32632.geometry.x\n",
    "gdf_Field_Valid_32632['UTM_Y'] = gdf_Field_Valid_32632.geometry.y\n",
    "gdf_Field_Valid_32632 = gdf_Field_Valid_32632[['Plot','UTM_X','UTM_Y','geometry']]\n",
    "gdf_Field_Valid_32632.tail()"
   ]
  },
  {
   "cell_type": "code",
   "execution_count": 17,
   "metadata": {},
   "outputs": [],
   "source": [
    "gdf_Field_Valid_32632.to_file(cwd_Field_Data2_Shapefiles + \"\\\\FieldData2 Valid UTM.shp\")"
   ]
  },
  {
   "cell_type": "code",
   "execution_count": 18,
   "metadata": {},
   "outputs": [],
   "source": [
    "df_Field_Valid_32632 = gdf_Field_Valid_32632[['Plot','UTM_X','UTM_Y']]\n",
    "df_Field_Valid_32632.to_csv(cwd_Field_Data2_CSV + \"\\\\FieldData2 Valid UTM.csv\", index = False)"
   ]
  }
 ],
 "metadata": {
  "kernelspec": {
   "display_name": "Ticino",
   "language": "python",
   "name": "python3"
  },
  "language_info": {
   "codemirror_mode": {
    "name": "ipython",
    "version": 3
   },
   "file_extension": ".py",
   "mimetype": "text/x-python",
   "name": "python",
   "nbconvert_exporter": "python",
   "pygments_lexer": "ipython3",
   "version": "3.10.12"
  }
 },
 "nbformat": 4,
 "nbformat_minor": 2
}
