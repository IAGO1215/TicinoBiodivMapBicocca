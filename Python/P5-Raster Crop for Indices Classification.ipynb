{
 "cells": [
  {
   "cell_type": "code",
   "execution_count": 1,
   "metadata": {},
   "outputs": [],
   "source": [
    "import os\n",
    "import matplotlib.pyplot as plt\n",
    "import numpy as np\n",
    "import geopandas as gpd\n",
    "# 16 Oct 2023: gdal must be imported first, and then rasterio can be imported\n",
    "from osgeo import gdal\n",
    "import rasterio as rio"
   ]
  },
  {
   "cell_type": "code",
   "execution_count": 2,
   "metadata": {},
   "outputs": [],
   "source": [
    "import rasterio2ENVIhdr"
   ]
  },
  {
   "cell_type": "code",
   "execution_count": 3,
   "metadata": {},
   "outputs": [],
   "source": [
    "# Set some directories. Here we use absolute directories. \n",
    "cwd = 'c:\\\\Users\\\\m1865\\\\Desktop\\\\Ticino'\n",
    "cwd_Field = cwd + '\\\\FieldData'\n",
    "cwd_PRISMA = cwd + \"\\\\PRISMA Raster Raw\\\\Merged\"\n",
    "cwd_PRISMA_Mask = cwd + \"\\\\PRISMA Raster Mask\"\n",
    "cwd_PRISMA_Indices = cwd + \"\\\\PRISMA Classification Indices\""
   ]
  },
  {
   "cell_type": "code",
   "execution_count": 4,
   "metadata": {},
   "outputs": [
    {
     "data": {
      "text/plain": [
       "['PRS_L2D_STD_20220611_20220710_NS_mosaic_crop_smooth_v2i',\n",
       " 'PRS_L2D_STD_20220906_20220911_NS_mosaic_crop_smooth_v2i']"
      ]
     },
     "execution_count": 4,
     "metadata": {},
     "output_type": "execute_result"
    }
   ],
   "source": [
    "# Get the name of all the rasters in our folder\n",
    "raster_Names = [name.split('.')[0] for name in os.listdir(cwd_PRISMA)]\n",
    "raster_Names = list(set(raster_Names))\n",
    "raster_Names"
   ]
  },
  {
   "cell_type": "code",
   "execution_count": 5,
   "metadata": {},
   "outputs": [
    {
     "data": {
      "text/plain": [
       "['c:\\\\Users\\\\m1865\\\\Desktop\\\\Ticino\\\\PRISMA Raster Raw\\\\Merged\\\\PRS_L2D_STD_20220611_20220710_NS_mosaic_crop_smooth_v2i',\n",
       " 'c:\\\\Users\\\\m1865\\\\Desktop\\\\Ticino\\\\PRISMA Raster Raw\\\\Merged\\\\PRS_L2D_STD_20220906_20220911_NS_mosaic_crop_smooth_v2i']"
      ]
     },
     "execution_count": 5,
     "metadata": {},
     "output_type": "execute_result"
    }
   ],
   "source": [
    "raster_Paths = []\n",
    "for name in raster_Names:\n",
    "    temp = cwd_PRISMA + \"\\\\\" + name\n",
    "    raster_Paths.append(temp)\n",
    "raster_Paths"
   ]
  },
  {
   "cell_type": "code",
   "execution_count": 6,
   "metadata": {},
   "outputs": [
    {
     "data": {
      "text/plain": [
       "[<open DatasetReader name='c:/Users/m1865/Desktop/Ticino/PRISMA Raster Raw/Merged/PRS_L2D_STD_20220611_20220710_NS_mosaic_crop_smooth_v2i' mode='r'>,\n",
       " <open DatasetReader name='c:/Users/m1865/Desktop/Ticino/PRISMA Raster Raw/Merged/PRS_L2D_STD_20220906_20220911_NS_mosaic_crop_smooth_v2i' mode='r'>]"
      ]
     },
     "execution_count": 6,
     "metadata": {},
     "output_type": "execute_result"
    }
   ],
   "source": [
    "raster_Raw = []\n",
    "for raster in raster_Paths:\n",
    "    temp = rio.open(raster)\n",
    "    raster_Raw.append(temp)\n",
    "raster_Raw"
   ]
  },
  {
   "cell_type": "markdown",
   "metadata": {},
   "source": [
    "## Import our extended shapefile"
   ]
  },
  {
   "cell_type": "code",
   "execution_count": 7,
   "metadata": {},
   "outputs": [],
   "source": [
    "gdf = gpd.read_file(cwd_Field + \"\\\\ShapefileCorrettiAggiunto\\\\confini_foreste_estesi.shp\")"
   ]
  },
  {
   "cell_type": "markdown",
   "metadata": {},
   "source": [
    "## Crop our raster with the shapefile! "
   ]
  },
  {
   "cell_type": "code",
   "execution_count": 8,
   "metadata": {},
   "outputs": [],
   "source": [
    "# There are some tags exclusive to ENVI header files, but \"rasterio\" fails to embed them. Thus we need to extract them and later create the correct ENVI header file by ourselves. \n",
    "# Since all the raster files have the same info regarding band names, wavelength and wavelength units, here we extract them from the first raster. \n",
    "str_ENVI_hdr_band_names = 'band names = ' + raster_Raw[0].tags(ns='ENVI')['band_names']\n",
    "str_ENVI_hdr_wavelength = 'wavelength = ' + raster_Raw[0].tags(ns='ENVI')['wavelength']\n",
    "str_ENVI_hdr_wavelength_units = 'wavelength units = ' + raster_Raw[0].tags(ns='ENVI')['wavelength_units']"
   ]
  },
  {
   "cell_type": "code",
   "execution_count": 9,
   "metadata": {},
   "outputs": [
    {
     "name": "stdout",
     "output_type": "stream",
     "text": [
      "PRS_L2D_STD_20220611_20220710_NS_mosaic_crop_smooth_v2iCropped has been saved successfully! \n",
      "PRS_L2D_STD_20220906_20220911_NS_mosaic_crop_smooth_v2iCropped has been saved successfully! \n"
     ]
    }
   ],
   "source": [
    "# Clip the rasters and save them to local storage! \n",
    "import rasterio.mask\n",
    "count = 0\n",
    "for raster in raster_Raw: \n",
    "    out_image, out_transform = rasterio.mask.mask(raster,gdf.geometry,crop=True)\n",
    "    out_meta = raster.meta\n",
    "    out_meta.update({\"driver\": 'ENVI',\n",
    "                    \"height\": out_image.shape[1],\n",
    "                    \"width\": out_image.shape[2],\n",
    "                    \"transform\": out_transform,                    \n",
    "                    })\n",
    "    with rasterio.open(cwd_PRISMA_Indices + '\\\\' + raster_Names[count] + ' Cropped', \"w\", **out_meta) as dest:\n",
    "        dest.write(out_image)\n",
    "    print(raster_Names[count] + 'Cropped has been saved successfully! ')\n",
    "    count = count + 1"
   ]
  },
  {
   "cell_type": "code",
   "execution_count": null,
   "metadata": {},
   "outputs": [],
   "source": []
  }
 ],
 "metadata": {
  "kernelspec": {
   "display_name": "Ticino",
   "language": "python",
   "name": "python3"
  },
  "language_info": {
   "codemirror_mode": {
    "name": "ipython",
    "version": 3
   },
   "file_extension": ".py",
   "mimetype": "text/x-python",
   "name": "python",
   "nbconvert_exporter": "python",
   "pygments_lexer": "ipython3",
   "version": "3.10.12"
  }
 },
 "nbformat": 4,
 "nbformat_minor": 2
}
