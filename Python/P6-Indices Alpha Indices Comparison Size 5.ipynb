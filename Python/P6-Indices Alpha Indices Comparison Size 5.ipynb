{
 "cells": [
  {
   "cell_type": "code",
   "execution_count": 84,
   "metadata": {},
   "outputs": [],
   "source": [
    "import os\n",
    "import numpy as np\n",
    "import pandas as pd\n",
    "from matplotlib import pyplot as plt\n",
    "from scipy.stats import ttest_ind\n",
    "from sklearn.metrics import r2_score\n",
    "from sklearn.metrics import mean_absolute_error as mae \n",
    "from scipy import stats\n",
    "import seaborn as sns"
   ]
  },
  {
   "cell_type": "code",
   "execution_count": 85,
   "metadata": {},
   "outputs": [],
   "source": [
    "# Set some directories. Here we use absolute directories. \n",
    "cwd = 'c:\\\\Users\\\\m1865\\\\Desktop\\\\Ticino'\n",
    "cwd_Field = cwd + '\\\\FieldData'\n",
    "cwd_Field_DataMerged = cwd_Field + '\\\\Field Dataset Merged'\n",
    "cwd_Field_DataMerged_CSV_Indices = cwd_Field_DataMerged + \"\\\\CSV Biodiversity Indices\"\n",
    "cwd_PRISMA = cwd + \"\\\\PRISMA Raster Raw\\\\Merged\"\n",
    "cwd_PRISMA_Result = cwd + \"\\\\ResultsPRISMA\"\n",
    "cwd_Field_Data1 = cwd_Field + '\\\\Field Dataset 1'\n",
    "cwd_Field_Data1_CSV = cwd_Field_Data1 + \"\\\\CSV\""
   ]
  },
  {
   "cell_type": "code",
   "execution_count": 86,
   "metadata": {},
   "outputs": [
    {
     "data": {
      "text/plain": [
       "['PRS_L2D_STD_20220611_20220710_NS_mosaic_crop_smooth_v2i_StackedIndices',\n",
       " 'PRS_L2D_STD_20220906_20220911_NS_mosaic_crop_smooth_v2i_StackedIndices',\n",
       " 'PRS_L2D_STD_20220906_20220911_NS_mosaic_crop_smooth_v2i_new_StackedIndices']"
      ]
     },
     "execution_count": 86,
     "metadata": {},
     "output_type": "execute_result"
    }
   ],
   "source": [
    "# Get the name of all the rasters in our folder\n",
    "raster_Names = []\n",
    "for item in [name.split('.')[0] for name in os.listdir(cwd_PRISMA)]:\n",
    "    item = item + \"_StackedIndices\"\n",
    "    if item not in raster_Names:\n",
    "        raster_Names.append(item)\n",
    "raster_Names"
   ]
  },
  {
   "cell_type": "code",
   "execution_count": 87,
   "metadata": {},
   "outputs": [
    {
     "data": {
      "text/html": [
       "<div>\n",
       "<style scoped>\n",
       "    .dataframe tbody tr th:only-of-type {\n",
       "        vertical-align: middle;\n",
       "    }\n",
       "\n",
       "    .dataframe tbody tr th {\n",
       "        vertical-align: top;\n",
       "    }\n",
       "\n",
       "    .dataframe thead th {\n",
       "        text-align: right;\n",
       "    }\n",
       "</style>\n",
       "<table border=\"1\" class=\"dataframe\">\n",
       "  <thead>\n",
       "    <tr style=\"text-align: right;\">\n",
       "      <th></th>\n",
       "      <th>Plot</th>\n",
       "      <th>Species_Richness</th>\n",
       "      <th>Fisher</th>\n",
       "      <th>Shannon</th>\n",
       "      <th>Simpson</th>\n",
       "      <th>FRic</th>\n",
       "      <th>FEve</th>\n",
       "      <th>FDiv</th>\n",
       "    </tr>\n",
       "  </thead>\n",
       "  <tbody>\n",
       "    <tr>\n",
       "      <th>0</th>\n",
       "      <td>FOR01</td>\n",
       "      <td>1.75</td>\n",
       "      <td>0</td>\n",
       "      <td>0.519860</td>\n",
       "      <td>0.375000</td>\n",
       "      <td>0.000000</td>\n",
       "      <td>0.000000</td>\n",
       "      <td>0.000000</td>\n",
       "    </tr>\n",
       "    <tr>\n",
       "      <th>1</th>\n",
       "      <td>FOR02</td>\n",
       "      <td>1.00</td>\n",
       "      <td>0</td>\n",
       "      <td>0.000000</td>\n",
       "      <td>0.000000</td>\n",
       "      <td>0.000000</td>\n",
       "      <td>0.000000</td>\n",
       "      <td>0.000000</td>\n",
       "    </tr>\n",
       "    <tr>\n",
       "      <th>2</th>\n",
       "      <td>FOR03</td>\n",
       "      <td>0.00</td>\n",
       "      <td>0</td>\n",
       "      <td>0.000000</td>\n",
       "      <td>1.000000</td>\n",
       "      <td>0.000000</td>\n",
       "      <td>0.000000</td>\n",
       "      <td>0.000000</td>\n",
       "    </tr>\n",
       "    <tr>\n",
       "      <th>3</th>\n",
       "      <td>FOR04</td>\n",
       "      <td>4.35</td>\n",
       "      <td>0</td>\n",
       "      <td>1.281204</td>\n",
       "      <td>0.695360</td>\n",
       "      <td>0.000011</td>\n",
       "      <td>0.705540</td>\n",
       "      <td>0.678880</td>\n",
       "    </tr>\n",
       "    <tr>\n",
       "      <th>4</th>\n",
       "      <td>FOR05</td>\n",
       "      <td>3.95</td>\n",
       "      <td>0</td>\n",
       "      <td>1.076584</td>\n",
       "      <td>0.593651</td>\n",
       "      <td>0.000012</td>\n",
       "      <td>0.760142</td>\n",
       "      <td>0.665207</td>\n",
       "    </tr>\n",
       "  </tbody>\n",
       "</table>\n",
       "</div>"
      ],
      "text/plain": [
       "    Plot  Species_Richness  Fisher   Shannon   Simpson      FRic      FEve  \\\n",
       "0  FOR01              1.75       0  0.519860  0.375000  0.000000  0.000000   \n",
       "1  FOR02              1.00       0  0.000000  0.000000  0.000000  0.000000   \n",
       "2  FOR03              0.00       0  0.000000  1.000000  0.000000  0.000000   \n",
       "3  FOR04              4.35       0  1.281204  0.695360  0.000011  0.705540   \n",
       "4  FOR05              3.95       0  1.076584  0.593651  0.000012  0.760142   \n",
       "\n",
       "       FDiv  \n",
       "0  0.000000  \n",
       "1  0.000000  \n",
       "2  0.000000  \n",
       "3  0.678880  \n",
       "4  0.665207  "
      ]
     },
     "execution_count": 87,
     "metadata": {},
     "output_type": "execute_result"
    }
   ],
   "source": [
    "df_Raster_6 = pd.read_csv(cwd_PRISMA_Result + \"\\\\\" + raster_Names[0] + \"\\\\AlphaDiversity150m.csv\", sep = '\\t')\n",
    "df_Raster_9 = pd.read_csv(cwd_PRISMA_Result + \"\\\\\" + raster_Names[2] + \"\\\\AlphaDiversity150m.csv\", sep = '\\t')\n",
    "df_Raster_6.head()"
   ]
  },
  {
   "cell_type": "code",
   "execution_count": 88,
   "metadata": {},
   "outputs": [
    {
     "data": {
      "text/html": [
       "<div>\n",
       "<style scoped>\n",
       "    .dataframe tbody tr th:only-of-type {\n",
       "        vertical-align: middle;\n",
       "    }\n",
       "\n",
       "    .dataframe tbody tr th {\n",
       "        vertical-align: top;\n",
       "    }\n",
       "\n",
       "    .dataframe thead th {\n",
       "        text-align: right;\n",
       "    }\n",
       "</style>\n",
       "<table border=\"1\" class=\"dataframe\">\n",
       "  <thead>\n",
       "    <tr style=\"text-align: right;\">\n",
       "      <th></th>\n",
       "      <th>Plot</th>\n",
       "      <th>Species_Richness June</th>\n",
       "      <th>Shannon June</th>\n",
       "      <th>Simpson June</th>\n",
       "      <th>Species_Richness Sep</th>\n",
       "      <th>Shannon Sep</th>\n",
       "      <th>Simpson Sep</th>\n",
       "    </tr>\n",
       "  </thead>\n",
       "  <tbody>\n",
       "    <tr>\n",
       "      <th>0</th>\n",
       "      <td>FOR01</td>\n",
       "      <td>1.75</td>\n",
       "      <td>0.519860</td>\n",
       "      <td>0.375000</td>\n",
       "      <td>4.85</td>\n",
       "      <td>1.190772</td>\n",
       "      <td>0.606250</td>\n",
       "    </tr>\n",
       "    <tr>\n",
       "      <th>1</th>\n",
       "      <td>FOR02</td>\n",
       "      <td>1.00</td>\n",
       "      <td>0.000000</td>\n",
       "      <td>0.000000</td>\n",
       "      <td>4.25</td>\n",
       "      <td>1.164679</td>\n",
       "      <td>0.622049</td>\n",
       "    </tr>\n",
       "    <tr>\n",
       "      <th>2</th>\n",
       "      <td>FOR03</td>\n",
       "      <td>0.00</td>\n",
       "      <td>0.000000</td>\n",
       "      <td>1.000000</td>\n",
       "      <td>3.85</td>\n",
       "      <td>1.166316</td>\n",
       "      <td>0.650926</td>\n",
       "    </tr>\n",
       "    <tr>\n",
       "      <th>3</th>\n",
       "      <td>FOR04</td>\n",
       "      <td>4.35</td>\n",
       "      <td>1.281204</td>\n",
       "      <td>0.695360</td>\n",
       "      <td>5.00</td>\n",
       "      <td>1.436405</td>\n",
       "      <td>0.739520</td>\n",
       "    </tr>\n",
       "    <tr>\n",
       "      <th>4</th>\n",
       "      <td>FOR05</td>\n",
       "      <td>3.95</td>\n",
       "      <td>1.076584</td>\n",
       "      <td>0.593651</td>\n",
       "      <td>3.30</td>\n",
       "      <td>0.753127</td>\n",
       "      <td>0.416553</td>\n",
       "    </tr>\n",
       "  </tbody>\n",
       "</table>\n",
       "</div>"
      ],
      "text/plain": [
       "    Plot  Species_Richness June  Shannon June  Simpson June  \\\n",
       "0  FOR01                   1.75      0.519860      0.375000   \n",
       "1  FOR02                   1.00      0.000000      0.000000   \n",
       "2  FOR03                   0.00      0.000000      1.000000   \n",
       "3  FOR04                   4.35      1.281204      0.695360   \n",
       "4  FOR05                   3.95      1.076584      0.593651   \n",
       "\n",
       "   Species_Richness Sep  Shannon Sep  Simpson Sep  \n",
       "0                  4.85     1.190772     0.606250  \n",
       "1                  4.25     1.164679     0.622049  \n",
       "2                  3.85     1.166316     0.650926  \n",
       "3                  5.00     1.436405     0.739520  \n",
       "4                  3.30     0.753127     0.416553  "
      ]
     },
     "execution_count": 88,
     "metadata": {},
     "output_type": "execute_result"
    }
   ],
   "source": [
    "df_Raster_Merge = pd.merge(df_Raster_6[['Plot','Species_Richness','Shannon','Simpson']],df_Raster_9[['Plot','Species_Richness','Shannon','Simpson']], on = 'Plot', suffixes= [' June', ' Sep'])\n",
    "df_Raster_Merge.head()"
   ]
  },
  {
   "cell_type": "code",
   "execution_count": 89,
   "metadata": {},
   "outputs": [
    {
     "data": {
      "text/html": [
       "<div>\n",
       "<style scoped>\n",
       "    .dataframe tbody tr th:only-of-type {\n",
       "        vertical-align: middle;\n",
       "    }\n",
       "\n",
       "    .dataframe tbody tr th {\n",
       "        vertical-align: top;\n",
       "    }\n",
       "\n",
       "    .dataframe thead th {\n",
       "        text-align: right;\n",
       "    }\n",
       "</style>\n",
       "<table border=\"1\" class=\"dataframe\">\n",
       "  <thead>\n",
       "    <tr style=\"text-align: right;\">\n",
       "      <th></th>\n",
       "      <th>Plot</th>\n",
       "      <th>Raster Species Richness June</th>\n",
       "      <th>Raster Shannon June</th>\n",
       "      <th>Raster Simpson June</th>\n",
       "      <th>Raster Species Richness Sep</th>\n",
       "      <th>Raster Shannon Sep</th>\n",
       "      <th>Raster Simpson Sep</th>\n",
       "    </tr>\n",
       "  </thead>\n",
       "  <tbody>\n",
       "    <tr>\n",
       "      <th>0</th>\n",
       "      <td>FOR01</td>\n",
       "      <td>1.75</td>\n",
       "      <td>0.519860</td>\n",
       "      <td>0.375000</td>\n",
       "      <td>4.85</td>\n",
       "      <td>1.190772</td>\n",
       "      <td>0.606250</td>\n",
       "    </tr>\n",
       "    <tr>\n",
       "      <th>1</th>\n",
       "      <td>FOR02</td>\n",
       "      <td>1.00</td>\n",
       "      <td>0.000000</td>\n",
       "      <td>0.000000</td>\n",
       "      <td>4.25</td>\n",
       "      <td>1.164679</td>\n",
       "      <td>0.622049</td>\n",
       "    </tr>\n",
       "    <tr>\n",
       "      <th>2</th>\n",
       "      <td>FOR03</td>\n",
       "      <td>0.00</td>\n",
       "      <td>0.000000</td>\n",
       "      <td>1.000000</td>\n",
       "      <td>3.85</td>\n",
       "      <td>1.166316</td>\n",
       "      <td>0.650926</td>\n",
       "    </tr>\n",
       "    <tr>\n",
       "      <th>3</th>\n",
       "      <td>FOR04</td>\n",
       "      <td>4.35</td>\n",
       "      <td>1.281204</td>\n",
       "      <td>0.695360</td>\n",
       "      <td>5.00</td>\n",
       "      <td>1.436405</td>\n",
       "      <td>0.739520</td>\n",
       "    </tr>\n",
       "    <tr>\n",
       "      <th>4</th>\n",
       "      <td>FOR05</td>\n",
       "      <td>3.95</td>\n",
       "      <td>1.076584</td>\n",
       "      <td>0.593651</td>\n",
       "      <td>3.30</td>\n",
       "      <td>0.753127</td>\n",
       "      <td>0.416553</td>\n",
       "    </tr>\n",
       "  </tbody>\n",
       "</table>\n",
       "</div>"
      ],
      "text/plain": [
       "    Plot  Raster Species Richness June  Raster Shannon June  \\\n",
       "0  FOR01                          1.75             0.519860   \n",
       "1  FOR02                          1.00             0.000000   \n",
       "2  FOR03                          0.00             0.000000   \n",
       "3  FOR04                          4.35             1.281204   \n",
       "4  FOR05                          3.95             1.076584   \n",
       "\n",
       "   Raster Simpson June  Raster Species Richness Sep  Raster Shannon Sep  \\\n",
       "0             0.375000                         4.85            1.190772   \n",
       "1             0.000000                         4.25            1.164679   \n",
       "2             1.000000                         3.85            1.166316   \n",
       "3             0.695360                         5.00            1.436405   \n",
       "4             0.593651                         3.30            0.753127   \n",
       "\n",
       "   Raster Simpson Sep  \n",
       "0            0.606250  \n",
       "1            0.622049  \n",
       "2            0.650926  \n",
       "3            0.739520  \n",
       "4            0.416553  "
      ]
     },
     "execution_count": 89,
     "metadata": {},
     "output_type": "execute_result"
    }
   ],
   "source": [
    "df_Raster_Merge.columns = ['Plot','Raster Species Richness June','Raster Shannon June','Raster Simpson June','Raster Species Richness Sep','Raster Shannon Sep','Raster Simpson Sep']\n",
    "df_Raster_Merge.head()"
   ]
  },
  {
   "cell_type": "code",
   "execution_count": 90,
   "metadata": {},
   "outputs": [
    {
     "data": {
      "text/html": [
       "<div>\n",
       "<style scoped>\n",
       "    .dataframe tbody tr th:only-of-type {\n",
       "        vertical-align: middle;\n",
       "    }\n",
       "\n",
       "    .dataframe tbody tr th {\n",
       "        vertical-align: top;\n",
       "    }\n",
       "\n",
       "    .dataframe thead th {\n",
       "        text-align: right;\n",
       "    }\n",
       "</style>\n",
       "<table border=\"1\" class=\"dataframe\">\n",
       "  <thead>\n",
       "    <tr style=\"text-align: right;\">\n",
       "      <th></th>\n",
       "      <th>Plot</th>\n",
       "      <th>Association</th>\n",
       "    </tr>\n",
       "  </thead>\n",
       "  <tbody>\n",
       "    <tr>\n",
       "      <th>0</th>\n",
       "      <td>FOR01</td>\n",
       "      <td>Oak_hornbeam_humid</td>\n",
       "    </tr>\n",
       "    <tr>\n",
       "      <th>1</th>\n",
       "      <td>FOR02</td>\n",
       "      <td>Prunus</td>\n",
       "    </tr>\n",
       "    <tr>\n",
       "      <th>2</th>\n",
       "      <td>FOR03</td>\n",
       "      <td>Prunus</td>\n",
       "    </tr>\n",
       "    <tr>\n",
       "      <th>3</th>\n",
       "      <td>FOR04</td>\n",
       "      <td>Oak_open_canopy</td>\n",
       "    </tr>\n",
       "    <tr>\n",
       "      <th>4</th>\n",
       "      <td>FOR05</td>\n",
       "      <td>Oak_open_canopy</td>\n",
       "    </tr>\n",
       "  </tbody>\n",
       "</table>\n",
       "</div>"
      ],
      "text/plain": [
       "    Plot         Association\n",
       "0  FOR01  Oak_hornbeam_humid\n",
       "1  FOR02              Prunus\n",
       "2  FOR03              Prunus\n",
       "3  FOR04     Oak_open_canopy\n",
       "4  FOR05     Oak_open_canopy"
      ]
     },
     "execution_count": 90,
     "metadata": {},
     "output_type": "execute_result"
    }
   ],
   "source": [
    "df_Association = pd.read_csv(cwd_Field_Data1_CSV + \"\\\\FieldData1 Valid Association.csv\")\n",
    "df_Association.head()"
   ]
  },
  {
   "cell_type": "code",
   "execution_count": 91,
   "metadata": {},
   "outputs": [
    {
     "data": {
      "text/html": [
       "<div>\n",
       "<style scoped>\n",
       "    .dataframe tbody tr th:only-of-type {\n",
       "        vertical-align: middle;\n",
       "    }\n",
       "\n",
       "    .dataframe tbody tr th {\n",
       "        vertical-align: top;\n",
       "    }\n",
       "\n",
       "    .dataframe thead th {\n",
       "        text-align: right;\n",
       "    }\n",
       "</style>\n",
       "<table border=\"1\" class=\"dataframe\">\n",
       "  <thead>\n",
       "    <tr style=\"text-align: right;\">\n",
       "      <th></th>\n",
       "      <th>Plot</th>\n",
       "      <th>Raster Species Richness June</th>\n",
       "      <th>Raster Shannon June</th>\n",
       "      <th>Raster Simpson June</th>\n",
       "      <th>Raster Species Richness Sep</th>\n",
       "      <th>Raster Shannon Sep</th>\n",
       "      <th>Raster Simpson Sep</th>\n",
       "      <th>Association</th>\n",
       "    </tr>\n",
       "  </thead>\n",
       "  <tbody>\n",
       "    <tr>\n",
       "      <th>58</th>\n",
       "      <td>FOR78</td>\n",
       "      <td>2.10</td>\n",
       "      <td>0.568426</td>\n",
       "      <td>0.358333</td>\n",
       "      <td>3.40</td>\n",
       "      <td>0.935210</td>\n",
       "      <td>0.54208</td>\n",
       "      <td>Prunus</td>\n",
       "    </tr>\n",
       "    <tr>\n",
       "      <th>59</th>\n",
       "      <td>FOR79</td>\n",
       "      <td>4.00</td>\n",
       "      <td>1.174565</td>\n",
       "      <td>0.645920</td>\n",
       "      <td>5.80</td>\n",
       "      <td>1.207396</td>\n",
       "      <td>0.58288</td>\n",
       "      <td>Mixed deciduous</td>\n",
       "    </tr>\n",
       "    <tr>\n",
       "      <th>60</th>\n",
       "      <td>FOR80</td>\n",
       "      <td>3.05</td>\n",
       "      <td>0.877943</td>\n",
       "      <td>0.514880</td>\n",
       "      <td>4.80</td>\n",
       "      <td>1.297885</td>\n",
       "      <td>0.68368</td>\n",
       "      <td>Mixed deciduous</td>\n",
       "    </tr>\n",
       "    <tr>\n",
       "      <th>61</th>\n",
       "      <td>FOR81</td>\n",
       "      <td>4.35</td>\n",
       "      <td>1.038922</td>\n",
       "      <td>0.547840</td>\n",
       "      <td>5.35</td>\n",
       "      <td>1.304865</td>\n",
       "      <td>0.65712</td>\n",
       "      <td>Mixed deciduous</td>\n",
       "    </tr>\n",
       "    <tr>\n",
       "      <th>62</th>\n",
       "      <td>FOR82</td>\n",
       "      <td>4.20</td>\n",
       "      <td>0.943703</td>\n",
       "      <td>0.512160</td>\n",
       "      <td>3.95</td>\n",
       "      <td>1.025488</td>\n",
       "      <td>0.57200</td>\n",
       "      <td>Mixed deciduous</td>\n",
       "    </tr>\n",
       "  </tbody>\n",
       "</table>\n",
       "</div>"
      ],
      "text/plain": [
       "     Plot  Raster Species Richness June  Raster Shannon June  \\\n",
       "58  FOR78                          2.10             0.568426   \n",
       "59  FOR79                          4.00             1.174565   \n",
       "60  FOR80                          3.05             0.877943   \n",
       "61  FOR81                          4.35             1.038922   \n",
       "62  FOR82                          4.20             0.943703   \n",
       "\n",
       "    Raster Simpson June  Raster Species Richness Sep  Raster Shannon Sep  \\\n",
       "58             0.358333                         3.40            0.935210   \n",
       "59             0.645920                         5.80            1.207396   \n",
       "60             0.514880                         4.80            1.297885   \n",
       "61             0.547840                         5.35            1.304865   \n",
       "62             0.512160                         3.95            1.025488   \n",
       "\n",
       "    Raster Simpson Sep      Association  \n",
       "58             0.54208           Prunus  \n",
       "59             0.58288  Mixed deciduous  \n",
       "60             0.68368  Mixed deciduous  \n",
       "61             0.65712  Mixed deciduous  \n",
       "62             0.57200  Mixed deciduous  "
      ]
     },
     "execution_count": 91,
     "metadata": {},
     "output_type": "execute_result"
    }
   ],
   "source": [
    "df_Raster_Merge_1 = pd.merge(df_Raster_Merge.iloc[0:63,:],df_Association,on='Plot')\n",
    "df_Raster_Merge_1.tail()"
   ]
  },
  {
   "cell_type": "markdown",
   "metadata": {},
   "source": [
    "## Species Richness"
   ]
  },
  {
   "cell_type": "code",
   "execution_count": 92,
   "metadata": {},
   "outputs": [
    {
     "data": {
      "text/html": [
       "<div>\n",
       "<style scoped>\n",
       "    .dataframe tbody tr th:only-of-type {\n",
       "        vertical-align: middle;\n",
       "    }\n",
       "\n",
       "    .dataframe tbody tr th {\n",
       "        vertical-align: top;\n",
       "    }\n",
       "\n",
       "    .dataframe thead th {\n",
       "        text-align: right;\n",
       "    }\n",
       "</style>\n",
       "<table border=\"1\" class=\"dataframe\">\n",
       "  <thead>\n",
       "    <tr style=\"text-align: right;\">\n",
       "      <th></th>\n",
       "      <th>Plot</th>\n",
       "      <th>Field Species Richness</th>\n",
       "    </tr>\n",
       "  </thead>\n",
       "  <tbody>\n",
       "    <tr>\n",
       "      <th>0</th>\n",
       "      <td>FOR01</td>\n",
       "      <td>5</td>\n",
       "    </tr>\n",
       "    <tr>\n",
       "      <th>1</th>\n",
       "      <td>FOR02</td>\n",
       "      <td>7</td>\n",
       "    </tr>\n",
       "    <tr>\n",
       "      <th>2</th>\n",
       "      <td>FOR03</td>\n",
       "      <td>4</td>\n",
       "    </tr>\n",
       "    <tr>\n",
       "      <th>3</th>\n",
       "      <td>FOR04</td>\n",
       "      <td>2</td>\n",
       "    </tr>\n",
       "    <tr>\n",
       "      <th>4</th>\n",
       "      <td>FOR05</td>\n",
       "      <td>1</td>\n",
       "    </tr>\n",
       "  </tbody>\n",
       "</table>\n",
       "</div>"
      ],
      "text/plain": [
       "    Plot  Field Species Richness\n",
       "0  FOR01                       5\n",
       "1  FOR02                       7\n",
       "2  FOR03                       4\n",
       "3  FOR04                       2\n",
       "4  FOR05                       1"
      ]
     },
     "execution_count": 92,
     "metadata": {},
     "output_type": "execute_result"
    }
   ],
   "source": [
    "df_Field_Richness = pd.read_csv(cwd_Field_DataMerged_CSV_Indices + \"\\\\FieldDataMerged Valid SpeciesRichness.csv\")\n",
    "df_Field_Richness.head()"
   ]
  },
  {
   "cell_type": "code",
   "execution_count": 93,
   "metadata": {},
   "outputs": [
    {
     "data": {
      "text/html": [
       "<div>\n",
       "<style scoped>\n",
       "    .dataframe tbody tr th:only-of-type {\n",
       "        vertical-align: middle;\n",
       "    }\n",
       "\n",
       "    .dataframe tbody tr th {\n",
       "        vertical-align: top;\n",
       "    }\n",
       "\n",
       "    .dataframe thead th {\n",
       "        text-align: right;\n",
       "    }\n",
       "</style>\n",
       "<table border=\"1\" class=\"dataframe\">\n",
       "  <thead>\n",
       "    <tr style=\"text-align: right;\">\n",
       "      <th></th>\n",
       "      <th>Plot</th>\n",
       "      <th>Field Species Richness</th>\n",
       "    </tr>\n",
       "  </thead>\n",
       "  <tbody>\n",
       "    <tr>\n",
       "      <th>58</th>\n",
       "      <td>FOR78</td>\n",
       "      <td>2</td>\n",
       "    </tr>\n",
       "    <tr>\n",
       "      <th>59</th>\n",
       "      <td>FOR79</td>\n",
       "      <td>4</td>\n",
       "    </tr>\n",
       "    <tr>\n",
       "      <th>60</th>\n",
       "      <td>FOR80</td>\n",
       "      <td>3</td>\n",
       "    </tr>\n",
       "    <tr>\n",
       "      <th>61</th>\n",
       "      <td>FOR81</td>\n",
       "      <td>4</td>\n",
       "    </tr>\n",
       "    <tr>\n",
       "      <th>62</th>\n",
       "      <td>FOR82</td>\n",
       "      <td>4</td>\n",
       "    </tr>\n",
       "  </tbody>\n",
       "</table>\n",
       "</div>"
      ],
      "text/plain": [
       "     Plot  Field Species Richness\n",
       "58  FOR78                       2\n",
       "59  FOR79                       4\n",
       "60  FOR80                       3\n",
       "61  FOR81                       4\n",
       "62  FOR82                       4"
      ]
     },
     "execution_count": 93,
     "metadata": {},
     "output_type": "execute_result"
    }
   ],
   "source": [
    "df_Field_Richness_1 = df_Field_Richness.copy().iloc[0:63,:]\n",
    "df_Field_Richness_1.tail()"
   ]
  },
  {
   "cell_type": "code",
   "execution_count": 94,
   "metadata": {},
   "outputs": [
    {
     "data": {
      "text/html": [
       "<div>\n",
       "<style scoped>\n",
       "    .dataframe tbody tr th:only-of-type {\n",
       "        vertical-align: middle;\n",
       "    }\n",
       "\n",
       "    .dataframe tbody tr th {\n",
       "        vertical-align: top;\n",
       "    }\n",
       "\n",
       "    .dataframe thead th {\n",
       "        text-align: right;\n",
       "    }\n",
       "</style>\n",
       "<table border=\"1\" class=\"dataframe\">\n",
       "  <thead>\n",
       "    <tr style=\"text-align: right;\">\n",
       "      <th></th>\n",
       "      <th>Plot</th>\n",
       "      <th>Field Species Richness</th>\n",
       "      <th>Association</th>\n",
       "      <th>Raster Species Richness June</th>\n",
       "      <th>Raster Species Richness Sep</th>\n",
       "    </tr>\n",
       "  </thead>\n",
       "  <tbody>\n",
       "    <tr>\n",
       "      <th>0</th>\n",
       "      <td>FOR01</td>\n",
       "      <td>5</td>\n",
       "      <td>Oak_hornbeam_humid</td>\n",
       "      <td>1.75</td>\n",
       "      <td>4.85</td>\n",
       "    </tr>\n",
       "    <tr>\n",
       "      <th>1</th>\n",
       "      <td>FOR02</td>\n",
       "      <td>7</td>\n",
       "      <td>Prunus</td>\n",
       "      <td>1.00</td>\n",
       "      <td>4.25</td>\n",
       "    </tr>\n",
       "    <tr>\n",
       "      <th>2</th>\n",
       "      <td>FOR03</td>\n",
       "      <td>4</td>\n",
       "      <td>Prunus</td>\n",
       "      <td>0.00</td>\n",
       "      <td>3.85</td>\n",
       "    </tr>\n",
       "    <tr>\n",
       "      <th>3</th>\n",
       "      <td>FOR04</td>\n",
       "      <td>2</td>\n",
       "      <td>Oak_open_canopy</td>\n",
       "      <td>4.35</td>\n",
       "      <td>5.00</td>\n",
       "    </tr>\n",
       "    <tr>\n",
       "      <th>4</th>\n",
       "      <td>FOR05</td>\n",
       "      <td>1</td>\n",
       "      <td>Oak_open_canopy</td>\n",
       "      <td>3.95</td>\n",
       "      <td>3.30</td>\n",
       "    </tr>\n",
       "  </tbody>\n",
       "</table>\n",
       "</div>"
      ],
      "text/plain": [
       "    Plot  Field Species Richness         Association  \\\n",
       "0  FOR01                       5  Oak_hornbeam_humid   \n",
       "1  FOR02                       7              Prunus   \n",
       "2  FOR03                       4              Prunus   \n",
       "3  FOR04                       2     Oak_open_canopy   \n",
       "4  FOR05                       1     Oak_open_canopy   \n",
       "\n",
       "   Raster Species Richness June  Raster Species Richness Sep  \n",
       "0                          1.75                         4.85  \n",
       "1                          1.00                         4.25  \n",
       "2                          0.00                         3.85  \n",
       "3                          4.35                         5.00  \n",
       "4                          3.95                         3.30  "
      ]
     },
     "execution_count": 94,
     "metadata": {},
     "output_type": "execute_result"
    }
   ],
   "source": [
    "df_Richness_1 = pd.merge(df_Field_Richness_1,df_Raster_Merge_1[['Plot','Association','Raster Species Richness June','Raster Species Richness Sep']],on = 'Plot')\n",
    "df_Richness_1.head()"
   ]
  },
  {
   "cell_type": "code",
   "execution_count": 95,
   "metadata": {},
   "outputs": [
    {
     "data": {
      "text/html": [
       "<div>\n",
       "<style scoped>\n",
       "    .dataframe tbody tr th:only-of-type {\n",
       "        vertical-align: middle;\n",
       "    }\n",
       "\n",
       "    .dataframe tbody tr th {\n",
       "        vertical-align: top;\n",
       "    }\n",
       "\n",
       "    .dataframe thead th {\n",
       "        text-align: right;\n",
       "    }\n",
       "</style>\n",
       "<table border=\"1\" class=\"dataframe\">\n",
       "  <thead>\n",
       "    <tr style=\"text-align: right;\">\n",
       "      <th></th>\n",
       "      <th>Field Species Richness</th>\n",
       "      <th>Raster Species Richness June</th>\n",
       "      <th>Raster Species Richness Sep</th>\n",
       "    </tr>\n",
       "  </thead>\n",
       "  <tbody>\n",
       "    <tr>\n",
       "      <th>count</th>\n",
       "      <td>63.000000</td>\n",
       "      <td>63.000000</td>\n",
       "      <td>63.000000</td>\n",
       "    </tr>\n",
       "    <tr>\n",
       "      <th>mean</th>\n",
       "      <td>3.507937</td>\n",
       "      <td>3.673810</td>\n",
       "      <td>3.966667</td>\n",
       "    </tr>\n",
       "    <tr>\n",
       "      <th>std</th>\n",
       "      <td>1.865415</td>\n",
       "      <td>1.696269</td>\n",
       "      <td>1.389012</td>\n",
       "    </tr>\n",
       "    <tr>\n",
       "      <th>min</th>\n",
       "      <td>1.000000</td>\n",
       "      <td>0.000000</td>\n",
       "      <td>0.000000</td>\n",
       "    </tr>\n",
       "    <tr>\n",
       "      <th>25%</th>\n",
       "      <td>2.000000</td>\n",
       "      <td>2.625000</td>\n",
       "      <td>3.250000</td>\n",
       "    </tr>\n",
       "    <tr>\n",
       "      <th>50%</th>\n",
       "      <td>3.000000</td>\n",
       "      <td>3.250000</td>\n",
       "      <td>3.850000</td>\n",
       "    </tr>\n",
       "    <tr>\n",
       "      <th>75%</th>\n",
       "      <td>4.000000</td>\n",
       "      <td>4.375000</td>\n",
       "      <td>4.800000</td>\n",
       "    </tr>\n",
       "    <tr>\n",
       "      <th>max</th>\n",
       "      <td>8.000000</td>\n",
       "      <td>9.300000</td>\n",
       "      <td>7.300000</td>\n",
       "    </tr>\n",
       "  </tbody>\n",
       "</table>\n",
       "</div>"
      ],
      "text/plain": [
       "       Field Species Richness  Raster Species Richness June  \\\n",
       "count               63.000000                     63.000000   \n",
       "mean                 3.507937                      3.673810   \n",
       "std                  1.865415                      1.696269   \n",
       "min                  1.000000                      0.000000   \n",
       "25%                  2.000000                      2.625000   \n",
       "50%                  3.000000                      3.250000   \n",
       "75%                  4.000000                      4.375000   \n",
       "max                  8.000000                      9.300000   \n",
       "\n",
       "       Raster Species Richness Sep  \n",
       "count                    63.000000  \n",
       "mean                      3.966667  \n",
       "std                       1.389012  \n",
       "min                       0.000000  \n",
       "25%                       3.250000  \n",
       "50%                       3.850000  \n",
       "75%                       4.800000  \n",
       "max                       7.300000  "
      ]
     },
     "execution_count": 95,
     "metadata": {},
     "output_type": "execute_result"
    }
   ],
   "source": [
    "df_Richness_1.describe()"
   ]
  },
  {
   "cell_type": "code",
   "execution_count": 96,
   "metadata": {},
   "outputs": [
    {
     "data": {
      "text/html": [
       "<div>\n",
       "<style scoped>\n",
       "    .dataframe tbody tr th:only-of-type {\n",
       "        vertical-align: middle;\n",
       "    }\n",
       "\n",
       "    .dataframe tbody tr th {\n",
       "        vertical-align: top;\n",
       "    }\n",
       "\n",
       "    .dataframe thead th {\n",
       "        text-align: right;\n",
       "    }\n",
       "</style>\n",
       "<table border=\"1\" class=\"dataframe\">\n",
       "  <thead>\n",
       "    <tr style=\"text-align: right;\">\n",
       "      <th></th>\n",
       "      <th>Plot</th>\n",
       "      <th>Field Species Richness</th>\n",
       "      <th>Association</th>\n",
       "      <th>Raster Species Richness June</th>\n",
       "      <th>Raster Species Richness Sep</th>\n",
       "    </tr>\n",
       "  </thead>\n",
       "  <tbody>\n",
       "    <tr>\n",
       "      <th>20</th>\n",
       "      <td>FOR21</td>\n",
       "      <td>4</td>\n",
       "      <td>Alder</td>\n",
       "      <td>2.00</td>\n",
       "      <td>3.10</td>\n",
       "    </tr>\n",
       "    <tr>\n",
       "      <th>19</th>\n",
       "      <td>FOR20</td>\n",
       "      <td>3</td>\n",
       "      <td>Alder</td>\n",
       "      <td>4.20</td>\n",
       "      <td>3.30</td>\n",
       "    </tr>\n",
       "    <tr>\n",
       "      <th>35</th>\n",
       "      <td>FOR55</td>\n",
       "      <td>2</td>\n",
       "      <td>Alder</td>\n",
       "      <td>2.50</td>\n",
       "      <td>2.60</td>\n",
       "    </tr>\n",
       "    <tr>\n",
       "      <th>7</th>\n",
       "      <td>FOR08</td>\n",
       "      <td>4</td>\n",
       "      <td>Alder</td>\n",
       "      <td>3.15</td>\n",
       "      <td>1.30</td>\n",
       "    </tr>\n",
       "    <tr>\n",
       "      <th>36</th>\n",
       "      <td>FOR56</td>\n",
       "      <td>2</td>\n",
       "      <td>Alder</td>\n",
       "      <td>1.70</td>\n",
       "      <td>0.00</td>\n",
       "    </tr>\n",
       "    <tr>\n",
       "      <th>...</th>\n",
       "      <td>...</td>\n",
       "      <td>...</td>\n",
       "      <td>...</td>\n",
       "      <td>...</td>\n",
       "      <td>...</td>\n",
       "    </tr>\n",
       "    <tr>\n",
       "      <th>24</th>\n",
       "      <td>FOR25</td>\n",
       "      <td>1</td>\n",
       "      <td>Pine</td>\n",
       "      <td>8.00</td>\n",
       "      <td>6.80</td>\n",
       "    </tr>\n",
       "    <tr>\n",
       "      <th>30</th>\n",
       "      <td>FOR31</td>\n",
       "      <td>2</td>\n",
       "      <td>Pine</td>\n",
       "      <td>4.05</td>\n",
       "      <td>6.25</td>\n",
       "    </tr>\n",
       "    <tr>\n",
       "      <th>58</th>\n",
       "      <td>FOR78</td>\n",
       "      <td>2</td>\n",
       "      <td>Prunus</td>\n",
       "      <td>2.10</td>\n",
       "      <td>3.40</td>\n",
       "    </tr>\n",
       "    <tr>\n",
       "      <th>2</th>\n",
       "      <td>FOR03</td>\n",
       "      <td>4</td>\n",
       "      <td>Prunus</td>\n",
       "      <td>0.00</td>\n",
       "      <td>3.85</td>\n",
       "    </tr>\n",
       "    <tr>\n",
       "      <th>1</th>\n",
       "      <td>FOR02</td>\n",
       "      <td>7</td>\n",
       "      <td>Prunus</td>\n",
       "      <td>1.00</td>\n",
       "      <td>4.25</td>\n",
       "    </tr>\n",
       "  </tbody>\n",
       "</table>\n",
       "<p>63 rows × 5 columns</p>\n",
       "</div>"
      ],
      "text/plain": [
       "     Plot  Field Species Richness Association  Raster Species Richness June  \\\n",
       "20  FOR21                       4       Alder                          2.00   \n",
       "19  FOR20                       3       Alder                          4.20   \n",
       "35  FOR55                       2       Alder                          2.50   \n",
       "7   FOR08                       4       Alder                          3.15   \n",
       "36  FOR56                       2       Alder                          1.70   \n",
       "..    ...                     ...         ...                           ...   \n",
       "24  FOR25                       1        Pine                          8.00   \n",
       "30  FOR31                       2        Pine                          4.05   \n",
       "58  FOR78                       2      Prunus                          2.10   \n",
       "2   FOR03                       4      Prunus                          0.00   \n",
       "1   FOR02                       7      Prunus                          1.00   \n",
       "\n",
       "    Raster Species Richness Sep  \n",
       "20                         3.10  \n",
       "19                         3.30  \n",
       "35                         2.60  \n",
       "7                          1.30  \n",
       "36                         0.00  \n",
       "..                          ...  \n",
       "24                         6.80  \n",
       "30                         6.25  \n",
       "58                         3.40  \n",
       "2                          3.85  \n",
       "1                          4.25  \n",
       "\n",
       "[63 rows x 5 columns]"
      ]
     },
     "execution_count": 96,
     "metadata": {},
     "output_type": "execute_result"
    }
   ],
   "source": [
    "df_Richness_1_Asso = df_Richness_1.copy().sort_values('Association')\n",
    "df_Richness_1_Asso"
   ]
  },
  {
   "cell_type": "code",
   "execution_count": 97,
   "metadata": {},
   "outputs": [
    {
     "data": {
      "text/html": [
       "<div>\n",
       "<style scoped>\n",
       "    .dataframe tbody tr th:only-of-type {\n",
       "        vertical-align: middle;\n",
       "    }\n",
       "\n",
       "    .dataframe tbody tr th {\n",
       "        vertical-align: top;\n",
       "    }\n",
       "\n",
       "    .dataframe thead th {\n",
       "        text-align: right;\n",
       "    }\n",
       "</style>\n",
       "<table border=\"1\" class=\"dataframe\">\n",
       "  <thead>\n",
       "    <tr style=\"text-align: right;\">\n",
       "      <th></th>\n",
       "      <th>Field Species Richness</th>\n",
       "      <th>Raster Species Richness June</th>\n",
       "      <th>Raster Species Richness Sep</th>\n",
       "    </tr>\n",
       "  </thead>\n",
       "  <tbody>\n",
       "    <tr>\n",
       "      <th>count</th>\n",
       "      <td>61.000000</td>\n",
       "      <td>61.000000</td>\n",
       "      <td>61.000000</td>\n",
       "    </tr>\n",
       "    <tr>\n",
       "      <th>mean</th>\n",
       "      <td>3.524590</td>\n",
       "      <td>3.766393</td>\n",
       "      <td>4.033607</td>\n",
       "    </tr>\n",
       "    <tr>\n",
       "      <th>std</th>\n",
       "      <td>1.885087</td>\n",
       "      <td>1.635434</td>\n",
       "      <td>1.314018</td>\n",
       "    </tr>\n",
       "    <tr>\n",
       "      <th>min</th>\n",
       "      <td>1.000000</td>\n",
       "      <td>1.000000</td>\n",
       "      <td>1.300000</td>\n",
       "    </tr>\n",
       "    <tr>\n",
       "      <th>25%</th>\n",
       "      <td>2.000000</td>\n",
       "      <td>2.650000</td>\n",
       "      <td>3.300000</td>\n",
       "    </tr>\n",
       "    <tr>\n",
       "      <th>50%</th>\n",
       "      <td>3.000000</td>\n",
       "      <td>3.300000</td>\n",
       "      <td>3.900000</td>\n",
       "    </tr>\n",
       "    <tr>\n",
       "      <th>75%</th>\n",
       "      <td>4.000000</td>\n",
       "      <td>4.400000</td>\n",
       "      <td>4.800000</td>\n",
       "    </tr>\n",
       "    <tr>\n",
       "      <th>max</th>\n",
       "      <td>8.000000</td>\n",
       "      <td>9.300000</td>\n",
       "      <td>7.300000</td>\n",
       "    </tr>\n",
       "  </tbody>\n",
       "</table>\n",
       "</div>"
      ],
      "text/plain": [
       "       Field Species Richness  Raster Species Richness June  \\\n",
       "count               61.000000                     61.000000   \n",
       "mean                 3.524590                      3.766393   \n",
       "std                  1.885087                      1.635434   \n",
       "min                  1.000000                      1.000000   \n",
       "25%                  2.000000                      2.650000   \n",
       "50%                  3.000000                      3.300000   \n",
       "75%                  4.000000                      4.400000   \n",
       "max                  8.000000                      9.300000   \n",
       "\n",
       "       Raster Species Richness Sep  \n",
       "count                    61.000000  \n",
       "mean                      4.033607  \n",
       "std                       1.314018  \n",
       "min                       1.300000  \n",
       "25%                       3.300000  \n",
       "50%                       3.900000  \n",
       "75%                       4.800000  \n",
       "max                       7.300000  "
      ]
     },
     "execution_count": 97,
     "metadata": {},
     "output_type": "execute_result"
    }
   ],
   "source": [
    "df_Richness_1_Asso_NoZero = df_Richness_1_Asso.copy()\n",
    "df_Richness_1_Asso_NoZero = df_Richness_1_Asso_NoZero[df_Richness_1_Asso_NoZero['Raster Species Richness June'] != 0]\n",
    "df_Richness_1_Asso_NoZero = df_Richness_1_Asso_NoZero[df_Richness_1_Asso_NoZero['Raster Species Richness Sep'] != 0]\n",
    "df_Richness_1_Asso_NoZero.describe()"
   ]
  },
  {
   "cell_type": "code",
   "execution_count": 98,
   "metadata": {},
   "outputs": [
    {
     "data": {
      "image/png": "[encoded data removed]",
      "text/plain": [
       "<Figure size 1000x1000 with 1 Axes>"
      ]
     },
     "metadata": {},
     "output_type": "display_data"
    }
   ],
   "source": [
    "fig, ax1 = plt.subplots(figsize = (10,10))\n",
    "sns.scatterplot(x = 'Field Species Richness',y = 'Raster Species Richness June', data = df_Richness_1_Asso, hue = 'Association', \n",
    "                palette=['Black','Grey','Pink','Red','Purple','Green','Blue','Yellow','Orange','Maroon','Aqua'],\n",
    "                s=100, ax = ax1)\n",
    "sns.move_legend(ax1,'upper left',bbox_to_anchor= (1,1))\n",
    "ax1.grid()\n",
    "plt.title('Species Richness: Field Value - Raster June Value')\n",
    "plt.show()"
   ]
  },
  {
   "cell_type": "code",
   "execution_count": 99,
   "metadata": {},
   "outputs": [
    {
     "data": {
      "image/png": "[encoded data removed]",
      "text/plain": [
       "<Figure size 1000x1000 with 1 Axes>"
      ]
     },
     "metadata": {},
     "output_type": "display_data"
    }
   ],
   "source": [
    "fig, ax1 = plt.subplots(figsize = (10,10))\n",
    "sns.scatterplot(x = 'Field Species Richness',y = 'Raster Species Richness Sep', data = df_Richness_1_Asso, hue = 'Association', \n",
    "                palette=['Black','Grey','Pink','Red','Purple','Green','Blue','Yellow','Orange','Maroon','Aqua'],\n",
    "                s=100, ax = ax1)\n",
    "sns.move_legend(ax1,'upper left',bbox_to_anchor= (1,1))\n",
    "ax1.grid()\n",
    "plt.title('Species Richness: Field Value - Raster Sep Value')\n",
    "plt.show()"
   ]
  },
  {
   "cell_type": "code",
   "execution_count": 100,
   "metadata": {},
   "outputs": [
    {
     "name": "stdout",
     "output_type": "stream",
     "text": [
      "-0.7567387785537155\n",
      "0.4506895653363323\n",
      "We fail to reject NULL HYPOTHESIS!\n",
      "The Pearson correlation coefficient is equal to -0.19826668242712814; the p value is 0.12558978982553112\n",
      "Indecisive! The Pearson correlation coefficient is not considered statistically significant!\n"
     ]
    }
   ],
   "source": [
    "# Null hypothesis! \n",
    "t_stat, pvalue = ttest_ind(df_Richness_1_Asso_NoZero['Field Species Richness'], df_Richness_1_Asso_NoZero['Raster Species Richness June'])\n",
    "print(t_stat)\n",
    "print(pvalue)\n",
    "if pvalue < 0.05:\n",
    "    print(\"We reject NULL HYPOTHESIS! Therefore we can conclude that there is a definite relationship between Field Species Richness and Raster Species Richness!\")\n",
    "else: \n",
    "    print(\"We fail to reject NULL HYPOTHESIS!\")\n",
    "# Pearson Coefficient\n",
    "pear = stats.pearsonr(df_Richness_1_Asso_NoZero['Field Species Richness'], df_Richness_1_Asso_NoZero['Raster Species Richness June'])\n",
    "print(\"The Pearson correlation coefficient is equal to \" + str(pear.statistic) + \"; the p value is \" + str(pear.pvalue))\n",
    "if pear.pvalue <= 0.05:\n",
    "    print(\"Perfect! The Pearson correlation coefficient is considered statistically significant!\")\n",
    "else:\n",
    "    print(\"Indecisive! The Pearson correlation coefficient is not considered statistically significant!\")"
   ]
  },
  {
   "cell_type": "code",
   "execution_count": 101,
   "metadata": {},
   "outputs": [
    {
     "data": {
      "text/plain": [
       "-1.1134136167922493"
      ]
     },
     "execution_count": 101,
     "metadata": {},
     "output_type": "execute_result"
    }
   ],
   "source": [
    "r2_score(df_Richness_1_Asso_NoZero['Field Species Richness'], df_Richness_1_Asso_NoZero['Raster Species Richness June'])"
   ]
  },
  {
   "cell_type": "code",
   "execution_count": 102,
   "metadata": {},
   "outputs": [
    {
     "data": {
      "text/plain": [
       "2.0877049180327867"
      ]
     },
     "execution_count": 102,
     "metadata": {},
     "output_type": "execute_result"
    }
   ],
   "source": [
    "mae(df_Richness_1_Asso_NoZero['Field Species Richness'], df_Richness_1_Asso_NoZero['Raster Species Richness June'])"
   ]
  },
  {
   "cell_type": "code",
   "execution_count": 103,
   "metadata": {},
   "outputs": [
    {
     "name": "stdout",
     "output_type": "stream",
     "text": [
      "-1.7301019341214026\n",
      "0.08618301518554823\n",
      "We fail to reject NULL HYPOTHESIS!\n",
      "The Pearson correlation coefficient is equal to -0.12868467677234185; the p value is 0.3229645572182941\n",
      "Indecisive! The Pearson correlation coefficient is not considered statistically significant!\n"
     ]
    }
   ],
   "source": [
    "# Null hypothesis! \n",
    "t_stat, pvalue = ttest_ind(df_Richness_1_Asso_NoZero['Field Species Richness'], df_Richness_1_Asso_NoZero['Raster Species Richness Sep'])\n",
    "print(t_stat)\n",
    "print(pvalue)\n",
    "if pvalue < 0.05:\n",
    "    print(\"We reject NULL HYPOTHESIS! Therefore we can conclude that there is a definite relationship between Field Species Richness and Raster Species Richness!\")\n",
    "else: \n",
    "    print(\"We fail to reject NULL HYPOTHESIS!\")\n",
    "# Pearson Coefficient\n",
    "pear = stats.pearsonr(df_Richness_1_Asso_NoZero['Field Species Richness'], df_Richness_1_Asso_NoZero['Raster Species Richness Sep'])\n",
    "print(\"The Pearson correlation coefficient is equal to \" + str(pear.statistic) + \"; the p value is \" + str(pear.pvalue))\n",
    "if pear.pvalue <= 0.05:\n",
    "    print(\"Perfect! The Pearson correlation coefficient is considered statistically significant!\")\n",
    "else:\n",
    "    print(\"Indecisive! The Pearson correlation coefficient is not considered statistically significant!\")"
   ]
  },
  {
   "cell_type": "code",
   "execution_count": 104,
   "metadata": {},
   "outputs": [
    {
     "data": {
      "text/plain": [
       "-0.737644938198941"
      ]
     },
     "execution_count": 104,
     "metadata": {},
     "output_type": "execute_result"
    }
   ],
   "source": [
    "r2_score(df_Richness_1['Field Species Richness'], df_Richness_1['Raster Species Richness Sep'])"
   ]
  },
  {
   "cell_type": "code",
   "execution_count": 105,
   "metadata": {},
   "outputs": [
    {
     "data": {
      "text/plain": [
       "1.8598360655737705"
      ]
     },
     "execution_count": 105,
     "metadata": {},
     "output_type": "execute_result"
    }
   ],
   "source": [
    "mae(df_Richness_1_Asso_NoZero['Field Species Richness'], df_Richness_1_Asso_NoZero['Raster Species Richness Sep'])"
   ]
  },
  {
   "cell_type": "markdown",
   "metadata": {},
   "source": [
    "## Shannon"
   ]
  },
  {
   "cell_type": "code",
   "execution_count": 106,
   "metadata": {},
   "outputs": [
    {
     "data": {
      "text/html": [
       "<div>\n",
       "<style scoped>\n",
       "    .dataframe tbody tr th:only-of-type {\n",
       "        vertical-align: middle;\n",
       "    }\n",
       "\n",
       "    .dataframe tbody tr th {\n",
       "        vertical-align: top;\n",
       "    }\n",
       "\n",
       "    .dataframe thead th {\n",
       "        text-align: right;\n",
       "    }\n",
       "</style>\n",
       "<table border=\"1\" class=\"dataframe\">\n",
       "  <thead>\n",
       "    <tr style=\"text-align: right;\">\n",
       "      <th></th>\n",
       "      <th>Plot</th>\n",
       "      <th>Field Shannon</th>\n",
       "    </tr>\n",
       "  </thead>\n",
       "  <tbody>\n",
       "    <tr>\n",
       "      <th>0</th>\n",
       "      <td>FOR01</td>\n",
       "      <td>1.267990</td>\n",
       "    </tr>\n",
       "    <tr>\n",
       "      <th>1</th>\n",
       "      <td>FOR02</td>\n",
       "      <td>1.604816</td>\n",
       "    </tr>\n",
       "    <tr>\n",
       "      <th>2</th>\n",
       "      <td>FOR03</td>\n",
       "      <td>0.534923</td>\n",
       "    </tr>\n",
       "    <tr>\n",
       "      <th>3</th>\n",
       "      <td>FOR04</td>\n",
       "      <td>0.474139</td>\n",
       "    </tr>\n",
       "    <tr>\n",
       "      <th>4</th>\n",
       "      <td>FOR05</td>\n",
       "      <td>0.000000</td>\n",
       "    </tr>\n",
       "  </tbody>\n",
       "</table>\n",
       "</div>"
      ],
      "text/plain": [
       "    Plot  Field Shannon\n",
       "0  FOR01       1.267990\n",
       "1  FOR02       1.604816\n",
       "2  FOR03       0.534923\n",
       "3  FOR04       0.474139\n",
       "4  FOR05       0.000000"
      ]
     },
     "execution_count": 106,
     "metadata": {},
     "output_type": "execute_result"
    }
   ],
   "source": [
    "df_Field_Shannon = pd.read_csv(cwd_Field_DataMerged_CSV_Indices + \"\\\\FieldDataMerged Valid Shannon.csv\")\n",
    "df_Field_Shannon.head()"
   ]
  },
  {
   "cell_type": "code",
   "execution_count": 107,
   "metadata": {},
   "outputs": [],
   "source": [
    "df_Field_Shannon_1 = df_Field_Shannon.copy().iloc[0:63,:]"
   ]
  },
  {
   "cell_type": "code",
   "execution_count": 108,
   "metadata": {},
   "outputs": [
    {
     "data": {
      "text/html": [
       "<div>\n",
       "<style scoped>\n",
       "    .dataframe tbody tr th:only-of-type {\n",
       "        vertical-align: middle;\n",
       "    }\n",
       "\n",
       "    .dataframe tbody tr th {\n",
       "        vertical-align: top;\n",
       "    }\n",
       "\n",
       "    .dataframe thead th {\n",
       "        text-align: right;\n",
       "    }\n",
       "</style>\n",
       "<table border=\"1\" class=\"dataframe\">\n",
       "  <thead>\n",
       "    <tr style=\"text-align: right;\">\n",
       "      <th></th>\n",
       "      <th>Plot</th>\n",
       "      <th>Field Shannon</th>\n",
       "      <th>Association</th>\n",
       "      <th>Raster Shannon June</th>\n",
       "      <th>Raster Shannon Sep</th>\n",
       "    </tr>\n",
       "  </thead>\n",
       "  <tbody>\n",
       "    <tr>\n",
       "      <th>58</th>\n",
       "      <td>FOR78</td>\n",
       "      <td>0.286836</td>\n",
       "      <td>Prunus</td>\n",
       "      <td>0.568426</td>\n",
       "      <td>0.935210</td>\n",
       "    </tr>\n",
       "    <tr>\n",
       "      <th>59</th>\n",
       "      <td>FOR79</td>\n",
       "      <td>1.344339</td>\n",
       "      <td>Mixed deciduous</td>\n",
       "      <td>1.174565</td>\n",
       "      <td>1.207396</td>\n",
       "    </tr>\n",
       "    <tr>\n",
       "      <th>60</th>\n",
       "      <td>FOR80</td>\n",
       "      <td>0.918320</td>\n",
       "      <td>Mixed deciduous</td>\n",
       "      <td>0.877943</td>\n",
       "      <td>1.297885</td>\n",
       "    </tr>\n",
       "    <tr>\n",
       "      <th>61</th>\n",
       "      <td>FOR81</td>\n",
       "      <td>1.301362</td>\n",
       "      <td>Mixed deciduous</td>\n",
       "      <td>1.038922</td>\n",
       "      <td>1.304865</td>\n",
       "    </tr>\n",
       "    <tr>\n",
       "      <th>62</th>\n",
       "      <td>FOR82</td>\n",
       "      <td>1.193337</td>\n",
       "      <td>Mixed deciduous</td>\n",
       "      <td>0.943703</td>\n",
       "      <td>1.025488</td>\n",
       "    </tr>\n",
       "  </tbody>\n",
       "</table>\n",
       "</div>"
      ],
      "text/plain": [
       "     Plot  Field Shannon      Association  Raster Shannon June  \\\n",
       "58  FOR78       0.286836           Prunus             0.568426   \n",
       "59  FOR79       1.344339  Mixed deciduous             1.174565   \n",
       "60  FOR80       0.918320  Mixed deciduous             0.877943   \n",
       "61  FOR81       1.301362  Mixed deciduous             1.038922   \n",
       "62  FOR82       1.193337  Mixed deciduous             0.943703   \n",
       "\n",
       "    Raster Shannon Sep  \n",
       "58            0.935210  \n",
       "59            1.207396  \n",
       "60            1.297885  \n",
       "61            1.304865  \n",
       "62            1.025488  "
      ]
     },
     "execution_count": 108,
     "metadata": {},
     "output_type": "execute_result"
    }
   ],
   "source": [
    "df_Shannon_1 = pd.merge(df_Field_Shannon_1,df_Raster_Merge_1[['Plot','Association','Raster Shannon June','Raster Shannon Sep']],on = 'Plot')\n",
    "df_Shannon_1.tail()"
   ]
  },
  {
   "cell_type": "code",
   "execution_count": 109,
   "metadata": {},
   "outputs": [
    {
     "data": {
      "text/html": [
       "<div>\n",
       "<style scoped>\n",
       "    .dataframe tbody tr th:only-of-type {\n",
       "        vertical-align: middle;\n",
       "    }\n",
       "\n",
       "    .dataframe tbody tr th {\n",
       "        vertical-align: top;\n",
       "    }\n",
       "\n",
       "    .dataframe thead th {\n",
       "        text-align: right;\n",
       "    }\n",
       "</style>\n",
       "<table border=\"1\" class=\"dataframe\">\n",
       "  <thead>\n",
       "    <tr style=\"text-align: right;\">\n",
       "      <th></th>\n",
       "      <th>Plot</th>\n",
       "      <th>Field Shannon</th>\n",
       "      <th>Association</th>\n",
       "      <th>Raster Shannon June</th>\n",
       "      <th>Raster Shannon Sep</th>\n",
       "    </tr>\n",
       "  </thead>\n",
       "  <tbody>\n",
       "    <tr>\n",
       "      <th>24</th>\n",
       "      <td>FOR25</td>\n",
       "      <td>0.000000</td>\n",
       "      <td>Pine</td>\n",
       "      <td>1.848154</td>\n",
       "      <td>1.615426</td>\n",
       "    </tr>\n",
       "    <tr>\n",
       "      <th>30</th>\n",
       "      <td>FOR31</td>\n",
       "      <td>0.146145</td>\n",
       "      <td>Pine</td>\n",
       "      <td>0.964050</td>\n",
       "      <td>1.445004</td>\n",
       "    </tr>\n",
       "    <tr>\n",
       "      <th>58</th>\n",
       "      <td>FOR78</td>\n",
       "      <td>0.286836</td>\n",
       "      <td>Prunus</td>\n",
       "      <td>0.568426</td>\n",
       "      <td>0.935210</td>\n",
       "    </tr>\n",
       "    <tr>\n",
       "      <th>2</th>\n",
       "      <td>FOR03</td>\n",
       "      <td>0.534923</td>\n",
       "      <td>Prunus</td>\n",
       "      <td>0.000000</td>\n",
       "      <td>1.166316</td>\n",
       "    </tr>\n",
       "    <tr>\n",
       "      <th>1</th>\n",
       "      <td>FOR02</td>\n",
       "      <td>1.604816</td>\n",
       "      <td>Prunus</td>\n",
       "      <td>0.000000</td>\n",
       "      <td>1.164679</td>\n",
       "    </tr>\n",
       "  </tbody>\n",
       "</table>\n",
       "</div>"
      ],
      "text/plain": [
       "     Plot  Field Shannon Association  Raster Shannon June  Raster Shannon Sep\n",
       "24  FOR25       0.000000        Pine             1.848154            1.615426\n",
       "30  FOR31       0.146145        Pine             0.964050            1.445004\n",
       "58  FOR78       0.286836      Prunus             0.568426            0.935210\n",
       "2   FOR03       0.534923      Prunus             0.000000            1.166316\n",
       "1   FOR02       1.604816      Prunus             0.000000            1.164679"
      ]
     },
     "execution_count": 109,
     "metadata": {},
     "output_type": "execute_result"
    }
   ],
   "source": [
    "df_Shannon_1_Asso = df_Shannon_1.copy().sort_values('Association')\n",
    "df_Shannon_1_Asso.tail()"
   ]
  },
  {
   "cell_type": "code",
   "execution_count": 110,
   "metadata": {},
   "outputs": [
    {
     "data": {
      "text/html": [
       "<div>\n",
       "<style scoped>\n",
       "    .dataframe tbody tr th:only-of-type {\n",
       "        vertical-align: middle;\n",
       "    }\n",
       "\n",
       "    .dataframe tbody tr th {\n",
       "        vertical-align: top;\n",
       "    }\n",
       "\n",
       "    .dataframe thead th {\n",
       "        text-align: right;\n",
       "    }\n",
       "</style>\n",
       "<table border=\"1\" class=\"dataframe\">\n",
       "  <thead>\n",
       "    <tr style=\"text-align: right;\">\n",
       "      <th></th>\n",
       "      <th>Field Shannon</th>\n",
       "      <th>Raster Shannon June</th>\n",
       "      <th>Raster Shannon Sep</th>\n",
       "    </tr>\n",
       "  </thead>\n",
       "  <tbody>\n",
       "    <tr>\n",
       "      <th>count</th>\n",
       "      <td>63.000000</td>\n",
       "      <td>63.000000</td>\n",
       "      <td>63.000000</td>\n",
       "    </tr>\n",
       "    <tr>\n",
       "      <th>mean</th>\n",
       "      <td>0.793971</td>\n",
       "      <td>0.938792</td>\n",
       "      <td>1.029072</td>\n",
       "    </tr>\n",
       "    <tr>\n",
       "      <th>std</th>\n",
       "      <td>0.519653</td>\n",
       "      <td>0.433848</td>\n",
       "      <td>0.353681</td>\n",
       "    </tr>\n",
       "    <tr>\n",
       "      <th>min</th>\n",
       "      <td>0.000000</td>\n",
       "      <td>0.000000</td>\n",
       "      <td>0.000000</td>\n",
       "    </tr>\n",
       "    <tr>\n",
       "      <th>25%</th>\n",
       "      <td>0.401475</td>\n",
       "      <td>0.593762</td>\n",
       "      <td>0.844809</td>\n",
       "    </tr>\n",
       "    <tr>\n",
       "      <th>50%</th>\n",
       "      <td>0.804448</td>\n",
       "      <td>0.901837</td>\n",
       "      <td>1.025488</td>\n",
       "    </tr>\n",
       "    <tr>\n",
       "      <th>75%</th>\n",
       "      <td>1.180566</td>\n",
       "      <td>1.248307</td>\n",
       "      <td>1.220997</td>\n",
       "    </tr>\n",
       "    <tr>\n",
       "      <th>max</th>\n",
       "      <td>1.794190</td>\n",
       "      <td>2.008268</td>\n",
       "      <td>1.755974</td>\n",
       "    </tr>\n",
       "  </tbody>\n",
       "</table>\n",
       "</div>"
      ],
      "text/plain": [
       "       Field Shannon  Raster Shannon June  Raster Shannon Sep\n",
       "count      63.000000            63.000000           63.000000\n",
       "mean        0.793971             0.938792            1.029072\n",
       "std         0.519653             0.433848            0.353681\n",
       "min         0.000000             0.000000            0.000000\n",
       "25%         0.401475             0.593762            0.844809\n",
       "50%         0.804448             0.901837            1.025488\n",
       "75%         1.180566             1.248307            1.220997\n",
       "max         1.794190             2.008268            1.755974"
      ]
     },
     "execution_count": 110,
     "metadata": {},
     "output_type": "execute_result"
    }
   ],
   "source": [
    "df_Shannon_1_Asso.describe()"
   ]
  },
  {
   "cell_type": "code",
   "execution_count": 111,
   "metadata": {},
   "outputs": [
    {
     "data": {
      "text/html": [
       "<div>\n",
       "<style scoped>\n",
       "    .dataframe tbody tr th:only-of-type {\n",
       "        vertical-align: middle;\n",
       "    }\n",
       "\n",
       "    .dataframe tbody tr th {\n",
       "        vertical-align: top;\n",
       "    }\n",
       "\n",
       "    .dataframe thead th {\n",
       "        text-align: right;\n",
       "    }\n",
       "</style>\n",
       "<table border=\"1\" class=\"dataframe\">\n",
       "  <thead>\n",
       "    <tr style=\"text-align: right;\">\n",
       "      <th></th>\n",
       "      <th>Plot</th>\n",
       "      <th>Field Shannon</th>\n",
       "      <th>Association</th>\n",
       "      <th>Raster Shannon June</th>\n",
       "      <th>Raster Shannon Sep</th>\n",
       "    </tr>\n",
       "  </thead>\n",
       "  <tbody>\n",
       "    <tr>\n",
       "      <th>20</th>\n",
       "      <td>FOR21</td>\n",
       "      <td>0.942002</td>\n",
       "      <td>Alder</td>\n",
       "      <td>0.374832</td>\n",
       "      <td>0.833307</td>\n",
       "    </tr>\n",
       "    <tr>\n",
       "      <th>19</th>\n",
       "      <td>FOR20</td>\n",
       "      <td>0.886464</td>\n",
       "      <td>Alder</td>\n",
       "      <td>1.082472</td>\n",
       "      <td>0.989999</td>\n",
       "    </tr>\n",
       "    <tr>\n",
       "      <th>35</th>\n",
       "      <td>FOR55</td>\n",
       "      <td>0.276191</td>\n",
       "      <td>Alder</td>\n",
       "      <td>0.561629</td>\n",
       "      <td>0.788668</td>\n",
       "    </tr>\n",
       "    <tr>\n",
       "      <th>7</th>\n",
       "      <td>FOR08</td>\n",
       "      <td>0.804448</td>\n",
       "      <td>Alder</td>\n",
       "      <td>0.876262</td>\n",
       "      <td>0.207944</td>\n",
       "    </tr>\n",
       "    <tr>\n",
       "      <th>36</th>\n",
       "      <td>FOR56</td>\n",
       "      <td>0.482578</td>\n",
       "      <td>Alder</td>\n",
       "      <td>0.300079</td>\n",
       "      <td>0.000000</td>\n",
       "    </tr>\n",
       "  </tbody>\n",
       "</table>\n",
       "</div>"
      ],
      "text/plain": [
       "     Plot  Field Shannon Association  Raster Shannon June  Raster Shannon Sep\n",
       "20  FOR21       0.942002       Alder             0.374832            0.833307\n",
       "19  FOR20       0.886464       Alder             1.082472            0.989999\n",
       "35  FOR55       0.276191       Alder             0.561629            0.788668\n",
       "7   FOR08       0.804448       Alder             0.876262            0.207944\n",
       "36  FOR56       0.482578       Alder             0.300079            0.000000"
      ]
     },
     "execution_count": 111,
     "metadata": {},
     "output_type": "execute_result"
    }
   ],
   "source": [
    "df_Shannon_1_Asso_NoZero = df_Shannon_1_Asso.copy()\n",
    "df_Shannon_1_Asso_NoZero = df_Shannon_1_Asso_NoZero.loc[df_Shannon_1_Asso_NoZero['Field Shannon']!=0]\n",
    "df_Shannon_1_Asso_NoZero.head()"
   ]
  },
  {
   "cell_type": "code",
   "execution_count": 112,
   "metadata": {},
   "outputs": [
    {
     "data": {
      "text/html": [
       "<div>\n",
       "<style scoped>\n",
       "    .dataframe tbody tr th:only-of-type {\n",
       "        vertical-align: middle;\n",
       "    }\n",
       "\n",
       "    .dataframe tbody tr th {\n",
       "        vertical-align: top;\n",
       "    }\n",
       "\n",
       "    .dataframe thead th {\n",
       "        text-align: right;\n",
       "    }\n",
       "</style>\n",
       "<table border=\"1\" class=\"dataframe\">\n",
       "  <thead>\n",
       "    <tr style=\"text-align: right;\">\n",
       "      <th></th>\n",
       "      <th>Field Shannon</th>\n",
       "      <th>Raster Shannon June</th>\n",
       "      <th>Raster Shannon Sep</th>\n",
       "    </tr>\n",
       "  </thead>\n",
       "  <tbody>\n",
       "    <tr>\n",
       "      <th>count</th>\n",
       "      <td>55.000000</td>\n",
       "      <td>55.000000</td>\n",
       "      <td>55.000000</td>\n",
       "    </tr>\n",
       "    <tr>\n",
       "      <th>mean</th>\n",
       "      <td>0.909458</td>\n",
       "      <td>0.916606</td>\n",
       "      <td>1.033243</td>\n",
       "    </tr>\n",
       "    <tr>\n",
       "      <th>std</th>\n",
       "      <td>0.450632</td>\n",
       "      <td>0.412269</td>\n",
       "      <td>0.340575</td>\n",
       "    </tr>\n",
       "    <tr>\n",
       "      <th>min</th>\n",
       "      <td>0.146145</td>\n",
       "      <td>0.000000</td>\n",
       "      <td>0.000000</td>\n",
       "    </tr>\n",
       "    <tr>\n",
       "      <th>25%</th>\n",
       "      <td>0.526555</td>\n",
       "      <td>0.593762</td>\n",
       "      <td>0.871050</td>\n",
       "    </tr>\n",
       "    <tr>\n",
       "      <th>50%</th>\n",
       "      <td>0.908062</td>\n",
       "      <td>0.901837</td>\n",
       "      <td>1.030699</td>\n",
       "    </tr>\n",
       "    <tr>\n",
       "      <th>75%</th>\n",
       "      <td>1.257899</td>\n",
       "      <td>1.248307</td>\n",
       "      <td>1.220997</td>\n",
       "    </tr>\n",
       "    <tr>\n",
       "      <th>max</th>\n",
       "      <td>1.794190</td>\n",
       "      <td>1.917824</td>\n",
       "      <td>1.755974</td>\n",
       "    </tr>\n",
       "  </tbody>\n",
       "</table>\n",
       "</div>"
      ],
      "text/plain": [
       "       Field Shannon  Raster Shannon June  Raster Shannon Sep\n",
       "count      55.000000            55.000000           55.000000\n",
       "mean        0.909458             0.916606            1.033243\n",
       "std         0.450632             0.412269            0.340575\n",
       "min         0.146145             0.000000            0.000000\n",
       "25%         0.526555             0.593762            0.871050\n",
       "50%         0.908062             0.901837            1.030699\n",
       "75%         1.257899             1.248307            1.220997\n",
       "max         1.794190             1.917824            1.755974"
      ]
     },
     "execution_count": 112,
     "metadata": {},
     "output_type": "execute_result"
    }
   ],
   "source": [
    "df_Shannon_1_Asso_NoZero.describe()"
   ]
  },
  {
   "cell_type": "code",
   "execution_count": 113,
   "metadata": {},
   "outputs": [
    {
     "data": {
      "image/png": "[encoded data removed]",
      "text/plain": [
       "<Figure size 1000x1000 with 1 Axes>"
      ]
     },
     "metadata": {},
     "output_type": "display_data"
    }
   ],
   "source": [
    "fig, ax1 = plt.subplots(figsize = (10,10))\n",
    "sns.scatterplot(x = 'Field Shannon',y = 'Raster Shannon June', data = df_Shannon_1_Asso, hue = 'Association', \n",
    "                palette=['Black','Grey','Pink','Red','Purple','Green','Blue','Yellow','Orange','Maroon','Aqua'],\n",
    "                s=100, ax = ax1)\n",
    "sns.move_legend(ax1,'upper left',bbox_to_anchor= (1,1))\n",
    "ax1.grid()\n",
    "plt.title('Shannon: Field Value - Raster June Value')\n",
    "plt.show()"
   ]
  },
  {
   "cell_type": "code",
   "execution_count": 114,
   "metadata": {},
   "outputs": [
    {
     "name": "stdout",
     "output_type": "stream",
     "text": [
      "-0.0867898310466749\n",
      "0.9309992786842398\n",
      "We fail to reject NULL HYPOTHESIS!\n",
      "The Pearson correlation coefficient is equal to -0.061097532110571; the p value is 0.6576801313790154\n",
      "Indecisive! The Pearson correlation coefficient is not considered statistically significant!\n"
     ]
    }
   ],
   "source": [
    "# Null hypothesis! \n",
    "t_stat, pvalue = ttest_ind(df_Shannon_1_Asso_NoZero['Field Shannon'], df_Shannon_1_Asso_NoZero['Raster Shannon June'])\n",
    "print(t_stat)\n",
    "print(pvalue)\n",
    "if pvalue < 0.05:\n",
    "    print(\"We reject NULL HYPOTHESIS! Therefore we can conclude that there is a definite relationship between Field Shannon Index and Raster Shannon Index!\")\n",
    "else: \n",
    "    print(\"We fail to reject NULL HYPOTHESIS!\")\n",
    "# Pearson Coefficient\n",
    "pear = stats.pearsonr(df_Shannon_1_Asso_NoZero['Field Shannon'], df_Shannon_1_Asso_NoZero['Raster Shannon June'])\n",
    "print(\"The Pearson correlation coefficient is equal to \" + str(pear.statistic) + \"; the p value is \" + str(pear.pvalue))\n",
    "if pear.pvalue <= 0.05:\n",
    "    print(\"Perfect! The Pearson correlation coefficient is considered statistically significant!\")\n",
    "else:\n",
    "    print(\"Indecisive! The Pearson correlation coefficient is not considered statistically significant!\")"
   ]
  },
  {
   "cell_type": "code",
   "execution_count": 115,
   "metadata": {},
   "outputs": [
    {
     "data": {
      "text/plain": [
       "-0.9817352644115342"
      ]
     },
     "execution_count": 115,
     "metadata": {},
     "output_type": "execute_result"
    }
   ],
   "source": [
    "r2_score(df_Shannon_1['Field Shannon'], df_Shannon_1['Raster Shannon June'])"
   ]
  },
  {
   "cell_type": "code",
   "execution_count": 116,
   "metadata": {},
   "outputs": [
    {
     "data": {
      "text/plain": [
       "0.5959102003404354"
      ]
     },
     "execution_count": 116,
     "metadata": {},
     "output_type": "execute_result"
    }
   ],
   "source": [
    "mae(df_Shannon_1['Field Shannon'], df_Shannon_1['Raster Shannon June'])"
   ]
  },
  {
   "cell_type": "code",
   "execution_count": 117,
   "metadata": {},
   "outputs": [
    {
     "data": {
      "image/png": "[encoded data removed]",
      "text/plain": [
       "<Figure size 1000x1000 with 1 Axes>"
      ]
     },
     "metadata": {},
     "output_type": "display_data"
    }
   ],
   "source": [
    "fig, ax1 = plt.subplots(figsize = (10,10))\n",
    "sns.scatterplot(x = 'Field Shannon',y = 'Raster Shannon Sep', data = df_Shannon_1_Asso, hue = 'Association', \n",
    "                palette=['Black','Grey','Pink','Red','Purple','Green','Blue','Yellow','Orange','Maroon','Aqua'],\n",
    "                s=100, ax = ax1)\n",
    "sns.move_legend(ax1,'upper left',bbox_to_anchor= (1,1))\n",
    "ax1.grid()\n",
    "plt.title('Shannon: X: Field Value | Y: Raster September Value')\n",
    "plt.show()"
   ]
  },
  {
   "cell_type": "code",
   "execution_count": 118,
   "metadata": {},
   "outputs": [
    {
     "name": "stdout",
     "output_type": "stream",
     "text": [
      "-1.6252235070914778\n",
      "0.10702973065549427\n",
      "We fail to reject NULL HYPOTHESIS!\n",
      "The Pearson correlation coefficient is equal to -0.006813961324862446; the p value is 0.9606216195028424\n",
      "Indecisive! The Pearson correlation coefficient is not considered statistically significant!\n"
     ]
    }
   ],
   "source": [
    "# Null hypothesis! \n",
    "t_stat, pvalue = ttest_ind(df_Shannon_1_Asso_NoZero['Field Shannon'], df_Shannon_1_Asso_NoZero['Raster Shannon Sep'])\n",
    "print(t_stat)\n",
    "print(pvalue)\n",
    "if pvalue < 0.05:\n",
    "    print(\"We reject NULL HYPOTHESIS! Therefore we can conclude that there is a definite relationship between Field Shannon Index and Raster Shannon Index!\")\n",
    "else: \n",
    "    print(\"We fail to reject NULL HYPOTHESIS!\")\n",
    "# Pearson Coefficient\n",
    "pear = stats.pearsonr(df_Shannon_1_Asso_NoZero['Field Shannon'], df_Shannon_1_Asso_NoZero['Raster Shannon Sep'])\n",
    "print(\"The Pearson correlation coefficient is equal to \" + str(pear.statistic) + \"; the p value is \" + str(pear.pvalue))\n",
    "if pear.pvalue <= 0.05:\n",
    "    print(\"Perfect! The Pearson correlation coefficient is considered statistically significant!\")\n",
    "else:\n",
    "    print(\"Indecisive! The Pearson correlation coefficient is not considered statistically significant!\")"
   ]
  },
  {
   "cell_type": "code",
   "execution_count": 119,
   "metadata": {},
   "outputs": [
    {
     "data": {
      "text/plain": [
       "-0.6530334536773839"
      ]
     },
     "execution_count": 119,
     "metadata": {},
     "output_type": "execute_result"
    }
   ],
   "source": [
    "r2_score(df_Shannon_1['Field Shannon'], df_Shannon_1['Raster Shannon Sep'])"
   ]
  },
  {
   "cell_type": "code",
   "execution_count": 120,
   "metadata": {},
   "outputs": [
    {
     "data": {
      "text/plain": [
       "0.5313896832677589"
      ]
     },
     "execution_count": 120,
     "metadata": {},
     "output_type": "execute_result"
    }
   ],
   "source": [
    "mae(df_Shannon_1['Field Shannon'], df_Shannon_1['Raster Shannon Sep'])"
   ]
  },
  {
   "cell_type": "code",
   "execution_count": null,
   "metadata": {},
   "outputs": [],
   "source": []
  }
 ],
 "metadata": {
  "kernelspec": {
   "display_name": "Ticino",
   "language": "python",
   "name": "python3"
  },
  "language_info": {
   "codemirror_mode": {
    "name": "ipython",
    "version": 3
   },
   "file_extension": ".py",
   "mimetype": "text/x-python",
   "name": "python",
   "nbconvert_exporter": "python",
   "pygments_lexer": "ipython3",
   "version": "3.10.12"
  }
 },
 "nbformat": 4,
 "nbformat_minor": 2
}
