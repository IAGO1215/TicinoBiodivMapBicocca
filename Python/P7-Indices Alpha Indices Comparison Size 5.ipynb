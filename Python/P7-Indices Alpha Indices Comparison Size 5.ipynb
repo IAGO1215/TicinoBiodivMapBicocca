{
 "cells": [
  {
   "cell_type": "code",
   "execution_count": 1,
   "metadata": {},
   "outputs": [],
   "source": [
    "import os\n",
    "import numpy as np\n",
    "import pandas as pd\n",
    "from matplotlib import pyplot as plt\n",
    "from scipy.stats import ttest_ind\n",
    "from sklearn.metrics import r2_score\n",
    "from sklearn.metrics import mean_absolute_error as mae \n",
    "from scipy import stats\n",
    "import seaborn as sns"
   ]
  },
  {
   "cell_type": "code",
   "execution_count": 2,
   "metadata": {},
   "outputs": [],
   "source": [
    "# Set some directories. Here we use absolute directories. \n",
    "cwd = 'c:\\\\Users\\\\m1865\\\\Desktop\\\\Ticino'\n",
    "cwd_Field = cwd + '\\\\FieldData'\n",
    "cwd_Field_DataMerged = cwd_Field + '\\\\Field Dataset Merged'\n",
    "cwd_Field_DataMerged_CSV_Indices = cwd_Field_DataMerged + \"\\\\CSV Biodiversity Indices\"\n",
    "cwd_PRISMA = cwd + \"\\\\PRISMA Raster Raw\\\\Merged\"\n",
    "cwd_PRISMA_Result = cwd + \"\\\\ResultsPRISMA\"\n",
    "cwd_Field_Data1 = cwd_Field + '\\\\Field Dataset 1'\n",
    "cwd_Field_Data1_CSV = cwd_Field_Data1 + \"\\\\CSV\""
   ]
  },
  {
   "cell_type": "code",
   "execution_count": 3,
   "metadata": {},
   "outputs": [
    {
     "data": {
      "text/plain": [
       "['PRS_L2D_STD_20220611_20220710_NS_mosaic_crop_smooth_v2i_StackedIndices_20VI',\n",
       " 'PRS_L2D_STD_20220906_20220911_NS_mosaic_crop_smooth_v2i_StackedIndices_20VI',\n",
       " 'PRS_L2D_STD_20220906_20220911_NS_mosaic_crop_smooth_v2i_new_StackedIndices_20VI']"
      ]
     },
     "execution_count": 3,
     "metadata": {},
     "output_type": "execute_result"
    }
   ],
   "source": [
    "# Get the name of all the rasters in our folder\n",
    "raster_Names = []\n",
    "for item in [name.split('.')[0] for name in os.listdir(cwd_PRISMA)]:\n",
    "    item = item + \"_StackedIndices_20VI\"\n",
    "    if item not in raster_Names:\n",
    "        raster_Names.append(item)\n",
    "raster_Names"
   ]
  },
  {
   "cell_type": "code",
   "execution_count": 4,
   "metadata": {},
   "outputs": [
    {
     "data": {
      "text/html": [
       "<div>\n",
       "<style scoped>\n",
       "    .dataframe tbody tr th:only-of-type {\n",
       "        vertical-align: middle;\n",
       "    }\n",
       "\n",
       "    .dataframe tbody tr th {\n",
       "        vertical-align: top;\n",
       "    }\n",
       "\n",
       "    .dataframe thead th {\n",
       "        text-align: right;\n",
       "    }\n",
       "</style>\n",
       "<table border=\"1\" class=\"dataframe\">\n",
       "  <thead>\n",
       "    <tr style=\"text-align: right;\">\n",
       "      <th></th>\n",
       "      <th>Plot</th>\n",
       "      <th>Species_Richness</th>\n",
       "      <th>Fisher</th>\n",
       "      <th>Shannon</th>\n",
       "      <th>Simpson</th>\n",
       "    </tr>\n",
       "  </thead>\n",
       "  <tbody>\n",
       "    <tr>\n",
       "      <th>0</th>\n",
       "      <td>FOR01</td>\n",
       "      <td>3.666667</td>\n",
       "      <td>0</td>\n",
       "      <td>0.872456</td>\n",
       "      <td>0.491733</td>\n",
       "    </tr>\n",
       "    <tr>\n",
       "      <th>1</th>\n",
       "      <td>FOR02</td>\n",
       "      <td>3.666667</td>\n",
       "      <td>0</td>\n",
       "      <td>0.934091</td>\n",
       "      <td>0.525463</td>\n",
       "    </tr>\n",
       "    <tr>\n",
       "      <th>2</th>\n",
       "      <td>FOR03</td>\n",
       "      <td>3.666667</td>\n",
       "      <td>0</td>\n",
       "      <td>1.054806</td>\n",
       "      <td>0.582011</td>\n",
       "    </tr>\n",
       "    <tr>\n",
       "      <th>3</th>\n",
       "      <td>FOR04</td>\n",
       "      <td>2.000000</td>\n",
       "      <td>0</td>\n",
       "      <td>0.440588</td>\n",
       "      <td>0.285867</td>\n",
       "    </tr>\n",
       "    <tr>\n",
       "      <th>4</th>\n",
       "      <td>FOR05</td>\n",
       "      <td>2.000000</td>\n",
       "      <td>0</td>\n",
       "      <td>0.614485</td>\n",
       "      <td>0.426304</td>\n",
       "    </tr>\n",
       "  </tbody>\n",
       "</table>\n",
       "</div>"
      ],
      "text/plain": [
       "    Plot  Species_Richness  Fisher   Shannon   Simpson\n",
       "0  FOR01          3.666667       0  0.872456  0.491733\n",
       "1  FOR02          3.666667       0  0.934091  0.525463\n",
       "2  FOR03          3.666667       0  1.054806  0.582011\n",
       "3  FOR04          2.000000       0  0.440588  0.285867\n",
       "4  FOR05          2.000000       0  0.614485  0.426304"
      ]
     },
     "execution_count": 4,
     "metadata": {},
     "output_type": "execute_result"
    }
   ],
   "source": [
    "df_Raster_6 = pd.read_csv(cwd_PRISMA_Result + \"\\\\\" + raster_Names[0] + \"\\\\AlphaDiversity150m.csv\", sep = '\\t')\n",
    "df_Raster_9 = pd.read_csv(cwd_PRISMA_Result + \"\\\\\" + raster_Names[2] + \"\\\\AlphaDiversity150m.csv\", sep = '\\t')\n",
    "df_Raster_6.head()"
   ]
  },
  {
   "cell_type": "code",
   "execution_count": 5,
   "metadata": {},
   "outputs": [
    {
     "data": {
      "text/html": [
       "<div>\n",
       "<style scoped>\n",
       "    .dataframe tbody tr th:only-of-type {\n",
       "        vertical-align: middle;\n",
       "    }\n",
       "\n",
       "    .dataframe tbody tr th {\n",
       "        vertical-align: top;\n",
       "    }\n",
       "\n",
       "    .dataframe thead th {\n",
       "        text-align: right;\n",
       "    }\n",
       "</style>\n",
       "<table border=\"1\" class=\"dataframe\">\n",
       "  <thead>\n",
       "    <tr style=\"text-align: right;\">\n",
       "      <th></th>\n",
       "      <th>Plot</th>\n",
       "      <th>Species_Richness June</th>\n",
       "      <th>Shannon June</th>\n",
       "      <th>Simpson June</th>\n",
       "      <th>Species_Richness Sep</th>\n",
       "      <th>Shannon Sep</th>\n",
       "      <th>Simpson Sep</th>\n",
       "    </tr>\n",
       "  </thead>\n",
       "  <tbody>\n",
       "    <tr>\n",
       "      <th>0</th>\n",
       "      <td>FOR01</td>\n",
       "      <td>3.666667</td>\n",
       "      <td>0.872456</td>\n",
       "      <td>0.491733</td>\n",
       "      <td>5.333333</td>\n",
       "      <td>1.327350</td>\n",
       "      <td>0.661333</td>\n",
       "    </tr>\n",
       "    <tr>\n",
       "      <th>1</th>\n",
       "      <td>FOR02</td>\n",
       "      <td>3.666667</td>\n",
       "      <td>0.934091</td>\n",
       "      <td>0.525463</td>\n",
       "      <td>2.000000</td>\n",
       "      <td>0.582449</td>\n",
       "      <td>0.396991</td>\n",
       "    </tr>\n",
       "    <tr>\n",
       "      <th>2</th>\n",
       "      <td>FOR03</td>\n",
       "      <td>3.666667</td>\n",
       "      <td>1.054806</td>\n",
       "      <td>0.582011</td>\n",
       "      <td>4.666667</td>\n",
       "      <td>1.165272</td>\n",
       "      <td>0.613757</td>\n",
       "    </tr>\n",
       "    <tr>\n",
       "      <th>3</th>\n",
       "      <td>FOR04</td>\n",
       "      <td>2.000000</td>\n",
       "      <td>0.440588</td>\n",
       "      <td>0.285867</td>\n",
       "      <td>3.000000</td>\n",
       "      <td>0.863459</td>\n",
       "      <td>0.513067</td>\n",
       "    </tr>\n",
       "    <tr>\n",
       "      <th>4</th>\n",
       "      <td>FOR05</td>\n",
       "      <td>2.000000</td>\n",
       "      <td>0.614485</td>\n",
       "      <td>0.426304</td>\n",
       "      <td>2.000000</td>\n",
       "      <td>0.346367</td>\n",
       "      <td>0.196523</td>\n",
       "    </tr>\n",
       "  </tbody>\n",
       "</table>\n",
       "</div>"
      ],
      "text/plain": [
       "    Plot  Species_Richness June  Shannon June  Simpson June  \\\n",
       "0  FOR01               3.666667      0.872456      0.491733   \n",
       "1  FOR02               3.666667      0.934091      0.525463   \n",
       "2  FOR03               3.666667      1.054806      0.582011   \n",
       "3  FOR04               2.000000      0.440588      0.285867   \n",
       "4  FOR05               2.000000      0.614485      0.426304   \n",
       "\n",
       "   Species_Richness Sep  Shannon Sep  Simpson Sep  \n",
       "0              5.333333     1.327350     0.661333  \n",
       "1              2.000000     0.582449     0.396991  \n",
       "2              4.666667     1.165272     0.613757  \n",
       "3              3.000000     0.863459     0.513067  \n",
       "4              2.000000     0.346367     0.196523  "
      ]
     },
     "execution_count": 5,
     "metadata": {},
     "output_type": "execute_result"
    }
   ],
   "source": [
    "df_Raster_Merge = pd.merge(df_Raster_6[['Plot','Species_Richness','Shannon','Simpson']],df_Raster_9[['Plot','Species_Richness','Shannon','Simpson']], on = 'Plot', suffixes= [' June', ' Sep'])\n",
    "df_Raster_Merge.head()"
   ]
  },
  {
   "cell_type": "code",
   "execution_count": 6,
   "metadata": {},
   "outputs": [
    {
     "data": {
      "text/html": [
       "<div>\n",
       "<style scoped>\n",
       "    .dataframe tbody tr th:only-of-type {\n",
       "        vertical-align: middle;\n",
       "    }\n",
       "\n",
       "    .dataframe tbody tr th {\n",
       "        vertical-align: top;\n",
       "    }\n",
       "\n",
       "    .dataframe thead th {\n",
       "        text-align: right;\n",
       "    }\n",
       "</style>\n",
       "<table border=\"1\" class=\"dataframe\">\n",
       "  <thead>\n",
       "    <tr style=\"text-align: right;\">\n",
       "      <th></th>\n",
       "      <th>Plot</th>\n",
       "      <th>Raster Species Richness June</th>\n",
       "      <th>Raster Shannon June</th>\n",
       "      <th>Raster Simpson June</th>\n",
       "      <th>Raster Species Richness Sep</th>\n",
       "      <th>Raster Shannon Sep</th>\n",
       "      <th>Raster Simpson Sep</th>\n",
       "    </tr>\n",
       "  </thead>\n",
       "  <tbody>\n",
       "    <tr>\n",
       "      <th>0</th>\n",
       "      <td>FOR01</td>\n",
       "      <td>3.666667</td>\n",
       "      <td>0.872456</td>\n",
       "      <td>0.491733</td>\n",
       "      <td>5.333333</td>\n",
       "      <td>1.327350</td>\n",
       "      <td>0.661333</td>\n",
       "    </tr>\n",
       "    <tr>\n",
       "      <th>1</th>\n",
       "      <td>FOR02</td>\n",
       "      <td>3.666667</td>\n",
       "      <td>0.934091</td>\n",
       "      <td>0.525463</td>\n",
       "      <td>2.000000</td>\n",
       "      <td>0.582449</td>\n",
       "      <td>0.396991</td>\n",
       "    </tr>\n",
       "    <tr>\n",
       "      <th>2</th>\n",
       "      <td>FOR03</td>\n",
       "      <td>3.666667</td>\n",
       "      <td>1.054806</td>\n",
       "      <td>0.582011</td>\n",
       "      <td>4.666667</td>\n",
       "      <td>1.165272</td>\n",
       "      <td>0.613757</td>\n",
       "    </tr>\n",
       "    <tr>\n",
       "      <th>3</th>\n",
       "      <td>FOR04</td>\n",
       "      <td>2.000000</td>\n",
       "      <td>0.440588</td>\n",
       "      <td>0.285867</td>\n",
       "      <td>3.000000</td>\n",
       "      <td>0.863459</td>\n",
       "      <td>0.513067</td>\n",
       "    </tr>\n",
       "    <tr>\n",
       "      <th>4</th>\n",
       "      <td>FOR05</td>\n",
       "      <td>2.000000</td>\n",
       "      <td>0.614485</td>\n",
       "      <td>0.426304</td>\n",
       "      <td>2.000000</td>\n",
       "      <td>0.346367</td>\n",
       "      <td>0.196523</td>\n",
       "    </tr>\n",
       "  </tbody>\n",
       "</table>\n",
       "</div>"
      ],
      "text/plain": [
       "    Plot  Raster Species Richness June  Raster Shannon June  \\\n",
       "0  FOR01                      3.666667             0.872456   \n",
       "1  FOR02                      3.666667             0.934091   \n",
       "2  FOR03                      3.666667             1.054806   \n",
       "3  FOR04                      2.000000             0.440588   \n",
       "4  FOR05                      2.000000             0.614485   \n",
       "\n",
       "   Raster Simpson June  Raster Species Richness Sep  Raster Shannon Sep  \\\n",
       "0             0.491733                     5.333333            1.327350   \n",
       "1             0.525463                     2.000000            0.582449   \n",
       "2             0.582011                     4.666667            1.165272   \n",
       "3             0.285867                     3.000000            0.863459   \n",
       "4             0.426304                     2.000000            0.346367   \n",
       "\n",
       "   Raster Simpson Sep  \n",
       "0            0.661333  \n",
       "1            0.396991  \n",
       "2            0.613757  \n",
       "3            0.513067  \n",
       "4            0.196523  "
      ]
     },
     "execution_count": 6,
     "metadata": {},
     "output_type": "execute_result"
    }
   ],
   "source": [
    "df_Raster_Merge.columns = ['Plot','Raster Species Richness June','Raster Shannon June','Raster Simpson June','Raster Species Richness Sep','Raster Shannon Sep','Raster Simpson Sep']\n",
    "df_Raster_Merge.head()"
   ]
  },
  {
   "cell_type": "code",
   "execution_count": 7,
   "metadata": {},
   "outputs": [
    {
     "data": {
      "text/html": [
       "<div>\n",
       "<style scoped>\n",
       "    .dataframe tbody tr th:only-of-type {\n",
       "        vertical-align: middle;\n",
       "    }\n",
       "\n",
       "    .dataframe tbody tr th {\n",
       "        vertical-align: top;\n",
       "    }\n",
       "\n",
       "    .dataframe thead th {\n",
       "        text-align: right;\n",
       "    }\n",
       "</style>\n",
       "<table border=\"1\" class=\"dataframe\">\n",
       "  <thead>\n",
       "    <tr style=\"text-align: right;\">\n",
       "      <th></th>\n",
       "      <th>Plot</th>\n",
       "      <th>Association</th>\n",
       "    </tr>\n",
       "  </thead>\n",
       "  <tbody>\n",
       "    <tr>\n",
       "      <th>0</th>\n",
       "      <td>FOR01</td>\n",
       "      <td>Oak_hornbeam_humid</td>\n",
       "    </tr>\n",
       "    <tr>\n",
       "      <th>1</th>\n",
       "      <td>FOR02</td>\n",
       "      <td>Prunus</td>\n",
       "    </tr>\n",
       "    <tr>\n",
       "      <th>2</th>\n",
       "      <td>FOR03</td>\n",
       "      <td>Prunus</td>\n",
       "    </tr>\n",
       "    <tr>\n",
       "      <th>3</th>\n",
       "      <td>FOR04</td>\n",
       "      <td>Oak_open_canopy</td>\n",
       "    </tr>\n",
       "    <tr>\n",
       "      <th>4</th>\n",
       "      <td>FOR05</td>\n",
       "      <td>Oak_open_canopy</td>\n",
       "    </tr>\n",
       "  </tbody>\n",
       "</table>\n",
       "</div>"
      ],
      "text/plain": [
       "    Plot         Association\n",
       "0  FOR01  Oak_hornbeam_humid\n",
       "1  FOR02              Prunus\n",
       "2  FOR03              Prunus\n",
       "3  FOR04     Oak_open_canopy\n",
       "4  FOR05     Oak_open_canopy"
      ]
     },
     "execution_count": 7,
     "metadata": {},
     "output_type": "execute_result"
    }
   ],
   "source": [
    "df_Association = pd.read_csv(cwd_Field_Data1_CSV + \"\\\\FieldData1 Valid Association.csv\")\n",
    "df_Association.head()"
   ]
  },
  {
   "cell_type": "code",
   "execution_count": 8,
   "metadata": {},
   "outputs": [
    {
     "data": {
      "text/html": [
       "<div>\n",
       "<style scoped>\n",
       "    .dataframe tbody tr th:only-of-type {\n",
       "        vertical-align: middle;\n",
       "    }\n",
       "\n",
       "    .dataframe tbody tr th {\n",
       "        vertical-align: top;\n",
       "    }\n",
       "\n",
       "    .dataframe thead th {\n",
       "        text-align: right;\n",
       "    }\n",
       "</style>\n",
       "<table border=\"1\" class=\"dataframe\">\n",
       "  <thead>\n",
       "    <tr style=\"text-align: right;\">\n",
       "      <th></th>\n",
       "      <th>Plot</th>\n",
       "      <th>Raster Species Richness June</th>\n",
       "      <th>Raster Shannon June</th>\n",
       "      <th>Raster Simpson June</th>\n",
       "      <th>Raster Species Richness Sep</th>\n",
       "      <th>Raster Shannon Sep</th>\n",
       "      <th>Raster Simpson Sep</th>\n",
       "      <th>Association</th>\n",
       "    </tr>\n",
       "  </thead>\n",
       "  <tbody>\n",
       "    <tr>\n",
       "      <th>58</th>\n",
       "      <td>FOR78</td>\n",
       "      <td>3.333333</td>\n",
       "      <td>0.858357</td>\n",
       "      <td>0.507733</td>\n",
       "      <td>3.333333</td>\n",
       "      <td>0.930300</td>\n",
       "      <td>0.557867</td>\n",
       "      <td>Prunus</td>\n",
       "    </tr>\n",
       "    <tr>\n",
       "      <th>59</th>\n",
       "      <td>FOR79</td>\n",
       "      <td>3.333333</td>\n",
       "      <td>0.952244</td>\n",
       "      <td>0.554667</td>\n",
       "      <td>4.666667</td>\n",
       "      <td>1.032519</td>\n",
       "      <td>0.517333</td>\n",
       "      <td>Mixed deciduous</td>\n",
       "    </tr>\n",
       "    <tr>\n",
       "      <th>60</th>\n",
       "      <td>FOR80</td>\n",
       "      <td>3.000000</td>\n",
       "      <td>0.709776</td>\n",
       "      <td>0.396800</td>\n",
       "      <td>1.666667</td>\n",
       "      <td>0.148905</td>\n",
       "      <td>0.074667</td>\n",
       "      <td>Mixed deciduous</td>\n",
       "    </tr>\n",
       "    <tr>\n",
       "      <th>61</th>\n",
       "      <td>FOR81</td>\n",
       "      <td>2.666667</td>\n",
       "      <td>0.580918</td>\n",
       "      <td>0.342400</td>\n",
       "      <td>4.666667</td>\n",
       "      <td>1.368768</td>\n",
       "      <td>0.722133</td>\n",
       "      <td>Mixed deciduous</td>\n",
       "    </tr>\n",
       "    <tr>\n",
       "      <th>62</th>\n",
       "      <td>FOR82</td>\n",
       "      <td>2.666667</td>\n",
       "      <td>0.434512</td>\n",
       "      <td>0.232533</td>\n",
       "      <td>4.666667</td>\n",
       "      <td>1.025898</td>\n",
       "      <td>0.531200</td>\n",
       "      <td>Mixed deciduous</td>\n",
       "    </tr>\n",
       "  </tbody>\n",
       "</table>\n",
       "</div>"
      ],
      "text/plain": [
       "     Plot  Raster Species Richness June  Raster Shannon June  \\\n",
       "58  FOR78                      3.333333             0.858357   \n",
       "59  FOR79                      3.333333             0.952244   \n",
       "60  FOR80                      3.000000             0.709776   \n",
       "61  FOR81                      2.666667             0.580918   \n",
       "62  FOR82                      2.666667             0.434512   \n",
       "\n",
       "    Raster Simpson June  Raster Species Richness Sep  Raster Shannon Sep  \\\n",
       "58             0.507733                     3.333333            0.930300   \n",
       "59             0.554667                     4.666667            1.032519   \n",
       "60             0.396800                     1.666667            0.148905   \n",
       "61             0.342400                     4.666667            1.368768   \n",
       "62             0.232533                     4.666667            1.025898   \n",
       "\n",
       "    Raster Simpson Sep      Association  \n",
       "58            0.557867           Prunus  \n",
       "59            0.517333  Mixed deciduous  \n",
       "60            0.074667  Mixed deciduous  \n",
       "61            0.722133  Mixed deciduous  \n",
       "62            0.531200  Mixed deciduous  "
      ]
     },
     "execution_count": 8,
     "metadata": {},
     "output_type": "execute_result"
    }
   ],
   "source": [
    "df_Raster_Merge_1 = pd.merge(df_Raster_Merge.iloc[0:63,:],df_Association,on='Plot')\n",
    "df_Raster_Merge_1.tail()"
   ]
  },
  {
   "cell_type": "markdown",
   "metadata": {},
   "source": [
    "## Species Richness"
   ]
  },
  {
   "cell_type": "code",
   "execution_count": 9,
   "metadata": {},
   "outputs": [
    {
     "data": {
      "text/html": [
       "<div>\n",
       "<style scoped>\n",
       "    .dataframe tbody tr th:only-of-type {\n",
       "        vertical-align: middle;\n",
       "    }\n",
       "\n",
       "    .dataframe tbody tr th {\n",
       "        vertical-align: top;\n",
       "    }\n",
       "\n",
       "    .dataframe thead th {\n",
       "        text-align: right;\n",
       "    }\n",
       "</style>\n",
       "<table border=\"1\" class=\"dataframe\">\n",
       "  <thead>\n",
       "    <tr style=\"text-align: right;\">\n",
       "      <th></th>\n",
       "      <th>Plot</th>\n",
       "      <th>Field Species Richness</th>\n",
       "    </tr>\n",
       "  </thead>\n",
       "  <tbody>\n",
       "    <tr>\n",
       "      <th>0</th>\n",
       "      <td>FOR01</td>\n",
       "      <td>5</td>\n",
       "    </tr>\n",
       "    <tr>\n",
       "      <th>1</th>\n",
       "      <td>FOR02</td>\n",
       "      <td>7</td>\n",
       "    </tr>\n",
       "    <tr>\n",
       "      <th>2</th>\n",
       "      <td>FOR03</td>\n",
       "      <td>4</td>\n",
       "    </tr>\n",
       "    <tr>\n",
       "      <th>3</th>\n",
       "      <td>FOR04</td>\n",
       "      <td>2</td>\n",
       "    </tr>\n",
       "    <tr>\n",
       "      <th>4</th>\n",
       "      <td>FOR05</td>\n",
       "      <td>1</td>\n",
       "    </tr>\n",
       "  </tbody>\n",
       "</table>\n",
       "</div>"
      ],
      "text/plain": [
       "    Plot  Field Species Richness\n",
       "0  FOR01                       5\n",
       "1  FOR02                       7\n",
       "2  FOR03                       4\n",
       "3  FOR04                       2\n",
       "4  FOR05                       1"
      ]
     },
     "execution_count": 9,
     "metadata": {},
     "output_type": "execute_result"
    }
   ],
   "source": [
    "df_Field_Richness = pd.read_csv(cwd_Field_DataMerged_CSV_Indices + \"\\\\FieldDataMerged Valid SpeciesRichness.csv\")\n",
    "df_Field_Richness.head()"
   ]
  },
  {
   "cell_type": "code",
   "execution_count": 10,
   "metadata": {},
   "outputs": [
    {
     "data": {
      "text/html": [
       "<div>\n",
       "<style scoped>\n",
       "    .dataframe tbody tr th:only-of-type {\n",
       "        vertical-align: middle;\n",
       "    }\n",
       "\n",
       "    .dataframe tbody tr th {\n",
       "        vertical-align: top;\n",
       "    }\n",
       "\n",
       "    .dataframe thead th {\n",
       "        text-align: right;\n",
       "    }\n",
       "</style>\n",
       "<table border=\"1\" class=\"dataframe\">\n",
       "  <thead>\n",
       "    <tr style=\"text-align: right;\">\n",
       "      <th></th>\n",
       "      <th>Plot</th>\n",
       "      <th>Field Species Richness</th>\n",
       "    </tr>\n",
       "  </thead>\n",
       "  <tbody>\n",
       "    <tr>\n",
       "      <th>58</th>\n",
       "      <td>FOR78</td>\n",
       "      <td>2</td>\n",
       "    </tr>\n",
       "    <tr>\n",
       "      <th>59</th>\n",
       "      <td>FOR79</td>\n",
       "      <td>4</td>\n",
       "    </tr>\n",
       "    <tr>\n",
       "      <th>60</th>\n",
       "      <td>FOR80</td>\n",
       "      <td>3</td>\n",
       "    </tr>\n",
       "    <tr>\n",
       "      <th>61</th>\n",
       "      <td>FOR81</td>\n",
       "      <td>4</td>\n",
       "    </tr>\n",
       "    <tr>\n",
       "      <th>62</th>\n",
       "      <td>FOR82</td>\n",
       "      <td>4</td>\n",
       "    </tr>\n",
       "  </tbody>\n",
       "</table>\n",
       "</div>"
      ],
      "text/plain": [
       "     Plot  Field Species Richness\n",
       "58  FOR78                       2\n",
       "59  FOR79                       4\n",
       "60  FOR80                       3\n",
       "61  FOR81                       4\n",
       "62  FOR82                       4"
      ]
     },
     "execution_count": 10,
     "metadata": {},
     "output_type": "execute_result"
    }
   ],
   "source": [
    "df_Field_Richness_1 = df_Field_Richness.copy().iloc[0:63,:]\n",
    "df_Field_Richness_1.tail()"
   ]
  },
  {
   "cell_type": "code",
   "execution_count": 11,
   "metadata": {},
   "outputs": [
    {
     "data": {
      "text/html": [
       "<div>\n",
       "<style scoped>\n",
       "    .dataframe tbody tr th:only-of-type {\n",
       "        vertical-align: middle;\n",
       "    }\n",
       "\n",
       "    .dataframe tbody tr th {\n",
       "        vertical-align: top;\n",
       "    }\n",
       "\n",
       "    .dataframe thead th {\n",
       "        text-align: right;\n",
       "    }\n",
       "</style>\n",
       "<table border=\"1\" class=\"dataframe\">\n",
       "  <thead>\n",
       "    <tr style=\"text-align: right;\">\n",
       "      <th></th>\n",
       "      <th>Plot</th>\n",
       "      <th>Field Species Richness</th>\n",
       "      <th>Association</th>\n",
       "      <th>Raster Species Richness June</th>\n",
       "      <th>Raster Species Richness Sep</th>\n",
       "    </tr>\n",
       "  </thead>\n",
       "  <tbody>\n",
       "    <tr>\n",
       "      <th>0</th>\n",
       "      <td>FOR01</td>\n",
       "      <td>5</td>\n",
       "      <td>Oak_hornbeam_humid</td>\n",
       "      <td>3.666667</td>\n",
       "      <td>5.333333</td>\n",
       "    </tr>\n",
       "    <tr>\n",
       "      <th>1</th>\n",
       "      <td>FOR02</td>\n",
       "      <td>7</td>\n",
       "      <td>Prunus</td>\n",
       "      <td>3.666667</td>\n",
       "      <td>2.000000</td>\n",
       "    </tr>\n",
       "    <tr>\n",
       "      <th>2</th>\n",
       "      <td>FOR03</td>\n",
       "      <td>4</td>\n",
       "      <td>Prunus</td>\n",
       "      <td>3.666667</td>\n",
       "      <td>4.666667</td>\n",
       "    </tr>\n",
       "    <tr>\n",
       "      <th>3</th>\n",
       "      <td>FOR04</td>\n",
       "      <td>2</td>\n",
       "      <td>Oak_open_canopy</td>\n",
       "      <td>2.000000</td>\n",
       "      <td>3.000000</td>\n",
       "    </tr>\n",
       "    <tr>\n",
       "      <th>4</th>\n",
       "      <td>FOR05</td>\n",
       "      <td>1</td>\n",
       "      <td>Oak_open_canopy</td>\n",
       "      <td>2.000000</td>\n",
       "      <td>2.000000</td>\n",
       "    </tr>\n",
       "  </tbody>\n",
       "</table>\n",
       "</div>"
      ],
      "text/plain": [
       "    Plot  Field Species Richness         Association  \\\n",
       "0  FOR01                       5  Oak_hornbeam_humid   \n",
       "1  FOR02                       7              Prunus   \n",
       "2  FOR03                       4              Prunus   \n",
       "3  FOR04                       2     Oak_open_canopy   \n",
       "4  FOR05                       1     Oak_open_canopy   \n",
       "\n",
       "   Raster Species Richness June  Raster Species Richness Sep  \n",
       "0                      3.666667                     5.333333  \n",
       "1                      3.666667                     2.000000  \n",
       "2                      3.666667                     4.666667  \n",
       "3                      2.000000                     3.000000  \n",
       "4                      2.000000                     2.000000  "
      ]
     },
     "execution_count": 11,
     "metadata": {},
     "output_type": "execute_result"
    }
   ],
   "source": [
    "df_Richness_1 = pd.merge(df_Field_Richness_1,df_Raster_Merge_1[['Plot','Association','Raster Species Richness June','Raster Species Richness Sep']],on = 'Plot')\n",
    "df_Richness_1.head()"
   ]
  },
  {
   "cell_type": "code",
   "execution_count": 12,
   "metadata": {},
   "outputs": [
    {
     "data": {
      "text/html": [
       "<div>\n",
       "<style scoped>\n",
       "    .dataframe tbody tr th:only-of-type {\n",
       "        vertical-align: middle;\n",
       "    }\n",
       "\n",
       "    .dataframe tbody tr th {\n",
       "        vertical-align: top;\n",
       "    }\n",
       "\n",
       "    .dataframe thead th {\n",
       "        text-align: right;\n",
       "    }\n",
       "</style>\n",
       "<table border=\"1\" class=\"dataframe\">\n",
       "  <thead>\n",
       "    <tr style=\"text-align: right;\">\n",
       "      <th></th>\n",
       "      <th>Field Species Richness</th>\n",
       "      <th>Raster Species Richness June</th>\n",
       "      <th>Raster Species Richness Sep</th>\n",
       "    </tr>\n",
       "  </thead>\n",
       "  <tbody>\n",
       "    <tr>\n",
       "      <th>count</th>\n",
       "      <td>63.000000</td>\n",
       "      <td>63.000000</td>\n",
       "      <td>63.000000</td>\n",
       "    </tr>\n",
       "    <tr>\n",
       "      <th>mean</th>\n",
       "      <td>3.507937</td>\n",
       "      <td>3.343915</td>\n",
       "      <td>2.835979</td>\n",
       "    </tr>\n",
       "    <tr>\n",
       "      <th>std</th>\n",
       "      <td>1.865415</td>\n",
       "      <td>1.215150</td>\n",
       "      <td>1.314208</td>\n",
       "    </tr>\n",
       "    <tr>\n",
       "      <th>min</th>\n",
       "      <td>1.000000</td>\n",
       "      <td>1.000000</td>\n",
       "      <td>1.000000</td>\n",
       "    </tr>\n",
       "    <tr>\n",
       "      <th>25%</th>\n",
       "      <td>2.000000</td>\n",
       "      <td>2.666667</td>\n",
       "      <td>1.833333</td>\n",
       "    </tr>\n",
       "    <tr>\n",
       "      <th>50%</th>\n",
       "      <td>3.000000</td>\n",
       "      <td>3.333333</td>\n",
       "      <td>2.666667</td>\n",
       "    </tr>\n",
       "    <tr>\n",
       "      <th>75%</th>\n",
       "      <td>4.000000</td>\n",
       "      <td>4.000000</td>\n",
       "      <td>3.666667</td>\n",
       "    </tr>\n",
       "    <tr>\n",
       "      <th>max</th>\n",
       "      <td>8.000000</td>\n",
       "      <td>6.000000</td>\n",
       "      <td>5.666667</td>\n",
       "    </tr>\n",
       "  </tbody>\n",
       "</table>\n",
       "</div>"
      ],
      "text/plain": [
       "       Field Species Richness  Raster Species Richness June  \\\n",
       "count               63.000000                     63.000000   \n",
       "mean                 3.507937                      3.343915   \n",
       "std                  1.865415                      1.215150   \n",
       "min                  1.000000                      1.000000   \n",
       "25%                  2.000000                      2.666667   \n",
       "50%                  3.000000                      3.333333   \n",
       "75%                  4.000000                      4.000000   \n",
       "max                  8.000000                      6.000000   \n",
       "\n",
       "       Raster Species Richness Sep  \n",
       "count                    63.000000  \n",
       "mean                      2.835979  \n",
       "std                       1.314208  \n",
       "min                       1.000000  \n",
       "25%                       1.833333  \n",
       "50%                       2.666667  \n",
       "75%                       3.666667  \n",
       "max                       5.666667  "
      ]
     },
     "execution_count": 12,
     "metadata": {},
     "output_type": "execute_result"
    }
   ],
   "source": [
    "df_Richness_1.describe()"
   ]
  },
  {
   "cell_type": "code",
   "execution_count": 13,
   "metadata": {},
   "outputs": [
    {
     "data": {
      "text/html": [
       "<div>\n",
       "<style scoped>\n",
       "    .dataframe tbody tr th:only-of-type {\n",
       "        vertical-align: middle;\n",
       "    }\n",
       "\n",
       "    .dataframe tbody tr th {\n",
       "        vertical-align: top;\n",
       "    }\n",
       "\n",
       "    .dataframe thead th {\n",
       "        text-align: right;\n",
       "    }\n",
       "</style>\n",
       "<table border=\"1\" class=\"dataframe\">\n",
       "  <thead>\n",
       "    <tr style=\"text-align: right;\">\n",
       "      <th></th>\n",
       "      <th>Plot</th>\n",
       "      <th>Field Species Richness</th>\n",
       "      <th>Association</th>\n",
       "      <th>Raster Species Richness June</th>\n",
       "      <th>Raster Species Richness Sep</th>\n",
       "    </tr>\n",
       "  </thead>\n",
       "  <tbody>\n",
       "    <tr>\n",
       "      <th>20</th>\n",
       "      <td>FOR21</td>\n",
       "      <td>4</td>\n",
       "      <td>Alder</td>\n",
       "      <td>2.000000</td>\n",
       "      <td>1.000000</td>\n",
       "    </tr>\n",
       "    <tr>\n",
       "      <th>19</th>\n",
       "      <td>FOR20</td>\n",
       "      <td>3</td>\n",
       "      <td>Alder</td>\n",
       "      <td>3.333333</td>\n",
       "      <td>1.000000</td>\n",
       "    </tr>\n",
       "    <tr>\n",
       "      <th>35</th>\n",
       "      <td>FOR55</td>\n",
       "      <td>2</td>\n",
       "      <td>Alder</td>\n",
       "      <td>2.000000</td>\n",
       "      <td>3.000000</td>\n",
       "    </tr>\n",
       "    <tr>\n",
       "      <th>7</th>\n",
       "      <td>FOR08</td>\n",
       "      <td>4</td>\n",
       "      <td>Alder</td>\n",
       "      <td>3.333333</td>\n",
       "      <td>2.333333</td>\n",
       "    </tr>\n",
       "    <tr>\n",
       "      <th>36</th>\n",
       "      <td>FOR56</td>\n",
       "      <td>2</td>\n",
       "      <td>Alder</td>\n",
       "      <td>2.000000</td>\n",
       "      <td>3.000000</td>\n",
       "    </tr>\n",
       "    <tr>\n",
       "      <th>...</th>\n",
       "      <td>...</td>\n",
       "      <td>...</td>\n",
       "      <td>...</td>\n",
       "      <td>...</td>\n",
       "      <td>...</td>\n",
       "    </tr>\n",
       "    <tr>\n",
       "      <th>24</th>\n",
       "      <td>FOR25</td>\n",
       "      <td>1</td>\n",
       "      <td>Pine</td>\n",
       "      <td>2.666667</td>\n",
       "      <td>2.000000</td>\n",
       "    </tr>\n",
       "    <tr>\n",
       "      <th>30</th>\n",
       "      <td>FOR31</td>\n",
       "      <td>2</td>\n",
       "      <td>Pine</td>\n",
       "      <td>2.666667</td>\n",
       "      <td>2.666667</td>\n",
       "    </tr>\n",
       "    <tr>\n",
       "      <th>58</th>\n",
       "      <td>FOR78</td>\n",
       "      <td>2</td>\n",
       "      <td>Prunus</td>\n",
       "      <td>3.333333</td>\n",
       "      <td>3.333333</td>\n",
       "    </tr>\n",
       "    <tr>\n",
       "      <th>2</th>\n",
       "      <td>FOR03</td>\n",
       "      <td>4</td>\n",
       "      <td>Prunus</td>\n",
       "      <td>3.666667</td>\n",
       "      <td>4.666667</td>\n",
       "    </tr>\n",
       "    <tr>\n",
       "      <th>1</th>\n",
       "      <td>FOR02</td>\n",
       "      <td>7</td>\n",
       "      <td>Prunus</td>\n",
       "      <td>3.666667</td>\n",
       "      <td>2.000000</td>\n",
       "    </tr>\n",
       "  </tbody>\n",
       "</table>\n",
       "<p>63 rows × 5 columns</p>\n",
       "</div>"
      ],
      "text/plain": [
       "     Plot  Field Species Richness Association  Raster Species Richness June  \\\n",
       "20  FOR21                       4       Alder                      2.000000   \n",
       "19  FOR20                       3       Alder                      3.333333   \n",
       "35  FOR55                       2       Alder                      2.000000   \n",
       "7   FOR08                       4       Alder                      3.333333   \n",
       "36  FOR56                       2       Alder                      2.000000   \n",
       "..    ...                     ...         ...                           ...   \n",
       "24  FOR25                       1        Pine                      2.666667   \n",
       "30  FOR31                       2        Pine                      2.666667   \n",
       "58  FOR78                       2      Prunus                      3.333333   \n",
       "2   FOR03                       4      Prunus                      3.666667   \n",
       "1   FOR02                       7      Prunus                      3.666667   \n",
       "\n",
       "    Raster Species Richness Sep  \n",
       "20                     1.000000  \n",
       "19                     1.000000  \n",
       "35                     3.000000  \n",
       "7                      2.333333  \n",
       "36                     3.000000  \n",
       "..                          ...  \n",
       "24                     2.000000  \n",
       "30                     2.666667  \n",
       "58                     3.333333  \n",
       "2                      4.666667  \n",
       "1                      2.000000  \n",
       "\n",
       "[63 rows x 5 columns]"
      ]
     },
     "execution_count": 13,
     "metadata": {},
     "output_type": "execute_result"
    }
   ],
   "source": [
    "df_Richness_1_Asso = df_Richness_1.copy().sort_values('Association')\n",
    "df_Richness_1_Asso"
   ]
  },
  {
   "cell_type": "code",
   "execution_count": 14,
   "metadata": {},
   "outputs": [
    {
     "data": {
      "text/html": [
       "<div>\n",
       "<style scoped>\n",
       "    .dataframe tbody tr th:only-of-type {\n",
       "        vertical-align: middle;\n",
       "    }\n",
       "\n",
       "    .dataframe tbody tr th {\n",
       "        vertical-align: top;\n",
       "    }\n",
       "\n",
       "    .dataframe thead th {\n",
       "        text-align: right;\n",
       "    }\n",
       "</style>\n",
       "<table border=\"1\" class=\"dataframe\">\n",
       "  <thead>\n",
       "    <tr style=\"text-align: right;\">\n",
       "      <th></th>\n",
       "      <th>Field Species Richness</th>\n",
       "      <th>Raster Species Richness June</th>\n",
       "      <th>Raster Species Richness Sep</th>\n",
       "    </tr>\n",
       "  </thead>\n",
       "  <tbody>\n",
       "    <tr>\n",
       "      <th>count</th>\n",
       "      <td>63.000000</td>\n",
       "      <td>63.000000</td>\n",
       "      <td>63.000000</td>\n",
       "    </tr>\n",
       "    <tr>\n",
       "      <th>mean</th>\n",
       "      <td>3.507937</td>\n",
       "      <td>3.343915</td>\n",
       "      <td>2.835979</td>\n",
       "    </tr>\n",
       "    <tr>\n",
       "      <th>std</th>\n",
       "      <td>1.865415</td>\n",
       "      <td>1.215150</td>\n",
       "      <td>1.314208</td>\n",
       "    </tr>\n",
       "    <tr>\n",
       "      <th>min</th>\n",
       "      <td>1.000000</td>\n",
       "      <td>1.000000</td>\n",
       "      <td>1.000000</td>\n",
       "    </tr>\n",
       "    <tr>\n",
       "      <th>25%</th>\n",
       "      <td>2.000000</td>\n",
       "      <td>2.666667</td>\n",
       "      <td>1.833333</td>\n",
       "    </tr>\n",
       "    <tr>\n",
       "      <th>50%</th>\n",
       "      <td>3.000000</td>\n",
       "      <td>3.333333</td>\n",
       "      <td>2.666667</td>\n",
       "    </tr>\n",
       "    <tr>\n",
       "      <th>75%</th>\n",
       "      <td>4.000000</td>\n",
       "      <td>4.000000</td>\n",
       "      <td>3.666667</td>\n",
       "    </tr>\n",
       "    <tr>\n",
       "      <th>max</th>\n",
       "      <td>8.000000</td>\n",
       "      <td>6.000000</td>\n",
       "      <td>5.666667</td>\n",
       "    </tr>\n",
       "  </tbody>\n",
       "</table>\n",
       "</div>"
      ],
      "text/plain": [
       "       Field Species Richness  Raster Species Richness June  \\\n",
       "count               63.000000                     63.000000   \n",
       "mean                 3.507937                      3.343915   \n",
       "std                  1.865415                      1.215150   \n",
       "min                  1.000000                      1.000000   \n",
       "25%                  2.000000                      2.666667   \n",
       "50%                  3.000000                      3.333333   \n",
       "75%                  4.000000                      4.000000   \n",
       "max                  8.000000                      6.000000   \n",
       "\n",
       "       Raster Species Richness Sep  \n",
       "count                    63.000000  \n",
       "mean                      2.835979  \n",
       "std                       1.314208  \n",
       "min                       1.000000  \n",
       "25%                       1.833333  \n",
       "50%                       2.666667  \n",
       "75%                       3.666667  \n",
       "max                       5.666667  "
      ]
     },
     "execution_count": 14,
     "metadata": {},
     "output_type": "execute_result"
    }
   ],
   "source": [
    "df_Richness_1_Asso_NoZero = df_Richness_1_Asso.copy()\n",
    "df_Richness_1_Asso_NoZero = df_Richness_1_Asso_NoZero[df_Richness_1_Asso_NoZero['Raster Species Richness June'] != 0]\n",
    "df_Richness_1_Asso_NoZero = df_Richness_1_Asso_NoZero[df_Richness_1_Asso_NoZero['Raster Species Richness Sep'] != 0]\n",
    "df_Richness_1_Asso_NoZero.describe()"
   ]
  },
  {
   "cell_type": "code",
   "execution_count": 15,
   "metadata": {},
   "outputs": [
    {
     "data": {
      "image/png": "[encoded data removed]",
      "text/plain": [
       "<Figure size 1000x1000 with 1 Axes>"
      ]
     },
     "metadata": {},
     "output_type": "display_data"
    }
   ],
   "source": [
    "fig, ax1 = plt.subplots(figsize = (10,10))\n",
    "sns.scatterplot(x = 'Field Species Richness',y = 'Raster Species Richness June', data = df_Richness_1_Asso, hue = 'Association', \n",
    "                palette=['Black','Grey','Pink','Red','Purple','Green','Blue','Yellow','Orange','Maroon','Aqua'],\n",
    "                s=100, ax = ax1)\n",
    "sns.move_legend(ax1,'upper left',bbox_to_anchor= (1,1))\n",
    "ax1.grid()\n",
    "plt.title('Species Richness: Field Value - Raster June Value')\n",
    "plt.show()"
   ]
  },
  {
   "cell_type": "code",
   "execution_count": 16,
   "metadata": {},
   "outputs": [
    {
     "data": {
      "image/png": "[encoded data removed]",
      "text/plain": [
       "<Figure size 1000x1000 with 1 Axes>"
      ]
     },
     "metadata": {},
     "output_type": "display_data"
    }
   ],
   "source": [
    "fig, ax1 = plt.subplots(figsize = (10,10))\n",
    "sns.scatterplot(x = 'Field Species Richness',y = 'Raster Species Richness Sep', data = df_Richness_1_Asso, hue = 'Association', \n",
    "                palette=['Black','Grey','Pink','Red','Purple','Green','Blue','Yellow','Orange','Maroon','Aqua'],\n",
    "                s=100, ax = ax1)\n",
    "sns.move_legend(ax1,'upper left',bbox_to_anchor= (1,1))\n",
    "ax1.grid()\n",
    "plt.title('Species Richness: Field Value - Raster Sep Value')\n",
    "plt.show()"
   ]
  },
  {
   "cell_type": "code",
   "execution_count": 17,
   "metadata": {},
   "outputs": [
    {
     "name": "stdout",
     "output_type": "stream",
     "text": [
      "0.5847747237494278\n",
      "0.5597617273793593\n",
      "We fail to reject NULL HYPOTHESIS!\n",
      "The Pearson correlation coefficient is equal to 0.31067076611166755; the p value is 0.013206604152311625\n",
      "Perfect! The Pearson correlation coefficient is considered statistically significant!\n"
     ]
    }
   ],
   "source": [
    "# Null hypothesis! \n",
    "t_stat, pvalue = ttest_ind(df_Richness_1_Asso_NoZero['Field Species Richness'], df_Richness_1_Asso_NoZero['Raster Species Richness June'])\n",
    "print(t_stat)\n",
    "print(pvalue)\n",
    "if pvalue < 0.05:\n",
    "    print(\"We reject NULL HYPOTHESIS! Therefore we can conclude that there is a definite relationship between Field Species Richness and Raster Species Richness!\")\n",
    "else: \n",
    "    print(\"We fail to reject NULL HYPOTHESIS!\")\n",
    "# Pearson Coefficient\n",
    "pear = stats.pearsonr(df_Richness_1_Asso_NoZero['Field Species Richness'], df_Richness_1_Asso_NoZero['Raster Species Richness June'])\n",
    "print(\"The Pearson correlation coefficient is equal to \" + str(pear.statistic) + \"; the p value is \" + str(pear.pvalue))\n",
    "if pear.pvalue <= 0.05:\n",
    "    print(\"Perfect! The Pearson correlation coefficient is considered statistically significant!\")\n",
    "else:\n",
    "    print(\"Indecisive! The Pearson correlation coefficient is not considered statistically significant!\")"
   ]
  },
  {
   "cell_type": "code",
   "execution_count": 18,
   "metadata": {},
   "outputs": [
    {
     "data": {
      "text/plain": [
       "-0.02744261330194253"
      ]
     },
     "execution_count": 18,
     "metadata": {},
     "output_type": "execute_result"
    }
   ],
   "source": [
    "r2_score(df_Richness_1_Asso_NoZero['Field Species Richness'], df_Richness_1_Asso_NoZero['Raster Species Richness June'])"
   ]
  },
  {
   "cell_type": "code",
   "execution_count": 19,
   "metadata": {},
   "outputs": [
    {
     "data": {
      "text/plain": [
       "1.4338624338624337"
      ]
     },
     "execution_count": 19,
     "metadata": {},
     "output_type": "execute_result"
    }
   ],
   "source": [
    "mae(df_Richness_1_Asso_NoZero['Field Species Richness'], df_Richness_1_Asso_NoZero['Raster Species Richness June'])"
   ]
  },
  {
   "cell_type": "code",
   "execution_count": 20,
   "metadata": {},
   "outputs": [
    {
     "name": "stdout",
     "output_type": "stream",
     "text": [
      "2.3373395986792778\n",
      "0.021024081813560816\n",
      "We reject NULL HYPOTHESIS! Therefore we can conclude that there is a definite relationship between Field Species Richness and Raster Species Richness!\n",
      "The Pearson correlation coefficient is equal to 0.15953522830319175; the p value is 0.21169007000619874\n",
      "Indecisive! The Pearson correlation coefficient is not considered statistically significant!\n"
     ]
    }
   ],
   "source": [
    "# Null hypothesis! \n",
    "t_stat, pvalue = ttest_ind(df_Richness_1_Asso_NoZero['Field Species Richness'], df_Richness_1_Asso_NoZero['Raster Species Richness Sep'])\n",
    "print(t_stat)\n",
    "print(pvalue)\n",
    "if pvalue < 0.05:\n",
    "    print(\"We reject NULL HYPOTHESIS! Therefore we can conclude that there is a definite relationship between Field Species Richness and Raster Species Richness!\")\n",
    "else: \n",
    "    print(\"We fail to reject NULL HYPOTHESIS!\")\n",
    "# Pearson Coefficient\n",
    "pear = stats.pearsonr(df_Richness_1_Asso_NoZero['Field Species Richness'], df_Richness_1_Asso_NoZero['Raster Species Richness Sep'])\n",
    "print(\"The Pearson correlation coefficient is equal to \" + str(pear.statistic) + \"; the p value is \" + str(pear.pvalue))\n",
    "if pear.pvalue <= 0.05:\n",
    "    print(\"Perfect! The Pearson correlation coefficient is considered statistically significant!\")\n",
    "else:\n",
    "    print(\"Indecisive! The Pearson correlation coefficient is not considered statistically significant!\")"
   ]
  },
  {
   "cell_type": "code",
   "execution_count": 21,
   "metadata": {},
   "outputs": [
    {
     "data": {
      "text/plain": [
       "-0.403399058269571"
      ]
     },
     "execution_count": 21,
     "metadata": {},
     "output_type": "execute_result"
    }
   ],
   "source": [
    "r2_score(df_Richness_1['Field Species Richness'], df_Richness_1['Raster Species Richness Sep'])"
   ]
  },
  {
   "cell_type": "code",
   "execution_count": 22,
   "metadata": {},
   "outputs": [
    {
     "data": {
      "text/plain": [
       "1.708994708994709"
      ]
     },
     "execution_count": 22,
     "metadata": {},
     "output_type": "execute_result"
    }
   ],
   "source": [
    "mae(df_Richness_1_Asso_NoZero['Field Species Richness'], df_Richness_1_Asso_NoZero['Raster Species Richness Sep'])"
   ]
  },
  {
   "cell_type": "markdown",
   "metadata": {},
   "source": [
    "## Shannon"
   ]
  },
  {
   "cell_type": "code",
   "execution_count": 23,
   "metadata": {},
   "outputs": [
    {
     "data": {
      "text/html": [
       "<div>\n",
       "<style scoped>\n",
       "    .dataframe tbody tr th:only-of-type {\n",
       "        vertical-align: middle;\n",
       "    }\n",
       "\n",
       "    .dataframe tbody tr th {\n",
       "        vertical-align: top;\n",
       "    }\n",
       "\n",
       "    .dataframe thead th {\n",
       "        text-align: right;\n",
       "    }\n",
       "</style>\n",
       "<table border=\"1\" class=\"dataframe\">\n",
       "  <thead>\n",
       "    <tr style=\"text-align: right;\">\n",
       "      <th></th>\n",
       "      <th>Plot</th>\n",
       "      <th>Field Shannon</th>\n",
       "    </tr>\n",
       "  </thead>\n",
       "  <tbody>\n",
       "    <tr>\n",
       "      <th>0</th>\n",
       "      <td>FOR01</td>\n",
       "      <td>1.267990</td>\n",
       "    </tr>\n",
       "    <tr>\n",
       "      <th>1</th>\n",
       "      <td>FOR02</td>\n",
       "      <td>1.604816</td>\n",
       "    </tr>\n",
       "    <tr>\n",
       "      <th>2</th>\n",
       "      <td>FOR03</td>\n",
       "      <td>0.534923</td>\n",
       "    </tr>\n",
       "    <tr>\n",
       "      <th>3</th>\n",
       "      <td>FOR04</td>\n",
       "      <td>0.474139</td>\n",
       "    </tr>\n",
       "    <tr>\n",
       "      <th>4</th>\n",
       "      <td>FOR05</td>\n",
       "      <td>0.000000</td>\n",
       "    </tr>\n",
       "  </tbody>\n",
       "</table>\n",
       "</div>"
      ],
      "text/plain": [
       "    Plot  Field Shannon\n",
       "0  FOR01       1.267990\n",
       "1  FOR02       1.604816\n",
       "2  FOR03       0.534923\n",
       "3  FOR04       0.474139\n",
       "4  FOR05       0.000000"
      ]
     },
     "execution_count": 23,
     "metadata": {},
     "output_type": "execute_result"
    }
   ],
   "source": [
    "df_Field_Shannon = pd.read_csv(cwd_Field_DataMerged_CSV_Indices + \"\\\\FieldDataMerged Valid Shannon.csv\")\n",
    "df_Field_Shannon.head()"
   ]
  },
  {
   "cell_type": "code",
   "execution_count": 24,
   "metadata": {},
   "outputs": [],
   "source": [
    "df_Field_Shannon_1 = df_Field_Shannon.copy().iloc[0:63,:]"
   ]
  },
  {
   "cell_type": "code",
   "execution_count": 25,
   "metadata": {},
   "outputs": [
    {
     "data": {
      "text/html": [
       "<div>\n",
       "<style scoped>\n",
       "    .dataframe tbody tr th:only-of-type {\n",
       "        vertical-align: middle;\n",
       "    }\n",
       "\n",
       "    .dataframe tbody tr th {\n",
       "        vertical-align: top;\n",
       "    }\n",
       "\n",
       "    .dataframe thead th {\n",
       "        text-align: right;\n",
       "    }\n",
       "</style>\n",
       "<table border=\"1\" class=\"dataframe\">\n",
       "  <thead>\n",
       "    <tr style=\"text-align: right;\">\n",
       "      <th></th>\n",
       "      <th>Plot</th>\n",
       "      <th>Field Shannon</th>\n",
       "      <th>Association</th>\n",
       "      <th>Raster Shannon June</th>\n",
       "      <th>Raster Shannon Sep</th>\n",
       "    </tr>\n",
       "  </thead>\n",
       "  <tbody>\n",
       "    <tr>\n",
       "      <th>58</th>\n",
       "      <td>FOR78</td>\n",
       "      <td>0.286836</td>\n",
       "      <td>Prunus</td>\n",
       "      <td>0.858357</td>\n",
       "      <td>0.930300</td>\n",
       "    </tr>\n",
       "    <tr>\n",
       "      <th>59</th>\n",
       "      <td>FOR79</td>\n",
       "      <td>1.344339</td>\n",
       "      <td>Mixed deciduous</td>\n",
       "      <td>0.952244</td>\n",
       "      <td>1.032519</td>\n",
       "    </tr>\n",
       "    <tr>\n",
       "      <th>60</th>\n",
       "      <td>FOR80</td>\n",
       "      <td>0.918320</td>\n",
       "      <td>Mixed deciduous</td>\n",
       "      <td>0.709776</td>\n",
       "      <td>0.148905</td>\n",
       "    </tr>\n",
       "    <tr>\n",
       "      <th>61</th>\n",
       "      <td>FOR81</td>\n",
       "      <td>1.301362</td>\n",
       "      <td>Mixed deciduous</td>\n",
       "      <td>0.580918</td>\n",
       "      <td>1.368768</td>\n",
       "    </tr>\n",
       "    <tr>\n",
       "      <th>62</th>\n",
       "      <td>FOR82</td>\n",
       "      <td>1.193337</td>\n",
       "      <td>Mixed deciduous</td>\n",
       "      <td>0.434512</td>\n",
       "      <td>1.025898</td>\n",
       "    </tr>\n",
       "  </tbody>\n",
       "</table>\n",
       "</div>"
      ],
      "text/plain": [
       "     Plot  Field Shannon      Association  Raster Shannon June  \\\n",
       "58  FOR78       0.286836           Prunus             0.858357   \n",
       "59  FOR79       1.344339  Mixed deciduous             0.952244   \n",
       "60  FOR80       0.918320  Mixed deciduous             0.709776   \n",
       "61  FOR81       1.301362  Mixed deciduous             0.580918   \n",
       "62  FOR82       1.193337  Mixed deciduous             0.434512   \n",
       "\n",
       "    Raster Shannon Sep  \n",
       "58            0.930300  \n",
       "59            1.032519  \n",
       "60            0.148905  \n",
       "61            1.368768  \n",
       "62            1.025898  "
      ]
     },
     "execution_count": 25,
     "metadata": {},
     "output_type": "execute_result"
    }
   ],
   "source": [
    "df_Shannon_1 = pd.merge(df_Field_Shannon_1,df_Raster_Merge_1[['Plot','Association','Raster Shannon June','Raster Shannon Sep']],on = 'Plot')\n",
    "df_Shannon_1.tail()"
   ]
  },
  {
   "cell_type": "code",
   "execution_count": 26,
   "metadata": {},
   "outputs": [
    {
     "data": {
      "text/html": [
       "<div>\n",
       "<style scoped>\n",
       "    .dataframe tbody tr th:only-of-type {\n",
       "        vertical-align: middle;\n",
       "    }\n",
       "\n",
       "    .dataframe tbody tr th {\n",
       "        vertical-align: top;\n",
       "    }\n",
       "\n",
       "    .dataframe thead th {\n",
       "        text-align: right;\n",
       "    }\n",
       "</style>\n",
       "<table border=\"1\" class=\"dataframe\">\n",
       "  <thead>\n",
       "    <tr style=\"text-align: right;\">\n",
       "      <th></th>\n",
       "      <th>Plot</th>\n",
       "      <th>Field Shannon</th>\n",
       "      <th>Association</th>\n",
       "      <th>Raster Shannon June</th>\n",
       "      <th>Raster Shannon Sep</th>\n",
       "    </tr>\n",
       "  </thead>\n",
       "  <tbody>\n",
       "    <tr>\n",
       "      <th>24</th>\n",
       "      <td>FOR25</td>\n",
       "      <td>0.000000</td>\n",
       "      <td>Pine</td>\n",
       "      <td>0.706392</td>\n",
       "      <td>0.332403</td>\n",
       "    </tr>\n",
       "    <tr>\n",
       "      <th>30</th>\n",
       "      <td>FOR31</td>\n",
       "      <td>0.146145</td>\n",
       "      <td>Pine</td>\n",
       "      <td>0.417240</td>\n",
       "      <td>0.315737</td>\n",
       "    </tr>\n",
       "    <tr>\n",
       "      <th>58</th>\n",
       "      <td>FOR78</td>\n",
       "      <td>0.286836</td>\n",
       "      <td>Prunus</td>\n",
       "      <td>0.858357</td>\n",
       "      <td>0.930300</td>\n",
       "    </tr>\n",
       "    <tr>\n",
       "      <th>2</th>\n",
       "      <td>FOR03</td>\n",
       "      <td>0.534923</td>\n",
       "      <td>Prunus</td>\n",
       "      <td>1.054806</td>\n",
       "      <td>1.165272</td>\n",
       "    </tr>\n",
       "    <tr>\n",
       "      <th>1</th>\n",
       "      <td>FOR02</td>\n",
       "      <td>1.604816</td>\n",
       "      <td>Prunus</td>\n",
       "      <td>0.934091</td>\n",
       "      <td>0.582449</td>\n",
       "    </tr>\n",
       "  </tbody>\n",
       "</table>\n",
       "</div>"
      ],
      "text/plain": [
       "     Plot  Field Shannon Association  Raster Shannon June  Raster Shannon Sep\n",
       "24  FOR25       0.000000        Pine             0.706392            0.332403\n",
       "30  FOR31       0.146145        Pine             0.417240            0.315737\n",
       "58  FOR78       0.286836      Prunus             0.858357            0.930300\n",
       "2   FOR03       0.534923      Prunus             1.054806            1.165272\n",
       "1   FOR02       1.604816      Prunus             0.934091            0.582449"
      ]
     },
     "execution_count": 26,
     "metadata": {},
     "output_type": "execute_result"
    }
   ],
   "source": [
    "df_Shannon_1_Asso = df_Shannon_1.copy().sort_values('Association')\n",
    "df_Shannon_1_Asso.tail()"
   ]
  },
  {
   "cell_type": "code",
   "execution_count": 27,
   "metadata": {},
   "outputs": [
    {
     "data": {
      "text/html": [
       "<div>\n",
       "<style scoped>\n",
       "    .dataframe tbody tr th:only-of-type {\n",
       "        vertical-align: middle;\n",
       "    }\n",
       "\n",
       "    .dataframe tbody tr th {\n",
       "        vertical-align: top;\n",
       "    }\n",
       "\n",
       "    .dataframe thead th {\n",
       "        text-align: right;\n",
       "    }\n",
       "</style>\n",
       "<table border=\"1\" class=\"dataframe\">\n",
       "  <thead>\n",
       "    <tr style=\"text-align: right;\">\n",
       "      <th></th>\n",
       "      <th>Field Shannon</th>\n",
       "      <th>Raster Shannon June</th>\n",
       "      <th>Raster Shannon Sep</th>\n",
       "    </tr>\n",
       "  </thead>\n",
       "  <tbody>\n",
       "    <tr>\n",
       "      <th>count</th>\n",
       "      <td>63.000000</td>\n",
       "      <td>63.000000</td>\n",
       "      <td>63.000000</td>\n",
       "    </tr>\n",
       "    <tr>\n",
       "      <th>mean</th>\n",
       "      <td>0.793971</td>\n",
       "      <td>0.841869</td>\n",
       "      <td>0.649413</td>\n",
       "    </tr>\n",
       "    <tr>\n",
       "      <th>std</th>\n",
       "      <td>0.519653</td>\n",
       "      <td>0.372951</td>\n",
       "      <td>0.447327</td>\n",
       "    </tr>\n",
       "    <tr>\n",
       "      <th>min</th>\n",
       "      <td>0.000000</td>\n",
       "      <td>0.000000</td>\n",
       "      <td>0.000000</td>\n",
       "    </tr>\n",
       "    <tr>\n",
       "      <th>25%</th>\n",
       "      <td>0.401475</td>\n",
       "      <td>0.644100</td>\n",
       "      <td>0.266630</td>\n",
       "    </tr>\n",
       "    <tr>\n",
       "      <th>50%</th>\n",
       "      <td>0.804448</td>\n",
       "      <td>0.858357</td>\n",
       "      <td>0.781299</td>\n",
       "    </tr>\n",
       "    <tr>\n",
       "      <th>75%</th>\n",
       "      <td>1.180566</td>\n",
       "      <td>1.058453</td>\n",
       "      <td>0.979597</td>\n",
       "    </tr>\n",
       "    <tr>\n",
       "      <th>max</th>\n",
       "      <td>1.794190</td>\n",
       "      <td>1.495089</td>\n",
       "      <td>1.571857</td>\n",
       "    </tr>\n",
       "  </tbody>\n",
       "</table>\n",
       "</div>"
      ],
      "text/plain": [
       "       Field Shannon  Raster Shannon June  Raster Shannon Sep\n",
       "count      63.000000            63.000000           63.000000\n",
       "mean        0.793971             0.841869            0.649413\n",
       "std         0.519653             0.372951            0.447327\n",
       "min         0.000000             0.000000            0.000000\n",
       "25%         0.401475             0.644100            0.266630\n",
       "50%         0.804448             0.858357            0.781299\n",
       "75%         1.180566             1.058453            0.979597\n",
       "max         1.794190             1.495089            1.571857"
      ]
     },
     "execution_count": 27,
     "metadata": {},
     "output_type": "execute_result"
    }
   ],
   "source": [
    "df_Shannon_1_Asso.describe()"
   ]
  },
  {
   "cell_type": "code",
   "execution_count": 28,
   "metadata": {},
   "outputs": [
    {
     "data": {
      "text/html": [
       "<div>\n",
       "<style scoped>\n",
       "    .dataframe tbody tr th:only-of-type {\n",
       "        vertical-align: middle;\n",
       "    }\n",
       "\n",
       "    .dataframe tbody tr th {\n",
       "        vertical-align: top;\n",
       "    }\n",
       "\n",
       "    .dataframe thead th {\n",
       "        text-align: right;\n",
       "    }\n",
       "</style>\n",
       "<table border=\"1\" class=\"dataframe\">\n",
       "  <thead>\n",
       "    <tr style=\"text-align: right;\">\n",
       "      <th></th>\n",
       "      <th>Plot</th>\n",
       "      <th>Field Shannon</th>\n",
       "      <th>Association</th>\n",
       "      <th>Raster Shannon June</th>\n",
       "      <th>Raster Shannon Sep</th>\n",
       "    </tr>\n",
       "  </thead>\n",
       "  <tbody>\n",
       "    <tr>\n",
       "      <th>20</th>\n",
       "      <td>FOR21</td>\n",
       "      <td>0.942002</td>\n",
       "      <td>Alder</td>\n",
       "      <td>0.644100</td>\n",
       "      <td>0.000000</td>\n",
       "    </tr>\n",
       "    <tr>\n",
       "      <th>19</th>\n",
       "      <td>FOR20</td>\n",
       "      <td>0.886464</td>\n",
       "      <td>Alder</td>\n",
       "      <td>0.668664</td>\n",
       "      <td>0.000000</td>\n",
       "    </tr>\n",
       "    <tr>\n",
       "      <th>35</th>\n",
       "      <td>FOR55</td>\n",
       "      <td>0.276191</td>\n",
       "      <td>Alder</td>\n",
       "      <td>0.644100</td>\n",
       "      <td>0.991821</td>\n",
       "    </tr>\n",
       "    <tr>\n",
       "      <th>7</th>\n",
       "      <td>FOR08</td>\n",
       "      <td>0.804448</td>\n",
       "      <td>Alder</td>\n",
       "      <td>0.869958</td>\n",
       "      <td>0.781704</td>\n",
       "    </tr>\n",
       "    <tr>\n",
       "      <th>36</th>\n",
       "      <td>FOR56</td>\n",
       "      <td>0.482578</td>\n",
       "      <td>Alder</td>\n",
       "      <td>0.416379</td>\n",
       "      <td>0.962411</td>\n",
       "    </tr>\n",
       "  </tbody>\n",
       "</table>\n",
       "</div>"
      ],
      "text/plain": [
       "     Plot  Field Shannon Association  Raster Shannon June  Raster Shannon Sep\n",
       "20  FOR21       0.942002       Alder             0.644100            0.000000\n",
       "19  FOR20       0.886464       Alder             0.668664            0.000000\n",
       "35  FOR55       0.276191       Alder             0.644100            0.991821\n",
       "7   FOR08       0.804448       Alder             0.869958            0.781704\n",
       "36  FOR56       0.482578       Alder             0.416379            0.962411"
      ]
     },
     "execution_count": 28,
     "metadata": {},
     "output_type": "execute_result"
    }
   ],
   "source": [
    "df_Shannon_1_Asso_NoZero = df_Shannon_1_Asso.copy()\n",
    "df_Shannon_1_Asso_NoZero = df_Shannon_1_Asso_NoZero.loc[df_Shannon_1_Asso_NoZero['Field Shannon']!=0]\n",
    "df_Shannon_1_Asso_NoZero.head()"
   ]
  },
  {
   "cell_type": "code",
   "execution_count": 29,
   "metadata": {},
   "outputs": [
    {
     "data": {
      "text/html": [
       "<div>\n",
       "<style scoped>\n",
       "    .dataframe tbody tr th:only-of-type {\n",
       "        vertical-align: middle;\n",
       "    }\n",
       "\n",
       "    .dataframe tbody tr th {\n",
       "        vertical-align: top;\n",
       "    }\n",
       "\n",
       "    .dataframe thead th {\n",
       "        text-align: right;\n",
       "    }\n",
       "</style>\n",
       "<table border=\"1\" class=\"dataframe\">\n",
       "  <thead>\n",
       "    <tr style=\"text-align: right;\">\n",
       "      <th></th>\n",
       "      <th>Field Shannon</th>\n",
       "      <th>Raster Shannon June</th>\n",
       "      <th>Raster Shannon Sep</th>\n",
       "    </tr>\n",
       "  </thead>\n",
       "  <tbody>\n",
       "    <tr>\n",
       "      <th>count</th>\n",
       "      <td>55.000000</td>\n",
       "      <td>55.000000</td>\n",
       "      <td>55.000000</td>\n",
       "    </tr>\n",
       "    <tr>\n",
       "      <th>mean</th>\n",
       "      <td>0.909458</td>\n",
       "      <td>0.907241</td>\n",
       "      <td>0.703341</td>\n",
       "    </tr>\n",
       "    <tr>\n",
       "      <th>std</th>\n",
       "      <td>0.450632</td>\n",
       "      <td>0.324993</td>\n",
       "      <td>0.436211</td>\n",
       "    </tr>\n",
       "    <tr>\n",
       "      <th>min</th>\n",
       "      <td>0.146145</td>\n",
       "      <td>0.000000</td>\n",
       "      <td>0.000000</td>\n",
       "    </tr>\n",
       "    <tr>\n",
       "      <th>25%</th>\n",
       "      <td>0.526555</td>\n",
       "      <td>0.674060</td>\n",
       "      <td>0.305638</td>\n",
       "    </tr>\n",
       "    <tr>\n",
       "      <th>50%</th>\n",
       "      <td>0.908062</td>\n",
       "      <td>0.869958</td>\n",
       "      <td>0.805545</td>\n",
       "    </tr>\n",
       "    <tr>\n",
       "      <th>75%</th>\n",
       "      <td>1.257899</td>\n",
       "      <td>1.142481</td>\n",
       "      <td>0.995890</td>\n",
       "    </tr>\n",
       "    <tr>\n",
       "      <th>max</th>\n",
       "      <td>1.794190</td>\n",
       "      <td>1.495089</td>\n",
       "      <td>1.571857</td>\n",
       "    </tr>\n",
       "  </tbody>\n",
       "</table>\n",
       "</div>"
      ],
      "text/plain": [
       "       Field Shannon  Raster Shannon June  Raster Shannon Sep\n",
       "count      55.000000            55.000000           55.000000\n",
       "mean        0.909458             0.907241            0.703341\n",
       "std         0.450632             0.324993            0.436211\n",
       "min         0.146145             0.000000            0.000000\n",
       "25%         0.526555             0.674060            0.305638\n",
       "50%         0.908062             0.869958            0.805545\n",
       "75%         1.257899             1.142481            0.995890\n",
       "max         1.794190             1.495089            1.571857"
      ]
     },
     "execution_count": 29,
     "metadata": {},
     "output_type": "execute_result"
    }
   ],
   "source": [
    "df_Shannon_1_Asso_NoZero.describe()"
   ]
  },
  {
   "cell_type": "code",
   "execution_count": 30,
   "metadata": {},
   "outputs": [
    {
     "data": {
      "image/png": "[encoded data removed]",
      "text/plain": [
       "<Figure size 1000x1000 with 1 Axes>"
      ]
     },
     "metadata": {},
     "output_type": "display_data"
    }
   ],
   "source": [
    "fig, ax1 = plt.subplots(figsize = (10,10))\n",
    "sns.scatterplot(x = 'Field Shannon',y = 'Raster Shannon June', data = df_Shannon_1_Asso, hue = 'Association', \n",
    "                palette=['Black','Grey','Pink','Red','Purple','Green','Blue','Yellow','Orange','Maroon','Aqua'],\n",
    "                s=100, ax = ax1)\n",
    "sns.move_legend(ax1,'upper left',bbox_to_anchor= (1,1))\n",
    "ax1.grid()\n",
    "plt.title('Shannon: Field Value - Raster June Value')\n",
    "plt.show()"
   ]
  },
  {
   "cell_type": "code",
   "execution_count": 31,
   "metadata": {},
   "outputs": [
    {
     "name": "stdout",
     "output_type": "stream",
     "text": [
      "0.02959312607084562\n",
      "0.976446164549215\n",
      "We fail to reject NULL HYPOTHESIS!\n",
      "The Pearson correlation coefficient is equal to 0.05435484253567871; the p value is 0.6934784123557385\n",
      "Indecisive! The Pearson correlation coefficient is not considered statistically significant!\n"
     ]
    }
   ],
   "source": [
    "# Null hypothesis! \n",
    "t_stat, pvalue = ttest_ind(df_Shannon_1_Asso_NoZero['Field Shannon'], df_Shannon_1_Asso_NoZero['Raster Shannon June'])\n",
    "print(t_stat)\n",
    "print(pvalue)\n",
    "if pvalue < 0.05:\n",
    "    print(\"We reject NULL HYPOTHESIS! Therefore we can conclude that there is a definite relationship between Field Shannon Index and Raster Shannon Index!\")\n",
    "else: \n",
    "    print(\"We fail to reject NULL HYPOTHESIS!\")\n",
    "# Pearson Coefficient\n",
    "pear = stats.pearsonr(df_Shannon_1_Asso_NoZero['Field Shannon'], df_Shannon_1_Asso_NoZero['Raster Shannon June'])\n",
    "print(\"The Pearson correlation coefficient is equal to \" + str(pear.statistic) + \"; the p value is \" + str(pear.pvalue))\n",
    "if pear.pvalue <= 0.05:\n",
    "    print(\"Perfect! The Pearson correlation coefficient is considered statistically significant!\")\n",
    "else:\n",
    "    print(\"Indecisive! The Pearson correlation coefficient is not considered statistically significant!\")"
   ]
  },
  {
   "cell_type": "code",
   "execution_count": 32,
   "metadata": {},
   "outputs": [
    {
     "data": {
      "text/plain": [
       "-0.08175025615746656"
      ]
     },
     "execution_count": 32,
     "metadata": {},
     "output_type": "execute_result"
    }
   ],
   "source": [
    "r2_score(df_Shannon_1['Field Shannon'], df_Shannon_1['Raster Shannon June'])"
   ]
  },
  {
   "cell_type": "code",
   "execution_count": 33,
   "metadata": {},
   "outputs": [
    {
     "data": {
      "text/plain": [
       "0.44096351987028415"
      ]
     },
     "execution_count": 33,
     "metadata": {},
     "output_type": "execute_result"
    }
   ],
   "source": [
    "mae(df_Shannon_1['Field Shannon'], df_Shannon_1['Raster Shannon June'])"
   ]
  },
  {
   "cell_type": "code",
   "execution_count": 34,
   "metadata": {},
   "outputs": [
    {
     "data": {
      "image/png": "[encoded data removed]",
      "text/plain": [
       "<Figure size 1000x1000 with 1 Axes>"
      ]
     },
     "metadata": {},
     "output_type": "display_data"
    }
   ],
   "source": [
    "fig, ax1 = plt.subplots(figsize = (10,10))\n",
    "sns.scatterplot(x = 'Field Shannon',y = 'Raster Shannon Sep', data = df_Shannon_1_Asso, hue = 'Association', \n",
    "                palette=['Black','Grey','Pink','Red','Purple','Green','Blue','Yellow','Orange','Maroon','Aqua'],\n",
    "                s=100, ax = ax1)\n",
    "sns.move_legend(ax1,'upper left',bbox_to_anchor= (1,1))\n",
    "ax1.grid()\n",
    "plt.title('Shannon: X: Field Value | Y: Raster September Value')\n",
    "plt.show()"
   ]
  },
  {
   "cell_type": "code",
   "execution_count": 35,
   "metadata": {},
   "outputs": [
    {
     "name": "stdout",
     "output_type": "stream",
     "text": [
      "2.437282818320297\n",
      "0.016431111465136955\n",
      "We reject NULL HYPOTHESIS! Therefore we can conclude that there is a definite relationship between Field Shannon Index and Raster Shannon Index!\n",
      "The Pearson correlation coefficient is equal to 0.0023869395384308115; the p value is 0.9862009259437484\n",
      "Indecisive! The Pearson correlation coefficient is not considered statistically significant!\n"
     ]
    }
   ],
   "source": [
    "# Null hypothesis! \n",
    "t_stat, pvalue = ttest_ind(df_Shannon_1_Asso_NoZero['Field Shannon'], df_Shannon_1_Asso_NoZero['Raster Shannon Sep'])\n",
    "print(t_stat)\n",
    "print(pvalue)\n",
    "if pvalue < 0.05:\n",
    "    print(\"We reject NULL HYPOTHESIS! Therefore we can conclude that there is a definite relationship between Field Shannon Index and Raster Shannon Index!\")\n",
    "else: \n",
    "    print(\"We fail to reject NULL HYPOTHESIS!\")\n",
    "# Pearson Coefficient\n",
    "pear = stats.pearsonr(df_Shannon_1_Asso_NoZero['Field Shannon'], df_Shannon_1_Asso_NoZero['Raster Shannon Sep'])\n",
    "print(\"The Pearson correlation coefficient is equal to \" + str(pear.statistic) + \"; the p value is \" + str(pear.pvalue))\n",
    "if pear.pvalue <= 0.05:\n",
    "    print(\"Perfect! The Pearson correlation coefficient is considered statistically significant!\")\n",
    "else:\n",
    "    print(\"Indecisive! The Pearson correlation coefficient is not considered statistically significant!\")"
   ]
  },
  {
   "cell_type": "code",
   "execution_count": 36,
   "metadata": {},
   "outputs": [
    {
     "data": {
      "text/plain": [
       "-0.4943824262108065"
      ]
     },
     "execution_count": 36,
     "metadata": {},
     "output_type": "execute_result"
    }
   ],
   "source": [
    "r2_score(df_Shannon_1['Field Shannon'], df_Shannon_1['Raster Shannon Sep'])"
   ]
  },
  {
   "cell_type": "code",
   "execution_count": 37,
   "metadata": {},
   "outputs": [
    {
     "data": {
      "text/plain": [
       "0.5103971083629001"
      ]
     },
     "execution_count": 37,
     "metadata": {},
     "output_type": "execute_result"
    }
   ],
   "source": [
    "mae(df_Shannon_1['Field Shannon'], df_Shannon_1['Raster Shannon Sep'])"
   ]
  },
  {
   "cell_type": "code",
   "execution_count": null,
   "metadata": {},
   "outputs": [],
   "source": []
  }
 ],
 "metadata": {
  "kernelspec": {
   "display_name": "Ticino",
   "language": "python",
   "name": "python3"
  },
  "language_info": {
   "codemirror_mode": {
    "name": "ipython",
    "version": 3
   },
   "file_extension": ".py",
   "mimetype": "text/x-python",
   "name": "python",
   "nbconvert_exporter": "python",
   "pygments_lexer": "ipython3",
   "version": "3.10.12"
  }
 },
 "nbformat": 4,
 "nbformat_minor": 2
}
