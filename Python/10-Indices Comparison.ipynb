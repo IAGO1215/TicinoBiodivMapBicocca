{
 "cells": [
  {
   "cell_type": "markdown",
   "metadata": {},
   "source": [
    "# This notebook is dedicated to compare the biodiversity indices calculated from field data and calculated from spectral species map. "
   ]
  },
  {
   "cell_type": "code",
   "execution_count": 262,
   "metadata": {},
   "outputs": [],
   "source": [
    "import numpy as np\n",
    "import pandas as pd\n",
    "from scipy.stats import ttest_ind\n",
    "from sklearn.metrics import r2_score\n",
    "from sklearn.metrics import mean_absolute_error as mae \n",
    "\n",
    "from scipy import stats\n",
    "from matplotlib import pyplot as plt"
   ]
  },
  {
   "cell_type": "code",
   "execution_count": 263,
   "metadata": {},
   "outputs": [],
   "source": [
    "# Set some directories. Here we use absolute directories. \n",
    "cwd = 'c:\\\\Users\\\\m1865\\\\Desktop\\\\Ticino'\n",
    "cwd_Field = cwd + '\\\\FieldData'\n",
    "cwd_Field_DataMerged = cwd_Field + '\\\\Field Dataset Merged'\n",
    "cwd_Field_DataMerged_CSV_Indices = cwd_Field_DataMerged + \"\\\\CSV Biodiversity Indices\"\n",
    "cwd_Raster = cwd + \"\\\\Results\""
   ]
  },
  {
   "cell_type": "code",
   "execution_count": 264,
   "metadata": {},
   "outputs": [
    {
     "data": {
      "text/html": [
       "<div>\n",
       "<style scoped>\n",
       "    .dataframe tbody tr th:only-of-type {\n",
       "        vertical-align: middle;\n",
       "    }\n",
       "\n",
       "    .dataframe tbody tr th {\n",
       "        vertical-align: top;\n",
       "    }\n",
       "\n",
       "    .dataframe thead th {\n",
       "        text-align: right;\n",
       "    }\n",
       "</style>\n",
       "<table border=\"1\" class=\"dataframe\">\n",
       "  <thead>\n",
       "    <tr style=\"text-align: right;\">\n",
       "      <th></th>\n",
       "      <th>Plot</th>\n",
       "      <th>Raster 20Clusters Species Richness</th>\n",
       "      <th>Raster 20Clusters Shannon</th>\n",
       "      <th>Raster 20Clusters Simpson</th>\n",
       "      <th>Raster 35Clusters Species Richness</th>\n",
       "      <th>Raster 35Clusters Shannon</th>\n",
       "      <th>Raster 35Clusters Simpson</th>\n",
       "      <th>Raster 50Clusters Species Richness</th>\n",
       "      <th>Raster 50Clusters Shannon</th>\n",
       "      <th>Raster 50Clusters Simpson</th>\n",
       "    </tr>\n",
       "  </thead>\n",
       "  <tbody>\n",
       "    <tr>\n",
       "      <th>0</th>\n",
       "      <td>FOR01</td>\n",
       "      <td>8.05</td>\n",
       "      <td>1.950667</td>\n",
       "      <td>0.84576</td>\n",
       "      <td>10.95</td>\n",
       "      <td>2.172363</td>\n",
       "      <td>0.86400</td>\n",
       "      <td>12.90</td>\n",
       "      <td>2.414920</td>\n",
       "      <td>0.89856</td>\n",
       "    </tr>\n",
       "    <tr>\n",
       "      <th>1</th>\n",
       "      <td>FOR02</td>\n",
       "      <td>4.85</td>\n",
       "      <td>1.193331</td>\n",
       "      <td>0.64176</td>\n",
       "      <td>8.35</td>\n",
       "      <td>1.830948</td>\n",
       "      <td>0.79808</td>\n",
       "      <td>9.85</td>\n",
       "      <td>2.074967</td>\n",
       "      <td>0.85056</td>\n",
       "    </tr>\n",
       "    <tr>\n",
       "      <th>2</th>\n",
       "      <td>FOR03</td>\n",
       "      <td>4.95</td>\n",
       "      <td>1.489291</td>\n",
       "      <td>0.75680</td>\n",
       "      <td>6.80</td>\n",
       "      <td>1.708687</td>\n",
       "      <td>0.79232</td>\n",
       "      <td>9.35</td>\n",
       "      <td>2.079390</td>\n",
       "      <td>0.85760</td>\n",
       "    </tr>\n",
       "    <tr>\n",
       "      <th>3</th>\n",
       "      <td>FOR04</td>\n",
       "      <td>3.00</td>\n",
       "      <td>0.797340</td>\n",
       "      <td>0.46224</td>\n",
       "      <td>5.10</td>\n",
       "      <td>1.347368</td>\n",
       "      <td>0.68304</td>\n",
       "      <td>8.10</td>\n",
       "      <td>1.865050</td>\n",
       "      <td>0.81488</td>\n",
       "    </tr>\n",
       "    <tr>\n",
       "      <th>4</th>\n",
       "      <td>FOR05</td>\n",
       "      <td>4.25</td>\n",
       "      <td>0.993256</td>\n",
       "      <td>0.53712</td>\n",
       "      <td>5.45</td>\n",
       "      <td>1.334504</td>\n",
       "      <td>0.66144</td>\n",
       "      <td>6.60</td>\n",
       "      <td>1.586574</td>\n",
       "      <td>0.74960</td>\n",
       "    </tr>\n",
       "    <tr>\n",
       "      <th>...</th>\n",
       "      <td>...</td>\n",
       "      <td>...</td>\n",
       "      <td>...</td>\n",
       "      <td>...</td>\n",
       "      <td>...</td>\n",
       "      <td>...</td>\n",
       "      <td>...</td>\n",
       "      <td>...</td>\n",
       "      <td>...</td>\n",
       "      <td>...</td>\n",
       "    </tr>\n",
       "    <tr>\n",
       "      <th>91</th>\n",
       "      <td>35</td>\n",
       "      <td>7.15</td>\n",
       "      <td>1.668232</td>\n",
       "      <td>0.77664</td>\n",
       "      <td>10.10</td>\n",
       "      <td>2.068282</td>\n",
       "      <td>0.84480</td>\n",
       "      <td>11.25</td>\n",
       "      <td>2.228674</td>\n",
       "      <td>0.87216</td>\n",
       "    </tr>\n",
       "    <tr>\n",
       "      <th>92</th>\n",
       "      <td>37</td>\n",
       "      <td>6.15</td>\n",
       "      <td>1.560562</td>\n",
       "      <td>0.74448</td>\n",
       "      <td>7.25</td>\n",
       "      <td>1.691592</td>\n",
       "      <td>0.76368</td>\n",
       "      <td>8.55</td>\n",
       "      <td>1.938696</td>\n",
       "      <td>0.83056</td>\n",
       "    </tr>\n",
       "    <tr>\n",
       "      <th>93</th>\n",
       "      <td>38</td>\n",
       "      <td>6.40</td>\n",
       "      <td>1.608977</td>\n",
       "      <td>0.76656</td>\n",
       "      <td>8.05</td>\n",
       "      <td>1.826176</td>\n",
       "      <td>0.80768</td>\n",
       "      <td>11.00</td>\n",
       "      <td>2.170192</td>\n",
       "      <td>0.86096</td>\n",
       "    </tr>\n",
       "    <tr>\n",
       "      <th>94</th>\n",
       "      <td>39</td>\n",
       "      <td>2.00</td>\n",
       "      <td>0.306179</td>\n",
       "      <td>0.16832</td>\n",
       "      <td>2.05</td>\n",
       "      <td>0.620760</td>\n",
       "      <td>0.42560</td>\n",
       "      <td>2.90</td>\n",
       "      <td>0.867365</td>\n",
       "      <td>0.53488</td>\n",
       "    </tr>\n",
       "    <tr>\n",
       "      <th>95</th>\n",
       "      <td>40</td>\n",
       "      <td>4.05</td>\n",
       "      <td>1.257864</td>\n",
       "      <td>0.68256</td>\n",
       "      <td>5.65</td>\n",
       "      <td>1.500863</td>\n",
       "      <td>0.74240</td>\n",
       "      <td>6.55</td>\n",
       "      <td>1.708245</td>\n",
       "      <td>0.79536</td>\n",
       "    </tr>\n",
       "  </tbody>\n",
       "</table>\n",
       "<p>96 rows × 10 columns</p>\n",
       "</div>"
      ],
      "text/plain": [
       "     Plot  Raster 20Clusters Species Richness  Raster 20Clusters Shannon  \\\n",
       "0   FOR01                                8.05                   1.950667   \n",
       "1   FOR02                                4.85                   1.193331   \n",
       "2   FOR03                                4.95                   1.489291   \n",
       "3   FOR04                                3.00                   0.797340   \n",
       "4   FOR05                                4.25                   0.993256   \n",
       "..    ...                                 ...                        ...   \n",
       "91     35                                7.15                   1.668232   \n",
       "92     37                                6.15                   1.560562   \n",
       "93     38                                6.40                   1.608977   \n",
       "94     39                                2.00                   0.306179   \n",
       "95     40                                4.05                   1.257864   \n",
       "\n",
       "    Raster 20Clusters Simpson  Raster 35Clusters Species Richness  \\\n",
       "0                     0.84576                               10.95   \n",
       "1                     0.64176                                8.35   \n",
       "2                     0.75680                                6.80   \n",
       "3                     0.46224                                5.10   \n",
       "4                     0.53712                                5.45   \n",
       "..                        ...                                 ...   \n",
       "91                    0.77664                               10.10   \n",
       "92                    0.74448                                7.25   \n",
       "93                    0.76656                                8.05   \n",
       "94                    0.16832                                2.05   \n",
       "95                    0.68256                                5.65   \n",
       "\n",
       "    Raster 35Clusters Shannon  Raster 35Clusters Simpson  \\\n",
       "0                    2.172363                    0.86400   \n",
       "1                    1.830948                    0.79808   \n",
       "2                    1.708687                    0.79232   \n",
       "3                    1.347368                    0.68304   \n",
       "4                    1.334504                    0.66144   \n",
       "..                        ...                        ...   \n",
       "91                   2.068282                    0.84480   \n",
       "92                   1.691592                    0.76368   \n",
       "93                   1.826176                    0.80768   \n",
       "94                   0.620760                    0.42560   \n",
       "95                   1.500863                    0.74240   \n",
       "\n",
       "    Raster 50Clusters Species Richness  Raster 50Clusters Shannon  \\\n",
       "0                                12.90                   2.414920   \n",
       "1                                 9.85                   2.074967   \n",
       "2                                 9.35                   2.079390   \n",
       "3                                 8.10                   1.865050   \n",
       "4                                 6.60                   1.586574   \n",
       "..                                 ...                        ...   \n",
       "91                               11.25                   2.228674   \n",
       "92                                8.55                   1.938696   \n",
       "93                               11.00                   2.170192   \n",
       "94                                2.90                   0.867365   \n",
       "95                                6.55                   1.708245   \n",
       "\n",
       "    Raster 50Clusters Simpson  \n",
       "0                     0.89856  \n",
       "1                     0.85056  \n",
       "2                     0.85760  \n",
       "3                     0.81488  \n",
       "4                     0.74960  \n",
       "..                        ...  \n",
       "91                    0.87216  \n",
       "92                    0.83056  \n",
       "93                    0.86096  \n",
       "94                    0.53488  \n",
       "95                    0.79536  \n",
       "\n",
       "[96 rows x 10 columns]"
      ]
     },
     "execution_count": 264,
     "metadata": {},
     "output_type": "execute_result"
    }
   ],
   "source": [
    "df_Raster_6 = pd.read_csv(cwd_Raster + \"\\\\2022 06Cropped Alpha Diversity.csv\")\n",
    "df_Raster_9 = pd.read_csv(cwd_Raster + \"\\\\2022 09Cropped Alpha Diversity.csv\")\n",
    "df_Raster_6"
   ]
  },
  {
   "cell_type": "markdown",
   "metadata": {},
   "source": [
    "## Species Richness Comparison - June"
   ]
  },
  {
   "cell_type": "code",
   "execution_count": 265,
   "metadata": {},
   "outputs": [
    {
     "data": {
      "text/html": [
       "<div>\n",
       "<style scoped>\n",
       "    .dataframe tbody tr th:only-of-type {\n",
       "        vertical-align: middle;\n",
       "    }\n",
       "\n",
       "    .dataframe tbody tr th {\n",
       "        vertical-align: top;\n",
       "    }\n",
       "\n",
       "    .dataframe thead th {\n",
       "        text-align: right;\n",
       "    }\n",
       "</style>\n",
       "<table border=\"1\" class=\"dataframe\">\n",
       "  <thead>\n",
       "    <tr style=\"text-align: right;\">\n",
       "      <th></th>\n",
       "      <th>Plot</th>\n",
       "      <th>Field Species Richness</th>\n",
       "    </tr>\n",
       "  </thead>\n",
       "  <tbody>\n",
       "    <tr>\n",
       "      <th>0</th>\n",
       "      <td>FOR01</td>\n",
       "      <td>5</td>\n",
       "    </tr>\n",
       "    <tr>\n",
       "      <th>1</th>\n",
       "      <td>FOR02</td>\n",
       "      <td>7</td>\n",
       "    </tr>\n",
       "    <tr>\n",
       "      <th>2</th>\n",
       "      <td>FOR03</td>\n",
       "      <td>4</td>\n",
       "    </tr>\n",
       "    <tr>\n",
       "      <th>3</th>\n",
       "      <td>FOR04</td>\n",
       "      <td>2</td>\n",
       "    </tr>\n",
       "    <tr>\n",
       "      <th>4</th>\n",
       "      <td>FOR05</td>\n",
       "      <td>1</td>\n",
       "    </tr>\n",
       "    <tr>\n",
       "      <th>...</th>\n",
       "      <td>...</td>\n",
       "      <td>...</td>\n",
       "    </tr>\n",
       "    <tr>\n",
       "      <th>91</th>\n",
       "      <td>35</td>\n",
       "      <td>3</td>\n",
       "    </tr>\n",
       "    <tr>\n",
       "      <th>92</th>\n",
       "      <td>37</td>\n",
       "      <td>2</td>\n",
       "    </tr>\n",
       "    <tr>\n",
       "      <th>93</th>\n",
       "      <td>38</td>\n",
       "      <td>4</td>\n",
       "    </tr>\n",
       "    <tr>\n",
       "      <th>94</th>\n",
       "      <td>39</td>\n",
       "      <td>2</td>\n",
       "    </tr>\n",
       "    <tr>\n",
       "      <th>95</th>\n",
       "      <td>40</td>\n",
       "      <td>4</td>\n",
       "    </tr>\n",
       "  </tbody>\n",
       "</table>\n",
       "<p>96 rows × 2 columns</p>\n",
       "</div>"
      ],
      "text/plain": [
       "     Plot  Field Species Richness\n",
       "0   FOR01                       5\n",
       "1   FOR02                       7\n",
       "2   FOR03                       4\n",
       "3   FOR04                       2\n",
       "4   FOR05                       1\n",
       "..    ...                     ...\n",
       "91     35                       3\n",
       "92     37                       2\n",
       "93     38                       4\n",
       "94     39                       2\n",
       "95     40                       4\n",
       "\n",
       "[96 rows x 2 columns]"
      ]
     },
     "execution_count": 265,
     "metadata": {},
     "output_type": "execute_result"
    }
   ],
   "source": [
    "df_Field_SpeciesRichness = pd.read_csv(cwd_Field_DataMerged_CSV_Indices + \"\\\\FieldDataMerged Valid SpeciesRichness.csv\")\n",
    "df_Field_SpeciesRichness"
   ]
  },
  {
   "cell_type": "code",
   "execution_count": 266,
   "metadata": {},
   "outputs": [
    {
     "data": {
      "text/html": [
       "<div>\n",
       "<style scoped>\n",
       "    .dataframe tbody tr th:only-of-type {\n",
       "        vertical-align: middle;\n",
       "    }\n",
       "\n",
       "    .dataframe tbody tr th {\n",
       "        vertical-align: top;\n",
       "    }\n",
       "\n",
       "    .dataframe thead th {\n",
       "        text-align: right;\n",
       "    }\n",
       "</style>\n",
       "<table border=\"1\" class=\"dataframe\">\n",
       "  <thead>\n",
       "    <tr style=\"text-align: right;\">\n",
       "      <th></th>\n",
       "      <th>Plot</th>\n",
       "      <th>Raster 20Clusters Species Richness</th>\n",
       "      <th>Raster 35Clusters Species Richness</th>\n",
       "      <th>Raster 50Clusters Species Richness</th>\n",
       "    </tr>\n",
       "  </thead>\n",
       "  <tbody>\n",
       "    <tr>\n",
       "      <th>0</th>\n",
       "      <td>FOR01</td>\n",
       "      <td>8.05</td>\n",
       "      <td>10.95</td>\n",
       "      <td>12.90</td>\n",
       "    </tr>\n",
       "    <tr>\n",
       "      <th>1</th>\n",
       "      <td>FOR02</td>\n",
       "      <td>4.85</td>\n",
       "      <td>8.35</td>\n",
       "      <td>9.85</td>\n",
       "    </tr>\n",
       "    <tr>\n",
       "      <th>2</th>\n",
       "      <td>FOR03</td>\n",
       "      <td>4.95</td>\n",
       "      <td>6.80</td>\n",
       "      <td>9.35</td>\n",
       "    </tr>\n",
       "    <tr>\n",
       "      <th>3</th>\n",
       "      <td>FOR04</td>\n",
       "      <td>3.00</td>\n",
       "      <td>5.10</td>\n",
       "      <td>8.10</td>\n",
       "    </tr>\n",
       "    <tr>\n",
       "      <th>4</th>\n",
       "      <td>FOR05</td>\n",
       "      <td>4.25</td>\n",
       "      <td>5.45</td>\n",
       "      <td>6.60</td>\n",
       "    </tr>\n",
       "    <tr>\n",
       "      <th>...</th>\n",
       "      <td>...</td>\n",
       "      <td>...</td>\n",
       "      <td>...</td>\n",
       "      <td>...</td>\n",
       "    </tr>\n",
       "    <tr>\n",
       "      <th>91</th>\n",
       "      <td>35</td>\n",
       "      <td>7.15</td>\n",
       "      <td>10.10</td>\n",
       "      <td>11.25</td>\n",
       "    </tr>\n",
       "    <tr>\n",
       "      <th>92</th>\n",
       "      <td>37</td>\n",
       "      <td>6.15</td>\n",
       "      <td>7.25</td>\n",
       "      <td>8.55</td>\n",
       "    </tr>\n",
       "    <tr>\n",
       "      <th>93</th>\n",
       "      <td>38</td>\n",
       "      <td>6.40</td>\n",
       "      <td>8.05</td>\n",
       "      <td>11.00</td>\n",
       "    </tr>\n",
       "    <tr>\n",
       "      <th>94</th>\n",
       "      <td>39</td>\n",
       "      <td>2.00</td>\n",
       "      <td>2.05</td>\n",
       "      <td>2.90</td>\n",
       "    </tr>\n",
       "    <tr>\n",
       "      <th>95</th>\n",
       "      <td>40</td>\n",
       "      <td>4.05</td>\n",
       "      <td>5.65</td>\n",
       "      <td>6.55</td>\n",
       "    </tr>\n",
       "  </tbody>\n",
       "</table>\n",
       "<p>96 rows × 4 columns</p>\n",
       "</div>"
      ],
      "text/plain": [
       "     Plot  Raster 20Clusters Species Richness  \\\n",
       "0   FOR01                                8.05   \n",
       "1   FOR02                                4.85   \n",
       "2   FOR03                                4.95   \n",
       "3   FOR04                                3.00   \n",
       "4   FOR05                                4.25   \n",
       "..    ...                                 ...   \n",
       "91     35                                7.15   \n",
       "92     37                                6.15   \n",
       "93     38                                6.40   \n",
       "94     39                                2.00   \n",
       "95     40                                4.05   \n",
       "\n",
       "    Raster 35Clusters Species Richness  Raster 50Clusters Species Richness  \n",
       "0                                10.95                               12.90  \n",
       "1                                 8.35                                9.85  \n",
       "2                                 6.80                                9.35  \n",
       "3                                 5.10                                8.10  \n",
       "4                                 5.45                                6.60  \n",
       "..                                 ...                                 ...  \n",
       "91                               10.10                               11.25  \n",
       "92                                7.25                                8.55  \n",
       "93                                8.05                               11.00  \n",
       "94                                2.05                                2.90  \n",
       "95                                5.65                                6.55  \n",
       "\n",
       "[96 rows x 4 columns]"
      ]
     },
     "execution_count": 266,
     "metadata": {},
     "output_type": "execute_result"
    }
   ],
   "source": [
    "df_Raster_SpeciesRichness_6 = df_Raster_6.copy()\n",
    "df_Raster_SpeciesRichness_6 = df_Raster_SpeciesRichness_6[['Plot','Raster 20Clusters Species Richness','Raster 35Clusters Species Richness','Raster 50Clusters Species Richness']]\n",
    "df_Raster_SpeciesRichness_6"
   ]
  },
  {
   "cell_type": "code",
   "execution_count": 267,
   "metadata": {},
   "outputs": [
    {
     "data": {
      "text/html": [
       "<div>\n",
       "<style scoped>\n",
       "    .dataframe tbody tr th:only-of-type {\n",
       "        vertical-align: middle;\n",
       "    }\n",
       "\n",
       "    .dataframe tbody tr th {\n",
       "        vertical-align: top;\n",
       "    }\n",
       "\n",
       "    .dataframe thead th {\n",
       "        text-align: right;\n",
       "    }\n",
       "</style>\n",
       "<table border=\"1\" class=\"dataframe\">\n",
       "  <thead>\n",
       "    <tr style=\"text-align: right;\">\n",
       "      <th></th>\n",
       "      <th>Plot</th>\n",
       "      <th>Field Species Richness</th>\n",
       "      <th>Raster 20Clusters Species Richness</th>\n",
       "      <th>Raster 35Clusters Species Richness</th>\n",
       "      <th>Raster 50Clusters Species Richness</th>\n",
       "    </tr>\n",
       "  </thead>\n",
       "  <tbody>\n",
       "    <tr>\n",
       "      <th>0</th>\n",
       "      <td>FOR01</td>\n",
       "      <td>5</td>\n",
       "      <td>8.05</td>\n",
       "      <td>10.95</td>\n",
       "      <td>12.90</td>\n",
       "    </tr>\n",
       "    <tr>\n",
       "      <th>1</th>\n",
       "      <td>FOR02</td>\n",
       "      <td>7</td>\n",
       "      <td>4.85</td>\n",
       "      <td>8.35</td>\n",
       "      <td>9.85</td>\n",
       "    </tr>\n",
       "    <tr>\n",
       "      <th>2</th>\n",
       "      <td>FOR03</td>\n",
       "      <td>4</td>\n",
       "      <td>4.95</td>\n",
       "      <td>6.80</td>\n",
       "      <td>9.35</td>\n",
       "    </tr>\n",
       "    <tr>\n",
       "      <th>3</th>\n",
       "      <td>FOR04</td>\n",
       "      <td>2</td>\n",
       "      <td>3.00</td>\n",
       "      <td>5.10</td>\n",
       "      <td>8.10</td>\n",
       "    </tr>\n",
       "    <tr>\n",
       "      <th>4</th>\n",
       "      <td>FOR05</td>\n",
       "      <td>1</td>\n",
       "      <td>4.25</td>\n",
       "      <td>5.45</td>\n",
       "      <td>6.60</td>\n",
       "    </tr>\n",
       "    <tr>\n",
       "      <th>...</th>\n",
       "      <td>...</td>\n",
       "      <td>...</td>\n",
       "      <td>...</td>\n",
       "      <td>...</td>\n",
       "      <td>...</td>\n",
       "    </tr>\n",
       "    <tr>\n",
       "      <th>91</th>\n",
       "      <td>35</td>\n",
       "      <td>3</td>\n",
       "      <td>7.15</td>\n",
       "      <td>10.10</td>\n",
       "      <td>11.25</td>\n",
       "    </tr>\n",
       "    <tr>\n",
       "      <th>92</th>\n",
       "      <td>37</td>\n",
       "      <td>2</td>\n",
       "      <td>6.15</td>\n",
       "      <td>7.25</td>\n",
       "      <td>8.55</td>\n",
       "    </tr>\n",
       "    <tr>\n",
       "      <th>93</th>\n",
       "      <td>38</td>\n",
       "      <td>4</td>\n",
       "      <td>6.40</td>\n",
       "      <td>8.05</td>\n",
       "      <td>11.00</td>\n",
       "    </tr>\n",
       "    <tr>\n",
       "      <th>94</th>\n",
       "      <td>39</td>\n",
       "      <td>2</td>\n",
       "      <td>2.00</td>\n",
       "      <td>2.05</td>\n",
       "      <td>2.90</td>\n",
       "    </tr>\n",
       "    <tr>\n",
       "      <th>95</th>\n",
       "      <td>40</td>\n",
       "      <td>4</td>\n",
       "      <td>4.05</td>\n",
       "      <td>5.65</td>\n",
       "      <td>6.55</td>\n",
       "    </tr>\n",
       "  </tbody>\n",
       "</table>\n",
       "<p>96 rows × 5 columns</p>\n",
       "</div>"
      ],
      "text/plain": [
       "     Plot  Field Species Richness  Raster 20Clusters Species Richness  \\\n",
       "0   FOR01                       5                                8.05   \n",
       "1   FOR02                       7                                4.85   \n",
       "2   FOR03                       4                                4.95   \n",
       "3   FOR04                       2                                3.00   \n",
       "4   FOR05                       1                                4.25   \n",
       "..    ...                     ...                                 ...   \n",
       "91     35                       3                                7.15   \n",
       "92     37                       2                                6.15   \n",
       "93     38                       4                                6.40   \n",
       "94     39                       2                                2.00   \n",
       "95     40                       4                                4.05   \n",
       "\n",
       "    Raster 35Clusters Species Richness  Raster 50Clusters Species Richness  \n",
       "0                                10.95                               12.90  \n",
       "1                                 8.35                                9.85  \n",
       "2                                 6.80                                9.35  \n",
       "3                                 5.10                                8.10  \n",
       "4                                 5.45                                6.60  \n",
       "..                                 ...                                 ...  \n",
       "91                               10.10                               11.25  \n",
       "92                                7.25                                8.55  \n",
       "93                                8.05                               11.00  \n",
       "94                                2.05                                2.90  \n",
       "95                                5.65                                6.55  \n",
       "\n",
       "[96 rows x 5 columns]"
      ]
     },
     "execution_count": 267,
     "metadata": {},
     "output_type": "execute_result"
    }
   ],
   "source": [
    "df_Merge_SpeciesRichness_6 = pd.merge(df_Field_SpeciesRichness,df_Raster_SpeciesRichness_6,on='Plot')\n",
    "df_Merge_SpeciesRichness_6"
   ]
  },
  {
   "cell_type": "code",
   "execution_count": 268,
   "metadata": {},
   "outputs": [
    {
     "data": {
      "text/html": [
       "<div>\n",
       "<style scoped>\n",
       "    .dataframe tbody tr th:only-of-type {\n",
       "        vertical-align: middle;\n",
       "    }\n",
       "\n",
       "    .dataframe tbody tr th {\n",
       "        vertical-align: top;\n",
       "    }\n",
       "\n",
       "    .dataframe thead th {\n",
       "        text-align: right;\n",
       "    }\n",
       "</style>\n",
       "<table border=\"1\" class=\"dataframe\">\n",
       "  <thead>\n",
       "    <tr style=\"text-align: right;\">\n",
       "      <th></th>\n",
       "      <th>Field Species Richness</th>\n",
       "      <th>Raster 20Clusters Species Richness</th>\n",
       "      <th>Raster 35Clusters Species Richness</th>\n",
       "      <th>Raster 50Clusters Species Richness</th>\n",
       "    </tr>\n",
       "  </thead>\n",
       "  <tbody>\n",
       "    <tr>\n",
       "      <th>mean</th>\n",
       "      <td>3.614583</td>\n",
       "      <td>5.195833</td>\n",
       "      <td>7.115104</td>\n",
       "      <td>8.407813</td>\n",
       "    </tr>\n",
       "    <tr>\n",
       "      <th>std</th>\n",
       "      <td>1.675645</td>\n",
       "      <td>1.695655</td>\n",
       "      <td>2.480642</td>\n",
       "      <td>2.708994</td>\n",
       "    </tr>\n",
       "    <tr>\n",
       "      <th>min</th>\n",
       "      <td>1.000000</td>\n",
       "      <td>2.000000</td>\n",
       "      <td>2.050000</td>\n",
       "      <td>2.900000</td>\n",
       "    </tr>\n",
       "    <tr>\n",
       "      <th>25%</th>\n",
       "      <td>2.000000</td>\n",
       "      <td>4.000000</td>\n",
       "      <td>5.487500</td>\n",
       "      <td>6.487500</td>\n",
       "    </tr>\n",
       "    <tr>\n",
       "      <th>50%</th>\n",
       "      <td>4.000000</td>\n",
       "      <td>4.975000</td>\n",
       "      <td>6.850000</td>\n",
       "      <td>7.975000</td>\n",
       "    </tr>\n",
       "    <tr>\n",
       "      <th>75%</th>\n",
       "      <td>5.000000</td>\n",
       "      <td>6.362500</td>\n",
       "      <td>8.650000</td>\n",
       "      <td>10.525000</td>\n",
       "    </tr>\n",
       "    <tr>\n",
       "      <th>max</th>\n",
       "      <td>8.000000</td>\n",
       "      <td>9.950000</td>\n",
       "      <td>14.950000</td>\n",
       "      <td>16.200000</td>\n",
       "    </tr>\n",
       "  </tbody>\n",
       "</table>\n",
       "</div>"
      ],
      "text/plain": [
       "      Field Species Richness  Raster 20Clusters Species Richness  \\\n",
       "mean                3.614583                            5.195833   \n",
       "std                 1.675645                            1.695655   \n",
       "min                 1.000000                            2.000000   \n",
       "25%                 2.000000                            4.000000   \n",
       "50%                 4.000000                            4.975000   \n",
       "75%                 5.000000                            6.362500   \n",
       "max                 8.000000                            9.950000   \n",
       "\n",
       "      Raster 35Clusters Species Richness  Raster 50Clusters Species Richness  \n",
       "mean                            7.115104                            8.407813  \n",
       "std                             2.480642                            2.708994  \n",
       "min                             2.050000                            2.900000  \n",
       "25%                             5.487500                            6.487500  \n",
       "50%                             6.850000                            7.975000  \n",
       "75%                             8.650000                           10.525000  \n",
       "max                            14.950000                           16.200000  "
      ]
     },
     "execution_count": 268,
     "metadata": {},
     "output_type": "execute_result"
    }
   ],
   "source": [
    "df_Stat_SpeciesRichness_6 = df_Merge_SpeciesRichness_6.describe().copy()\n",
    "df_Stat_SpeciesRichness_6.drop(index = ['count'], inplace = True)\n",
    "df_Stat_SpeciesRichness_6"
   ]
  },
  {
   "cell_type": "markdown",
   "metadata": {},
   "source": [
    "### 20 Clusters Null Hypothesis and Pearson Correlation Coefficient"
   ]
  },
  {
   "cell_type": "code",
   "execution_count": 269,
   "metadata": {},
   "outputs": [
    {
     "name": "stdout",
     "output_type": "stream",
     "text": [
      "-6.498994267706881\n",
      "6.927684874855649e-10\n",
      "We reject NULL HYPOTHESIS! Therefore we can conclude that there is a definite relationship between Field Simpson and Raster Simpson!\n"
     ]
    }
   ],
   "source": [
    "# Null hypothesis! \n",
    "t_stat, pvalue = ttest_ind(df_Merge_SpeciesRichness_6['Field Species Richness'], df_Merge_SpeciesRichness_6['Raster 20Clusters Species Richness'])\n",
    "print(t_stat)\n",
    "print(pvalue)\n",
    "if pvalue < 0.05:\n",
    "    print(\"We reject NULL HYPOTHESIS! Therefore we can conclude that there is a definite relationship between Field Simpson and Raster Simpson!\")\n",
    "else: \n",
    "    print(\"We fail to reject NULL HYPOTHESIS!\")"
   ]
  },
  {
   "cell_type": "code",
   "execution_count": 270,
   "metadata": {},
   "outputs": [
    {
     "data": {
      "text/plain": [
       "PearsonRResult(statistic=0.14724772560990576, pvalue=0.15224552423226245)"
      ]
     },
     "execution_count": 270,
     "metadata": {},
     "output_type": "execute_result"
    }
   ],
   "source": [
    "# Pearson correlation\n",
    "res = stats.pearsonr(df_Merge_SpeciesRichness_6['Field Species Richness'], df_Merge_SpeciesRichness_6['Raster 20Clusters Species Richness'])\n",
    "res"
   ]
  },
  {
   "cell_type": "markdown",
   "metadata": {},
   "source": [
    "### 35 Clusters Null Hypothesis and Pearson Correlation Coefficient"
   ]
  },
  {
   "cell_type": "code",
   "execution_count": 271,
   "metadata": {},
   "outputs": [
    {
     "name": "stdout",
     "output_type": "stream",
     "text": [
      "-11.457267962462941\n",
      "1.9150735667348245e-23\n",
      "We reject NULL HYPOTHESIS! Therefore we can conclude that there is a definite relationship between Field Simpson and Raster Simpson!\n"
     ]
    }
   ],
   "source": [
    "# Null hypothesis! \n",
    "t_stat, pvalue = ttest_ind(df_Merge_SpeciesRichness_6['Field Species Richness'], df_Merge_SpeciesRichness_6['Raster 35Clusters Species Richness'])\n",
    "print(t_stat)\n",
    "print(pvalue)\n",
    "if pvalue < 0.05:\n",
    "    print(\"We reject NULL HYPOTHESIS! Therefore we can conclude that there is a definite relationship between Field Simpson and Raster Simpson!\")\n",
    "else: \n",
    "    print(\"We fail to reject NULL HYPOTHESIS!\")"
   ]
  },
  {
   "cell_type": "code",
   "execution_count": 272,
   "metadata": {},
   "outputs": [
    {
     "data": {
      "text/plain": [
       "PearsonRResult(statistic=0.23920652682513882, pvalue=0.01891413521239797)"
      ]
     },
     "execution_count": 272,
     "metadata": {},
     "output_type": "execute_result"
    }
   ],
   "source": [
    "# Pearson correlation\n",
    "res = stats.pearsonr(df_Merge_SpeciesRichness_6['Field Species Richness'], df_Merge_SpeciesRichness_6['Raster 35Clusters Species Richness'])\n",
    "res"
   ]
  },
  {
   "cell_type": "markdown",
   "metadata": {},
   "source": [
    "### 50 Clusters Null Hypothesis and Pearson Correlation Coefficient"
   ]
  },
  {
   "cell_type": "code",
   "execution_count": 273,
   "metadata": {},
   "outputs": [
    {
     "name": "stdout",
     "output_type": "stream",
     "text": [
      "-14.743720654912481\n",
      "2.6811531283047414e-33\n",
      "We reject NULL HYPOTHESIS! Therefore we can conclude that there is a definite relationship between Field Simpson and Raster Simpson!\n"
     ]
    }
   ],
   "source": [
    "# Null hypothesis! \n",
    "t_stat, pvalue = ttest_ind(df_Merge_SpeciesRichness_6['Field Species Richness'], df_Merge_SpeciesRichness_6['Raster 50Clusters Species Richness'])\n",
    "print(t_stat)\n",
    "print(pvalue)\n",
    "if pvalue < 0.05:\n",
    "    print(\"We reject NULL HYPOTHESIS! Therefore we can conclude that there is a definite relationship between Field Simpson and Raster Simpson!\")\n",
    "else: \n",
    "    print(\"We fail to reject NULL HYPOTHESIS!\")"
   ]
  },
  {
   "cell_type": "code",
   "execution_count": 274,
   "metadata": {},
   "outputs": [
    {
     "data": {
      "text/plain": [
       "PearsonRResult(statistic=0.2097212614115818, pvalue=0.040287482572830005)"
      ]
     },
     "execution_count": 274,
     "metadata": {},
     "output_type": "execute_result"
    }
   ],
   "source": [
    "# Pearson correlation\n",
    "res = stats.pearsonr(df_Merge_SpeciesRichness_6['Field Species Richness'], df_Merge_SpeciesRichness_6['Raster 50Clusters Species Richness'])\n",
    "res"
   ]
  },
  {
   "cell_type": "markdown",
   "metadata": {},
   "source": [
    "## Shannon Comparison - June"
   ]
  },
  {
   "cell_type": "code",
   "execution_count": 275,
   "metadata": {},
   "outputs": [
    {
     "data": {
      "text/html": [
       "<div>\n",
       "<style scoped>\n",
       "    .dataframe tbody tr th:only-of-type {\n",
       "        vertical-align: middle;\n",
       "    }\n",
       "\n",
       "    .dataframe tbody tr th {\n",
       "        vertical-align: top;\n",
       "    }\n",
       "\n",
       "    .dataframe thead th {\n",
       "        text-align: right;\n",
       "    }\n",
       "</style>\n",
       "<table border=\"1\" class=\"dataframe\">\n",
       "  <thead>\n",
       "    <tr style=\"text-align: right;\">\n",
       "      <th></th>\n",
       "      <th>Plot</th>\n",
       "      <th>Field Shannon</th>\n",
       "    </tr>\n",
       "  </thead>\n",
       "  <tbody>\n",
       "    <tr>\n",
       "      <th>0</th>\n",
       "      <td>FOR01</td>\n",
       "      <td>1.267990</td>\n",
       "    </tr>\n",
       "    <tr>\n",
       "      <th>1</th>\n",
       "      <td>FOR02</td>\n",
       "      <td>1.604816</td>\n",
       "    </tr>\n",
       "    <tr>\n",
       "      <th>2</th>\n",
       "      <td>FOR03</td>\n",
       "      <td>0.534923</td>\n",
       "    </tr>\n",
       "    <tr>\n",
       "      <th>3</th>\n",
       "      <td>FOR04</td>\n",
       "      <td>0.474139</td>\n",
       "    </tr>\n",
       "    <tr>\n",
       "      <th>4</th>\n",
       "      <td>FOR05</td>\n",
       "      <td>0.000000</td>\n",
       "    </tr>\n",
       "    <tr>\n",
       "      <th>...</th>\n",
       "      <td>...</td>\n",
       "      <td>...</td>\n",
       "    </tr>\n",
       "    <tr>\n",
       "      <th>91</th>\n",
       "      <td>35</td>\n",
       "      <td>0.758937</td>\n",
       "    </tr>\n",
       "    <tr>\n",
       "      <th>92</th>\n",
       "      <td>37</td>\n",
       "      <td>0.562335</td>\n",
       "    </tr>\n",
       "    <tr>\n",
       "      <th>93</th>\n",
       "      <td>38</td>\n",
       "      <td>0.846145</td>\n",
       "    </tr>\n",
       "    <tr>\n",
       "      <th>94</th>\n",
       "      <td>39</td>\n",
       "      <td>0.658110</td>\n",
       "    </tr>\n",
       "    <tr>\n",
       "      <th>95</th>\n",
       "      <td>40</td>\n",
       "      <td>1.271181</td>\n",
       "    </tr>\n",
       "  </tbody>\n",
       "</table>\n",
       "<p>96 rows × 2 columns</p>\n",
       "</div>"
      ],
      "text/plain": [
       "     Plot  Field Shannon\n",
       "0   FOR01       1.267990\n",
       "1   FOR02       1.604816\n",
       "2   FOR03       0.534923\n",
       "3   FOR04       0.474139\n",
       "4   FOR05       0.000000\n",
       "..    ...            ...\n",
       "91     35       0.758937\n",
       "92     37       0.562335\n",
       "93     38       0.846145\n",
       "94     39       0.658110\n",
       "95     40       1.271181\n",
       "\n",
       "[96 rows x 2 columns]"
      ]
     },
     "execution_count": 275,
     "metadata": {},
     "output_type": "execute_result"
    }
   ],
   "source": [
    "df_Field_Shannon = pd.read_csv(cwd_Field_DataMerged_CSV_Indices + \"\\\\FieldDataMerged Valid Shannon.csv\")\n",
    "df_Field_Shannon"
   ]
  },
  {
   "cell_type": "code",
   "execution_count": 276,
   "metadata": {},
   "outputs": [
    {
     "data": {
      "text/html": [
       "<div>\n",
       "<style scoped>\n",
       "    .dataframe tbody tr th:only-of-type {\n",
       "        vertical-align: middle;\n",
       "    }\n",
       "\n",
       "    .dataframe tbody tr th {\n",
       "        vertical-align: top;\n",
       "    }\n",
       "\n",
       "    .dataframe thead th {\n",
       "        text-align: right;\n",
       "    }\n",
       "</style>\n",
       "<table border=\"1\" class=\"dataframe\">\n",
       "  <thead>\n",
       "    <tr style=\"text-align: right;\">\n",
       "      <th></th>\n",
       "      <th>Plot</th>\n",
       "      <th>Raster 20Clusters Shannon</th>\n",
       "      <th>Raster 35Clusters Shannon</th>\n",
       "      <th>Raster 50Clusters Shannon</th>\n",
       "    </tr>\n",
       "  </thead>\n",
       "  <tbody>\n",
       "    <tr>\n",
       "      <th>0</th>\n",
       "      <td>FOR01</td>\n",
       "      <td>1.950667</td>\n",
       "      <td>2.172363</td>\n",
       "      <td>2.414920</td>\n",
       "    </tr>\n",
       "    <tr>\n",
       "      <th>1</th>\n",
       "      <td>FOR02</td>\n",
       "      <td>1.193331</td>\n",
       "      <td>1.830948</td>\n",
       "      <td>2.074967</td>\n",
       "    </tr>\n",
       "    <tr>\n",
       "      <th>2</th>\n",
       "      <td>FOR03</td>\n",
       "      <td>1.489291</td>\n",
       "      <td>1.708687</td>\n",
       "      <td>2.079390</td>\n",
       "    </tr>\n",
       "    <tr>\n",
       "      <th>3</th>\n",
       "      <td>FOR04</td>\n",
       "      <td>0.797340</td>\n",
       "      <td>1.347368</td>\n",
       "      <td>1.865050</td>\n",
       "    </tr>\n",
       "    <tr>\n",
       "      <th>4</th>\n",
       "      <td>FOR05</td>\n",
       "      <td>0.993256</td>\n",
       "      <td>1.334504</td>\n",
       "      <td>1.586574</td>\n",
       "    </tr>\n",
       "    <tr>\n",
       "      <th>...</th>\n",
       "      <td>...</td>\n",
       "      <td>...</td>\n",
       "      <td>...</td>\n",
       "      <td>...</td>\n",
       "    </tr>\n",
       "    <tr>\n",
       "      <th>91</th>\n",
       "      <td>35</td>\n",
       "      <td>1.668232</td>\n",
       "      <td>2.068282</td>\n",
       "      <td>2.228674</td>\n",
       "    </tr>\n",
       "    <tr>\n",
       "      <th>92</th>\n",
       "      <td>37</td>\n",
       "      <td>1.560562</td>\n",
       "      <td>1.691592</td>\n",
       "      <td>1.938696</td>\n",
       "    </tr>\n",
       "    <tr>\n",
       "      <th>93</th>\n",
       "      <td>38</td>\n",
       "      <td>1.608977</td>\n",
       "      <td>1.826176</td>\n",
       "      <td>2.170192</td>\n",
       "    </tr>\n",
       "    <tr>\n",
       "      <th>94</th>\n",
       "      <td>39</td>\n",
       "      <td>0.306179</td>\n",
       "      <td>0.620760</td>\n",
       "      <td>0.867365</td>\n",
       "    </tr>\n",
       "    <tr>\n",
       "      <th>95</th>\n",
       "      <td>40</td>\n",
       "      <td>1.257864</td>\n",
       "      <td>1.500863</td>\n",
       "      <td>1.708245</td>\n",
       "    </tr>\n",
       "  </tbody>\n",
       "</table>\n",
       "<p>96 rows × 4 columns</p>\n",
       "</div>"
      ],
      "text/plain": [
       "     Plot  Raster 20Clusters Shannon  Raster 35Clusters Shannon  \\\n",
       "0   FOR01                   1.950667                   2.172363   \n",
       "1   FOR02                   1.193331                   1.830948   \n",
       "2   FOR03                   1.489291                   1.708687   \n",
       "3   FOR04                   0.797340                   1.347368   \n",
       "4   FOR05                   0.993256                   1.334504   \n",
       "..    ...                        ...                        ...   \n",
       "91     35                   1.668232                   2.068282   \n",
       "92     37                   1.560562                   1.691592   \n",
       "93     38                   1.608977                   1.826176   \n",
       "94     39                   0.306179                   0.620760   \n",
       "95     40                   1.257864                   1.500863   \n",
       "\n",
       "    Raster 50Clusters Shannon  \n",
       "0                    2.414920  \n",
       "1                    2.074967  \n",
       "2                    2.079390  \n",
       "3                    1.865050  \n",
       "4                    1.586574  \n",
       "..                        ...  \n",
       "91                   2.228674  \n",
       "92                   1.938696  \n",
       "93                   2.170192  \n",
       "94                   0.867365  \n",
       "95                   1.708245  \n",
       "\n",
       "[96 rows x 4 columns]"
      ]
     },
     "execution_count": 276,
     "metadata": {},
     "output_type": "execute_result"
    }
   ],
   "source": [
    "df_Raster_Shannon_6 = df_Raster_6.copy()\n",
    "df_Raster_Shannon_6 = df_Raster_Shannon_6[['Plot','Raster 20Clusters Shannon','Raster 35Clusters Shannon','Raster 50Clusters Shannon']]\n",
    "df_Raster_Shannon_6"
   ]
  },
  {
   "cell_type": "code",
   "execution_count": 277,
   "metadata": {},
   "outputs": [
    {
     "data": {
      "text/html": [
       "<div>\n",
       "<style scoped>\n",
       "    .dataframe tbody tr th:only-of-type {\n",
       "        vertical-align: middle;\n",
       "    }\n",
       "\n",
       "    .dataframe tbody tr th {\n",
       "        vertical-align: top;\n",
       "    }\n",
       "\n",
       "    .dataframe thead th {\n",
       "        text-align: right;\n",
       "    }\n",
       "</style>\n",
       "<table border=\"1\" class=\"dataframe\">\n",
       "  <thead>\n",
       "    <tr style=\"text-align: right;\">\n",
       "      <th></th>\n",
       "      <th>Plot</th>\n",
       "      <th>Field Shannon</th>\n",
       "      <th>Raster 20Clusters Shannon</th>\n",
       "      <th>Raster 35Clusters Shannon</th>\n",
       "      <th>Raster 50Clusters Shannon</th>\n",
       "    </tr>\n",
       "  </thead>\n",
       "  <tbody>\n",
       "    <tr>\n",
       "      <th>0</th>\n",
       "      <td>FOR01</td>\n",
       "      <td>1.267990</td>\n",
       "      <td>1.950667</td>\n",
       "      <td>2.172363</td>\n",
       "      <td>2.414920</td>\n",
       "    </tr>\n",
       "    <tr>\n",
       "      <th>1</th>\n",
       "      <td>FOR02</td>\n",
       "      <td>1.604816</td>\n",
       "      <td>1.193331</td>\n",
       "      <td>1.830948</td>\n",
       "      <td>2.074967</td>\n",
       "    </tr>\n",
       "    <tr>\n",
       "      <th>2</th>\n",
       "      <td>FOR03</td>\n",
       "      <td>0.534923</td>\n",
       "      <td>1.489291</td>\n",
       "      <td>1.708687</td>\n",
       "      <td>2.079390</td>\n",
       "    </tr>\n",
       "    <tr>\n",
       "      <th>3</th>\n",
       "      <td>FOR04</td>\n",
       "      <td>0.474139</td>\n",
       "      <td>0.797340</td>\n",
       "      <td>1.347368</td>\n",
       "      <td>1.865050</td>\n",
       "    </tr>\n",
       "    <tr>\n",
       "      <th>4</th>\n",
       "      <td>FOR05</td>\n",
       "      <td>0.000000</td>\n",
       "      <td>0.993256</td>\n",
       "      <td>1.334504</td>\n",
       "      <td>1.586574</td>\n",
       "    </tr>\n",
       "    <tr>\n",
       "      <th>...</th>\n",
       "      <td>...</td>\n",
       "      <td>...</td>\n",
       "      <td>...</td>\n",
       "      <td>...</td>\n",
       "      <td>...</td>\n",
       "    </tr>\n",
       "    <tr>\n",
       "      <th>91</th>\n",
       "      <td>35</td>\n",
       "      <td>0.758937</td>\n",
       "      <td>1.668232</td>\n",
       "      <td>2.068282</td>\n",
       "      <td>2.228674</td>\n",
       "    </tr>\n",
       "    <tr>\n",
       "      <th>92</th>\n",
       "      <td>37</td>\n",
       "      <td>0.562335</td>\n",
       "      <td>1.560562</td>\n",
       "      <td>1.691592</td>\n",
       "      <td>1.938696</td>\n",
       "    </tr>\n",
       "    <tr>\n",
       "      <th>93</th>\n",
       "      <td>38</td>\n",
       "      <td>0.846145</td>\n",
       "      <td>1.608977</td>\n",
       "      <td>1.826176</td>\n",
       "      <td>2.170192</td>\n",
       "    </tr>\n",
       "    <tr>\n",
       "      <th>94</th>\n",
       "      <td>39</td>\n",
       "      <td>0.658110</td>\n",
       "      <td>0.306179</td>\n",
       "      <td>0.620760</td>\n",
       "      <td>0.867365</td>\n",
       "    </tr>\n",
       "    <tr>\n",
       "      <th>95</th>\n",
       "      <td>40</td>\n",
       "      <td>1.271181</td>\n",
       "      <td>1.257864</td>\n",
       "      <td>1.500863</td>\n",
       "      <td>1.708245</td>\n",
       "    </tr>\n",
       "  </tbody>\n",
       "</table>\n",
       "<p>96 rows × 5 columns</p>\n",
       "</div>"
      ],
      "text/plain": [
       "     Plot  Field Shannon  Raster 20Clusters Shannon  \\\n",
       "0   FOR01       1.267990                   1.950667   \n",
       "1   FOR02       1.604816                   1.193331   \n",
       "2   FOR03       0.534923                   1.489291   \n",
       "3   FOR04       0.474139                   0.797340   \n",
       "4   FOR05       0.000000                   0.993256   \n",
       "..    ...            ...                        ...   \n",
       "91     35       0.758937                   1.668232   \n",
       "92     37       0.562335                   1.560562   \n",
       "93     38       0.846145                   1.608977   \n",
       "94     39       0.658110                   0.306179   \n",
       "95     40       1.271181                   1.257864   \n",
       "\n",
       "    Raster 35Clusters Shannon  Raster 50Clusters Shannon  \n",
       "0                    2.172363                   2.414920  \n",
       "1                    1.830948                   2.074967  \n",
       "2                    1.708687                   2.079390  \n",
       "3                    1.347368                   1.865050  \n",
       "4                    1.334504                   1.586574  \n",
       "..                        ...                        ...  \n",
       "91                   2.068282                   2.228674  \n",
       "92                   1.691592                   1.938696  \n",
       "93                   1.826176                   2.170192  \n",
       "94                   0.620760                   0.867365  \n",
       "95                   1.500863                   1.708245  \n",
       "\n",
       "[96 rows x 5 columns]"
      ]
     },
     "execution_count": 277,
     "metadata": {},
     "output_type": "execute_result"
    }
   ],
   "source": [
    "df_Merge_Shannon_6 = pd.merge(df_Field_Shannon,df_Raster_Shannon_6,on='Plot')\n",
    "df_Merge_Shannon_6"
   ]
  },
  {
   "cell_type": "code",
   "execution_count": 278,
   "metadata": {},
   "outputs": [
    {
     "data": {
      "text/plain": [
       "-0.9543203283054069"
      ]
     },
     "execution_count": 278,
     "metadata": {},
     "output_type": "execute_result"
    }
   ],
   "source": [
    "r2_score(df_Merge_Shannon_6['Field Shannon'],df_Merge_Shannon_6['Raster 20Clusters Shannon'])"
   ]
  },
  {
   "cell_type": "code",
   "execution_count": 279,
   "metadata": {},
   "outputs": [
    {
     "data": {
      "image/png": "[encoded data removed]",
      "text/plain": [
       "<Figure size 2000x1000 with 1 Axes>"
      ]
     },
     "metadata": {},
     "output_type": "display_data"
    }
   ],
   "source": [
    "df_Merge_Shannon_6.iloc[0:62,:].plot(x = 'Plot', y = ['Field Shannon', 'Raster 20Clusters Shannon','Raster 35Clusters Shannon','Raster 50Clusters Shannon'], kind = 'bar', figsize=(20,10))\n",
    "plt.xticks(rotation = 45)\n",
    "plt.grid()\n",
    "plt.show()"
   ]
  },
  {
   "cell_type": "code",
   "execution_count": 280,
   "metadata": {},
   "outputs": [
    {
     "data": {
      "text/html": [
       "<div>\n",
       "<style scoped>\n",
       "    .dataframe tbody tr th:only-of-type {\n",
       "        vertical-align: middle;\n",
       "    }\n",
       "\n",
       "    .dataframe tbody tr th {\n",
       "        vertical-align: top;\n",
       "    }\n",
       "\n",
       "    .dataframe thead th {\n",
       "        text-align: right;\n",
       "    }\n",
       "</style>\n",
       "<table border=\"1\" class=\"dataframe\">\n",
       "  <thead>\n",
       "    <tr style=\"text-align: right;\">\n",
       "      <th></th>\n",
       "      <th>Field Shannon</th>\n",
       "      <th>Raster 20Clusters Shannon</th>\n",
       "      <th>Raster 35Clusters Shannon</th>\n",
       "      <th>Raster 50Clusters Shannon</th>\n",
       "    </tr>\n",
       "  </thead>\n",
       "  <tbody>\n",
       "    <tr>\n",
       "      <th>mean</th>\n",
       "      <td>0.890842</td>\n",
       "      <td>1.322535</td>\n",
       "      <td>1.639557</td>\n",
       "      <td>1.836367</td>\n",
       "    </tr>\n",
       "    <tr>\n",
       "      <th>std</th>\n",
       "      <td>0.476653</td>\n",
       "      <td>0.351765</td>\n",
       "      <td>0.383635</td>\n",
       "      <td>0.368634</td>\n",
       "    </tr>\n",
       "    <tr>\n",
       "      <th>min</th>\n",
       "      <td>0.000000</td>\n",
       "      <td>0.306179</td>\n",
       "      <td>0.620760</td>\n",
       "      <td>0.867365</td>\n",
       "    </tr>\n",
       "    <tr>\n",
       "      <th>25%</th>\n",
       "      <td>0.545387</td>\n",
       "      <td>1.062143</td>\n",
       "      <td>1.409198</td>\n",
       "      <td>1.586462</td>\n",
       "    </tr>\n",
       "    <tr>\n",
       "      <th>50%</th>\n",
       "      <td>0.930161</td>\n",
       "      <td>1.329013</td>\n",
       "      <td>1.639402</td>\n",
       "      <td>1.842660</td>\n",
       "    </tr>\n",
       "    <tr>\n",
       "      <th>75%</th>\n",
       "      <td>1.264803</td>\n",
       "      <td>1.578306</td>\n",
       "      <td>1.920514</td>\n",
       "      <td>2.099909</td>\n",
       "    </tr>\n",
       "    <tr>\n",
       "      <th>max</th>\n",
       "      <td>1.794190</td>\n",
       "      <td>2.107592</td>\n",
       "      <td>2.534111</td>\n",
       "      <td>2.632896</td>\n",
       "    </tr>\n",
       "  </tbody>\n",
       "</table>\n",
       "</div>"
      ],
      "text/plain": [
       "      Field Shannon  Raster 20Clusters Shannon  Raster 35Clusters Shannon  \\\n",
       "mean       0.890842                   1.322535                   1.639557   \n",
       "std        0.476653                   0.351765                   0.383635   \n",
       "min        0.000000                   0.306179                   0.620760   \n",
       "25%        0.545387                   1.062143                   1.409198   \n",
       "50%        0.930161                   1.329013                   1.639402   \n",
       "75%        1.264803                   1.578306                   1.920514   \n",
       "max        1.794190                   2.107592                   2.534111   \n",
       "\n",
       "      Raster 50Clusters Shannon  \n",
       "mean                   1.836367  \n",
       "std                    0.368634  \n",
       "min                    0.867365  \n",
       "25%                    1.586462  \n",
       "50%                    1.842660  \n",
       "75%                    2.099909  \n",
       "max                    2.632896  "
      ]
     },
     "execution_count": 280,
     "metadata": {},
     "output_type": "execute_result"
    }
   ],
   "source": [
    "df_Stat_Shannon_6 = df_Merge_Shannon_6.describe().copy()\n",
    "df_Stat_Shannon_6.drop(index = ['count'], inplace = True)\n",
    "df_Stat_Shannon_6"
   ]
  },
  {
   "cell_type": "markdown",
   "metadata": {},
   "source": [
    "### 20 Clusters Null Hypothesis and Pearson Correlation Coefficient"
   ]
  },
  {
   "cell_type": "code",
   "execution_count": 281,
   "metadata": {},
   "outputs": [
    {
     "name": "stdout",
     "output_type": "stream",
     "text": [
      "-7.13997051731478\n",
      "1.926473713869917e-11\n",
      "We reject NULL HYPOTHESIS! Therefore we can conclude that there is a definite relationship between Field Simpson and Raster Simpson!\n"
     ]
    }
   ],
   "source": [
    "# Null hypothesis! \n",
    "t_stat, pvalue = ttest_ind(df_Merge_Shannon_6['Field Shannon'], df_Merge_Shannon_6['Raster 20Clusters Shannon'])\n",
    "print(t_stat)\n",
    "print(pvalue)\n",
    "if pvalue < 0.05:\n",
    "    print(\"We reject NULL HYPOTHESIS! Therefore we can conclude that there is a definite relationship between Field Simpson and Raster Simpson!\")\n",
    "else: \n",
    "    print(\"We fail to reject NULL HYPOTHESIS!\")"
   ]
  },
  {
   "cell_type": "code",
   "execution_count": 282,
   "metadata": {},
   "outputs": [
    {
     "data": {
      "text/plain": [
       "PearsonRResult(statistic=0.2840080637108463, pvalue=0.005043577355332875)"
      ]
     },
     "execution_count": 282,
     "metadata": {},
     "output_type": "execute_result"
    }
   ],
   "source": [
    "# Pearson correlation\n",
    "res = stats.pearsonr(df_Merge_Shannon_6['Field Shannon'], df_Merge_Shannon_6['Raster 20Clusters Shannon'])\n",
    "res"
   ]
  },
  {
   "cell_type": "code",
   "execution_count": 283,
   "metadata": {},
   "outputs": [
    {
     "name": "stdout",
     "output_type": "stream",
     "text": [
      "-11.989438942789997\n",
      "4.99972911122569e-25\n",
      "We reject NULL HYPOTHESIS! Therefore we can conclude that there is a definite relationship between Field Simpson and Raster Simpson!\n"
     ]
    }
   ],
   "source": [
    "# Null hypothesis! \n",
    "t_stat, pvalue = ttest_ind(df_Merge_Shannon_6['Field Shannon'], df_Merge_Shannon_6['Raster 35Clusters Shannon'])\n",
    "print(t_stat)\n",
    "print(pvalue)\n",
    "if pvalue < 0.05:\n",
    "    print(\"We reject NULL HYPOTHESIS! Therefore we can conclude that there is a definite relationship between Field Simpson and Raster Simpson!\")\n",
    "else: \n",
    "    print(\"We fail to reject NULL HYPOTHESIS!\")"
   ]
  },
  {
   "cell_type": "code",
   "execution_count": 284,
   "metadata": {},
   "outputs": [
    {
     "data": {
      "text/plain": [
       "PearsonRResult(statistic=0.33930213230804745, pvalue=0.0007200498222270612)"
      ]
     },
     "execution_count": 284,
     "metadata": {},
     "output_type": "execute_result"
    }
   ],
   "source": [
    "# Pearson correlation\n",
    "res = stats.pearsonr(df_Merge_Shannon_6['Field Shannon'], df_Merge_Shannon_6['Raster 35Clusters Shannon'])\n",
    "res"
   ]
  },
  {
   "cell_type": "code",
   "execution_count": 285,
   "metadata": {},
   "outputs": [
    {
     "name": "stdout",
     "output_type": "stream",
     "text": [
      "-15.374527759860166\n",
      "3.4638368368241413e-35\n",
      "We reject NULL HYPOTHESIS! Therefore we can conclude that there is a definite relationship between Field Simpson and Raster Simpson!\n"
     ]
    }
   ],
   "source": [
    "# Null hypothesis! \n",
    "t_stat, pvalue = ttest_ind(df_Merge_Shannon_6['Field Shannon'], df_Merge_Shannon_6['Raster 50Clusters Shannon'])\n",
    "print(t_stat)\n",
    "print(pvalue)\n",
    "if pvalue < 0.05:\n",
    "    print(\"We reject NULL HYPOTHESIS! Therefore we can conclude that there is a definite relationship between Field Simpson and Raster Simpson!\")\n",
    "else: \n",
    "    print(\"We fail to reject NULL HYPOTHESIS!\")"
   ]
  },
  {
   "cell_type": "code",
   "execution_count": 286,
   "metadata": {},
   "outputs": [
    {
     "data": {
      "text/plain": [
       "PearsonRResult(statistic=0.2780330297142344, pvalue=0.0060923010461047256)"
      ]
     },
     "execution_count": 286,
     "metadata": {},
     "output_type": "execute_result"
    }
   ],
   "source": [
    "# Pearson correlation\n",
    "res = stats.pearsonr(df_Merge_Shannon_6['Field Shannon'], df_Merge_Shannon_6['Raster 50Clusters Shannon'])\n",
    "res"
   ]
  },
  {
   "cell_type": "markdown",
   "metadata": {},
   "source": [
    "### Only the first dataset"
   ]
  },
  {
   "cell_type": "code",
   "execution_count": 287,
   "metadata": {},
   "outputs": [
    {
     "data": {
      "text/html": [
       "<div>\n",
       "<style scoped>\n",
       "    .dataframe tbody tr th:only-of-type {\n",
       "        vertical-align: middle;\n",
       "    }\n",
       "\n",
       "    .dataframe tbody tr th {\n",
       "        vertical-align: top;\n",
       "    }\n",
       "\n",
       "    .dataframe thead th {\n",
       "        text-align: right;\n",
       "    }\n",
       "</style>\n",
       "<table border=\"1\" class=\"dataframe\">\n",
       "  <thead>\n",
       "    <tr style=\"text-align: right;\">\n",
       "      <th></th>\n",
       "      <th>Plot</th>\n",
       "      <th>Field Shannon</th>\n",
       "      <th>Raster 20Clusters Shannon</th>\n",
       "      <th>Raster 35Clusters Shannon</th>\n",
       "      <th>Raster 50Clusters Shannon</th>\n",
       "    </tr>\n",
       "  </thead>\n",
       "  <tbody>\n",
       "    <tr>\n",
       "      <th>0</th>\n",
       "      <td>FOR01</td>\n",
       "      <td>1.267990</td>\n",
       "      <td>1.950667</td>\n",
       "      <td>2.172363</td>\n",
       "      <td>2.414920</td>\n",
       "    </tr>\n",
       "    <tr>\n",
       "      <th>1</th>\n",
       "      <td>FOR02</td>\n",
       "      <td>1.604816</td>\n",
       "      <td>1.193331</td>\n",
       "      <td>1.830948</td>\n",
       "      <td>2.074967</td>\n",
       "    </tr>\n",
       "    <tr>\n",
       "      <th>2</th>\n",
       "      <td>FOR03</td>\n",
       "      <td>0.534923</td>\n",
       "      <td>1.489291</td>\n",
       "      <td>1.708687</td>\n",
       "      <td>2.079390</td>\n",
       "    </tr>\n",
       "    <tr>\n",
       "      <th>3</th>\n",
       "      <td>FOR04</td>\n",
       "      <td>0.474139</td>\n",
       "      <td>0.797340</td>\n",
       "      <td>1.347368</td>\n",
       "      <td>1.865050</td>\n",
       "    </tr>\n",
       "    <tr>\n",
       "      <th>4</th>\n",
       "      <td>FOR05</td>\n",
       "      <td>0.000000</td>\n",
       "      <td>0.993256</td>\n",
       "      <td>1.334504</td>\n",
       "      <td>1.586574</td>\n",
       "    </tr>\n",
       "    <tr>\n",
       "      <th>...</th>\n",
       "      <td>...</td>\n",
       "      <td>...</td>\n",
       "      <td>...</td>\n",
       "      <td>...</td>\n",
       "      <td>...</td>\n",
       "    </tr>\n",
       "    <tr>\n",
       "      <th>58</th>\n",
       "      <td>FOR78</td>\n",
       "      <td>0.286836</td>\n",
       "      <td>1.040898</td>\n",
       "      <td>1.153376</td>\n",
       "      <td>1.350173</td>\n",
       "    </tr>\n",
       "    <tr>\n",
       "      <th>59</th>\n",
       "      <td>FOR79</td>\n",
       "      <td>1.344339</td>\n",
       "      <td>1.634144</td>\n",
       "      <td>1.448604</td>\n",
       "      <td>1.651942</td>\n",
       "    </tr>\n",
       "    <tr>\n",
       "      <th>60</th>\n",
       "      <td>FOR80</td>\n",
       "      <td>0.918320</td>\n",
       "      <td>1.043367</td>\n",
       "      <td>1.410515</td>\n",
       "      <td>1.611931</td>\n",
       "    </tr>\n",
       "    <tr>\n",
       "      <th>61</th>\n",
       "      <td>FOR81</td>\n",
       "      <td>1.301362</td>\n",
       "      <td>1.241117</td>\n",
       "      <td>1.724971</td>\n",
       "      <td>1.998662</td>\n",
       "    </tr>\n",
       "    <tr>\n",
       "      <th>62</th>\n",
       "      <td>FOR82</td>\n",
       "      <td>1.193337</td>\n",
       "      <td>1.015282</td>\n",
       "      <td>1.395994</td>\n",
       "      <td>1.527783</td>\n",
       "    </tr>\n",
       "  </tbody>\n",
       "</table>\n",
       "<p>63 rows × 5 columns</p>\n",
       "</div>"
      ],
      "text/plain": [
       "     Plot  Field Shannon  Raster 20Clusters Shannon  \\\n",
       "0   FOR01       1.267990                   1.950667   \n",
       "1   FOR02       1.604816                   1.193331   \n",
       "2   FOR03       0.534923                   1.489291   \n",
       "3   FOR04       0.474139                   0.797340   \n",
       "4   FOR05       0.000000                   0.993256   \n",
       "..    ...            ...                        ...   \n",
       "58  FOR78       0.286836                   1.040898   \n",
       "59  FOR79       1.344339                   1.634144   \n",
       "60  FOR80       0.918320                   1.043367   \n",
       "61  FOR81       1.301362                   1.241117   \n",
       "62  FOR82       1.193337                   1.015282   \n",
       "\n",
       "    Raster 35Clusters Shannon  Raster 50Clusters Shannon  \n",
       "0                    2.172363                   2.414920  \n",
       "1                    1.830948                   2.074967  \n",
       "2                    1.708687                   2.079390  \n",
       "3                    1.347368                   1.865050  \n",
       "4                    1.334504                   1.586574  \n",
       "..                        ...                        ...  \n",
       "58                   1.153376                   1.350173  \n",
       "59                   1.448604                   1.651942  \n",
       "60                   1.410515                   1.611931  \n",
       "61                   1.724971                   1.998662  \n",
       "62                   1.395994                   1.527783  \n",
       "\n",
       "[63 rows x 5 columns]"
      ]
     },
     "execution_count": 287,
     "metadata": {},
     "output_type": "execute_result"
    }
   ],
   "source": [
    "df_Merge_Shannon_1_6 = df_Merge_Shannon_6.loc[0:62,:]\n",
    "df_Merge_Shannon_1_6"
   ]
  },
  {
   "cell_type": "code",
   "execution_count": 288,
   "metadata": {},
   "outputs": [
    {
     "data": {
      "text/plain": [
       "PearsonRResult(statistic=0.3107109122679821, pvalue=0.01319413199973814)"
      ]
     },
     "execution_count": 288,
     "metadata": {},
     "output_type": "execute_result"
    }
   ],
   "source": [
    "# Pearson correlation\n",
    "res = stats.pearsonr(df_Merge_Shannon_1_6['Field Shannon'], df_Merge_Shannon_1_6['Raster 20Clusters Shannon'])\n",
    "res"
   ]
  },
  {
   "cell_type": "code",
   "execution_count": 289,
   "metadata": {},
   "outputs": [
    {
     "data": {
      "text/plain": [
       "PearsonRResult(statistic=0.37176183262409845, pvalue=0.002699796762101531)"
      ]
     },
     "execution_count": 289,
     "metadata": {},
     "output_type": "execute_result"
    }
   ],
   "source": [
    "# Pearson correlation\n",
    "res = stats.pearsonr(df_Merge_Shannon_1_6['Field Shannon'], df_Merge_Shannon_1_6['Raster 35Clusters Shannon'])\n",
    "res"
   ]
  },
  {
   "cell_type": "code",
   "execution_count": 290,
   "metadata": {},
   "outputs": [
    {
     "data": {
      "text/plain": [
       "PearsonRResult(statistic=0.31045865749799023, pvalue=0.013272668493593417)"
      ]
     },
     "execution_count": 290,
     "metadata": {},
     "output_type": "execute_result"
    }
   ],
   "source": [
    "# Pearson correlation\n",
    "res = stats.pearsonr(df_Merge_Shannon_1_6['Field Shannon'], df_Merge_Shannon_1_6['Raster 50Clusters Shannon'])\n",
    "res"
   ]
  },
  {
   "cell_type": "markdown",
   "metadata": {},
   "source": [
    "### Only for the second dataset"
   ]
  },
  {
   "cell_type": "code",
   "execution_count": 291,
   "metadata": {},
   "outputs": [
    {
     "data": {
      "text/html": [
       "<div>\n",
       "<style scoped>\n",
       "    .dataframe tbody tr th:only-of-type {\n",
       "        vertical-align: middle;\n",
       "    }\n",
       "\n",
       "    .dataframe tbody tr th {\n",
       "        vertical-align: top;\n",
       "    }\n",
       "\n",
       "    .dataframe thead th {\n",
       "        text-align: right;\n",
       "    }\n",
       "</style>\n",
       "<table border=\"1\" class=\"dataframe\">\n",
       "  <thead>\n",
       "    <tr style=\"text-align: right;\">\n",
       "      <th></th>\n",
       "      <th>Plot</th>\n",
       "      <th>Field Shannon</th>\n",
       "      <th>Raster 20Clusters Shannon</th>\n",
       "      <th>Raster 35Clusters Shannon</th>\n",
       "      <th>Raster 50Clusters Shannon</th>\n",
       "    </tr>\n",
       "  </thead>\n",
       "  <tbody>\n",
       "    <tr>\n",
       "      <th>63</th>\n",
       "      <td>1</td>\n",
       "      <td>0.529706</td>\n",
       "      <td>0.643656</td>\n",
       "      <td>0.814122</td>\n",
       "      <td>0.868821</td>\n",
       "    </tr>\n",
       "    <tr>\n",
       "      <th>64</th>\n",
       "      <td>2</td>\n",
       "      <td>1.277259</td>\n",
       "      <td>1.702833</td>\n",
       "      <td>2.135463</td>\n",
       "      <td>2.278509</td>\n",
       "    </tr>\n",
       "    <tr>\n",
       "      <th>65</th>\n",
       "      <td>3</td>\n",
       "      <td>1.086655</td>\n",
       "      <td>1.162044</td>\n",
       "      <td>1.605443</td>\n",
       "      <td>1.638774</td>\n",
       "    </tr>\n",
       "    <tr>\n",
       "      <th>66</th>\n",
       "      <td>4</td>\n",
       "      <td>1.334475</td>\n",
       "      <td>1.022368</td>\n",
       "      <td>1.472526</td>\n",
       "      <td>1.586127</td>\n",
       "    </tr>\n",
       "    <tr>\n",
       "      <th>67</th>\n",
       "      <td>5</td>\n",
       "      <td>1.365077</td>\n",
       "      <td>1.296688</td>\n",
       "      <td>1.741262</td>\n",
       "      <td>1.972998</td>\n",
       "    </tr>\n",
       "  </tbody>\n",
       "</table>\n",
       "</div>"
      ],
      "text/plain": [
       "   Plot  Field Shannon  Raster 20Clusters Shannon  Raster 35Clusters Shannon  \\\n",
       "63    1       0.529706                   0.643656                   0.814122   \n",
       "64    2       1.277259                   1.702833                   2.135463   \n",
       "65    3       1.086655                   1.162044                   1.605443   \n",
       "66    4       1.334475                   1.022368                   1.472526   \n",
       "67    5       1.365077                   1.296688                   1.741262   \n",
       "\n",
       "    Raster 50Clusters Shannon  \n",
       "63                   0.868821  \n",
       "64                   2.278509  \n",
       "65                   1.638774  \n",
       "66                   1.586127  \n",
       "67                   1.972998  "
      ]
     },
     "execution_count": 291,
     "metadata": {},
     "output_type": "execute_result"
    }
   ],
   "source": [
    "df_Merge_Shannon_2_6 = df_Merge_Shannon_6.loc[63:,:]\n",
    "df_Merge_Shannon_2_6.head()"
   ]
  },
  {
   "cell_type": "code",
   "execution_count": 292,
   "metadata": {},
   "outputs": [
    {
     "data": {
      "text/plain": [
       "-2.3211701035800454"
      ]
     },
     "execution_count": 292,
     "metadata": {},
     "output_type": "execute_result"
    }
   ],
   "source": [
    "r2_score(df_Merge_Shannon_2_6['Field Shannon'],df_Merge_Shannon_2_6['Raster 20Clusters Shannon'])"
   ]
  },
  {
   "cell_type": "code",
   "execution_count": 293,
   "metadata": {},
   "outputs": [
    {
     "data": {
      "text/plain": [
       "-5.6802099435629785"
      ]
     },
     "execution_count": 293,
     "metadata": {},
     "output_type": "execute_result"
    }
   ],
   "source": [
    "r2_score(df_Merge_Shannon_2_6['Field Shannon'],df_Merge_Shannon_2_6['Raster 35Clusters Shannon'])"
   ]
  },
  {
   "cell_type": "code",
   "execution_count": 294,
   "metadata": {},
   "outputs": [
    {
     "data": {
      "text/plain": [
       "-8.52970815158481"
      ]
     },
     "execution_count": 294,
     "metadata": {},
     "output_type": "execute_result"
    }
   ],
   "source": [
    "r2_score(df_Merge_Shannon_2_6['Field Shannon'],df_Merge_Shannon_2_6['Raster 50Clusters Shannon'])"
   ]
  },
  {
   "cell_type": "code",
   "execution_count": 295,
   "metadata": {},
   "outputs": [
    {
     "data": {
      "text/plain": [
       "0.41981383300659464"
      ]
     },
     "execution_count": 295,
     "metadata": {},
     "output_type": "execute_result"
    }
   ],
   "source": [
    "mae(df_Merge_Shannon_2_6['Field Shannon'],df_Merge_Shannon_2_6['Raster 20Clusters Shannon'])"
   ]
  },
  {
   "cell_type": "code",
   "execution_count": 296,
   "metadata": {},
   "outputs": [
    {
     "data": {
      "text/plain": [
       "PearsonRResult(statistic=0.0989499321189406, pvalue=0.5837920906690022)"
      ]
     },
     "execution_count": 296,
     "metadata": {},
     "output_type": "execute_result"
    }
   ],
   "source": [
    "# Pearson correlation\n",
    "res = stats.pearsonr(df_Merge_Shannon_2_6['Field Shannon'], df_Merge_Shannon_2_6['Raster 20Clusters Shannon'])\n",
    "res"
   ]
  },
  {
   "cell_type": "code",
   "execution_count": 297,
   "metadata": {},
   "outputs": [
    {
     "data": {
      "text/plain": [
       "PearsonRResult(statistic=0.15816835998523993, pvalue=0.3793329248772748)"
      ]
     },
     "execution_count": 297,
     "metadata": {},
     "output_type": "execute_result"
    }
   ],
   "source": [
    "# Pearson correlation\n",
    "res = stats.pearsonr(df_Merge_Shannon_2_6['Field Shannon'], df_Merge_Shannon_2_6['Raster 35Clusters Shannon'])\n",
    "res"
   ]
  },
  {
   "cell_type": "code",
   "execution_count": 298,
   "metadata": {},
   "outputs": [
    {
     "data": {
      "text/plain": [
       "PearsonRResult(statistic=0.11719675931479878, pvalue=0.5159964033050369)"
      ]
     },
     "execution_count": 298,
     "metadata": {},
     "output_type": "execute_result"
    }
   ],
   "source": [
    "# Pearson correlation\n",
    "res = stats.pearsonr(df_Merge_Shannon_2_6['Field Shannon'], df_Merge_Shannon_2_6['Raster 50Clusters Shannon'])\n",
    "res"
   ]
  },
  {
   "cell_type": "markdown",
   "metadata": {},
   "source": [
    "### Remove 0 shannon index plot in dataset 1"
   ]
  },
  {
   "cell_type": "code",
   "execution_count": 299,
   "metadata": {},
   "outputs": [
    {
     "data": {
      "text/html": [
       "<div>\n",
       "<style scoped>\n",
       "    .dataframe tbody tr th:only-of-type {\n",
       "        vertical-align: middle;\n",
       "    }\n",
       "\n",
       "    .dataframe tbody tr th {\n",
       "        vertical-align: top;\n",
       "    }\n",
       "\n",
       "    .dataframe thead th {\n",
       "        text-align: right;\n",
       "    }\n",
       "</style>\n",
       "<table border=\"1\" class=\"dataframe\">\n",
       "  <thead>\n",
       "    <tr style=\"text-align: right;\">\n",
       "      <th></th>\n",
       "      <th>Plot</th>\n",
       "      <th>Field Shannon</th>\n",
       "      <th>Raster 20Clusters Shannon</th>\n",
       "      <th>Raster 35Clusters Shannon</th>\n",
       "      <th>Raster 50Clusters Shannon</th>\n",
       "    </tr>\n",
       "  </thead>\n",
       "  <tbody>\n",
       "    <tr>\n",
       "      <th>0</th>\n",
       "      <td>FOR01</td>\n",
       "      <td>1.267990</td>\n",
       "      <td>1.950667</td>\n",
       "      <td>2.172363</td>\n",
       "      <td>2.414920</td>\n",
       "    </tr>\n",
       "    <tr>\n",
       "      <th>1</th>\n",
       "      <td>FOR02</td>\n",
       "      <td>1.604816</td>\n",
       "      <td>1.193331</td>\n",
       "      <td>1.830948</td>\n",
       "      <td>2.074967</td>\n",
       "    </tr>\n",
       "    <tr>\n",
       "      <th>2</th>\n",
       "      <td>FOR03</td>\n",
       "      <td>0.534923</td>\n",
       "      <td>1.489291</td>\n",
       "      <td>1.708687</td>\n",
       "      <td>2.079390</td>\n",
       "    </tr>\n",
       "    <tr>\n",
       "      <th>3</th>\n",
       "      <td>FOR04</td>\n",
       "      <td>0.474139</td>\n",
       "      <td>0.797340</td>\n",
       "      <td>1.347368</td>\n",
       "      <td>1.865050</td>\n",
       "    </tr>\n",
       "    <tr>\n",
       "      <th>5</th>\n",
       "      <td>FOR06</td>\n",
       "      <td>1.035936</td>\n",
       "      <td>1.664498</td>\n",
       "      <td>1.913563</td>\n",
       "      <td>2.088612</td>\n",
       "    </tr>\n",
       "    <tr>\n",
       "      <th>...</th>\n",
       "      <td>...</td>\n",
       "      <td>...</td>\n",
       "      <td>...</td>\n",
       "      <td>...</td>\n",
       "      <td>...</td>\n",
       "    </tr>\n",
       "    <tr>\n",
       "      <th>91</th>\n",
       "      <td>35</td>\n",
       "      <td>0.758937</td>\n",
       "      <td>1.668232</td>\n",
       "      <td>2.068282</td>\n",
       "      <td>2.228674</td>\n",
       "    </tr>\n",
       "    <tr>\n",
       "      <th>92</th>\n",
       "      <td>37</td>\n",
       "      <td>0.562335</td>\n",
       "      <td>1.560562</td>\n",
       "      <td>1.691592</td>\n",
       "      <td>1.938696</td>\n",
       "    </tr>\n",
       "    <tr>\n",
       "      <th>93</th>\n",
       "      <td>38</td>\n",
       "      <td>0.846145</td>\n",
       "      <td>1.608977</td>\n",
       "      <td>1.826176</td>\n",
       "      <td>2.170192</td>\n",
       "    </tr>\n",
       "    <tr>\n",
       "      <th>94</th>\n",
       "      <td>39</td>\n",
       "      <td>0.658110</td>\n",
       "      <td>0.306179</td>\n",
       "      <td>0.620760</td>\n",
       "      <td>0.867365</td>\n",
       "    </tr>\n",
       "    <tr>\n",
       "      <th>95</th>\n",
       "      <td>40</td>\n",
       "      <td>1.271181</td>\n",
       "      <td>1.257864</td>\n",
       "      <td>1.500863</td>\n",
       "      <td>1.708245</td>\n",
       "    </tr>\n",
       "  </tbody>\n",
       "</table>\n",
       "<p>88 rows × 5 columns</p>\n",
       "</div>"
      ],
      "text/plain": [
       "     Plot  Field Shannon  Raster 20Clusters Shannon  \\\n",
       "0   FOR01       1.267990                   1.950667   \n",
       "1   FOR02       1.604816                   1.193331   \n",
       "2   FOR03       0.534923                   1.489291   \n",
       "3   FOR04       0.474139                   0.797340   \n",
       "5   FOR06       1.035936                   1.664498   \n",
       "..    ...            ...                        ...   \n",
       "91     35       0.758937                   1.668232   \n",
       "92     37       0.562335                   1.560562   \n",
       "93     38       0.846145                   1.608977   \n",
       "94     39       0.658110                   0.306179   \n",
       "95     40       1.271181                   1.257864   \n",
       "\n",
       "    Raster 35Clusters Shannon  Raster 50Clusters Shannon  \n",
       "0                    2.172363                   2.414920  \n",
       "1                    1.830948                   2.074967  \n",
       "2                    1.708687                   2.079390  \n",
       "3                    1.347368                   1.865050  \n",
       "5                    1.913563                   2.088612  \n",
       "..                        ...                        ...  \n",
       "91                   2.068282                   2.228674  \n",
       "92                   1.691592                   1.938696  \n",
       "93                   1.826176                   2.170192  \n",
       "94                   0.620760                   0.867365  \n",
       "95                   1.500863                   1.708245  \n",
       "\n",
       "[88 rows x 5 columns]"
      ]
     },
     "execution_count": 299,
     "metadata": {},
     "output_type": "execute_result"
    }
   ],
   "source": [
    "df_Merge_Shannon_6_NoZero = df_Merge_Shannon_6.copy()\n",
    "df_Merge_Shannon_6_NoZero = df_Merge_Shannon_6_NoZero[df_Merge_Shannon_6_NoZero['Field Shannon']!=0]\n",
    "df_Merge_Shannon_6_NoZero"
   ]
  },
  {
   "cell_type": "code",
   "execution_count": 300,
   "metadata": {},
   "outputs": [
    {
     "data": {
      "text/html": [
       "<div>\n",
       "<style scoped>\n",
       "    .dataframe tbody tr th:only-of-type {\n",
       "        vertical-align: middle;\n",
       "    }\n",
       "\n",
       "    .dataframe tbody tr th {\n",
       "        vertical-align: top;\n",
       "    }\n",
       "\n",
       "    .dataframe thead th {\n",
       "        text-align: right;\n",
       "    }\n",
       "</style>\n",
       "<table border=\"1\" class=\"dataframe\">\n",
       "  <thead>\n",
       "    <tr style=\"text-align: right;\">\n",
       "      <th></th>\n",
       "      <th>Field Shannon</th>\n",
       "      <th>Raster 20Clusters Shannon</th>\n",
       "      <th>Raster 35Clusters Shannon</th>\n",
       "      <th>Raster 50Clusters Shannon</th>\n",
       "    </tr>\n",
       "  </thead>\n",
       "  <tbody>\n",
       "    <tr>\n",
       "      <th>count</th>\n",
       "      <td>88.000000</td>\n",
       "      <td>88.000000</td>\n",
       "      <td>88.000000</td>\n",
       "      <td>88.000000</td>\n",
       "    </tr>\n",
       "    <tr>\n",
       "      <th>mean</th>\n",
       "      <td>0.971828</td>\n",
       "      <td>1.354709</td>\n",
       "      <td>1.683939</td>\n",
       "      <td>1.871792</td>\n",
       "    </tr>\n",
       "    <tr>\n",
       "      <th>std</th>\n",
       "      <td>0.410465</td>\n",
       "      <td>0.341910</td>\n",
       "      <td>0.359040</td>\n",
       "      <td>0.358422</td>\n",
       "    </tr>\n",
       "    <tr>\n",
       "      <th>min</th>\n",
       "      <td>0.146145</td>\n",
       "      <td>0.306179</td>\n",
       "      <td>0.620760</td>\n",
       "      <td>0.867365</td>\n",
       "    </tr>\n",
       "    <tr>\n",
       "      <th>25%</th>\n",
       "      <td>0.607716</td>\n",
       "      <td>1.136359</td>\n",
       "      <td>1.448430</td>\n",
       "      <td>1.632063</td>\n",
       "    </tr>\n",
       "    <tr>\n",
       "      <th>50%</th>\n",
       "      <td>1.017380</td>\n",
       "      <td>1.361375</td>\n",
       "      <td>1.688537</td>\n",
       "      <td>1.875039</td>\n",
       "    </tr>\n",
       "    <tr>\n",
       "      <th>75%</th>\n",
       "      <td>1.272701</td>\n",
       "      <td>1.610005</td>\n",
       "      <td>1.928140</td>\n",
       "      <td>2.144057</td>\n",
       "    </tr>\n",
       "    <tr>\n",
       "      <th>max</th>\n",
       "      <td>1.794190</td>\n",
       "      <td>2.107592</td>\n",
       "      <td>2.534111</td>\n",
       "      <td>2.632896</td>\n",
       "    </tr>\n",
       "  </tbody>\n",
       "</table>\n",
       "</div>"
      ],
      "text/plain": [
       "       Field Shannon  Raster 20Clusters Shannon  Raster 35Clusters Shannon  \\\n",
       "count      88.000000                  88.000000                  88.000000   \n",
       "mean        0.971828                   1.354709                   1.683939   \n",
       "std         0.410465                   0.341910                   0.359040   \n",
       "min         0.146145                   0.306179                   0.620760   \n",
       "25%         0.607716                   1.136359                   1.448430   \n",
       "50%         1.017380                   1.361375                   1.688537   \n",
       "75%         1.272701                   1.610005                   1.928140   \n",
       "max         1.794190                   2.107592                   2.534111   \n",
       "\n",
       "       Raster 50Clusters Shannon  \n",
       "count                  88.000000  \n",
       "mean                    1.871792  \n",
       "std                     0.358422  \n",
       "min                     0.867365  \n",
       "25%                     1.632063  \n",
       "50%                     1.875039  \n",
       "75%                     2.144057  \n",
       "max                     2.632896  "
      ]
     },
     "execution_count": 300,
     "metadata": {},
     "output_type": "execute_result"
    }
   ],
   "source": [
    "df_Merge_Shannon_6_NoZero.describe()"
   ]
  },
  {
   "cell_type": "code",
   "execution_count": 301,
   "metadata": {},
   "outputs": [
    {
     "name": "stdout",
     "output_type": "stream",
     "text": [
      "-6.723436798450764\n",
      "2.4474033175975913e-10\n",
      "We reject NULL HYPOTHESIS! Therefore we can conclude that there is a definite relationship between Field Simpson and Raster Simpson!\n"
     ]
    }
   ],
   "source": [
    "# Null hypothesis! \n",
    "t_stat, pvalue = ttest_ind(df_Merge_Shannon_6_NoZero['Field Shannon'],df_Merge_Shannon_6_NoZero['Raster 20Clusters Shannon'])\n",
    "print(t_stat)\n",
    "print(pvalue)\n",
    "if pvalue < 0.05:\n",
    "    print(\"We reject NULL HYPOTHESIS! Therefore we can conclude that there is a definite relationship between Field Simpson and Raster Simpson!\")\n",
    "else: \n",
    "    print(\"We fail to reject NULL HYPOTHESIS!\")"
   ]
  },
  {
   "cell_type": "code",
   "execution_count": 302,
   "metadata": {},
   "outputs": [
    {
     "data": {
      "text/plain": [
       "-1.3321545131192596"
      ]
     },
     "execution_count": 302,
     "metadata": {},
     "output_type": "execute_result"
    }
   ],
   "source": [
    "r2_score(df_Merge_Shannon_6_NoZero['Field Shannon'],df_Merge_Shannon_6_NoZero['Raster 20Clusters Shannon'])"
   ]
  },
  {
   "cell_type": "code",
   "execution_count": 303,
   "metadata": {},
   "outputs": [
    {
     "data": {
      "text/plain": [
       "-3.523208787854596"
      ]
     },
     "execution_count": 303,
     "metadata": {},
     "output_type": "execute_result"
    }
   ],
   "source": [
    "r2_score(df_Merge_Shannon_6_NoZero['Field Shannon'],df_Merge_Shannon_6_NoZero['Raster 35Clusters Shannon'])"
   ]
  },
  {
   "cell_type": "code",
   "execution_count": 304,
   "metadata": {},
   "outputs": [
    {
     "data": {
      "text/plain": [
       "-5.405156811278844"
      ]
     },
     "execution_count": 304,
     "metadata": {},
     "output_type": "execute_result"
    }
   ],
   "source": [
    "r2_score(df_Merge_Shannon_6_NoZero['Field Shannon'],df_Merge_Shannon_6_NoZero['Raster 50Clusters Shannon'])"
   ]
  },
  {
   "cell_type": "code",
   "execution_count": 305,
   "metadata": {},
   "outputs": [
    {
     "data": {
      "text/plain": [
       "0.48849956211708834"
      ]
     },
     "execution_count": 305,
     "metadata": {},
     "output_type": "execute_result"
    }
   ],
   "source": [
    "mae(df_Merge_Shannon_6_NoZero['Field Shannon'],df_Merge_Shannon_6_NoZero['Raster 20Clusters Shannon'])"
   ]
  },
  {
   "cell_type": "code",
   "execution_count": 306,
   "metadata": {},
   "outputs": [
    {
     "data": {
      "text/plain": [
       "0.7330619305400987"
      ]
     },
     "execution_count": 306,
     "metadata": {},
     "output_type": "execute_result"
    }
   ],
   "source": [
    "mae(df_Merge_Shannon_6_NoZero['Field Shannon'],df_Merge_Shannon_6_NoZero['Raster 35Clusters Shannon'])"
   ]
  },
  {
   "cell_type": "code",
   "execution_count": 307,
   "metadata": {},
   "outputs": [
    {
     "data": {
      "text/plain": [
       "0.9014509089259577"
      ]
     },
     "execution_count": 307,
     "metadata": {},
     "output_type": "execute_result"
    }
   ],
   "source": [
    "mae(df_Merge_Shannon_6_NoZero['Field Shannon'],df_Merge_Shannon_6_NoZero['Raster 50Clusters Shannon'])"
   ]
  },
  {
   "cell_type": "code",
   "execution_count": 308,
   "metadata": {},
   "outputs": [
    {
     "data": {
      "text/plain": [
       "PearsonRResult(statistic=0.14515462963799136, pvalue=0.1772213061779264)"
      ]
     },
     "execution_count": 308,
     "metadata": {},
     "output_type": "execute_result"
    }
   ],
   "source": [
    "# Pearson correlation\n",
    "res = stats.pearsonr(df_Merge_Shannon_6_NoZero['Field Shannon'], df_Merge_Shannon_6_NoZero['Raster 20Clusters Shannon'])\n",
    "res"
   ]
  },
  {
   "cell_type": "code",
   "execution_count": 309,
   "metadata": {},
   "outputs": [
    {
     "data": {
      "text/plain": [
       "PearsonRResult(statistic=0.16368495631576538, pvalue=0.1275477767404996)"
      ]
     },
     "execution_count": 309,
     "metadata": {},
     "output_type": "execute_result"
    }
   ],
   "source": [
    "# Pearson correlation\n",
    "res = stats.pearsonr(df_Merge_Shannon_6_NoZero['Field Shannon'], df_Merge_Shannon_6_NoZero['Raster 35Clusters Shannon'])\n",
    "res"
   ]
  },
  {
   "cell_type": "code",
   "execution_count": 310,
   "metadata": {},
   "outputs": [
    {
     "data": {
      "text/plain": [
       "PearsonRResult(statistic=0.12589895301614987, pvalue=0.2424811807618386)"
      ]
     },
     "execution_count": 310,
     "metadata": {},
     "output_type": "execute_result"
    }
   ],
   "source": [
    "# Pearson correlation\n",
    "res = stats.pearsonr(df_Merge_Shannon_6_NoZero['Field Shannon'], df_Merge_Shannon_6_NoZero['Raster 50Clusters Shannon'])\n",
    "res"
   ]
  },
  {
   "cell_type": "markdown",
   "metadata": {},
   "source": [
    "# Comparison of Simpson - June"
   ]
  },
  {
   "cell_type": "code",
   "execution_count": 311,
   "metadata": {},
   "outputs": [
    {
     "data": {
      "text/html": [
       "<div>\n",
       "<style scoped>\n",
       "    .dataframe tbody tr th:only-of-type {\n",
       "        vertical-align: middle;\n",
       "    }\n",
       "\n",
       "    .dataframe tbody tr th {\n",
       "        vertical-align: top;\n",
       "    }\n",
       "\n",
       "    .dataframe thead th {\n",
       "        text-align: right;\n",
       "    }\n",
       "</style>\n",
       "<table border=\"1\" class=\"dataframe\">\n",
       "  <thead>\n",
       "    <tr style=\"text-align: right;\">\n",
       "      <th></th>\n",
       "      <th>Plot</th>\n",
       "      <th>Field Simpson</th>\n",
       "    </tr>\n",
       "  </thead>\n",
       "  <tbody>\n",
       "    <tr>\n",
       "      <th>0</th>\n",
       "      <td>FOR01</td>\n",
       "      <td>0.685121</td>\n",
       "    </tr>\n",
       "    <tr>\n",
       "      <th>1</th>\n",
       "      <td>FOR02</td>\n",
       "      <td>0.752500</td>\n",
       "    </tr>\n",
       "    <tr>\n",
       "      <th>2</th>\n",
       "      <td>FOR03</td>\n",
       "      <td>0.250000</td>\n",
       "    </tr>\n",
       "    <tr>\n",
       "      <th>3</th>\n",
       "      <td>FOR04</td>\n",
       "      <td>0.297521</td>\n",
       "    </tr>\n",
       "    <tr>\n",
       "      <th>4</th>\n",
       "      <td>FOR05</td>\n",
       "      <td>0.000000</td>\n",
       "    </tr>\n",
       "    <tr>\n",
       "      <th>...</th>\n",
       "      <td>...</td>\n",
       "      <td>...</td>\n",
       "    </tr>\n",
       "    <tr>\n",
       "      <th>91</th>\n",
       "      <td>35</td>\n",
       "      <td>0.438776</td>\n",
       "    </tr>\n",
       "    <tr>\n",
       "      <th>92</th>\n",
       "      <td>37</td>\n",
       "      <td>0.375000</td>\n",
       "    </tr>\n",
       "    <tr>\n",
       "      <th>93</th>\n",
       "      <td>38</td>\n",
       "      <td>0.448980</td>\n",
       "    </tr>\n",
       "    <tr>\n",
       "      <th>94</th>\n",
       "      <td>39</td>\n",
       "      <td>0.465374</td>\n",
       "    </tr>\n",
       "    <tr>\n",
       "      <th>95</th>\n",
       "      <td>40</td>\n",
       "      <td>0.686391</td>\n",
       "    </tr>\n",
       "  </tbody>\n",
       "</table>\n",
       "<p>96 rows × 2 columns</p>\n",
       "</div>"
      ],
      "text/plain": [
       "     Plot  Field Simpson\n",
       "0   FOR01       0.685121\n",
       "1   FOR02       0.752500\n",
       "2   FOR03       0.250000\n",
       "3   FOR04       0.297521\n",
       "4   FOR05       0.000000\n",
       "..    ...            ...\n",
       "91     35       0.438776\n",
       "92     37       0.375000\n",
       "93     38       0.448980\n",
       "94     39       0.465374\n",
       "95     40       0.686391\n",
       "\n",
       "[96 rows x 2 columns]"
      ]
     },
     "execution_count": 311,
     "metadata": {},
     "output_type": "execute_result"
    }
   ],
   "source": [
    "df_Field_Simp = pd.read_csv(cwd_Field_DataMerged_CSV_Indices + \"\\\\FieldDataMerged Valid Simpson.csv\")\n",
    "df_Field_Simp"
   ]
  },
  {
   "cell_type": "code",
   "execution_count": 312,
   "metadata": {},
   "outputs": [
    {
     "data": {
      "text/html": [
       "<div>\n",
       "<style scoped>\n",
       "    .dataframe tbody tr th:only-of-type {\n",
       "        vertical-align: middle;\n",
       "    }\n",
       "\n",
       "    .dataframe tbody tr th {\n",
       "        vertical-align: top;\n",
       "    }\n",
       "\n",
       "    .dataframe thead th {\n",
       "        text-align: right;\n",
       "    }\n",
       "</style>\n",
       "<table border=\"1\" class=\"dataframe\">\n",
       "  <thead>\n",
       "    <tr style=\"text-align: right;\">\n",
       "      <th></th>\n",
       "      <th>Plot</th>\n",
       "      <th>Raster 20Clusters Simpson</th>\n",
       "      <th>Raster 35Clusters Simpson</th>\n",
       "      <th>Raster 50Clusters Simpson</th>\n",
       "    </tr>\n",
       "  </thead>\n",
       "  <tbody>\n",
       "    <tr>\n",
       "      <th>0</th>\n",
       "      <td>FOR01</td>\n",
       "      <td>0.84576</td>\n",
       "      <td>0.86400</td>\n",
       "      <td>0.89856</td>\n",
       "    </tr>\n",
       "    <tr>\n",
       "      <th>1</th>\n",
       "      <td>FOR02</td>\n",
       "      <td>0.64176</td>\n",
       "      <td>0.79808</td>\n",
       "      <td>0.85056</td>\n",
       "    </tr>\n",
       "    <tr>\n",
       "      <th>2</th>\n",
       "      <td>FOR03</td>\n",
       "      <td>0.75680</td>\n",
       "      <td>0.79232</td>\n",
       "      <td>0.85760</td>\n",
       "    </tr>\n",
       "    <tr>\n",
       "      <th>3</th>\n",
       "      <td>FOR04</td>\n",
       "      <td>0.46224</td>\n",
       "      <td>0.68304</td>\n",
       "      <td>0.81488</td>\n",
       "    </tr>\n",
       "    <tr>\n",
       "      <th>4</th>\n",
       "      <td>FOR05</td>\n",
       "      <td>0.53712</td>\n",
       "      <td>0.66144</td>\n",
       "      <td>0.74960</td>\n",
       "    </tr>\n",
       "  </tbody>\n",
       "</table>\n",
       "</div>"
      ],
      "text/plain": [
       "    Plot  Raster 20Clusters Simpson  Raster 35Clusters Simpson  \\\n",
       "0  FOR01                    0.84576                    0.86400   \n",
       "1  FOR02                    0.64176                    0.79808   \n",
       "2  FOR03                    0.75680                    0.79232   \n",
       "3  FOR04                    0.46224                    0.68304   \n",
       "4  FOR05                    0.53712                    0.66144   \n",
       "\n",
       "   Raster 50Clusters Simpson  \n",
       "0                    0.89856  \n",
       "1                    0.85056  \n",
       "2                    0.85760  \n",
       "3                    0.81488  \n",
       "4                    0.74960  "
      ]
     },
     "execution_count": 312,
     "metadata": {},
     "output_type": "execute_result"
    }
   ],
   "source": [
    "df_Raster_Simp_6 = df_Raster_6.copy()\n",
    "df_Raster_Simp_6 = df_Raster_Simp_6[['Plot','Raster 20Clusters Simpson','Raster 35Clusters Simpson','Raster 50Clusters Simpson']]\n",
    "df_Raster_Simp_6.head()"
   ]
  },
  {
   "cell_type": "code",
   "execution_count": 313,
   "metadata": {},
   "outputs": [
    {
     "data": {
      "text/html": [
       "<div>\n",
       "<style scoped>\n",
       "    .dataframe tbody tr th:only-of-type {\n",
       "        vertical-align: middle;\n",
       "    }\n",
       "\n",
       "    .dataframe tbody tr th {\n",
       "        vertical-align: top;\n",
       "    }\n",
       "\n",
       "    .dataframe thead th {\n",
       "        text-align: right;\n",
       "    }\n",
       "</style>\n",
       "<table border=\"1\" class=\"dataframe\">\n",
       "  <thead>\n",
       "    <tr style=\"text-align: right;\">\n",
       "      <th></th>\n",
       "      <th>Plot</th>\n",
       "      <th>Field Simpson</th>\n",
       "      <th>Raster 20Clusters Simpson</th>\n",
       "      <th>Raster 35Clusters Simpson</th>\n",
       "      <th>Raster 50Clusters Simpson</th>\n",
       "    </tr>\n",
       "  </thead>\n",
       "  <tbody>\n",
       "    <tr>\n",
       "      <th>0</th>\n",
       "      <td>FOR01</td>\n",
       "      <td>0.685121</td>\n",
       "      <td>0.84576</td>\n",
       "      <td>0.86400</td>\n",
       "      <td>0.89856</td>\n",
       "    </tr>\n",
       "    <tr>\n",
       "      <th>1</th>\n",
       "      <td>FOR02</td>\n",
       "      <td>0.752500</td>\n",
       "      <td>0.64176</td>\n",
       "      <td>0.79808</td>\n",
       "      <td>0.85056</td>\n",
       "    </tr>\n",
       "    <tr>\n",
       "      <th>2</th>\n",
       "      <td>FOR03</td>\n",
       "      <td>0.250000</td>\n",
       "      <td>0.75680</td>\n",
       "      <td>0.79232</td>\n",
       "      <td>0.85760</td>\n",
       "    </tr>\n",
       "    <tr>\n",
       "      <th>3</th>\n",
       "      <td>FOR04</td>\n",
       "      <td>0.297521</td>\n",
       "      <td>0.46224</td>\n",
       "      <td>0.68304</td>\n",
       "      <td>0.81488</td>\n",
       "    </tr>\n",
       "    <tr>\n",
       "      <th>4</th>\n",
       "      <td>FOR05</td>\n",
       "      <td>0.000000</td>\n",
       "      <td>0.53712</td>\n",
       "      <td>0.66144</td>\n",
       "      <td>0.74960</td>\n",
       "    </tr>\n",
       "  </tbody>\n",
       "</table>\n",
       "</div>"
      ],
      "text/plain": [
       "    Plot  Field Simpson  Raster 20Clusters Simpson  Raster 35Clusters Simpson  \\\n",
       "0  FOR01       0.685121                    0.84576                    0.86400   \n",
       "1  FOR02       0.752500                    0.64176                    0.79808   \n",
       "2  FOR03       0.250000                    0.75680                    0.79232   \n",
       "3  FOR04       0.297521                    0.46224                    0.68304   \n",
       "4  FOR05       0.000000                    0.53712                    0.66144   \n",
       "\n",
       "   Raster 50Clusters Simpson  \n",
       "0                    0.89856  \n",
       "1                    0.85056  \n",
       "2                    0.85760  \n",
       "3                    0.81488  \n",
       "4                    0.74960  "
      ]
     },
     "execution_count": 313,
     "metadata": {},
     "output_type": "execute_result"
    }
   ],
   "source": [
    "df_Merge_Simp_6 = pd.merge(df_Field_Simp,df_Raster_Simp_6,on='Plot')\n",
    "df_Merge_Simp_6.head()"
   ]
  },
  {
   "cell_type": "code",
   "execution_count": 314,
   "metadata": {},
   "outputs": [
    {
     "data": {
      "image/png": "[encoded data removed]",
      "text/plain": [
       "<Figure size 2000x1000 with 1 Axes>"
      ]
     },
     "metadata": {},
     "output_type": "display_data"
    }
   ],
   "source": [
    "df_Merge_Simp_6.iloc[0:62,:].plot(x = 'Plot', y = ['Field Simpson', 'Raster 20Clusters Simpson','Raster 35Clusters Simpson','Raster 50Clusters Simpson'], kind = 'bar', figsize=(20,10))\n",
    "plt.xticks(rotation = 45)\n",
    "plt.grid()\n",
    "plt.show()"
   ]
  },
  {
   "cell_type": "code",
   "execution_count": 315,
   "metadata": {},
   "outputs": [
    {
     "data": {
      "text/html": [
       "<div>\n",
       "<style scoped>\n",
       "    .dataframe tbody tr th:only-of-type {\n",
       "        vertical-align: middle;\n",
       "    }\n",
       "\n",
       "    .dataframe tbody tr th {\n",
       "        vertical-align: top;\n",
       "    }\n",
       "\n",
       "    .dataframe thead th {\n",
       "        text-align: right;\n",
       "    }\n",
       "</style>\n",
       "<table border=\"1\" class=\"dataframe\">\n",
       "  <thead>\n",
       "    <tr style=\"text-align: right;\">\n",
       "      <th></th>\n",
       "      <th>Field Simpson</th>\n",
       "      <th>Raster 20Clusters Simpson</th>\n",
       "      <th>Raster 35Clusters Simpson</th>\n",
       "      <th>Raster 50Clusters Simpson</th>\n",
       "    </tr>\n",
       "  </thead>\n",
       "  <tbody>\n",
       "    <tr>\n",
       "      <th>count</th>\n",
       "      <td>88.000000</td>\n",
       "      <td>88.000000</td>\n",
       "      <td>88.000000</td>\n",
       "      <td>88.000000</td>\n",
       "    </tr>\n",
       "    <tr>\n",
       "      <th>mean</th>\n",
       "      <td>0.525486</td>\n",
       "      <td>0.679451</td>\n",
       "      <td>0.762987</td>\n",
       "      <td>0.803662</td>\n",
       "    </tr>\n",
       "    <tr>\n",
       "      <th>std</th>\n",
       "      <td>0.192073</td>\n",
       "      <td>0.115913</td>\n",
       "      <td>0.088059</td>\n",
       "      <td>0.075394</td>\n",
       "    </tr>\n",
       "    <tr>\n",
       "      <th>min</th>\n",
       "      <td>0.064444</td>\n",
       "      <td>0.168320</td>\n",
       "      <td>0.425600</td>\n",
       "      <td>0.532480</td>\n",
       "    </tr>\n",
       "    <tr>\n",
       "      <th>25%</th>\n",
       "      <td>0.414541</td>\n",
       "      <td>0.618640</td>\n",
       "      <td>0.719120</td>\n",
       "      <td>0.760240</td>\n",
       "    </tr>\n",
       "    <tr>\n",
       "      <th>50%</th>\n",
       "      <td>0.556347</td>\n",
       "      <td>0.700800</td>\n",
       "      <td>0.775120</td>\n",
       "      <td>0.818640</td>\n",
       "    </tr>\n",
       "    <tr>\n",
       "      <th>75%</th>\n",
       "      <td>0.686475</td>\n",
       "      <td>0.761760</td>\n",
       "      <td>0.826920</td>\n",
       "      <td>0.857840</td>\n",
       "    </tr>\n",
       "    <tr>\n",
       "      <th>max</th>\n",
       "      <td>0.807852</td>\n",
       "      <td>0.856960</td>\n",
       "      <td>0.904320</td>\n",
       "      <td>0.914720</td>\n",
       "    </tr>\n",
       "  </tbody>\n",
       "</table>\n",
       "</div>"
      ],
      "text/plain": [
       "       Field Simpson  Raster 20Clusters Simpson  Raster 35Clusters Simpson  \\\n",
       "count      88.000000                  88.000000                  88.000000   \n",
       "mean        0.525486                   0.679451                   0.762987   \n",
       "std         0.192073                   0.115913                   0.088059   \n",
       "min         0.064444                   0.168320                   0.425600   \n",
       "25%         0.414541                   0.618640                   0.719120   \n",
       "50%         0.556347                   0.700800                   0.775120   \n",
       "75%         0.686475                   0.761760                   0.826920   \n",
       "max         0.807852                   0.856960                   0.904320   \n",
       "\n",
       "       Raster 50Clusters Simpson  \n",
       "count                  88.000000  \n",
       "mean                    0.803662  \n",
       "std                     0.075394  \n",
       "min                     0.532480  \n",
       "25%                     0.760240  \n",
       "50%                     0.818640  \n",
       "75%                     0.857840  \n",
       "max                     0.914720  "
      ]
     },
     "execution_count": 315,
     "metadata": {},
     "output_type": "execute_result"
    }
   ],
   "source": [
    "df_Merge_Simp_6_NoZero = df_Merge_Simp_6.copy()\n",
    "df_Merge_Simp_6_NoZero = df_Merge_Simp_6_NoZero[df_Merge_Simp_6_NoZero['Field Simpson']!=0]\n",
    "df_Merge_Simp_6_NoZero.describe()"
   ]
  },
  {
   "cell_type": "code",
   "execution_count": 316,
   "metadata": {},
   "outputs": [
    {
     "name": "stdout",
     "output_type": "stream",
     "text": [
      "-0.7607910645955369\n",
      "-1.5766796313430285\n",
      "-2.149183530592205\n"
     ]
    }
   ],
   "source": [
    "print(r2_score(df_Merge_Simp_6_NoZero['Field Simpson'],df_Merge_Simp_6_NoZero['Raster 20Clusters Simpson']))\n",
    "print(r2_score(df_Merge_Simp_6_NoZero['Field Simpson'],df_Merge_Simp_6_NoZero['Raster 35Clusters Simpson']))\n",
    "print(r2_score(df_Merge_Simp_6_NoZero['Field Simpson'],df_Merge_Simp_6_NoZero['Raster 50Clusters Simpson']))"
   ]
  },
  {
   "cell_type": "code",
   "execution_count": 317,
   "metadata": {},
   "outputs": [
    {
     "name": "stdout",
     "output_type": "stream",
     "text": [
      "PearsonRResult(statistic=0.2098985279980722, pvalue=0.04967017534938199)\n",
      "PearsonRResult(statistic=0.19636399843897048, pvalue=0.06671117978803606)\n",
      "PearsonRResult(statistic=0.1611581092468776, pvalue=0.1336132161959044)\n"
     ]
    }
   ],
   "source": [
    "# Pearson correlation\n",
    "print(stats.pearsonr(df_Merge_Simp_6_NoZero['Field Simpson'], df_Merge_Simp_6_NoZero['Raster 20Clusters Simpson']))\n",
    "print(stats.pearsonr(df_Merge_Simp_6_NoZero['Field Simpson'], df_Merge_Simp_6_NoZero['Raster 35Clusters Simpson']))\n",
    "print(stats.pearsonr(df_Merge_Simp_6_NoZero['Field Simpson'], df_Merge_Simp_6_NoZero['Raster 50Clusters Simpson']))"
   ]
  },
  {
   "cell_type": "code",
   "execution_count": 318,
   "metadata": {},
   "outputs": [
    {
     "name": "stdout",
     "output_type": "stream",
     "text": [
      "0.19168324266658276\n",
      "0.24745970668771386\n",
      "0.27996846330844793\n"
     ]
    }
   ],
   "source": [
    "print(mae(df_Merge_Simp_6_NoZero['Field Simpson'],df_Merge_Simp_6_NoZero['Raster 20Clusters Simpson']))\n",
    "print(mae(df_Merge_Simp_6_NoZero['Field Simpson'],df_Merge_Simp_6_NoZero['Raster 35Clusters Simpson']))\n",
    "print(mae(df_Merge_Simp_6_NoZero['Field Simpson'],df_Merge_Simp_6_NoZero['Raster 50Clusters Simpson']))"
   ]
  },
  {
   "cell_type": "markdown",
   "metadata": {},
   "source": [
    "## Comparison between different months"
   ]
  },
  {
   "cell_type": "code",
   "execution_count": 319,
   "metadata": {},
   "outputs": [
    {
     "data": {
      "text/html": [
       "<div>\n",
       "<style scoped>\n",
       "    .dataframe tbody tr th:only-of-type {\n",
       "        vertical-align: middle;\n",
       "    }\n",
       "\n",
       "    .dataframe tbody tr th {\n",
       "        vertical-align: top;\n",
       "    }\n",
       "\n",
       "    .dataframe thead th {\n",
       "        text-align: right;\n",
       "    }\n",
       "</style>\n",
       "<table border=\"1\" class=\"dataframe\">\n",
       "  <thead>\n",
       "    <tr style=\"text-align: right;\">\n",
       "      <th></th>\n",
       "      <th>Plot</th>\n",
       "      <th>Raster 20Clusters Species Richness 6</th>\n",
       "      <th>Raster 20Clusters Shannon 6</th>\n",
       "      <th>Raster 20Clusters Simpson 6</th>\n",
       "      <th>Raster 20Clusters Species Richness 9</th>\n",
       "      <th>Raster 20Clusters Shannon 9</th>\n",
       "      <th>Raster 20Clusters Simpson 9</th>\n",
       "    </tr>\n",
       "  </thead>\n",
       "  <tbody>\n",
       "    <tr>\n",
       "      <th>0</th>\n",
       "      <td>FOR01</td>\n",
       "      <td>8.05</td>\n",
       "      <td>1.950667</td>\n",
       "      <td>0.84576</td>\n",
       "      <td>8.80</td>\n",
       "      <td>1.821541</td>\n",
       "      <td>0.78608</td>\n",
       "    </tr>\n",
       "    <tr>\n",
       "      <th>1</th>\n",
       "      <td>FOR02</td>\n",
       "      <td>4.85</td>\n",
       "      <td>1.193331</td>\n",
       "      <td>0.64176</td>\n",
       "      <td>4.15</td>\n",
       "      <td>1.103780</td>\n",
       "      <td>0.58368</td>\n",
       "    </tr>\n",
       "    <tr>\n",
       "      <th>2</th>\n",
       "      <td>FOR03</td>\n",
       "      <td>4.95</td>\n",
       "      <td>1.489291</td>\n",
       "      <td>0.75680</td>\n",
       "      <td>4.55</td>\n",
       "      <td>1.131112</td>\n",
       "      <td>0.57248</td>\n",
       "    </tr>\n",
       "    <tr>\n",
       "      <th>3</th>\n",
       "      <td>FOR04</td>\n",
       "      <td>3.00</td>\n",
       "      <td>0.797340</td>\n",
       "      <td>0.46224</td>\n",
       "      <td>5.55</td>\n",
       "      <td>1.497574</td>\n",
       "      <td>0.74000</td>\n",
       "    </tr>\n",
       "    <tr>\n",
       "      <th>4</th>\n",
       "      <td>FOR05</td>\n",
       "      <td>4.25</td>\n",
       "      <td>0.993256</td>\n",
       "      <td>0.53712</td>\n",
       "      <td>5.10</td>\n",
       "      <td>1.324149</td>\n",
       "      <td>0.67648</td>\n",
       "    </tr>\n",
       "    <tr>\n",
       "      <th>...</th>\n",
       "      <td>...</td>\n",
       "      <td>...</td>\n",
       "      <td>...</td>\n",
       "      <td>...</td>\n",
       "      <td>...</td>\n",
       "      <td>...</td>\n",
       "      <td>...</td>\n",
       "    </tr>\n",
       "    <tr>\n",
       "      <th>91</th>\n",
       "      <td>35</td>\n",
       "      <td>7.15</td>\n",
       "      <td>1.668232</td>\n",
       "      <td>0.77664</td>\n",
       "      <td>7.90</td>\n",
       "      <td>1.725831</td>\n",
       "      <td>0.76576</td>\n",
       "    </tr>\n",
       "    <tr>\n",
       "      <th>92</th>\n",
       "      <td>37</td>\n",
       "      <td>6.15</td>\n",
       "      <td>1.560562</td>\n",
       "      <td>0.74448</td>\n",
       "      <td>5.15</td>\n",
       "      <td>1.279077</td>\n",
       "      <td>0.65040</td>\n",
       "    </tr>\n",
       "    <tr>\n",
       "      <th>93</th>\n",
       "      <td>38</td>\n",
       "      <td>6.40</td>\n",
       "      <td>1.608977</td>\n",
       "      <td>0.76656</td>\n",
       "      <td>5.15</td>\n",
       "      <td>1.462311</td>\n",
       "      <td>0.73920</td>\n",
       "    </tr>\n",
       "    <tr>\n",
       "      <th>94</th>\n",
       "      <td>39</td>\n",
       "      <td>2.00</td>\n",
       "      <td>0.306179</td>\n",
       "      <td>0.16832</td>\n",
       "      <td>2.70</td>\n",
       "      <td>0.571555</td>\n",
       "      <td>0.34496</td>\n",
       "    </tr>\n",
       "    <tr>\n",
       "      <th>95</th>\n",
       "      <td>40</td>\n",
       "      <td>4.05</td>\n",
       "      <td>1.257864</td>\n",
       "      <td>0.68256</td>\n",
       "      <td>3.95</td>\n",
       "      <td>1.198522</td>\n",
       "      <td>0.65264</td>\n",
       "    </tr>\n",
       "  </tbody>\n",
       "</table>\n",
       "<p>96 rows × 7 columns</p>\n",
       "</div>"
      ],
      "text/plain": [
       "     Plot  Raster 20Clusters Species Richness 6  Raster 20Clusters Shannon 6  \\\n",
       "0   FOR01                                  8.05                     1.950667   \n",
       "1   FOR02                                  4.85                     1.193331   \n",
       "2   FOR03                                  4.95                     1.489291   \n",
       "3   FOR04                                  3.00                     0.797340   \n",
       "4   FOR05                                  4.25                     0.993256   \n",
       "..    ...                                   ...                          ...   \n",
       "91     35                                  7.15                     1.668232   \n",
       "92     37                                  6.15                     1.560562   \n",
       "93     38                                  6.40                     1.608977   \n",
       "94     39                                  2.00                     0.306179   \n",
       "95     40                                  4.05                     1.257864   \n",
       "\n",
       "    Raster 20Clusters Simpson 6  Raster 20Clusters Species Richness 9  \\\n",
       "0                       0.84576                                  8.80   \n",
       "1                       0.64176                                  4.15   \n",
       "2                       0.75680                                  4.55   \n",
       "3                       0.46224                                  5.55   \n",
       "4                       0.53712                                  5.10   \n",
       "..                          ...                                   ...   \n",
       "91                      0.77664                                  7.90   \n",
       "92                      0.74448                                  5.15   \n",
       "93                      0.76656                                  5.15   \n",
       "94                      0.16832                                  2.70   \n",
       "95                      0.68256                                  3.95   \n",
       "\n",
       "    Raster 20Clusters Shannon 9  Raster 20Clusters Simpson 9  \n",
       "0                      1.821541                      0.78608  \n",
       "1                      1.103780                      0.58368  \n",
       "2                      1.131112                      0.57248  \n",
       "3                      1.497574                      0.74000  \n",
       "4                      1.324149                      0.67648  \n",
       "..                          ...                          ...  \n",
       "91                     1.725831                      0.76576  \n",
       "92                     1.279077                      0.65040  \n",
       "93                     1.462311                      0.73920  \n",
       "94                     0.571555                      0.34496  \n",
       "95                     1.198522                      0.65264  \n",
       "\n",
       "[96 rows x 7 columns]"
      ]
     },
     "execution_count": 319,
     "metadata": {},
     "output_type": "execute_result"
    }
   ],
   "source": [
    "df_Raster = pd.merge(df_Raster_6,df_Raster_9,on='Plot',suffixes=[' 6',' 9'])\n",
    "df_Raster = df_Raster[['Plot','Raster 20Clusters Species Richness 6','Raster 20Clusters Shannon 6','Raster 20Clusters Simpson 6','Raster 20Clusters Species Richness 9','Raster 20Clusters Shannon 9','Raster 20Clusters Simpson 9']]\n",
    "df_Raster"
   ]
  },
  {
   "cell_type": "code",
   "execution_count": 320,
   "metadata": {},
   "outputs": [
    {
     "data": {
      "text/html": [
       "<div>\n",
       "<style scoped>\n",
       "    .dataframe tbody tr th:only-of-type {\n",
       "        vertical-align: middle;\n",
       "    }\n",
       "\n",
       "    .dataframe tbody tr th {\n",
       "        vertical-align: top;\n",
       "    }\n",
       "\n",
       "    .dataframe thead th {\n",
       "        text-align: right;\n",
       "    }\n",
       "</style>\n",
       "<table border=\"1\" class=\"dataframe\">\n",
       "  <thead>\n",
       "    <tr style=\"text-align: right;\">\n",
       "      <th></th>\n",
       "      <th>Plot</th>\n",
       "      <th>Raster 20Clusters Shannon 6</th>\n",
       "      <th>Raster 20Clusters Shannon 9</th>\n",
       "    </tr>\n",
       "  </thead>\n",
       "  <tbody>\n",
       "    <tr>\n",
       "      <th>0</th>\n",
       "      <td>FOR01</td>\n",
       "      <td>1.950667</td>\n",
       "      <td>1.821541</td>\n",
       "    </tr>\n",
       "    <tr>\n",
       "      <th>1</th>\n",
       "      <td>FOR02</td>\n",
       "      <td>1.193331</td>\n",
       "      <td>1.103780</td>\n",
       "    </tr>\n",
       "    <tr>\n",
       "      <th>2</th>\n",
       "      <td>FOR03</td>\n",
       "      <td>1.489291</td>\n",
       "      <td>1.131112</td>\n",
       "    </tr>\n",
       "    <tr>\n",
       "      <th>3</th>\n",
       "      <td>FOR04</td>\n",
       "      <td>0.797340</td>\n",
       "      <td>1.497574</td>\n",
       "    </tr>\n",
       "    <tr>\n",
       "      <th>4</th>\n",
       "      <td>FOR05</td>\n",
       "      <td>0.993256</td>\n",
       "      <td>1.324149</td>\n",
       "    </tr>\n",
       "    <tr>\n",
       "      <th>...</th>\n",
       "      <td>...</td>\n",
       "      <td>...</td>\n",
       "      <td>...</td>\n",
       "    </tr>\n",
       "    <tr>\n",
       "      <th>91</th>\n",
       "      <td>35</td>\n",
       "      <td>1.668232</td>\n",
       "      <td>1.725831</td>\n",
       "    </tr>\n",
       "    <tr>\n",
       "      <th>92</th>\n",
       "      <td>37</td>\n",
       "      <td>1.560562</td>\n",
       "      <td>1.279077</td>\n",
       "    </tr>\n",
       "    <tr>\n",
       "      <th>93</th>\n",
       "      <td>38</td>\n",
       "      <td>1.608977</td>\n",
       "      <td>1.462311</td>\n",
       "    </tr>\n",
       "    <tr>\n",
       "      <th>94</th>\n",
       "      <td>39</td>\n",
       "      <td>0.306179</td>\n",
       "      <td>0.571555</td>\n",
       "    </tr>\n",
       "    <tr>\n",
       "      <th>95</th>\n",
       "      <td>40</td>\n",
       "      <td>1.257864</td>\n",
       "      <td>1.198522</td>\n",
       "    </tr>\n",
       "  </tbody>\n",
       "</table>\n",
       "<p>96 rows × 3 columns</p>\n",
       "</div>"
      ],
      "text/plain": [
       "     Plot  Raster 20Clusters Shannon 6  Raster 20Clusters Shannon 9\n",
       "0   FOR01                     1.950667                     1.821541\n",
       "1   FOR02                     1.193331                     1.103780\n",
       "2   FOR03                     1.489291                     1.131112\n",
       "3   FOR04                     0.797340                     1.497574\n",
       "4   FOR05                     0.993256                     1.324149\n",
       "..    ...                          ...                          ...\n",
       "91     35                     1.668232                     1.725831\n",
       "92     37                     1.560562                     1.279077\n",
       "93     38                     1.608977                     1.462311\n",
       "94     39                     0.306179                     0.571555\n",
       "95     40                     1.257864                     1.198522\n",
       "\n",
       "[96 rows x 3 columns]"
      ]
     },
     "execution_count": 320,
     "metadata": {},
     "output_type": "execute_result"
    }
   ],
   "source": [
    "df_Raster_Shannon = df_Raster.copy()\n",
    "df_Raster_Shannon = df_Raster_Shannon[['Plot','Raster 20Clusters Shannon 6','Raster 20Clusters Shannon 9']]\n",
    "df_Raster_Shannon"
   ]
  },
  {
   "cell_type": "code",
   "execution_count": 321,
   "metadata": {},
   "outputs": [
    {
     "data": {
      "text/html": [
       "<div>\n",
       "<style scoped>\n",
       "    .dataframe tbody tr th:only-of-type {\n",
       "        vertical-align: middle;\n",
       "    }\n",
       "\n",
       "    .dataframe tbody tr th {\n",
       "        vertical-align: top;\n",
       "    }\n",
       "\n",
       "    .dataframe thead th {\n",
       "        text-align: right;\n",
       "    }\n",
       "</style>\n",
       "<table border=\"1\" class=\"dataframe\">\n",
       "  <thead>\n",
       "    <tr style=\"text-align: right;\">\n",
       "      <th></th>\n",
       "      <th>Raster 20Clusters Shannon 6</th>\n",
       "      <th>Raster 20Clusters Shannon 9</th>\n",
       "    </tr>\n",
       "  </thead>\n",
       "  <tbody>\n",
       "    <tr>\n",
       "      <th>count</th>\n",
       "      <td>96.000000</td>\n",
       "      <td>96.000000</td>\n",
       "    </tr>\n",
       "    <tr>\n",
       "      <th>mean</th>\n",
       "      <td>1.322535</td>\n",
       "      <td>1.257179</td>\n",
       "    </tr>\n",
       "    <tr>\n",
       "      <th>std</th>\n",
       "      <td>0.351765</td>\n",
       "      <td>0.426804</td>\n",
       "    </tr>\n",
       "    <tr>\n",
       "      <th>min</th>\n",
       "      <td>0.306179</td>\n",
       "      <td>0.069363</td>\n",
       "    </tr>\n",
       "    <tr>\n",
       "      <th>25%</th>\n",
       "      <td>1.062143</td>\n",
       "      <td>0.990897</td>\n",
       "    </tr>\n",
       "    <tr>\n",
       "      <th>50%</th>\n",
       "      <td>1.329013</td>\n",
       "      <td>1.325009</td>\n",
       "    </tr>\n",
       "    <tr>\n",
       "      <th>75%</th>\n",
       "      <td>1.578306</td>\n",
       "      <td>1.588839</td>\n",
       "    </tr>\n",
       "    <tr>\n",
       "      <th>max</th>\n",
       "      <td>2.107592</td>\n",
       "      <td>1.984929</td>\n",
       "    </tr>\n",
       "  </tbody>\n",
       "</table>\n",
       "</div>"
      ],
      "text/plain": [
       "       Raster 20Clusters Shannon 6  Raster 20Clusters Shannon 9\n",
       "count                    96.000000                    96.000000\n",
       "mean                      1.322535                     1.257179\n",
       "std                       0.351765                     0.426804\n",
       "min                       0.306179                     0.069363\n",
       "25%                       1.062143                     0.990897\n",
       "50%                       1.329013                     1.325009\n",
       "75%                       1.578306                     1.588839\n",
       "max                       2.107592                     1.984929"
      ]
     },
     "execution_count": 321,
     "metadata": {},
     "output_type": "execute_result"
    }
   ],
   "source": [
    "df_Raster_Shannon.describe()"
   ]
  },
  {
   "cell_type": "code",
   "execution_count": 322,
   "metadata": {},
   "outputs": [
    {
     "data": {
      "text/plain": [
       "0.2949968970129754"
      ]
     },
     "execution_count": 322,
     "metadata": {},
     "output_type": "execute_result"
    }
   ],
   "source": [
    "mae(df_Raster_Shannon['Raster 20Clusters Shannon 6'],df_Raster_Shannon['Raster 20Clusters Shannon 9'])"
   ]
  },
  {
   "cell_type": "code",
   "execution_count": 323,
   "metadata": {},
   "outputs": [
    {
     "data": {
      "text/plain": [
       "<Axes: xlabel='Plot'>"
      ]
     },
     "execution_count": 323,
     "metadata": {},
     "output_type": "execute_result"
    },
    {
     "data": {
      "image/png": "[encoded data removed]",
      "text/plain": [
       "<Figure size 2000x1000 with 1 Axes>"
      ]
     },
     "metadata": {},
     "output_type": "display_data"
    }
   ],
   "source": [
    "df_Raster_Shannon.iloc[0:62,:].plot(x = 'Plot',y = ['Raster 20Clusters Shannon 6','Raster 20Clusters Shannon 9'],kind = 'bar',figsize=(20,10))"
   ]
  },
  {
   "cell_type": "code",
   "execution_count": 324,
   "metadata": {},
   "outputs": [
    {
     "data": {
      "text/html": [
       "<div>\n",
       "<style scoped>\n",
       "    .dataframe tbody tr th:only-of-type {\n",
       "        vertical-align: middle;\n",
       "    }\n",
       "\n",
       "    .dataframe tbody tr th {\n",
       "        vertical-align: top;\n",
       "    }\n",
       "\n",
       "    .dataframe thead th {\n",
       "        text-align: right;\n",
       "    }\n",
       "</style>\n",
       "<table border=\"1\" class=\"dataframe\">\n",
       "  <thead>\n",
       "    <tr style=\"text-align: right;\">\n",
       "      <th></th>\n",
       "      <th>Raster 20Clusters Species Richness 6</th>\n",
       "      <th>Raster 20Clusters Species Richness 9</th>\n",
       "    </tr>\n",
       "  </thead>\n",
       "  <tbody>\n",
       "    <tr>\n",
       "      <th>count</th>\n",
       "      <td>96.000000</td>\n",
       "      <td>96.000000</td>\n",
       "    </tr>\n",
       "    <tr>\n",
       "      <th>mean</th>\n",
       "      <td>5.195833</td>\n",
       "      <td>5.285417</td>\n",
       "    </tr>\n",
       "    <tr>\n",
       "      <th>std</th>\n",
       "      <td>1.695655</td>\n",
       "      <td>1.732520</td>\n",
       "    </tr>\n",
       "    <tr>\n",
       "      <th>min</th>\n",
       "      <td>2.000000</td>\n",
       "      <td>1.150000</td>\n",
       "    </tr>\n",
       "    <tr>\n",
       "      <th>25%</th>\n",
       "      <td>4.000000</td>\n",
       "      <td>4.000000</td>\n",
       "    </tr>\n",
       "    <tr>\n",
       "      <th>50%</th>\n",
       "      <td>4.975000</td>\n",
       "      <td>5.200000</td>\n",
       "    </tr>\n",
       "    <tr>\n",
       "      <th>75%</th>\n",
       "      <td>6.362500</td>\n",
       "      <td>6.500000</td>\n",
       "    </tr>\n",
       "    <tr>\n",
       "      <th>max</th>\n",
       "      <td>9.950000</td>\n",
       "      <td>8.800000</td>\n",
       "    </tr>\n",
       "  </tbody>\n",
       "</table>\n",
       "</div>"
      ],
      "text/plain": [
       "       Raster 20Clusters Species Richness 6  \\\n",
       "count                             96.000000   \n",
       "mean                               5.195833   \n",
       "std                                1.695655   \n",
       "min                                2.000000   \n",
       "25%                                4.000000   \n",
       "50%                                4.975000   \n",
       "75%                                6.362500   \n",
       "max                                9.950000   \n",
       "\n",
       "       Raster 20Clusters Species Richness 9  \n",
       "count                             96.000000  \n",
       "mean                               5.285417  \n",
       "std                                1.732520  \n",
       "min                                1.150000  \n",
       "25%                                4.000000  \n",
       "50%                                5.200000  \n",
       "75%                                6.500000  \n",
       "max                                8.800000  "
      ]
     },
     "execution_count": 324,
     "metadata": {},
     "output_type": "execute_result"
    }
   ],
   "source": [
    "df_Raster_Rich = df_Raster.copy()\n",
    "df_Raster_Rich = df_Raster_Rich[['Plot','Raster 20Clusters Species Richness 6','Raster 20Clusters Species Richness 9']]\n",
    "df_Raster_Rich.describe()"
   ]
  },
  {
   "cell_type": "code",
   "execution_count": 325,
   "metadata": {},
   "outputs": [
    {
     "data": {
      "text/plain": [
       "1.351041666666667"
      ]
     },
     "execution_count": 325,
     "metadata": {},
     "output_type": "execute_result"
    }
   ],
   "source": [
    "mae(df_Raster_Rich['Raster 20Clusters Species Richness 6'],df_Raster_Rich['Raster 20Clusters Species Richness 9'])"
   ]
  },
  {
   "cell_type": "code",
   "execution_count": 326,
   "metadata": {},
   "outputs": [
    {
     "data": {
      "text/plain": [
       "<Axes: xlabel='Plot'>"
      ]
     },
     "execution_count": 326,
     "metadata": {},
     "output_type": "execute_result"
    },
    {
     "data": {
      "image/png": "[encoded data removed]",
      "text/plain": [
       "<Figure size 2000x1000 with 1 Axes>"
      ]
     },
     "metadata": {},
     "output_type": "display_data"
    }
   ],
   "source": [
    "df_Raster_Rich.iloc[0:62,:].plot(x = 'Plot',y = ['Raster 20Clusters Species Richness 6','Raster 20Clusters Species Richness 9'],kind = 'bar',figsize=(20,10))"
   ]
  },
  {
   "cell_type": "markdown",
   "metadata": {},
   "source": [
    "## 20 Cluster | 10 Window Size (100m x 100m) | June | Shannon | Both Datasets (No Zero)"
   ]
  },
  {
   "cell_type": "code",
   "execution_count": 327,
   "metadata": {},
   "outputs": [
    {
     "data": {
      "text/plain": [
       "Text(0.5, 1.0, 'X: True Value | Y: Predicted Value')"
      ]
     },
     "execution_count": 327,
     "metadata": {},
     "output_type": "execute_result"
    },
    {
     "data": {
      "image/png": "[encoded data removed]",
      "text/plain": [
       "<Figure size 640x480 with 1 Axes>"
      ]
     },
     "metadata": {},
     "output_type": "display_data"
    }
   ],
   "source": [
    "plt.scatter(df_Merge_Shannon_6_NoZero['Field Shannon'],df_Merge_Shannon_6_NoZero['Raster 20Clusters Shannon'])\n",
    "plt.title('X: True Value | Y: Predicted Value')"
   ]
  },
  {
   "cell_type": "code",
   "execution_count": 328,
   "metadata": {},
   "outputs": [
    {
     "data": {
      "text/plain": [
       "Text(0.5, 1.0, 'X: True Value | Y: abs(Predicted Value - True Value)')"
      ]
     },
     "execution_count": 328,
     "metadata": {},
     "output_type": "execute_result"
    },
    {
     "data": {
      "image/png": "[encoded data removed]",
      "text/plain": [
       "<Figure size 640x480 with 1 Axes>"
      ]
     },
     "metadata": {},
     "output_type": "display_data"
    }
   ],
   "source": [
    "plt.scatter(df_Merge_Shannon_6_NoZero['Field Shannon'],df_Merge_Shannon_6_NoZero['Raster 20Clusters Shannon'] - df_Merge_Shannon_6_NoZero['Field Shannon'])\n",
    "plt.title('X: True Value | Y: abs(Predicted Value - True Value)')"
   ]
  },
  {
   "cell_type": "code",
   "execution_count": 329,
   "metadata": {},
   "outputs": [
    {
     "data": {
      "text/plain": [
       "PearsonRResult(statistic=-0.7295312795937879, pvalue=7.552707044397875e-16)"
      ]
     },
     "execution_count": 329,
     "metadata": {},
     "output_type": "execute_result"
    }
   ],
   "source": [
    "# Pearson correlation\n",
    "res = stats.pearsonr(df_Merge_Shannon_6_NoZero['Field Shannon'],df_Merge_Shannon_6_NoZero['Raster 20Clusters Shannon'] - df_Merge_Shannon_6_NoZero['Field Shannon'])\n",
    "res"
   ]
  },
  {
   "cell_type": "code",
   "execution_count": 330,
   "metadata": {},
   "outputs": [
    {
     "data": {
      "text/plain": [
       "Text(0.5, 1.0, 'X: True Value | Y: abs(Predicted Value - True Value)/True Value')"
      ]
     },
     "execution_count": 330,
     "metadata": {},
     "output_type": "execute_result"
    },
    {
     "data": {
      "image/png": "[encoded data removed]",
      "text/plain": [
       "<Figure size 640x480 with 1 Axes>"
      ]
     },
     "metadata": {},
     "output_type": "display_data"
    }
   ],
   "source": [
    "plt.scatter(df_Merge_Shannon_6_NoZero['Field Shannon'],abs(df_Merge_Shannon_6_NoZero['Raster 20Clusters Shannon'] - df_Merge_Shannon_6_NoZero['Field Shannon'])/df_Merge_Shannon_6_NoZero['Field Shannon'])\n",
    "plt.title('X: True Value | Y: abs(Predicted Value - True Value)/True Value')"
   ]
  },
  {
   "cell_type": "markdown",
   "metadata": {},
   "source": [
    "### Attempt of linear regression model"
   ]
  },
  {
   "cell_type": "code",
   "execution_count": 331,
   "metadata": {},
   "outputs": [],
   "source": [
    "from sklearn.linear_model import LinearRegression"
   ]
  },
  {
   "cell_type": "code",
   "execution_count": 332,
   "metadata": {},
   "outputs": [],
   "source": [
    "temp_x1 = df_Merge_Shannon_6_NoZero['Field Shannon'].values.reshape(-1,1)\n",
    "temp_y1 = (df_Merge_Shannon_6_NoZero['Raster 20Clusters Shannon'] - df_Merge_Shannon_6_NoZero['Field Shannon']).values.reshape(-1,1)"
   ]
  },
  {
   "cell_type": "code",
   "execution_count": 333,
   "metadata": {},
   "outputs": [],
   "source": [
    "reg = LinearRegression().fit(temp_x1,temp_y1)"
   ]
  },
  {
   "cell_type": "code",
   "execution_count": 334,
   "metadata": {},
   "outputs": [
    {
     "data": {
      "text/plain": [
       "0.5322158879057495"
      ]
     },
     "execution_count": 334,
     "metadata": {},
     "output_type": "execute_result"
    }
   ],
   "source": [
    "reg.score(temp_x1,temp_y1)"
   ]
  },
  {
   "cell_type": "code",
   "execution_count": 335,
   "metadata": {},
   "outputs": [
    {
     "data": {
      "text/plain": [
       "array([[-0.87908878]])"
      ]
     },
     "execution_count": 335,
     "metadata": {},
     "output_type": "execute_result"
    }
   ],
   "source": [
    "reg.coef_"
   ]
  },
  {
   "cell_type": "code",
   "execution_count": 336,
   "metadata": {},
   "outputs": [
    {
     "data": {
      "text/plain": [
       "array([1.23720448])"
      ]
     },
     "execution_count": 336,
     "metadata": {},
     "output_type": "execute_result"
    }
   ],
   "source": [
    "reg.intercept_"
   ]
  },
  {
   "cell_type": "code",
   "execution_count": 337,
   "metadata": {},
   "outputs": [
    {
     "data": {
      "text/plain": [
       "array([[ 0.12252856],\n",
       "       [-0.17357085],\n",
       "       [ 0.76695934],\n",
       "       [ 0.82039393],\n",
       "       [ 0.32652439],\n",
       "       [ 0.7816728 ],\n",
       "       [ 0.53002347],\n",
       "       [-0.30482784],\n",
       "       [-0.34004784],\n",
       "       [ 0.46980527],\n",
       "       [ 0.71130707],\n",
       "       [ 0.33653465],\n",
       "       [ 0.05469564],\n",
       "       [ 0.74786243],\n",
       "       [ 0.43893755],\n",
       "       [ 0.27632062],\n",
       "       [-0.30694726],\n",
       "       [ 0.45792351],\n",
       "       [ 0.40910068],\n",
       "       [ 1.01659293],\n",
       "       [ 0.96514647],\n",
       "       [ 0.53310262],\n",
       "       [ 1.00302889],\n",
       "       [ 1.10873028],\n",
       "       [ 0.63591792],\n",
       "       [ 0.8904939 ],\n",
       "       [ 0.8869399 ],\n",
       "       [ 0.85979143],\n",
       "       [ 0.99440814],\n",
       "       [ 0.81297596],\n",
       "       [-0.04653582],\n",
       "       [ 0.3501779 ],\n",
       "       [-0.24544031],\n",
       "       [ 0.32417511],\n",
       "       [ 0.13025547],\n",
       "       [ 0.21060929],\n",
       "       [-0.19944215],\n",
       "       [ 0.67765202],\n",
       "       [ 0.88160433],\n",
       "       [ 0.7112724 ],\n",
       "       [ 0.45295367],\n",
       "       [ 0.75469517],\n",
       "       [ 0.31159207],\n",
       "       [ 0.30564758],\n",
       "       [ 0.80528403],\n",
       "       [ 0.62938837],\n",
       "       [ 0.33018959],\n",
       "       [ 0.13254333],\n",
       "       [-0.12612658],\n",
       "       [ 0.09950137],\n",
       "       [ 0.98505019],\n",
       "       [ 0.05541154],\n",
       "       [ 0.42991947],\n",
       "       [ 0.09319188],\n",
       "       [ 0.18815501],\n",
       "       [ 0.77154571],\n",
       "       [ 0.1143804 ],\n",
       "       [ 0.28193834],\n",
       "       [ 0.06408235],\n",
       "       [ 0.03718085],\n",
       "       [ 0.19304477],\n",
       "       [ 0.37210508],\n",
       "       [ 0.12626423],\n",
       "       [ 0.17133935],\n",
       "       [ 0.54185638],\n",
       "       [-0.21328206],\n",
       "       [ 0.23088934],\n",
       "       [-0.09595284],\n",
       "       [ 0.08222772],\n",
       "       [ 0.17549248],\n",
       "       [ 0.13717369],\n",
       "       [ 0.63887074],\n",
       "       [ 0.72740756],\n",
       "       [ 0.34914025],\n",
       "       [ 0.0061931 ],\n",
       "       [ 0.44410592],\n",
       "       [ 0.02923562],\n",
       "       [ 0.05939595],\n",
       "       [ 0.02752972],\n",
       "       [ 0.15140268],\n",
       "       [ 0.66279188],\n",
       "       [ 0.70020053],\n",
       "       [ 0.24831972],\n",
       "       [ 0.57003168],\n",
       "       [ 0.74286197],\n",
       "       [ 0.49336808],\n",
       "       [ 0.65866738],\n",
       "       [ 0.1197231 ]])"
      ]
     },
     "execution_count": 337,
     "metadata": {},
     "output_type": "execute_result"
    }
   ],
   "source": [
    "temp_y1_Predict = reg.predict(temp_x1)\n",
    "temp_y1_Predict"
   ]
  },
  {
   "cell_type": "code",
   "execution_count": 338,
   "metadata": {},
   "outputs": [
    {
     "data": {
      "text/plain": [
       "array([[1.8281385 ],\n",
       "       [1.36690223],\n",
       "       [0.7223319 ],\n",
       "       [0.0230539 ],\n",
       "       [1.33797365],\n",
       "       [0.5813126 ],\n",
       "       [0.42778845],\n",
       "       [1.3696134 ],\n",
       "       [1.83991587],\n",
       "       [0.68015614],\n",
       "       [0.21872211],\n",
       "       [1.08897979],\n",
       "       [0.95691415],\n",
       "       [0.20795027],\n",
       "       [0.7291064 ],\n",
       "       [0.39578984],\n",
       "       [1.9745631 ],\n",
       "       [1.32859601],\n",
       "       [1.13848827],\n",
       "       [0.05551876],\n",
       "       [0.4599192 ],\n",
       "       [1.1682371 ],\n",
       "       [0.5561811 ],\n",
       "       [0.0832671 ],\n",
       "       [0.60406074],\n",
       "       [0.20365316],\n",
       "       [0.39082105],\n",
       "       [0.6659701 ],\n",
       "       [0.66504626],\n",
       "       [1.03623048],\n",
       "       [1.62374994],\n",
       "       [1.40628008],\n",
       "       [1.68141506],\n",
       "       [0.89266892],\n",
       "       [1.21065235],\n",
       "       [0.94013758],\n",
       "       [2.00274319],\n",
       "       [1.12024138],\n",
       "       [0.07222828],\n",
       "       [1.10749359],\n",
       "       [0.61190956],\n",
       "       [0.89014217],\n",
       "       [0.92041153],\n",
       "       [1.05411613],\n",
       "       [0.77629787],\n",
       "       [0.35035673],\n",
       "       [0.83677314],\n",
       "       [1.19002788],\n",
       "       [1.23609923],\n",
       "       [1.33294835],\n",
       "       [0.05584813],\n",
       "       [1.57873278],\n",
       "       [0.61344716],\n",
       "       [1.14792522],\n",
       "       [0.82712652],\n",
       "       [0.12788977],\n",
       "       [1.5884521 ],\n",
       "       [0.88010576],\n",
       "       [0.9582855 ],\n",
       "       [1.25950757],\n",
       "       [1.16344496],\n",
       "       [0.55022039],\n",
       "       [1.53406447],\n",
       "       [1.45607264],\n",
       "       [1.02345559],\n",
       "       [1.82637106],\n",
       "       [1.23286925],\n",
       "       [1.59246508],\n",
       "       [1.41984749],\n",
       "       [1.03663431],\n",
       "       [1.97041813],\n",
       "       [1.3540678 ],\n",
       "       [1.14923833],\n",
       "       [1.53287701],\n",
       "       [1.29914842],\n",
       "       [1.11810973],\n",
       "       [0.94655305],\n",
       "       [1.17630788],\n",
       "       [1.42560642],\n",
       "       [1.38014118],\n",
       "       [0.48236213],\n",
       "       [0.6352551 ],\n",
       "       [1.1301579 ],\n",
       "       [1.09820051],\n",
       "       [0.81769982],\n",
       "       [1.11560869],\n",
       "       [0.35248863],\n",
       "       [1.13814077]])"
      ]
     },
     "execution_count": 338,
     "metadata": {},
     "output_type": "execute_result"
    }
   ],
   "source": [
    "temp_z1_correct = abs(df_Merge_Shannon_6_NoZero['Raster 20Clusters Shannon'].values.reshape(-1,1) - temp_y1_Predict)\n",
    "temp_z1_correct"
   ]
  },
  {
   "cell_type": "code",
   "execution_count": 339,
   "metadata": {},
   "outputs": [
    {
     "data": {
      "text/plain": [
       "[<matplotlib.lines.Line2D at 0x25f94f71210>,\n",
       " <matplotlib.lines.Line2D at 0x25f94f704f0>]"
      ]
     },
     "execution_count": 339,
     "metadata": {},
     "output_type": "execute_result"
    },
    {
     "data": {
      "image/png": "[encoded data removed]",
      "text/plain": [
       "<Figure size 640x480 with 1 Axes>"
      ]
     },
     "metadata": {},
     "output_type": "display_data"
    }
   ],
   "source": [
    "temp_z1_original = df_Merge_Shannon_6_NoZero['Raster 20Clusters Shannon'].values.reshape(-1,1)\n",
    "plt.plot(temp_x1,temp_z1_original,'o',temp_x1,temp_z1_correct,'o')"
   ]
  },
  {
   "cell_type": "code",
   "execution_count": 340,
   "metadata": {},
   "outputs": [
    {
     "data": {
      "text/plain": [
       "PearsonRResult(statistic=0.14515462963799136, pvalue=0.1772213061779264)"
      ]
     },
     "execution_count": 340,
     "metadata": {},
     "output_type": "execute_result"
    }
   ],
   "source": [
    "stats.pearsonr(temp_x1.reshape(-1), temp_z1_original.reshape(-1))"
   ]
  },
  {
   "cell_type": "code",
   "execution_count": 341,
   "metadata": {},
   "outputs": [
    {
     "data": {
      "text/plain": [
       "PearsonRResult(statistic=0.7844974154523917, pvalue=1.546842574245232e-19)"
      ]
     },
     "execution_count": 341,
     "metadata": {},
     "output_type": "execute_result"
    }
   ],
   "source": [
    "stats.pearsonr(temp_x1.reshape(-1), temp_z1_correct.reshape(-1))"
   ]
  },
  {
   "cell_type": "code",
   "execution_count": 342,
   "metadata": {},
   "outputs": [
    {
     "data": {
      "text/plain": [
       "0.442548759061719"
      ]
     },
     "execution_count": 342,
     "metadata": {},
     "output_type": "execute_result"
    }
   ],
   "source": [
    "r2_score(temp_x1.reshape(-1), temp_z1_correct.reshape(-1))"
   ]
  },
  {
   "cell_type": "markdown",
   "metadata": {},
   "source": [
    "### Expotential Regression Fit Attempt"
   ]
  },
  {
   "cell_type": "code",
   "execution_count": 343,
   "metadata": {},
   "outputs": [],
   "source": [
    "temp_x2 = df_Merge_Shannon_6_NoZero['Field Shannon'].values.reshape(-1)\n",
    "temp_y2 = (abs(df_Merge_Shannon_6_NoZero['Raster 20Clusters Shannon'] - df_Merge_Shannon_6_NoZero['Field Shannon'])/df_Merge_Shannon_6_NoZero['Field Shannon']).values.reshape(-1)"
   ]
  },
  {
   "cell_type": "code",
   "execution_count": 344,
   "metadata": {},
   "outputs": [
    {
     "data": {
      "text/plain": [
       "poly1d([ 2.98006028, -7.84293265,  5.17039252])"
      ]
     },
     "execution_count": 344,
     "metadata": {},
     "output_type": "execute_result"
    }
   ],
   "source": [
    "reg_exp = np.poly1d(np.polyfit(temp_x2,temp_y2,2))\n",
    "reg_exp"
   ]
  },
  {
   "cell_type": "code",
   "execution_count": 345,
   "metadata": {},
   "outputs": [
    {
     "data": {
      "text/plain": [
       "array([0.01696918, 0.25887767, 1.82774795, 2.12169148, 0.24370714,\n",
       "       1.90648966, 0.78966776, 0.58242036, 0.69184623, 0.5948387 ,\n",
       "       1.54501568, 0.26309435, 0.01267826, 1.72803724, 0.50581188,\n",
       "       0.158133  , 0.58873471, 0.55970013, 0.42674269, 3.38985007,\n",
       "       3.02860183, 0.8003816 , 3.29262423, 4.08783811, 1.20010924,\n",
       "       2.540705  , 2.51854945, 2.3525205 , 3.23156897, 2.07956892,\n",
       "       0.07227208, 0.29076213, 0.41957388, 0.23926918, 0.01970938,\n",
       "       0.07549807, 0.3121355 , 1.38562705, 2.48547047, 1.54484698,\n",
       "       0.54532553, 1.76338986, 0.21622346, 0.20576089, 2.03633892,\n",
       "       1.17229907, 0.25071598, 0.02060908, 0.17462386, 0.01153391,\n",
       "       3.16594133, 0.01253826, 0.48118955, 0.01075842, 0.05489493,\n",
       "       1.85211359, 0.0145784 , 0.16674273, 0.01115646, 0.01733475,\n",
       "       0.05905038, 0.33823695, 0.01823647, 0.04201198, 0.83123947,\n",
       "       0.34274524, 0.09744824, 0.13007119, 0.01014115, 0.04499102,\n",
       "       0.0225535 , 1.21279359, 1.62435595, 0.2886074 , 0.03136898,\n",
       "       0.52020601, 0.02022713, 0.01183129, 0.02091163, 0.02956346,\n",
       "       1.31803027, 1.49144992, 0.11884876, 0.93457263, 1.70239295,\n",
       "       0.66774286, 1.29957042, 0.01608822])"
      ]
     },
     "execution_count": 345,
     "metadata": {},
     "output_type": "execute_result"
    }
   ],
   "source": [
    "temp_y2_predict = reg_exp(temp_x2)\n",
    "temp_y2_predict"
   ]
  },
  {
   "cell_type": "code",
   "execution_count": 346,
   "metadata": {},
   "outputs": [
    {
     "data": {
      "text/plain": [
       "[<matplotlib.lines.Line2D at 0x25f94fc7520>,\n",
       " <matplotlib.lines.Line2D at 0x25f94fc53c0>]"
      ]
     },
     "execution_count": 346,
     "metadata": {},
     "output_type": "execute_result"
    },
    {
     "data": {
      "image/png": "[encoded data removed]",
      "text/plain": [
       "<Figure size 640x480 with 1 Axes>"
      ]
     },
     "metadata": {},
     "output_type": "display_data"
    }
   ],
   "source": [
    "plt.plot(temp_x2,temp_y2,'o',temp_x2,temp_y2_predict,'o')"
   ]
  },
  {
   "cell_type": "code",
   "execution_count": 347,
   "metadata": {},
   "outputs": [
    {
     "ename": "SyntaxError",
     "evalue": "invalid syntax (1874356923.py, line 1)",
     "output_type": "error",
     "traceback": [
      "\u001b[1;36m  Cell \u001b[1;32mIn[347], line 1\u001b[1;36m\u001b[0m\n\u001b[1;33m    temp_y2_correct = temp_y2_predict * df_Merge_Shannon_6_NoZero['Field Shannon'].values.reshape(-1) + df_Merge_Shannon_6_NoZero['Field Shannon'].values.reshape(-1) if\u001b[0m\n\u001b[1;37m                                                                                                                                                                         ^\u001b[0m\n\u001b[1;31mSyntaxError\u001b[0m\u001b[1;31m:\u001b[0m invalid syntax\n"
     ]
    }
   ],
   "source": [
    "temp_y2_correct = temp_y2_predict * df_Merge_Shannon_6_NoZero['Field Shannon'].values.reshape(-1) + df_Merge_Shannon_6_NoZero['Field Shannon'].values.reshape(-1) if \n",
    "temp_y2_correct"
   ]
  },
  {
   "cell_type": "code",
   "execution_count": null,
   "metadata": {},
   "outputs": [
    {
     "data": {
      "text/plain": [
       "[<matplotlib.lines.Line2D at 0x23a0859c640>,\n",
       " <matplotlib.lines.Line2D at 0x23a0859c6d0>]"
      ]
     },
     "execution_count": 255,
     "metadata": {},
     "output_type": "execute_result"
    },
    {
     "data": {
      "image/png": "[encoded data removed]",
      "text/plain": [
       "<Figure size 640x480 with 1 Axes>"
      ]
     },
     "metadata": {},
     "output_type": "display_data"
    }
   ],
   "source": [
    "temp_y2_original = df_Merge_Shannon_6_NoZero['Raster 20Clusters Shannon'].values.reshape(-1)\n",
    "plt.plot(temp_x2,temp_y2_original,'o',temp_x2,temp_y2_correct,'o')"
   ]
  },
  {
   "cell_type": "code",
   "execution_count": null,
   "metadata": {},
   "outputs": [],
   "source": []
  },
  {
   "cell_type": "markdown",
   "metadata": {},
   "source": [
    "## Test Linear Regression with September Satellite Data"
   ]
  },
  {
   "cell_type": "code",
   "execution_count": 348,
   "metadata": {},
   "outputs": [
    {
     "data": {
      "text/html": [
       "<div>\n",
       "<style scoped>\n",
       "    .dataframe tbody tr th:only-of-type {\n",
       "        vertical-align: middle;\n",
       "    }\n",
       "\n",
       "    .dataframe tbody tr th {\n",
       "        vertical-align: top;\n",
       "    }\n",
       "\n",
       "    .dataframe thead th {\n",
       "        text-align: right;\n",
       "    }\n",
       "</style>\n",
       "<table border=\"1\" class=\"dataframe\">\n",
       "  <thead>\n",
       "    <tr style=\"text-align: right;\">\n",
       "      <th></th>\n",
       "      <th>Plot</th>\n",
       "      <th>Raster 20Clusters Shannon</th>\n",
       "      <th>Raster 35Clusters Shannon</th>\n",
       "      <th>Raster 50Clusters Shannon</th>\n",
       "    </tr>\n",
       "  </thead>\n",
       "  <tbody>\n",
       "    <tr>\n",
       "      <th>0</th>\n",
       "      <td>FOR01</td>\n",
       "      <td>1.821541</td>\n",
       "      <td>2.063586</td>\n",
       "      <td>2.264508</td>\n",
       "    </tr>\n",
       "    <tr>\n",
       "      <th>1</th>\n",
       "      <td>FOR02</td>\n",
       "      <td>1.103780</td>\n",
       "      <td>1.370757</td>\n",
       "      <td>1.588507</td>\n",
       "    </tr>\n",
       "    <tr>\n",
       "      <th>2</th>\n",
       "      <td>FOR03</td>\n",
       "      <td>1.131112</td>\n",
       "      <td>1.412968</td>\n",
       "      <td>1.557298</td>\n",
       "    </tr>\n",
       "    <tr>\n",
       "      <th>3</th>\n",
       "      <td>FOR04</td>\n",
       "      <td>1.497574</td>\n",
       "      <td>1.885979</td>\n",
       "      <td>2.016626</td>\n",
       "    </tr>\n",
       "    <tr>\n",
       "      <th>4</th>\n",
       "      <td>FOR05</td>\n",
       "      <td>1.324149</td>\n",
       "      <td>1.679235</td>\n",
       "      <td>1.922133</td>\n",
       "    </tr>\n",
       "    <tr>\n",
       "      <th>...</th>\n",
       "      <td>...</td>\n",
       "      <td>...</td>\n",
       "      <td>...</td>\n",
       "      <td>...</td>\n",
       "    </tr>\n",
       "    <tr>\n",
       "      <th>91</th>\n",
       "      <td>35</td>\n",
       "      <td>1.725831</td>\n",
       "      <td>1.822430</td>\n",
       "      <td>2.043806</td>\n",
       "    </tr>\n",
       "    <tr>\n",
       "      <th>92</th>\n",
       "      <td>37</td>\n",
       "      <td>1.279077</td>\n",
       "      <td>1.616802</td>\n",
       "      <td>1.752039</td>\n",
       "    </tr>\n",
       "    <tr>\n",
       "      <th>93</th>\n",
       "      <td>38</td>\n",
       "      <td>1.462311</td>\n",
       "      <td>1.831414</td>\n",
       "      <td>2.046655</td>\n",
       "    </tr>\n",
       "    <tr>\n",
       "      <th>94</th>\n",
       "      <td>39</td>\n",
       "      <td>0.571555</td>\n",
       "      <td>0.979324</td>\n",
       "      <td>0.840883</td>\n",
       "    </tr>\n",
       "    <tr>\n",
       "      <th>95</th>\n",
       "      <td>40</td>\n",
       "      <td>1.198522</td>\n",
       "      <td>1.397925</td>\n",
       "      <td>1.603277</td>\n",
       "    </tr>\n",
       "  </tbody>\n",
       "</table>\n",
       "<p>96 rows × 4 columns</p>\n",
       "</div>"
      ],
      "text/plain": [
       "     Plot  Raster 20Clusters Shannon  Raster 35Clusters Shannon  \\\n",
       "0   FOR01                   1.821541                   2.063586   \n",
       "1   FOR02                   1.103780                   1.370757   \n",
       "2   FOR03                   1.131112                   1.412968   \n",
       "3   FOR04                   1.497574                   1.885979   \n",
       "4   FOR05                   1.324149                   1.679235   \n",
       "..    ...                        ...                        ...   \n",
       "91     35                   1.725831                   1.822430   \n",
       "92     37                   1.279077                   1.616802   \n",
       "93     38                   1.462311                   1.831414   \n",
       "94     39                   0.571555                   0.979324   \n",
       "95     40                   1.198522                   1.397925   \n",
       "\n",
       "    Raster 50Clusters Shannon  \n",
       "0                    2.264508  \n",
       "1                    1.588507  \n",
       "2                    1.557298  \n",
       "3                    2.016626  \n",
       "4                    1.922133  \n",
       "..                        ...  \n",
       "91                   2.043806  \n",
       "92                   1.752039  \n",
       "93                   2.046655  \n",
       "94                   0.840883  \n",
       "95                   1.603277  \n",
       "\n",
       "[96 rows x 4 columns]"
      ]
     },
     "execution_count": 348,
     "metadata": {},
     "output_type": "execute_result"
    }
   ],
   "source": [
    "df_Raster_Shannon_9 = df_Raster_9.copy()\n",
    "df_Raster_Shannon_9 = df_Raster_Shannon_9[['Plot','Raster 20Clusters Shannon','Raster 35Clusters Shannon','Raster 50Clusters Shannon']]\n",
    "df_Raster_Shannon_9"
   ]
  },
  {
   "cell_type": "code",
   "execution_count": 349,
   "metadata": {},
   "outputs": [],
   "source": [
    "df_Merge_Shannon_9 = pd.merge(df_Field_Shannon,df_Raster_Shannon_9,on='Plot')"
   ]
  },
  {
   "cell_type": "code",
   "execution_count": 350,
   "metadata": {},
   "outputs": [
    {
     "data": {
      "text/html": [
       "<div>\n",
       "<style scoped>\n",
       "    .dataframe tbody tr th:only-of-type {\n",
       "        vertical-align: middle;\n",
       "    }\n",
       "\n",
       "    .dataframe tbody tr th {\n",
       "        vertical-align: top;\n",
       "    }\n",
       "\n",
       "    .dataframe thead th {\n",
       "        text-align: right;\n",
       "    }\n",
       "</style>\n",
       "<table border=\"1\" class=\"dataframe\">\n",
       "  <thead>\n",
       "    <tr style=\"text-align: right;\">\n",
       "      <th></th>\n",
       "      <th>Plot</th>\n",
       "      <th>Field Shannon</th>\n",
       "      <th>Raster 20Clusters Shannon</th>\n",
       "      <th>Raster 35Clusters Shannon</th>\n",
       "      <th>Raster 50Clusters Shannon</th>\n",
       "    </tr>\n",
       "  </thead>\n",
       "  <tbody>\n",
       "    <tr>\n",
       "      <th>0</th>\n",
       "      <td>FOR01</td>\n",
       "      <td>1.267990</td>\n",
       "      <td>1.821541</td>\n",
       "      <td>2.063586</td>\n",
       "      <td>2.264508</td>\n",
       "    </tr>\n",
       "    <tr>\n",
       "      <th>1</th>\n",
       "      <td>FOR02</td>\n",
       "      <td>1.604816</td>\n",
       "      <td>1.103780</td>\n",
       "      <td>1.370757</td>\n",
       "      <td>1.588507</td>\n",
       "    </tr>\n",
       "    <tr>\n",
       "      <th>2</th>\n",
       "      <td>FOR03</td>\n",
       "      <td>0.534923</td>\n",
       "      <td>1.131112</td>\n",
       "      <td>1.412968</td>\n",
       "      <td>1.557298</td>\n",
       "    </tr>\n",
       "    <tr>\n",
       "      <th>3</th>\n",
       "      <td>FOR04</td>\n",
       "      <td>0.474139</td>\n",
       "      <td>1.497574</td>\n",
       "      <td>1.885979</td>\n",
       "      <td>2.016626</td>\n",
       "    </tr>\n",
       "    <tr>\n",
       "      <th>5</th>\n",
       "      <td>FOR06</td>\n",
       "      <td>1.035936</td>\n",
       "      <td>1.866992</td>\n",
       "      <td>1.992587</td>\n",
       "      <td>2.129811</td>\n",
       "    </tr>\n",
       "    <tr>\n",
       "      <th>...</th>\n",
       "      <td>...</td>\n",
       "      <td>...</td>\n",
       "      <td>...</td>\n",
       "      <td>...</td>\n",
       "      <td>...</td>\n",
       "    </tr>\n",
       "    <tr>\n",
       "      <th>91</th>\n",
       "      <td>35</td>\n",
       "      <td>0.758937</td>\n",
       "      <td>1.725831</td>\n",
       "      <td>1.822430</td>\n",
       "      <td>2.043806</td>\n",
       "    </tr>\n",
       "    <tr>\n",
       "      <th>92</th>\n",
       "      <td>37</td>\n",
       "      <td>0.562335</td>\n",
       "      <td>1.279077</td>\n",
       "      <td>1.616802</td>\n",
       "      <td>1.752039</td>\n",
       "    </tr>\n",
       "    <tr>\n",
       "      <th>93</th>\n",
       "      <td>38</td>\n",
       "      <td>0.846145</td>\n",
       "      <td>1.462311</td>\n",
       "      <td>1.831414</td>\n",
       "      <td>2.046655</td>\n",
       "    </tr>\n",
       "    <tr>\n",
       "      <th>94</th>\n",
       "      <td>39</td>\n",
       "      <td>0.658110</td>\n",
       "      <td>0.571555</td>\n",
       "      <td>0.979324</td>\n",
       "      <td>0.840883</td>\n",
       "    </tr>\n",
       "    <tr>\n",
       "      <th>95</th>\n",
       "      <td>40</td>\n",
       "      <td>1.271181</td>\n",
       "      <td>1.198522</td>\n",
       "      <td>1.397925</td>\n",
       "      <td>1.603277</td>\n",
       "    </tr>\n",
       "  </tbody>\n",
       "</table>\n",
       "<p>88 rows × 5 columns</p>\n",
       "</div>"
      ],
      "text/plain": [
       "     Plot  Field Shannon  Raster 20Clusters Shannon  \\\n",
       "0   FOR01       1.267990                   1.821541   \n",
       "1   FOR02       1.604816                   1.103780   \n",
       "2   FOR03       0.534923                   1.131112   \n",
       "3   FOR04       0.474139                   1.497574   \n",
       "5   FOR06       1.035936                   1.866992   \n",
       "..    ...            ...                        ...   \n",
       "91     35       0.758937                   1.725831   \n",
       "92     37       0.562335                   1.279077   \n",
       "93     38       0.846145                   1.462311   \n",
       "94     39       0.658110                   0.571555   \n",
       "95     40       1.271181                   1.198522   \n",
       "\n",
       "    Raster 35Clusters Shannon  Raster 50Clusters Shannon  \n",
       "0                    2.063586                   2.264508  \n",
       "1                    1.370757                   1.588507  \n",
       "2                    1.412968                   1.557298  \n",
       "3                    1.885979                   2.016626  \n",
       "5                    1.992587                   2.129811  \n",
       "..                        ...                        ...  \n",
       "91                   1.822430                   2.043806  \n",
       "92                   1.616802                   1.752039  \n",
       "93                   1.831414                   2.046655  \n",
       "94                   0.979324                   0.840883  \n",
       "95                   1.397925                   1.603277  \n",
       "\n",
       "[88 rows x 5 columns]"
      ]
     },
     "execution_count": 350,
     "metadata": {},
     "output_type": "execute_result"
    }
   ],
   "source": [
    "df_Merge_Shannon_9_NoZero = df_Merge_Shannon_9.copy()\n",
    "df_Merge_Shannon_9_NoZero = df_Merge_Shannon_9_NoZero[df_Merge_Shannon_9_NoZero['Field Shannon']!=0]\n",
    "df_Merge_Shannon_9_NoZero"
   ]
  },
  {
   "cell_type": "code",
   "execution_count": 355,
   "metadata": {},
   "outputs": [
    {
     "data": {
      "text/plain": [
       "array([[1.69901205],\n",
       "       [1.27735053],\n",
       "       [0.36415272],\n",
       "       [0.6771801 ],\n",
       "       [1.54046779],\n",
       "       [0.94996995],\n",
       "       [0.80701358],\n",
       "       [1.36429104],\n",
       "       [2.00695529],\n",
       "       [1.06394674],\n",
       "       [0.87812736],\n",
       "       [1.04180561],\n",
       "       [0.87703591],\n",
       "       [0.09982259],\n",
       "       [0.24658423],\n",
       "       [0.30567501],\n",
       "       [1.9746897 ],\n",
       "       [1.29178663],\n",
       "       [1.17232182],\n",
       "       [0.74069993],\n",
       "       [0.06542291],\n",
       "       [0.51330492],\n",
       "       [0.28239988],\n",
       "       [0.26046652],\n",
       "       [0.12116066],\n",
       "       [0.22057365],\n",
       "       [0.3001628 ],\n",
       "       [0.2217941 ],\n",
       "       [0.69084525],\n",
       "       [0.94258702],\n",
       "       [1.91480852],\n",
       "       [1.17642041],\n",
       "       [1.46608669],\n",
       "       [1.47957228],\n",
       "       [1.06790857],\n",
       "       [1.16829701],\n",
       "       [1.75778466],\n",
       "       [0.79658822],\n",
       "       [0.59508905],\n",
       "       [1.01387865],\n",
       "       [0.95001391],\n",
       "       [0.62027535],\n",
       "       [0.8683337 ],\n",
       "       [0.98343836],\n",
       "       [0.59270032],\n",
       "       [0.52939939],\n",
       "       [1.25845156],\n",
       "       [1.47121671],\n",
       "       [1.72635062],\n",
       "       [1.33838186],\n",
       "       [0.1162544 ],\n",
       "       [1.33322519],\n",
       "       [0.35011675],\n",
       "       [0.91642856],\n",
       "       [0.82237692],\n",
       "       [0.18844771],\n",
       "       [1.5131352 ],\n",
       "       [0.71251949],\n",
       "       [0.34688059],\n",
       "       [1.39864125],\n",
       "       [1.79188389],\n",
       "       [0.60811128],\n",
       "       [1.72356853],\n",
       "       [1.31690329],\n",
       "       [1.33929061],\n",
       "       [1.46027761],\n",
       "       [0.80772948],\n",
       "       [1.58385193],\n",
       "       [1.21354862],\n",
       "       [0.89339189],\n",
       "       [1.76700908],\n",
       "       [0.26565306],\n",
       "       [0.80865952],\n",
       "       [1.10449555],\n",
       "       [1.31967512],\n",
       "       [1.30433079],\n",
       "       [1.1721628 ],\n",
       "       [1.64823904],\n",
       "       [1.65141716],\n",
       "       [1.48157791],\n",
       "       [0.56326213],\n",
       "       [0.01516384],\n",
       "       [0.56979374],\n",
       "       [1.15579955],\n",
       "       [0.53621531],\n",
       "       [0.96894263],\n",
       "       [0.08711244],\n",
       "       [1.07879864]])"
      ]
     },
     "execution_count": 355,
     "metadata": {},
     "output_type": "execute_result"
    }
   ],
   "source": [
    "temp_x3 = df_Merge_Shannon_9_NoZero['Field Shannon'].values.reshape(-1,1)\n",
    "temp_y3_Predict = reg.predict(temp_x3)\n",
    "temp_z3_correct = abs(df_Merge_Shannon_9_NoZero['Raster 20Clusters Shannon'].values.reshape(-1,1) - temp_y1_Predict)\n",
    "temp_z3_correct"
   ]
  },
  {
   "cell_type": "code",
   "execution_count": 356,
   "metadata": {},
   "outputs": [
    {
     "data": {
      "text/plain": [
       "[<matplotlib.lines.Line2D at 0x25f94ac24a0>,\n",
       " <matplotlib.lines.Line2D at 0x25f94ac2b30>]"
      ]
     },
     "execution_count": 356,
     "metadata": {},
     "output_type": "execute_result"
    },
    {
     "data": {
      "image/png": "[encoded data removed]",
      "text/plain": [
       "<Figure size 640x480 with 1 Axes>"
      ]
     },
     "metadata": {},
     "output_type": "display_data"
    }
   ],
   "source": [
    "temp_z3_original = df_Merge_Shannon_9_NoZero['Raster 20Clusters Shannon'].values.reshape(-1,1)\n",
    "plt.plot(temp_x3,temp_z3_original,'o',temp_x3,temp_z3_correct,'o')"
   ]
  },
  {
   "cell_type": "code",
   "execution_count": 357,
   "metadata": {},
   "outputs": [
    {
     "data": {
      "text/plain": [
       "PearsonRResult(statistic=0.751820333690535, pvalue=3.152053192246611e-17)"
      ]
     },
     "execution_count": 357,
     "metadata": {},
     "output_type": "execute_result"
    }
   ],
   "source": [
    "stats.pearsonr(temp_x1.reshape(-1), temp_z3_correct.reshape(-1))"
   ]
  },
  {
   "cell_type": "code",
   "execution_count": 359,
   "metadata": {},
   "outputs": [
    {
     "data": {
      "text/plain": [
       "PearsonRResult(statistic=0.26283755573766104, pvalue=0.013359258535087834)"
      ]
     },
     "execution_count": 359,
     "metadata": {},
     "output_type": "execute_result"
    }
   ],
   "source": [
    "stats.pearsonr(temp_x1.reshape(-1), temp_z3_original.reshape(-1))"
   ]
  },
  {
   "cell_type": "code",
   "execution_count": 358,
   "metadata": {},
   "outputs": [
    {
     "data": {
      "text/plain": [
       "0.2910888372188817"
      ]
     },
     "execution_count": 358,
     "metadata": {},
     "output_type": "execute_result"
    }
   ],
   "source": [
    "r2_score(temp_x1.reshape(-1), temp_z3_correct.reshape(-1))"
   ]
  },
  {
   "cell_type": "code",
   "execution_count": 360,
   "metadata": {},
   "outputs": [
    {
     "data": {
      "text/plain": [
       "-1.0520403503678315"
      ]
     },
     "execution_count": 360,
     "metadata": {},
     "output_type": "execute_result"
    }
   ],
   "source": [
    "r2_score(temp_x1.reshape(-1), temp_z3_original.reshape(-1))"
   ]
  },
  {
   "cell_type": "code",
   "execution_count": null,
   "metadata": {},
   "outputs": [],
   "source": [
    "8"
   ]
  }
 ],
 "metadata": {
  "kernelspec": {
   "display_name": "Ticino",
   "language": "python",
   "name": "python3"
  },
  "language_info": {
   "codemirror_mode": {
    "name": "ipython",
    "version": 3
   },
   "file_extension": ".py",
   "mimetype": "text/x-python",
   "name": "python",
   "nbconvert_exporter": "python",
   "pygments_lexer": "ipython3",
   "version": "3.10.12"
  }
 },
 "nbformat": 4,
 "nbformat_minor": 2
}
